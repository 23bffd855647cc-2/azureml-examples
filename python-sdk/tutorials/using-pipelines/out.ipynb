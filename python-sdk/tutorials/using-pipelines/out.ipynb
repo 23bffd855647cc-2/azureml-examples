{
 "cells": [
  {
   "cell_type": "markdown",
   "id": "phantom-mongolia",
   "metadata": {
    "tags": [
     "papermill-error-cell-tag"
    ]
   },
   "source": [
    "<span style=\"color:red; font-family:Helvetica Neue, Helvetica, Arial, sans-serif; font-size:2em;\">An Exception was encountered at '<a href=\"#papermill-error-cell\">In [2]</a>'.</span>"
   ]
  },
  {
   "cell_type": "markdown",
   "id": "breeding-basics",
   "metadata": {
    "papermill": {
     "duration": 0.018184,
     "end_time": "2021-06-04T18:08:11.738675",
     "exception": false,
     "start_time": "2021-06-04T18:08:11.720491",
     "status": "completed"
    },
    "tags": []
   },
   "source": [
    "# Showcasing Dataset and PipelineParameter\n",
    "\n",
    "This notebook demonstrates how a **FileDataset** or **TabularDataset** can be parametrized with **PipelineParameters** in an AML Pipeline. By parametrizing datasets, you can dynamically run pipeline experiments with different datasets without any code change.\n",
    "\n",
    "A common use case is building a training pipeline with a sample of your training data for quick iterative development. When you're ready to test and deploy your pipeline at scale, you can pass in your full training dataset to the pipeline experiment without making any changes to your training script. \n"
   ]
  },
  {
   "cell_type": "markdown",
   "id": "unable-mystery",
   "metadata": {
    "papermill": {
     "duration": 0.013007,
     "end_time": "2021-06-04T18:08:11.764231",
     "exception": false,
     "start_time": "2021-06-04T18:08:11.751224",
     "status": "completed"
    },
    "tags": []
   },
   "source": [
    "## Azure Machine Learning and Pipeline SDK-specific imports"
   ]
  },
  {
   "cell_type": "code",
   "execution_count": 1,
   "id": "formed-canada",
   "metadata": {
    "execution": {
     "iopub.execute_input": "2021-06-04T18:08:11.796563Z",
     "iopub.status.busy": "2021-06-04T18:08:11.795781Z",
     "iopub.status.idle": "2021-06-04T18:08:13.319503Z",
     "shell.execute_reply": "2021-06-04T18:08:13.319888Z"
    },
    "gather": {
     "logged": 1618509674059
    },
    "papermill": {
     "duration": 1.543306,
     "end_time": "2021-06-04T18:08:13.320208",
     "exception": false,
     "start_time": "2021-06-04T18:08:11.776902",
     "status": "completed"
    },
    "tags": []
   },
   "outputs": [
    {
     "name": "stdout",
     "output_type": "stream",
     "text": [
      "SDK version: 1.29.0\n"
     ]
    }
   ],
   "source": [
    "import azureml.core\n",
    "from azureml.core import Workspace, Experiment, Dataset\n",
    "from azureml.core.compute import ComputeTarget, AmlCompute\n",
    "from azureml.data.dataset_consumption_config import DatasetConsumptionConfig\n",
    "from azureml.widgets import RunDetails\n",
    "\n",
    "from azureml.pipeline.core import PipelineParameter\n",
    "from azureml.pipeline.core import Pipeline, PipelineRun\n",
    "from azureml.pipeline.steps import PythonScriptStep\n",
    "\n",
    "# Check core SDK version number\n",
    "print(\"SDK version:\", azureml.core.VERSION)"
   ]
  },
  {
   "cell_type": "markdown",
   "id": "angry-defense",
   "metadata": {
    "papermill": {
     "duration": 0.028618,
     "end_time": "2021-06-04T18:08:13.362428",
     "exception": false,
     "start_time": "2021-06-04T18:08:13.333810",
     "status": "completed"
    },
    "tags": []
   },
   "source": [
    "## Initialize Workspace\n",
    "\n",
    "Initialize a workspace object from persisted configuration."
   ]
  },
  {
   "cell_type": "markdown",
   "id": "abroad-cocktail",
   "metadata": {
    "tags": [
     "papermill-error-cell-tag"
    ]
   },
   "source": [
    "<span id=\"papermill-error-cell\" style=\"color:red; font-family:Helvetica Neue, Helvetica, Arial, sans-serif; font-size:2em;\">Execution using papermill encountered an exception here and stopped:</span>"
   ]
  },
  {
   "cell_type": "code",
   "execution_count": 2,
   "id": "informative-amino",
   "metadata": {
    "execution": {
     "iopub.execute_input": "2021-06-04T18:08:13.396453Z",
     "iopub.status.busy": "2021-06-04T18:08:13.395873Z",
     "iopub.status.idle": "2021-06-04T18:08:13.701415Z",
     "shell.execute_reply": "2021-06-04T18:08:13.700650Z"
    },
    "gather": {
     "logged": 1618509683125
    },
    "papermill": {
     "duration": 0.325551,
     "end_time": "2021-06-04T18:08:13.701702",
     "exception": true,
     "start_time": "2021-06-04T18:08:13.376151",
     "status": "failed"
    },
    "tags": []
   },
   "outputs": [
    {
     "ename": "UserErrorException",
     "evalue": "UserErrorException:\n\tMessage: We could not find config.json in: /Users/cody/code/azureml-examples/python-sdk/tutorials/using-pipelines or in its parent directories. Please provide the full path to the config file or ensure that config.json exists in the parent directories.\n\tInnerException None\n\tErrorResponse \n{\n    \"error\": {\n        \"code\": \"UserError\",\n        \"message\": \"We could not find config.json in: /Users/cody/code/azureml-examples/python-sdk/tutorials/using-pipelines or in its parent directories. Please provide the full path to the config file or ensure that config.json exists in the parent directories.\"\n    }\n}",
     "output_type": "error",
     "traceback": [
      "\u001b[0;31m---------------------------------------------------------------------------\u001b[0m",
      "\u001b[0;31mUserErrorException\u001b[0m                        Traceback (most recent call last)",
      "\u001b[0;32m<ipython-input-2-d6739f506fa6>\u001b[0m in \u001b[0;36m<module>\u001b[0;34m\u001b[0m\n\u001b[0;32m----> 1\u001b[0;31m \u001b[0mws\u001b[0m \u001b[0;34m=\u001b[0m \u001b[0mWorkspace\u001b[0m\u001b[0;34m.\u001b[0m\u001b[0mfrom_config\u001b[0m\u001b[0;34m(\u001b[0m\u001b[0;34m)\u001b[0m\u001b[0;34m\u001b[0m\u001b[0;34m\u001b[0m\u001b[0m\n\u001b[0m\u001b[1;32m      2\u001b[0m \u001b[0mprint\u001b[0m\u001b[0;34m(\u001b[0m\u001b[0mws\u001b[0m\u001b[0;34m.\u001b[0m\u001b[0mname\u001b[0m\u001b[0;34m,\u001b[0m \u001b[0mws\u001b[0m\u001b[0;34m.\u001b[0m\u001b[0mresource_group\u001b[0m\u001b[0;34m,\u001b[0m \u001b[0mws\u001b[0m\u001b[0;34m.\u001b[0m\u001b[0mlocation\u001b[0m\u001b[0;34m,\u001b[0m \u001b[0mws\u001b[0m\u001b[0;34m.\u001b[0m\u001b[0msubscription_id\u001b[0m\u001b[0;34m,\u001b[0m \u001b[0msep\u001b[0m\u001b[0;34m=\u001b[0m\u001b[0;34m\"\\n\"\u001b[0m\u001b[0;34m)\u001b[0m\u001b[0;34m\u001b[0m\u001b[0;34m\u001b[0m\u001b[0m\n",
      "\u001b[0;32m~/miniconda3/envs/dkdc/lib/python3.8/site-packages/azureml/core/workspace.py\u001b[0m in \u001b[0;36mfrom_config\u001b[0;34m(path, auth, _logger, _file_name)\u001b[0m\n\u001b[1;32m    277\u001b[0m \u001b[0;34m\u001b[0m\u001b[0m\n\u001b[1;32m    278\u001b[0m             \u001b[0;32mif\u001b[0m \u001b[0;32mnot\u001b[0m \u001b[0mfound_path\u001b[0m\u001b[0;34m:\u001b[0m\u001b[0;34m\u001b[0m\u001b[0;34m\u001b[0m\u001b[0m\n\u001b[0;32m--> 279\u001b[0;31m                 raise UserErrorException(\n\u001b[0m\u001b[1;32m    280\u001b[0m                     \u001b[0;34m'We could not find config.json in: {} or in its parent directories. '\u001b[0m\u001b[0;34m\u001b[0m\u001b[0;34m\u001b[0m\u001b[0m\n\u001b[1;32m    281\u001b[0m                     \u001b[0;34m'Please provide the full path to the config file or ensure that '\u001b[0m\u001b[0;34m\u001b[0m\u001b[0;34m\u001b[0m\u001b[0m\n",
      "\u001b[0;31mUserErrorException\u001b[0m: UserErrorException:\n\tMessage: We could not find config.json in: /Users/cody/code/azureml-examples/python-sdk/tutorials/using-pipelines or in its parent directories. Please provide the full path to the config file or ensure that config.json exists in the parent directories.\n\tInnerException None\n\tErrorResponse \n{\n    \"error\": {\n        \"code\": \"UserError\",\n        \"message\": \"We could not find config.json in: /Users/cody/code/azureml-examples/python-sdk/tutorials/using-pipelines or in its parent directories. Please provide the full path to the config file or ensure that config.json exists in the parent directories.\"\n    }\n}"
     ]
    }
   ],
   "source": [
    "ws = Workspace.from_config()\n",
    "print(ws.name, ws.resource_group, ws.location, ws.subscription_id, sep=\"\\n\")"
   ]
  },
  {
   "cell_type": "markdown",
   "id": "aware-refund",
   "metadata": {
    "papermill": {
     "duration": null,
     "end_time": null,
     "exception": null,
     "start_time": null,
     "status": "pending"
    },
    "tags": []
   },
   "source": [
    "## Create an Azure ML experiment\n",
    "\n",
    "Let's create an experiment named \"showcasing-dataset\" and a folder to hold the training scripts. The script runs will be recorded under the experiment in Azure."
   ]
  },
  {
   "cell_type": "code",
   "execution_count": null,
   "id": "humanitarian-graduation",
   "metadata": {
    "gather": {
     "logged": 1618509686709
    },
    "papermill": {
     "duration": null,
     "end_time": null,
     "exception": null,
     "start_time": null,
     "status": "pending"
    },
    "tags": []
   },
   "outputs": [],
   "source": [
    "# Choose a name for the run history container in the workspace.\n",
    "experiment_name = \"showcasing-dataset\"\n",
    "source_directory = \".\"\n",
    "\n",
    "experiment = Experiment(ws, experiment_name)\n",
    "experiment"
   ]
  },
  {
   "cell_type": "markdown",
   "id": "residential-police",
   "metadata": {
    "papermill": {
     "duration": null,
     "end_time": null,
     "exception": null,
     "start_time": null,
     "status": "pending"
    },
    "tags": []
   },
   "source": [
    "## Create or Attach an AmlCompute cluster\n",
    "You will need to create a compute target for your AutoML run. In this tutorial, you get the default `AmlCompute` as your training compute resource."
   ]
  },
  {
   "cell_type": "code",
   "execution_count": null,
   "id": "sorted-brief",
   "metadata": {
    "gather": {
     "logged": 1618514007763
    },
    "papermill": {
     "duration": null,
     "end_time": null,
     "exception": null,
     "start_time": null,
     "status": "pending"
    },
    "tags": []
   },
   "outputs": [],
   "source": [
    "# Choose a name for your cluster.\n",
    "amlcompute_cluster_name = \"cpu-cluster\"\n",
    "\n",
    "found = False\n",
    "# Check if this compute target already exists in the workspace.\n",
    "cts = ws.compute_targets\n",
    "if amlcompute_cluster_name in cts and cts[amlcompute_cluster_name].type == \"AmlCompute\":\n",
    "    found = True\n",
    "    print(\"Found existing compute target.\")\n",
    "    compute_target = cts[amlcompute_cluster_name]\n",
    "\n",
    "if not found:\n",
    "    print(\"Creating a new compute target...\")\n",
    "    provisioning_config = AmlCompute.provisioning_configuration(\n",
    "        vm_size=\"STANDARD_D2_V2\",  # for GPU, use \"STANDARD_NC6\"\n",
    "        # vm_priority = 'lowpriority', # optional\n",
    "        max_nodes=4,\n",
    "    )\n",
    "\n",
    "    # Create the cluster.\n",
    "    compute_target = ComputeTarget.create(\n",
    "        ws, amlcompute_cluster_name, provisioning_config\n",
    "    )\n",
    "\n",
    "    # Can poll for a minimum number of nodes and for a specific timeout.\n",
    "    # If no min_node_count is provided, it will use the scale settings for the cluster.\n",
    "    compute_target.wait_for_completion(show_output=True, timeout_in_minutes=10)\n",
    "\n",
    "    # For a more detailed view of current AmlCompute status, use get_status()."
   ]
  },
  {
   "cell_type": "markdown",
   "id": "numeric-thumb",
   "metadata": {
    "papermill": {
     "duration": null,
     "end_time": null,
     "exception": null,
     "start_time": null,
     "status": "pending"
    },
    "tags": []
   },
   "source": [
    "## Dataset Configuration\n",
    "\n",
    "The following steps detail how to create a FileDataset and TabularDataset from an external CSV file, and configure them to be used by a Pipeline."
   ]
  },
  {
   "cell_type": "code",
   "execution_count": null,
   "id": "about-might",
   "metadata": {
    "gather": {
     "logged": 1618514352870
    },
    "papermill": {
     "duration": null,
     "end_time": null,
     "exception": null,
     "start_time": null,
     "status": "pending"
    },
    "tags": [
     "datapath-remarks-sample"
    ]
   },
   "outputs": [],
   "source": [
    "file_dataset = Dataset.File.from_files(\n",
    "    \"https://dprepdata.blob.core.windows.net/demo/Titanic.csv\"\n",
    ")\n",
    "file_pipeline_param = PipelineParameter(\n",
    "    name=\"file_ds_param\", default_value=file_dataset\n",
    ")\n",
    "file_ds_consumption = DatasetConsumptionConfig(\n",
    "    \"file_dataset\", file_pipeline_param\n",
    ").as_mount()\n",
    "\n",
    "tabular_dataset = Dataset.Tabular.from_delimited_files(\n",
    "    \"https://dprepdata.blob.core.windows.net/demo/Titanic.csv\"\n",
    ")\n",
    "tabular_pipeline_param = PipelineParameter(\n",
    "    name=\"tabular_ds_param\", default_value=tabular_dataset\n",
    ")\n",
    "tabular_ds_consumption = DatasetConsumptionConfig(\n",
    "    \"tabular_dataset\", tabular_pipeline_param\n",
    ")"
   ]
  },
  {
   "cell_type": "markdown",
   "id": "empirical-boring",
   "metadata": {
    "papermill": {
     "duration": null,
     "end_time": null,
     "exception": null,
     "start_time": null,
     "status": "pending"
    },
    "tags": []
   },
   "source": [
    "We will setup a training script to ingest our passed-in datasets and print their contents. **NOTE** the names of the datasets referenced inside the training script correspond to the `name` of their respective DatasetConsumptionConfig objects we defined above."
   ]
  },
  {
   "cell_type": "code",
   "execution_count": null,
   "id": "cubic-butler",
   "metadata": {
    "papermill": {
     "duration": null,
     "end_time": null,
     "exception": null,
     "start_time": null,
     "status": "pending"
    },
    "tags": []
   },
   "outputs": [],
   "source": [
    "%%writefile train_with_dataset.py\n",
    "from azureml.core import Run\n",
    "\n",
    "input_file_ds_path = Run.get_context().input_datasets[\"file_dataset\"]\n",
    "with open(input_file_ds_path, \"r\") as f:\n",
    "    content = f.read()\n",
    "    print(content)\n",
    "\n",
    "input_tabular_ds = Run.get_context().input_datasets[\"tabular_dataset\"]\n",
    "tabular_df = input_tabular_ds.to_pandas_dataframe()\n",
    "print(tabular_df)"
   ]
  },
  {
   "cell_type": "markdown",
   "id": "humanitarian-assurance",
   "metadata": {
    "papermill": {
     "duration": null,
     "end_time": null,
     "exception": null,
     "start_time": null,
     "status": "pending"
    },
    "tags": []
   },
   "source": [
    "<a id='index1'></a>"
   ]
  },
  {
   "cell_type": "markdown",
   "id": "worthy-fashion",
   "metadata": {
    "papermill": {
     "duration": null,
     "end_time": null,
     "exception": null,
     "start_time": null,
     "status": "pending"
    },
    "tags": []
   },
   "source": [
    "## Create a Pipeline with a Dataset PipelineParameter\n",
    "\n",
    "Note that the ```file_ds_consumption``` and ```tabular_ds_consumption``` are specified as both arguments and inputs to create a step."
   ]
  },
  {
   "cell_type": "code",
   "execution_count": null,
   "id": "roman-feedback",
   "metadata": {
    "gather": {
     "logged": 1618514385437
    },
    "papermill": {
     "duration": null,
     "end_time": null,
     "exception": null,
     "start_time": null,
     "status": "pending"
    },
    "tags": []
   },
   "outputs": [],
   "source": [
    "train_step = PythonScriptStep(\n",
    "    name=\"train_step\",\n",
    "    script_name=\"train_with_dataset.py\",\n",
    "    arguments=[\"--param1\", file_ds_consumption, \"--param2\", tabular_ds_consumption],\n",
    "    inputs=[file_ds_consumption, tabular_ds_consumption],\n",
    "    compute_target=compute_target,\n",
    "    source_directory=source_directory,\n",
    ")\n",
    "\n",
    "print(\"train_step created\")\n",
    "\n",
    "pipeline = Pipeline(workspace=ws, steps=[train_step])\n",
    "print(\"pipeline with the train_step created\")"
   ]
  },
  {
   "cell_type": "markdown",
   "id": "executive-supply",
   "metadata": {
    "papermill": {
     "duration": null,
     "end_time": null,
     "exception": null,
     "start_time": null,
     "status": "pending"
    },
    "tags": []
   },
   "source": [
    "<a id='index2'></a>"
   ]
  },
  {
   "cell_type": "markdown",
   "id": "underlying-watson",
   "metadata": {
    "papermill": {
     "duration": null,
     "end_time": null,
     "exception": null,
     "start_time": null,
     "status": "pending"
    },
    "tags": []
   },
   "source": [
    "## Submit a Pipeline with a Dataset PipelineParameter\n",
    "\n",
    "Pipelines can be submitted with default values of PipelineParameters by not specifying any parameters."
   ]
  },
  {
   "cell_type": "code",
   "execution_count": null,
   "id": "copyrighted-proposition",
   "metadata": {
    "gather": {
     "logged": 1618514449515
    },
    "papermill": {
     "duration": null,
     "end_time": null,
     "exception": null,
     "start_time": null,
     "status": "pending"
    },
    "tags": []
   },
   "outputs": [],
   "source": [
    "# Pipeline will run with default file_ds and tabular_ds\n",
    "pipeline_run = experiment.submit(pipeline)\n",
    "print(\"Pipeline is submitted for execution\")"
   ]
  },
  {
   "cell_type": "code",
   "execution_count": null,
   "id": "provincial-microphone",
   "metadata": {
    "gather": {
     "logged": 1618514454521
    },
    "papermill": {
     "duration": null,
     "end_time": null,
     "exception": null,
     "start_time": null,
     "status": "pending"
    },
    "tags": []
   },
   "outputs": [],
   "source": [
    "RunDetails(pipeline_run).show()"
   ]
  },
  {
   "cell_type": "code",
   "execution_count": null,
   "id": "checked-dairy",
   "metadata": {
    "gather": {
     "logged": 1618515029390
    },
    "papermill": {
     "duration": null,
     "end_time": null,
     "exception": null,
     "start_time": null,
     "status": "pending"
    },
    "tags": []
   },
   "outputs": [],
   "source": [
    "pipeline_run.wait_for_completion()"
   ]
  },
  {
   "cell_type": "markdown",
   "id": "aerial-attachment",
   "metadata": {
    "papermill": {
     "duration": null,
     "end_time": null,
     "exception": null,
     "start_time": null,
     "status": "pending"
    },
    "tags": []
   },
   "source": [
    "<a id='index3'></a>"
   ]
  },
  {
   "cell_type": "markdown",
   "id": "bound-taxation",
   "metadata": {
    "papermill": {
     "duration": null,
     "end_time": null,
     "exception": null,
     "start_time": null,
     "status": "pending"
    },
    "tags": []
   },
   "source": [
    "## Submit a Pipeline with a different Dataset PipelineParameter value from the SDK\n",
    "\n",
    "The training pipeline can be reused with different input datasets by passing them in as PipelineParameters"
   ]
  },
  {
   "cell_type": "code",
   "execution_count": null,
   "id": "expressed-beatles",
   "metadata": {
    "papermill": {
     "duration": null,
     "end_time": null,
     "exception": null,
     "start_time": null,
     "status": "pending"
    },
    "tags": []
   },
   "outputs": [],
   "source": [
    "iris_file_ds = Dataset.File.from_files(\n",
    "    \"https://raw.githubusercontent.com/Azure/MachineLearningNotebooks/\"\n",
    "    \"4e7b3784d50e81c313c62bcdf9a330194153d9cd/how-to-use-azureml/work-with-data/\"\n",
    "    \"datasets-tutorial/train-with-datasets/train-dataset/iris.csv\"\n",
    ")\n",
    "\n",
    "iris_tabular_ds = Dataset.Tabular.from_delimited_files(\n",
    "    \"https://raw.githubusercontent.com/Azure/MachineLearningNotebooks/\"\n",
    "    \"4e7b3784d50e81c313c62bcdf9a330194153d9cd/how-to-use-azureml/work-with-data/\"\n",
    "    \"datasets-tutorial/train-with-datasets/train-dataset/iris.csv\"\n",
    ")"
   ]
  },
  {
   "cell_type": "code",
   "execution_count": null,
   "id": "undefined-liability",
   "metadata": {
    "papermill": {
     "duration": null,
     "end_time": null,
     "exception": null,
     "start_time": null,
     "status": "pending"
    },
    "tags": []
   },
   "outputs": [],
   "source": [
    "pipeline_run_with_params = experiment.submit(\n",
    "    pipeline,\n",
    "    pipeline_parameters={\n",
    "        \"file_ds_param\": iris_file_ds,\n",
    "        \"tabular_ds_param\": iris_tabular_ds,\n",
    "    },\n",
    ")"
   ]
  },
  {
   "cell_type": "code",
   "execution_count": null,
   "id": "wound-substitute",
   "metadata": {
    "papermill": {
     "duration": null,
     "end_time": null,
     "exception": null,
     "start_time": null,
     "status": "pending"
    },
    "tags": []
   },
   "outputs": [],
   "source": [
    "RunDetails(pipeline_run_with_params).show()"
   ]
  },
  {
   "cell_type": "code",
   "execution_count": null,
   "id": "reflected-thickness",
   "metadata": {
    "papermill": {
     "duration": null,
     "end_time": null,
     "exception": null,
     "start_time": null,
     "status": "pending"
    },
    "tags": []
   },
   "outputs": [],
   "source": [
    "pipeline_run_with_params.wait_for_completion()"
   ]
  },
  {
   "cell_type": "markdown",
   "id": "novel-republic",
   "metadata": {
    "papermill": {
     "duration": null,
     "end_time": null,
     "exception": null,
     "start_time": null,
     "status": "pending"
    },
    "tags": []
   },
   "source": [
    "<a id='index4'></a>"
   ]
  },
  {
   "cell_type": "markdown",
   "id": "minor-concord",
   "metadata": {
    "papermill": {
     "duration": null,
     "end_time": null,
     "exception": null,
     "start_time": null,
     "status": "pending"
    },
    "tags": []
   },
   "source": [
    "## Dynamically Set the Dataset PipelineParameter Values using a REST Call\n",
    "\n",
    "Let's publish the pipeline we created previously, so we can generate a pipeline endpoint. We can then submit the iris datasets to the pipeline REST endpoint by passing in their IDs. "
   ]
  },
  {
   "cell_type": "code",
   "execution_count": null,
   "id": "satisfactory-surrey",
   "metadata": {
    "papermill": {
     "duration": null,
     "end_time": null,
     "exception": null,
     "start_time": null,
     "status": "pending"
    },
    "tags": []
   },
   "outputs": [],
   "source": [
    "published_pipeline = pipeline.publish(\n",
    "    name=\"Dataset_Pipeline\",\n",
    "    description=\"Pipeline to test Dataset PipelineParameter\",\n",
    "    continue_on_step_failure=True,\n",
    ")\n",
    "published_pipeline"
   ]
  },
  {
   "cell_type": "code",
   "execution_count": null,
   "id": "judicial-breathing",
   "metadata": {
    "papermill": {
     "duration": null,
     "end_time": null,
     "exception": null,
     "start_time": null,
     "status": "pending"
    },
    "tags": []
   },
   "outputs": [],
   "source": [
    "published_pipeline.submit(\n",
    "    ws,\n",
    "    experiment_name=\"publishedexperiment\",\n",
    "    pipeline_parameters={\n",
    "        \"file_ds_param\": iris_file_ds,\n",
    "        \"tabular_ds_param\": iris_tabular_ds,\n",
    "    },\n",
    ")"
   ]
  },
  {
   "cell_type": "code",
   "execution_count": null,
   "id": "convinced-salvation",
   "metadata": {
    "papermill": {
     "duration": null,
     "end_time": null,
     "exception": null,
     "start_time": null,
     "status": "pending"
    },
    "tags": []
   },
   "outputs": [],
   "source": [
    "from azureml.core.authentication import InteractiveLoginAuthentication\n",
    "import requests\n",
    "\n",
    "auth = InteractiveLoginAuthentication()\n",
    "aad_token = auth.get_authentication_header()\n",
    "\n",
    "rest_endpoint = published_pipeline.endpoint\n",
    "\n",
    "print(\n",
    "    \"You can perform HTTP POST on URL {} to trigger this pipeline\".format(rest_endpoint)\n",
    ")"
   ]
  },
  {
   "cell_type": "code",
   "execution_count": null,
   "id": "oriented-probability",
   "metadata": {
    "papermill": {
     "duration": null,
     "end_time": null,
     "exception": null,
     "start_time": null,
     "status": "pending"
    },
    "tags": []
   },
   "outputs": [],
   "source": [
    "# specify the param when running the pipeline\n",
    "response = requests.post(\n",
    "    rest_endpoint,\n",
    "    headers=aad_token,\n",
    "    json={\n",
    "        \"ExperimentName\": \"MyRestPipeline\",\n",
    "        \"RunSource\": \"SDK\",\n",
    "        \"DataSetDefinitionValueAssignments\": {\n",
    "            \"file_ds_param\": {\"SavedDataSetReference\": {\"Id\": iris_file_ds.id}},\n",
    "            \"tabular_ds_param\": {\"SavedDataSetReference\": {\"Id\": iris_tabular_ds.id}},\n",
    "        },\n",
    "    },\n",
    ")"
   ]
  },
  {
   "cell_type": "code",
   "execution_count": null,
   "id": "female-kernel",
   "metadata": {
    "papermill": {
     "duration": null,
     "end_time": null,
     "exception": null,
     "start_time": null,
     "status": "pending"
    },
    "tags": []
   },
   "outputs": [],
   "source": [
    "try:\n",
    "    response.raise_for_status()\n",
    "except Exception:\n",
    "    raise Exception(\n",
    "        \"Received bad response from the endpoint: {}\\n\"\n",
    "        \"Response Code: {}\\n\"\n",
    "        \"Headers: {}\\n\"\n",
    "        \"Content: {}\".format(\n",
    "            rest_endpoint, response.status_code, response.headers, response.content\n",
    "        )\n",
    "    )\n",
    "\n",
    "run_id = response.json().get(\"Id\")\n",
    "print(\"Submitted pipeline run: \", run_id)"
   ]
  },
  {
   "cell_type": "code",
   "execution_count": null,
   "id": "alternative-optics",
   "metadata": {
    "papermill": {
     "duration": null,
     "end_time": null,
     "exception": null,
     "start_time": null,
     "status": "pending"
    },
    "tags": []
   },
   "outputs": [],
   "source": [
    "published_pipeline_run_via_rest = PipelineRun(ws.experiments[\"MyRestPipeline\"], run_id)\n",
    "RunDetails(published_pipeline_run_via_rest).show()"
   ]
  },
  {
   "cell_type": "code",
   "execution_count": null,
   "id": "engaging-martin",
   "metadata": {
    "papermill": {
     "duration": null,
     "end_time": null,
     "exception": null,
     "start_time": null,
     "status": "pending"
    },
    "tags": []
   },
   "outputs": [],
   "source": [
    "published_pipeline_run_via_rest.wait_for_completion()"
   ]
  },
  {
   "cell_type": "markdown",
   "id": "legendary-celebrity",
   "metadata": {
    "papermill": {
     "duration": null,
     "end_time": null,
     "exception": null,
     "start_time": null,
     "status": "pending"
    },
    "tags": []
   },
   "source": [
    "<a id='index5'></a>"
   ]
  }
 ],
 "metadata": {
  "authors": [
   {
    "name": "rafarmah"
   }
  ],
  "category": "tutorial",
  "compute": [
   "AML Compute"
  ],
  "datasets": [
   "Custom"
  ],
  "deployment": [
   "None"
  ],
  "exclude_from_index": false,
  "framework": [
   "Azure ML"
  ],
  "friendly_name": "How to use Dataset as a PipelineParameter",
  "kernelspec": {
   "display_name": "Python 3.8",
   "language": "python",
   "name": "python3.8"
  },
  "language_info": {
   "codemirror_mode": {
    "name": "ipython",
    "version": 3
   },
   "file_extension": ".py",
   "mimetype": "text/x-python",
   "name": "python",
   "nbconvert_exporter": "python",
   "pygments_lexer": "ipython3",
   "version": "3.8.8"
  },
  "nteract": {
   "version": "nteract-front-end@1.0.0"
  },
  "order_index": 13,
  "papermill": {
   "default_parameters": {},
   "duration": 3.845848,
   "end_time": "2021-06-04T18:08:14.137471",
   "environment_variables": {},
   "exception": true,
   "input_path": "dataset-and-pipelineparameter.ipynb",
   "output_path": "out.ipynb",
   "parameters": {},
   "start_time": "2021-06-04T18:08:10.291623",
   "version": "2.3.3"
  },
  "star_tag": [
   "featured"
  ],
  "tags": [
   "None"
  ],
  "task": "Demonstrates the use of Dataset as a PipelineParameter"
 },
 "nbformat": 4,
 "nbformat_minor": 5
}