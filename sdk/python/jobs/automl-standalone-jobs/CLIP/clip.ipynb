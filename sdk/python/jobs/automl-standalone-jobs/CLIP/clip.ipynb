{
 "cells": [
  {
   "cell_type": "code",
   "execution_count": 14,
   "metadata": {},
   "outputs": [],
   "source": [
    "from PIL import Image\n",
    "import requests\n",
    "\n",
    "from transformers import CLIPProcessor, CLIPModel\n",
    "\n",
    "model = CLIPModel.from_pretrained(\"openai/clip-vit-base-patch32\")\n",
    "processor = CLIPProcessor.from_pretrained(\"openai/clip-vit-base-patch32\")\n",
    "\n",
    "url1 = \"http://images.cocodataset.org/val2017/000000039769.jpg\"\n",
    "image1 = Image.open(requests.get(url1, stream=True).raw)\n",
    "url2 = \"http://farm9.staticflickr.com/8523/8492001403_a742af8000_z.jpg\"\n",
    "image2 = Image.open(requests.get(url2, stream=True).raw)\n",
    "url3 = \"http://farm4.staticflickr.com/3261/2870016347_39ffc0ca45_z.jpg\"\n",
    "image3 = Image.open(requests.get(url3, stream=True).raw)\n",
    "\n",
    "captions1 = \"a photo of a cat a photo of a dog\"\n",
    "captions2 = \"a photo of a car a photo of a motorcycle\"\n",
    "captions3 = \"a photo of a stop sign a photo of a traffic light a photo of a crosswalk a photo of the ocean\"\n",
    "# captions1 = [\"a photo of a cat\", \"a photo of a dog\"]\n",
    "# captions2 = [\"a photo of a car\", \"a photo of a motorcycle\"]\n",
    "# captions3 = [\"a photo of a stop sign\", \"a photo of a traffic light\", \"a photo of a crosswalk\", \"a photo of the ocean\"]\n"
   ]
  },
  {
   "cell_type": "code",
   "execution_count": 16,
   "metadata": {},
   "outputs": [],
   "source": [
    "images_list = [image1, image2, image3]\n",
    "text_list = [captions1, captions2, captions3]\n",
    "inputs = processor(text=text_list, images=images_list, return_tensors=\"pt\", padding=True)"
   ]
  },
  {
   "cell_type": "code",
   "execution_count": 13,
   "metadata": {},
   "outputs": [
    {
     "name": "stdout",
     "output_type": "stream",
     "text": [
      "tensor([[    0.9483,     0.0452,     0.0064],\n",
      "        [    0.0000,     1.0000,     0.0000],\n",
      "        [    0.0000,     0.0007,     0.9992]], grad_fn=<SoftmaxBackward0>)\n"
     ]
    }
   ],
   "source": [
    "outputs = model(**inputs)\n",
    "logits_per_image = outputs.logits_per_image # this is the image-text similarity score\n",
    "probs = logits_per_image.softmax(dim=1) # we can take the softmax to get the label probabilities\n",
    "import torch\n",
    "torch.set_printoptions(sci_mode=False)\n",
    "print(probs)"
   ]
  },
  {
   "cell_type": "code",
   "execution_count": 17,
   "metadata": {},
   "outputs": [
    {
     "name": "stdout",
     "output_type": "stream",
     "text": [
      "tensor([[    0.9483,     0.0452,     0.0064],\n",
      "        [    0.0000,     1.0000,     0.0000],\n",
      "        [    0.0000,     0.0007,     0.9992]], grad_fn=<SoftmaxBackward0>)\n"
     ]
    }
   ],
   "source": [
    "outputs = model(**inputs)\n",
    "logits_per_image = outputs.logits_per_image # this is the image-text similarity score\n",
    "probs = logits_per_image.softmax(dim=1) # we can take the softmax to get the label probabilities\n",
    "import torch\n",
    "torch.set_printoptions(sci_mode=False)\n",
    "print(probs)"
   ]
  },
  {
   "cell_type": "code",
   "execution_count": null,
   "metadata": {},
   "outputs": [],
   "source": []
  }
 ],
 "metadata": {
  "kernelspec": {
   "display_name": "rc_133",
   "language": "python",
   "name": "python3"
  },
  "language_info": {
   "codemirror_mode": {
    "name": "ipython",
    "version": 3
   },
   "file_extension": ".py",
   "mimetype": "text/x-python",
   "name": "python",
   "nbconvert_exporter": "python",
   "pygments_lexer": "ipython3",
   "version": "3.7.10"
  },
  "orig_nbformat": 4
 },
 "nbformat": 4,
 "nbformat_minor": 2
}
