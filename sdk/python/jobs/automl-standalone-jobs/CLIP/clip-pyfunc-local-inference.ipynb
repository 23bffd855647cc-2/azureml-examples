{
 "cells": [
  {
   "cell_type": "code",
   "execution_count": null,
   "metadata": {},
   "outputs": [],
   "source": [
    "import os\n",
    "\n",
    "# Local dir where you have downloaded and saved the artifacts\n",
    "local_dir = \"./\"\n",
    "\n",
    "mlflow_model_dir = os.path.join(local_dir, \"OpenAI-CLIP-ViT-Large-Patch14\", \"mlflow_model_folder\")\n",
    "\n",
    "# Show the contents of the MLFlow model folder\n",
    "os.listdir(mlflow_model_dir)\n",
    "\n",
    "# You should see a list of files such as the following:\n",
    "# ['artifacts', 'conda.yaml', 'MLmodel', 'python_env.yaml', 'python_model.pkl', 'requirements.txt']"
   ]
  },
  {
   "cell_type": "markdown",
   "metadata": {},
   "source": [
    "### Load the test data into a Pandas DataFrame\n",
    "\n",
    "Load some test images into a Pandas DataFrame in order to try some predictions with it."
   ]
  },
  {
   "cell_type": "code",
   "execution_count": null,
   "metadata": {},
   "outputs": [],
   "source": [
    "test_image_paths = [\n",
    "    \"./benchmark-images/can_small.jpg\",\n",
    "    \"./benchmark-images/beach_large.jpg\",\n",
    "    \"./benchmark-images/beach_huge.jpg\"\n",
    "]"
   ]
  },
  {
   "cell_type": "code",
   "execution_count": null,
   "metadata": {},
   "outputs": [],
   "source": [
    "import pandas as pd\n",
    "import base64\n",
    "\n",
    "\n",
    "def read_image(image_path):\n",
    "    with open(image_path, \"rb\") as f:\n",
    "        return f.read()\n",
    "\n",
    "images=[\n",
    "        base64.encodebytes(read_image(image_path)).decode('utf-8')\n",
    "        for image_path in test_image_paths\n",
    "    ]\n",
    "\n",
    "import numpy\n",
    "captions = \"person, beach, mountain\"\n",
    "data = [[img, \"\"] for img in images]\n",
    "test_df = pd.DataFrame(\n",
    "    data=data,\n",
    "    columns=[\"image\", \"text\"],\n",
    ")\n",
    "test_df['text'].iloc[0] = captions\n",
    "test_df"
   ]
  },
  {
   "cell_type": "code",
   "execution_count": null,
   "metadata": {},
   "outputs": [],
   "source": [
    "import sys\n",
    "sys.path.append(os.path.join(mlflow_model_dir, 'code'))\n",
    "from mlflow_wrapper import CLIPMLFlowModelWrapper\n",
    "mlflow_model_wrapper = CLIPMLFlowModelWrapper(task_type=\"zero-shot-image-classification\")\n",
    "import pickle\n",
    "with open(os.path.join(mlflow_model_dir, 'python_model.pkl'), 'wb') as f:\n",
    "    pickle.dump(mlflow_model_wrapper, f)"
   ]
  },
  {
   "cell_type": "code",
   "execution_count": null,
   "metadata": {},
   "outputs": [],
   "source": [
    "import mlflow.pyfunc\n",
    "pyfunc_model = mlflow.pyfunc.load_model(mlflow_model_dir)"
   ]
  },
  {
   "cell_type": "code",
   "execution_count": null,
   "metadata": {},
   "outputs": [],
   "source": [
    "clip_model = pyfunc_model.unwrap_python_model()\n",
    "pytorch_total_params = sum(p.numel() for p in clip_model._model.parameters())\n",
    "print(pytorch_total_params)"
   ]
  },
  {
   "cell_type": "code",
   "execution_count": null,
   "metadata": {},
   "outputs": [],
   "source": []
  }
 ],
 "metadata": {
  "kernel_info": {
   "name": "python3-azureml"
  },
  "kernelspec": {
   "display_name": "rc_133",
   "language": "python",
   "name": "python3"
  },
  "language_info": {
   "codemirror_mode": {
    "name": "ipython",
    "version": 3
   },
   "file_extension": ".py",
   "mimetype": "text/x-python",
   "name": "python",
   "nbconvert_exporter": "python",
   "pygments_lexer": "ipython3",
   "version": "3.8.0"
  },
  "microsoft": {
   "host": {
    "AzureML": {
     "notebookHasBeenCompleted": true
    }
   }
  },
  "nteract": {
   "version": "nteract-front-end@1.0.0"
  }
 },
 "nbformat": 4,
 "nbformat_minor": 4
}
