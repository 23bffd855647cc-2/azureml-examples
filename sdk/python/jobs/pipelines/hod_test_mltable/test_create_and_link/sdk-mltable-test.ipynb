{
 "cells": [
  {
   "cell_type": "markdown",
   "metadata": {},
   "source": [
    "Copyright (c) Microsoft Corporation. All rights reserved.\n",
    "\n",
    "Licensed under the MIT License."
   ]
  },
  {
   "cell_type": "markdown",
   "metadata": {},
   "source": [
    "# Build an ML Pipeline\n",
    "\n",
    "In this notebook, you learn how to create a machine learning training pipeline by using Azure Machine Learning components.\n",
    "\n",
    "1. Prepare and create components into the workspace.\n",
    "2. Use the component and pipeline SDK to create a pipeline the registered components."
   ]
  },
  {
   "cell_type": "markdown",
   "metadata": {},
   "source": [
    "## Prerequisites\n",
    "* Install azure-ai-ml sdk following the [instructions here](../../README.md).\n",
    "* Initialize credential & create compute clusters following [instructions here](../../configuration.ipynb);"
   ]
  },
  {
   "cell_type": "markdown",
   "metadata": {},
   "source": [
    "# 1. Connect to Azure Machine Learning Workspace\n",
    "\n",
    "The [workspace](https://docs.microsoft.com/en-us/azure/machine-learning/concept-workspace) is the top-level resource for Azure Machine Learning, providing a centralized place to work with all the artifacts you create when you use Azure Machine Learning. In this section we will connect to the workspace in which the job will be run.\n",
    "\n",
    "## 1.1 Import the required libraries"
   ]
  },
  {
   "cell_type": "code",
   "execution_count": 3,
   "metadata": {
    "tags": []
   },
   "outputs": [],
   "source": [
    "# Import required libraries\n",
    "from azure.identity import DefaultAzureCredential, InteractiveBrowserCredential\n",
    "from azure.ai.ml import load_component, Input, Output\n",
    "from azure.ai.ml.dsl import pipeline\n",
    "from azure.ai.ml import MLClient\n",
    "from azure.ai.ml.constants import AssetTypes, InputOutputModes, InputOutputModes\n",
    "\n",
    "import os\n",
    "\n",
    "# enable internal components in v2\n",
    "os.environ[\"AZURE_ML_INTERNAL_COMPONENTS_ENABLED\"] = \"True\""
   ]
  },
  {
   "cell_type": "markdown",
   "metadata": {},
   "source": [
    "## 1.2 Configure credential\n",
    "\n",
    "We are using `DefaultAzureCredential` to get access to workspace. \n",
    "`DefaultAzureCredential` should be capable of handling most Azure SDK authentication scenarios. \n",
    "\n",
    "Reference for more available credentials if it does not work for you: [configure credential example](../../configuration.ipynb), [azure-identity reference doc](https://docs.microsoft.com/en-us/python/api/azure-identity/azure.identity?view=azure-python)."
   ]
  },
  {
   "cell_type": "code",
   "execution_count": 4,
   "metadata": {},
   "outputs": [
    {
     "name": "stderr",
     "output_type": "stream",
     "text": [
      "DefaultAzureCredential failed to retrieve a token from the included credentials.\n",
      "Attempted credentials:\n",
      "\tEnvironmentCredential: EnvironmentCredential authentication unavailable. Environment variables are not fully configured.\n",
      "Visit https://aka.ms/azsdk/python/identity/environmentcredential/troubleshoot to troubleshoot.this issue.\n",
      "\tManagedIdentityCredential: ManagedIdentityCredential authentication unavailable, no response from the IMDS endpoint.\n",
      "\tAzureDeveloperCliCredential: Azure Developer CLI could not be found. Please visit https://aka.ms/azure-dev for installation instructions and then,once installed, authenticate to your Azure account using 'azd login'.\n",
      "\tSharedTokenCacheCredential: Azure Active Directory error '(invalid_grant) AADSTS700082: The refresh token has expired due to inactivity. The token was issued on 2022-11-21T03:07:07.6802296Z and was inactive for 90.00:00:00.\n",
      "Trace ID: b011f9b9-1903-4c5b-85c2-db0dbedc1900\n",
      "Correlation ID: 5861cdf5-1c2e-4f70-b8bc-3114a4e947ae\n",
      "Timestamp: 2023-02-22 10:06:37Z'\n",
      "Content: {\"error\":\"invalid_grant\",\"error_description\":\"AADSTS700082: The refresh token has expired due to inactivity. The token was issued on 2022-11-21T03:07:07.6802296Z and was inactive for 90.00:00:00.\\r\\nTrace ID: b011f9b9-1903-4c5b-85c2-db0dbedc1900\\r\\nCorrelation ID: 5861cdf5-1c2e-4f70-b8bc-3114a4e947ae\\r\\nTimestamp: 2023-02-22 10:06:37Z\",\"error_codes\":[700082],\"timestamp\":\"2023-02-22 10:06:37Z\",\"trace_id\":\"b011f9b9-1903-4c5b-85c2-db0dbedc1900\",\"correlation_id\":\"5861cdf5-1c2e-4f70-b8bc-3114a4e947ae\",\"error_uri\":\"https://login.microsoftonline.com/error?code=700082\"}\n",
      "To mitigate this issue, please refer to the troubleshooting guidelines here at https://aka.ms/azsdk/python/identity/defaultazurecredential/troubleshoot.\n"
     ]
    }
   ],
   "source": [
    "try:\n",
    "    credential = DefaultAzureCredential()\n",
    "    # Check if given credential can get token successfully.\n",
    "    credential.get_token(\"https://management.azure.com/.default\")\n",
    "except Exception as ex:\n",
    "    # Fall back to InteractiveBrowserCredential in case DefaultAzureCredential not work\n",
    "    credential = InteractiveBrowserCredential()"
   ]
  },
  {
   "cell_type": "markdown",
   "metadata": {},
   "source": [
    "## 1.3 Get a handle to the workspace\n",
    "\n",
    "We use config file to connect to a workspace. The Azure ML workspace should be configured with computer cluster. [Check this notebook for configure a workspace](../../configuration.ipynb)"
   ]
  },
  {
   "cell_type": "code",
   "execution_count": 5,
   "metadata": {
    "tags": []
   },
   "outputs": [
    {
     "name": "stderr",
     "output_type": "stream",
     "text": [
      "Found the config file in: D:\\programs\\azureml-examples\\sdk\\.azureml\\config.json\n"
     ]
    },
    {
     "name": "stdout",
     "output_type": "stream",
     "text": [
      "enable_node_public_ip: true\n",
      "id: /subscriptions/96aede12-2f73-41cb-b983-6d11a904839b/resourceGroups/hod-eastus2/providers/Microsoft.MachineLearningServices/workspaces/sdk_vnext_cli/computes/cpu-cluster\n",
      "idle_time_before_scale_down: 120\n",
      "location: eastus2\n",
      "max_instances: 4\n",
      "min_instances: 0\n",
      "name: cpu-cluster\n",
      "provisioning_state: Succeeded\n",
      "size: STANDARD_DS2_V2\n",
      "ssh_public_access_enabled: true\n",
      "tier: dedicated\n",
      "type: amlcompute\n",
      "\n"
     ]
    }
   ],
   "source": [
    "# Get a handle to workspace\n",
    "ml_client = MLClient.from_config(credential=credential)\n",
    "\n",
    "# Retrieve an already attached Azure Machine Learning Compute.\n",
    "cluster_name = \"cpu-cluster\"\n",
    "print(ml_client.compute.get(cluster_name))"
   ]
  },
  {
   "cell_type": "code",
   "execution_count": 2,
   "metadata": {
    "tags": []
   },
   "outputs": [
    {
     "name": "stderr",
     "output_type": "stream",
     "text": [
      "Warning: the provided asset name 'myTestEnv' will not be used for anonymous registration\n",
      "Warning: the provided asset name 'myTestEnv' will not be used for anonymous registration\n"
     ]
    }
   ],
   "source": [
    "from azure.ai.ml import Input\n",
    "from azure.ai.ml.constants import AssetTypes, InputOutputModes\n",
    "from azure.ai.ml.dsl import pipeline\n",
    "from sdk.create_and_link import get_my_data, consume_data\n",
    "\n",
    "input_asset = Input(\n",
    "    type=\"uri_file\",\n",
    "    path=\"azureml://datastores/workspaceblobstore/paths/miguTestMLTable/relative_path_in_content.txt\",\n",
    ")"
   ]
  },
  {
   "cell_type": "code",
   "execution_count": 12,
   "metadata": {},
   "outputs": [
    {
     "data": {
      "text/plain": [
       "{\n",
       "  \"result\": \"Succeeded\"\n",
       "}"
      ]
     },
     "execution_count": 12,
     "metadata": {},
     "output_type": "execute_result"
    }
   ],
   "source": [
    "@pipeline\n",
    "def my_pipeline():\n",
    "    node_0 = get_my_data()\n",
    "    data_input = Input(type=\"uri_folder\", path=node_0.outputs.output)\n",
    "    # Input(type=\"uri_file\", path=\"https://dprepdata.blob.core.windows.net/demo/Titanic.csv\")\n",
    "    node_1 = consume_data(data_path=data_input)\n",
    "\n",
    "# create a pipeline\n",
    "pipeline_job = my_pipeline()\n",
    "pipeline_job.settings.default_compute = \"cpu-cluster\"\n",
    "# pipeline_job.settings.default_datastore = \"workspaceblobstore\"\n",
    "# pipeline_job.settings._dataset_access_mode = \"DatasetInDpv2\"\n",
    "\n",
    "# Validating the pipeline\n",
    "ml_client.jobs.validate(pipeline_job)"
   ]
  },
  {
   "cell_type": "code",
   "execution_count": 13,
   "metadata": {},
   "outputs": [
    {
     "ename": "HttpResponseError",
     "evalue": "(UserError) Invalid binding expression since the source componentJob None does not exist.\nCode: UserError\nMessage: Invalid binding expression since the source componentJob None does not exist.\nAdditional Information:Type: ComponentName\nInfo: {\n    \"value\": \"managementfrontend\"\n}Type: Correlation\nInfo: {\n    \"value\": {\n        \"operation\": \"2a6d0a804ee02f66c6bf6074b786fa3c\",\n        \"request\": \"c645f0c0524a10f0\"\n    }\n}Type: Environment\nInfo: {\n    \"value\": \"eastus2\"\n}Type: Location\nInfo: {\n    \"value\": \"eastus2\"\n}Type: Time\nInfo: {\n    \"value\": \"2023-02-22T11:18:37.4547875+00:00\"\n}Type: InnerError\nInfo: {\n    \"value\": {\n        \"code\": \"BadArgument\",\n        \"innerError\": {\n            \"code\": \"ArgumentInvalid\",\n            \"innerError\": {\n                \"code\": \"InvalidPipelineJob\",\n                \"innerError\": {\n                    \"code\": \"SourceComponentJobNotExsit\",\n                    \"innerError\": null\n                }\n            }\n        }\n    }\n}",
     "output_type": "error",
     "traceback": [
      "\u001b[1;31m---------------------------------------------------------------------------\u001b[0m",
      "\u001b[1;31mHttpResponseError\u001b[0m                         Traceback (most recent call last)",
      "Cell \u001b[1;32mIn[13], line 2\u001b[0m\n\u001b[0;32m      1\u001b[0m \u001b[39m# Specify the workspace for workspace independent component when submitting the pipeline.\u001b[39;00m\n\u001b[1;32m----> 2\u001b[0m created_pipeline_job \u001b[39m=\u001b[39m ml_client\u001b[39m.\u001b[39;49mjobs\u001b[39m.\u001b[39;49mcreate_or_update(pipeline_job, experiment_name\u001b[39m=\u001b[39;49m\u001b[39m\"\u001b[39;49m\u001b[39mhod_test_mltable\u001b[39;49m\u001b[39m\"\u001b[39;49m)\n\u001b[0;32m      4\u001b[0m \u001b[39m# show detail information of run\u001b[39;00m\n\u001b[0;32m      5\u001b[0m created_pipeline_job\n",
      "File \u001b[1;32md:\\Anaconda3\\envs\\git_sdk\\lib\\site-packages\\azure\\core\\tracing\\decorator.py:78\u001b[0m, in \u001b[0;36mdistributed_trace.<locals>.decorator.<locals>.wrapper_use_tracer\u001b[1;34m(*args, **kwargs)\u001b[0m\n\u001b[0;32m     76\u001b[0m span_impl_type \u001b[39m=\u001b[39m settings\u001b[39m.\u001b[39mtracing_implementation()\n\u001b[0;32m     77\u001b[0m \u001b[39mif\u001b[39;00m span_impl_type \u001b[39mis\u001b[39;00m \u001b[39mNone\u001b[39;00m:\n\u001b[1;32m---> 78\u001b[0m     \u001b[39mreturn\u001b[39;00m func(\u001b[39m*\u001b[39margs, \u001b[39m*\u001b[39m\u001b[39m*\u001b[39mkwargs)\n\u001b[0;32m     80\u001b[0m \u001b[39m# Merge span is parameter is set, but only if no explicit parent are passed\u001b[39;00m\n\u001b[0;32m     81\u001b[0m \u001b[39mif\u001b[39;00m merge_span \u001b[39mand\u001b[39;00m \u001b[39mnot\u001b[39;00m passed_in_parent:\n",
      "File \u001b[1;32md:\\programs\\hod-aml-sdk\\sdk\\ml\\azure-ai-ml\\azure\\ai\\ml\\operations\\_job_operations.py:570\u001b[0m, in \u001b[0;36mJobOperations.create_or_update\u001b[1;34m(self, job, description, compute, tags, experiment_name, skip_validation, **kwargs)\u001b[0m\n\u001b[0;32m    568\u001b[0m     log_and_raise_error(ex)\n\u001b[0;32m    569\u001b[0m \u001b[39melse\u001b[39;00m:\n\u001b[1;32m--> 570\u001b[0m     \u001b[39mraise\u001b[39;00m ex\n",
      "File \u001b[1;32md:\\programs\\hod-aml-sdk\\sdk\\ml\\azure-ai-ml\\azure\\ai\\ml\\operations\\_job_operations.py:524\u001b[0m, in \u001b[0;36mJobOperations.create_or_update\u001b[1;34m(self, job, description, compute, tags, experiment_name, skip_validation, **kwargs)\u001b[0m\n\u001b[0;32m    519\u001b[0m \u001b[39mif\u001b[39;00m \u001b[39mhasattr\u001b[39m(rest_job_resource\u001b[39m.\u001b[39mproperties, \u001b[39m\"\u001b[39m\u001b[39midentity\u001b[39m\u001b[39m\"\u001b[39m) \u001b[39mand\u001b[39;00m (\n\u001b[0;32m    520\u001b[0m     \u001b[39misinstance\u001b[39m(rest_job_resource\u001b[39m.\u001b[39mproperties\u001b[39m.\u001b[39midentity, UserIdentity)\n\u001b[0;32m    521\u001b[0m ):\n\u001b[0;32m    522\u001b[0m     \u001b[39mself\u001b[39m\u001b[39m.\u001b[39m_set_headers_with_user_aml_token(kwargs)\n\u001b[1;32m--> 524\u001b[0m result \u001b[39m=\u001b[39m \u001b[39mself\u001b[39m\u001b[39m.\u001b[39m_operation_2022_12_preview\u001b[39m.\u001b[39mcreate_or_update(\n\u001b[0;32m    525\u001b[0m     \u001b[39mid\u001b[39m\u001b[39m=\u001b[39mrest_job_resource\u001b[39m.\u001b[39mname,  \u001b[39m# type: ignore\u001b[39;00m\n\u001b[0;32m    526\u001b[0m     resource_group_name\u001b[39m=\u001b[39m\u001b[39mself\u001b[39m\u001b[39m.\u001b[39m_operation_scope\u001b[39m.\u001b[39mresource_group_name,\n\u001b[0;32m    527\u001b[0m     workspace_name\u001b[39m=\u001b[39m\u001b[39mself\u001b[39m\u001b[39m.\u001b[39m_workspace_name,\n\u001b[0;32m    528\u001b[0m     body\u001b[39m=\u001b[39mrest_job_resource,\n\u001b[0;32m    529\u001b[0m     \u001b[39m*\u001b[39m\u001b[39m*\u001b[39mkwargs,\n\u001b[0;32m    530\u001b[0m )\n\u001b[0;32m    532\u001b[0m \u001b[39mif\u001b[39;00m is_local_run(result):\n\u001b[0;32m    533\u001b[0m     ws_base_url \u001b[39m=\u001b[39m \u001b[39mself\u001b[39m\u001b[39m.\u001b[39m_all_operations\u001b[39m.\u001b[39mall_operations[\n\u001b[0;32m    534\u001b[0m         AzureMLResourceType\u001b[39m.\u001b[39mWORKSPACE\n\u001b[0;32m    535\u001b[0m     ]\u001b[39m.\u001b[39m_operation\u001b[39m.\u001b[39m_client\u001b[39m.\u001b[39m_base_url\n",
      "File \u001b[1;32md:\\Anaconda3\\envs\\git_sdk\\lib\\site-packages\\azure\\core\\tracing\\decorator.py:78\u001b[0m, in \u001b[0;36mdistributed_trace.<locals>.decorator.<locals>.wrapper_use_tracer\u001b[1;34m(*args, **kwargs)\u001b[0m\n\u001b[0;32m     76\u001b[0m span_impl_type \u001b[39m=\u001b[39m settings\u001b[39m.\u001b[39mtracing_implementation()\n\u001b[0;32m     77\u001b[0m \u001b[39mif\u001b[39;00m span_impl_type \u001b[39mis\u001b[39;00m \u001b[39mNone\u001b[39;00m:\n\u001b[1;32m---> 78\u001b[0m     \u001b[39mreturn\u001b[39;00m func(\u001b[39m*\u001b[39margs, \u001b[39m*\u001b[39m\u001b[39m*\u001b[39mkwargs)\n\u001b[0;32m     80\u001b[0m \u001b[39m# Merge span is parameter is set, but only if no explicit parent are passed\u001b[39;00m\n\u001b[0;32m     81\u001b[0m \u001b[39mif\u001b[39;00m merge_span \u001b[39mand\u001b[39;00m \u001b[39mnot\u001b[39;00m passed_in_parent:\n",
      "File \u001b[1;32md:\\programs\\hod-aml-sdk\\sdk\\ml\\azure-ai-ml\\azure\\ai\\ml\\_restclient\\v2022_12_01_preview\\operations\\_jobs_operations.py:637\u001b[0m, in \u001b[0;36mJobsOperations.create_or_update\u001b[1;34m(self, resource_group_name, workspace_name, id, body, **kwargs)\u001b[0m\n\u001b[0;32m    635\u001b[0m     map_error(status_code\u001b[39m=\u001b[39mresponse\u001b[39m.\u001b[39mstatus_code, response\u001b[39m=\u001b[39mresponse, error_map\u001b[39m=\u001b[39merror_map)\n\u001b[0;32m    636\u001b[0m     error \u001b[39m=\u001b[39m \u001b[39mself\u001b[39m\u001b[39m.\u001b[39m_deserialize\u001b[39m.\u001b[39mfailsafe_deserialize(_models\u001b[39m.\u001b[39mErrorResponse, pipeline_response)\n\u001b[1;32m--> 637\u001b[0m     \u001b[39mraise\u001b[39;00m HttpResponseError(response\u001b[39m=\u001b[39mresponse, model\u001b[39m=\u001b[39merror, error_format\u001b[39m=\u001b[39mARMErrorFormat)\n\u001b[0;32m    639\u001b[0m \u001b[39mif\u001b[39;00m response\u001b[39m.\u001b[39mstatus_code \u001b[39m==\u001b[39m \u001b[39m200\u001b[39m:\n\u001b[0;32m    640\u001b[0m     deserialized \u001b[39m=\u001b[39m \u001b[39mself\u001b[39m\u001b[39m.\u001b[39m_deserialize(\u001b[39m'\u001b[39m\u001b[39mJobBase\u001b[39m\u001b[39m'\u001b[39m, pipeline_response)\n",
      "\u001b[1;31mHttpResponseError\u001b[0m: (UserError) Invalid binding expression since the source componentJob None does not exist.\nCode: UserError\nMessage: Invalid binding expression since the source componentJob None does not exist.\nAdditional Information:Type: ComponentName\nInfo: {\n    \"value\": \"managementfrontend\"\n}Type: Correlation\nInfo: {\n    \"value\": {\n        \"operation\": \"2a6d0a804ee02f66c6bf6074b786fa3c\",\n        \"request\": \"c645f0c0524a10f0\"\n    }\n}Type: Environment\nInfo: {\n    \"value\": \"eastus2\"\n}Type: Location\nInfo: {\n    \"value\": \"eastus2\"\n}Type: Time\nInfo: {\n    \"value\": \"2023-02-22T11:18:37.4547875+00:00\"\n}Type: InnerError\nInfo: {\n    \"value\": {\n        \"code\": \"BadArgument\",\n        \"innerError\": {\n            \"code\": \"ArgumentInvalid\",\n            \"innerError\": {\n                \"code\": \"InvalidPipelineJob\",\n                \"innerError\": {\n                    \"code\": \"SourceComponentJobNotExsit\",\n                    \"innerError\": null\n                }\n            }\n        }\n    }\n}"
     ]
    }
   ],
   "source": [
    "# Specify the workspace for workspace independent component when submitting the pipeline.\n",
    "created_pipeline_job = ml_client.jobs.create_or_update(pipeline_job, experiment_name=\"hod_test_mltable\")\n",
    "\n",
    "# show detail information of run\n",
    "created_pipeline_job"
   ]
  },
  {
   "cell_type": "code",
   "execution_count": null,
   "metadata": {},
   "outputs": [],
   "source": []
  }
 ],
 "metadata": {
  "kernelspec": {
   "display_name": "git_sdk",
   "language": "python",
   "name": "python3"
  },
  "language_info": {
   "codemirror_mode": {
    "name": "ipython",
    "version": 3
   },
   "file_extension": ".py",
   "mimetype": "text/x-python",
   "name": "python",
   "nbconvert_exporter": "python",
   "pygments_lexer": "ipython3",
   "version": "3.10.8"
  },
  "required_sdk_version": "0.9.1",
  "vscode": {
   "interpreter": {
    "hash": "901590fd2121b297931cb9e45033033448ad2d0581b02ead13ed661d40dac950"
   }
  }
 },
 "nbformat": 4,
 "nbformat_minor": 2
}
