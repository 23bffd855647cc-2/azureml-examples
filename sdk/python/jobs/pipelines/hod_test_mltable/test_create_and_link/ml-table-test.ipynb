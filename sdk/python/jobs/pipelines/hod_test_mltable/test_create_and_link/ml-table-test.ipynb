{
 "cells": [
  {
   "cell_type": "markdown",
   "metadata": {},
   "source": [
    "Copyright (c) Microsoft Corporation. All rights reserved.\n",
    "\n",
    "Licensed under the MIT License."
   ]
  },
  {
   "cell_type": "markdown",
   "metadata": {},
   "source": [
    "# Build an ML Pipeline\n",
    "\n",
    "In this notebook, you learn how to create a machine learning training pipeline by using Azure Machine Learning components.\n",
    "\n",
    "1. Prepare and create components into the workspace.\n",
    "2. Use the component and pipeline SDK to create a pipeline the registered components."
   ]
  },
  {
   "cell_type": "markdown",
   "metadata": {},
   "source": [
    "## Prerequisites\n",
    "* Install azure-ai-ml sdk following the [instructions here](../../README.md).\n",
    "* Initialize credential & create compute clusters following [instructions here](../../configuration.ipynb);"
   ]
  },
  {
   "cell_type": "markdown",
   "metadata": {},
   "source": [
    "# 1. Connect to Azure Machine Learning Workspace\n",
    "\n",
    "The [workspace](https://docs.microsoft.com/en-us/azure/machine-learning/concept-workspace) is the top-level resource for Azure Machine Learning, providing a centralized place to work with all the artifacts you create when you use Azure Machine Learning. In this section we will connect to the workspace in which the job will be run.\n",
    "\n",
    "## 1.1 Import the required libraries"
   ]
  },
  {
   "cell_type": "code",
   "execution_count": 1,
   "metadata": {
    "tags": []
   },
   "outputs": [],
   "source": [
    "# Import required libraries\n",
    "from azure.identity import DefaultAzureCredential, InteractiveBrowserCredential\n",
    "from azure.ai.ml import load_component, Input, Output\n",
    "from azure.ai.ml.dsl import pipeline\n",
    "from azure.ai.ml import MLClient\n",
    "from azure.ai.ml.constants import AssetTypes, InputOutputModes, InputOutputModes\n",
    "\n",
    "import os\n",
    "\n",
    "# enable internal components in v2\n",
    "os.environ[\"AZURE_ML_INTERNAL_COMPONENTS_ENABLED\"] = \"True\""
   ]
  },
  {
   "cell_type": "markdown",
   "metadata": {},
   "source": [
    "## 1.2 Configure credential\n",
    "\n",
    "We are using `DefaultAzureCredential` to get access to workspace. \n",
    "`DefaultAzureCredential` should be capable of handling most Azure SDK authentication scenarios. \n",
    "\n",
    "Reference for more available credentials if it does not work for you: [configure credential example](../../configuration.ipynb), [azure-identity reference doc](https://docs.microsoft.com/en-us/python/api/azure-identity/azure.identity?view=azure-python)."
   ]
  },
  {
   "cell_type": "code",
   "execution_count": 2,
   "metadata": {},
   "outputs": [
    {
     "name": "stderr",
     "output_type": "stream",
     "text": [
      "DefaultAzureCredential failed to retrieve a token from the included credentials.\n",
      "Attempted credentials:\n",
      "\tEnvironmentCredential: EnvironmentCredential authentication unavailable. Environment variables are not fully configured.\n",
      "Visit https://aka.ms/azsdk/python/identity/environmentcredential/troubleshoot to troubleshoot.this issue.\n",
      "\tManagedIdentityCredential: ManagedIdentityCredential authentication unavailable, no response from the IMDS endpoint.\n",
      "\tAzureDeveloperCliCredential: Azure Developer CLI could not be found. Please visit https://aka.ms/azure-dev for installation instructions and then,once installed, authenticate to your Azure account using 'azd login'.\n",
      "\tSharedTokenCacheCredential: Azure Active Directory error '(invalid_grant) AADSTS700082: The refresh token has expired due to inactivity. The token was issued on 2022-11-21T03:07:07.6802296Z and was inactive for 90.00:00:00.\n",
      "Trace ID: 0cda5ffb-5767-46ca-bdc1-3580bfd21a00\n",
      "Correlation ID: 48dce46f-d821-4d36-97b9-808a60a87adf\n",
      "Timestamp: 2023-02-22 07:43:25Z'\n",
      "Content: {\"error\":\"invalid_grant\",\"error_description\":\"AADSTS700082: The refresh token has expired due to inactivity. The token was issued on 2022-11-21T03:07:07.6802296Z and was inactive for 90.00:00:00.\\r\\nTrace ID: 0cda5ffb-5767-46ca-bdc1-3580bfd21a00\\r\\nCorrelation ID: 48dce46f-d821-4d36-97b9-808a60a87adf\\r\\nTimestamp: 2023-02-22 07:43:25Z\",\"error_codes\":[700082],\"timestamp\":\"2023-02-22 07:43:25Z\",\"trace_id\":\"0cda5ffb-5767-46ca-bdc1-3580bfd21a00\",\"correlation_id\":\"48dce46f-d821-4d36-97b9-808a60a87adf\",\"error_uri\":\"https://login.microsoftonline.com/error?code=700082\"}\n",
      "To mitigate this issue, please refer to the troubleshooting guidelines here at https://aka.ms/azsdk/python/identity/defaultazurecredential/troubleshoot.\n"
     ]
    }
   ],
   "source": [
    "try:\n",
    "    credential = DefaultAzureCredential()\n",
    "    # Check if given credential can get token successfully.\n",
    "    credential.get_token(\"https://management.azure.com/.default\")\n",
    "except Exception as ex:\n",
    "    # Fall back to InteractiveBrowserCredential in case DefaultAzureCredential not work\n",
    "    credential = InteractiveBrowserCredential()"
   ]
  },
  {
   "cell_type": "markdown",
   "metadata": {},
   "source": [
    "## 1.3 Get a handle to the workspace\n",
    "\n",
    "We use config file to connect to a workspace. The Azure ML workspace should be configured with computer cluster. [Check this notebook for configure a workspace](../../configuration.ipynb)"
   ]
  },
  {
   "cell_type": "code",
   "execution_count": 4,
   "metadata": {
    "tags": []
   },
   "outputs": [
    {
     "name": "stderr",
     "output_type": "stream",
     "text": [
      "Found the config file in: D:\\programs\\azureml-examples\\sdk\\.azureml\\config.json\n"
     ]
    },
    {
     "name": "stdout",
     "output_type": "stream",
     "text": [
      "enable_node_public_ip: true\n",
      "id: /subscriptions/96aede12-2f73-41cb-b983-6d11a904839b/resourceGroups/hod-eastus2/providers/Microsoft.MachineLearningServices/workspaces/sdk_vnext_cli/computes/cpu-cluster\n",
      "idle_time_before_scale_down: 120\n",
      "location: eastus2\n",
      "max_instances: 4\n",
      "min_instances: 0\n",
      "name: cpu-cluster\n",
      "provisioning_state: Succeeded\n",
      "size: STANDARD_DS2_V2\n",
      "ssh_public_access_enabled: true\n",
      "tier: dedicated\n",
      "type: amlcompute\n",
      "\n"
     ]
    }
   ],
   "source": [
    "# Get a handle to workspace\n",
    "ml_client = MLClient.from_config(credential=credential)\n",
    "\n",
    "# Retrieve an already attached Azure Machine Learning Compute.\n",
    "cluster_name = \"cpu-cluster\"\n",
    "print(ml_client.compute.get(cluster_name))"
   ]
  },
  {
   "cell_type": "code",
   "execution_count": 4,
   "metadata": {
    "tags": []
   },
   "outputs": [],
   "source": [
    "from azure.ai.ml import Input\n",
    "from azure.ai.ml.constants import AssetTypes, InputOutputModes\n",
    "from azure.ai.ml.dsl import pipeline\n",
    "\n",
    "input_asset = Input(\n",
    "    type=\"uri_file\",\n",
    "    path=\"azureml://datastores/workspaceblobstore/paths/miguTestMLTable/relative_path_in_content.txt\",\n",
    ")"
   ]
  },
  {
   "cell_type": "code",
   "execution_count": 5,
   "metadata": {},
   "outputs": [],
   "source": [
    "input_asset.datastore"
   ]
  },
  {
   "cell_type": "code",
   "execution_count": 6,
   "metadata": {},
   "outputs": [
    {
     "data": {
      "text/plain": [
       "'azureml://datastores/workspaceblobstore/paths/miguTestMLTable/relative_path_in_content.txt'"
      ]
     },
     "execution_count": 6,
     "metadata": {},
     "output_type": "execute_result"
    }
   ],
   "source": [
    "input_asset.path"
   ]
  },
  {
   "cell_type": "markdown",
   "metadata": {},
   "source": [
    "# 2. Define and create components into workspace\n",
    "## 2.1 Load components from YAML\n",
    "\n",
    "Anonymous Component:\n",
    "* Component SDK allows user to load and validate component as anounymous component first: `load_component()`.\n",
    "\n",
    "Created Component:\n",
    "* Create the components to be used in the pipeline in workspace using the Azure CLI: `az ml component create`.\n",
    "* Load components with the component SDK: `ml_client.components.get()`"
   ]
  },
  {
   "cell_type": "code",
   "execution_count": 7,
   "metadata": {},
   "outputs": [
    {
     "name": "stderr",
     "output_type": "stream",
     "text": [
      "Warning: the provided asset name 'pipeline-custom-environment' will not be used for anonymous registration\n"
     ]
    }
   ],
   "source": [
    "output_mltable_func = load_component(\"./output-mltable/output_mltable.yml\")\n",
    "pass_through_func = load_component(\"./pass-through-uri-file/pass_through.yml\")\n",
    "read_ml_table_func = load_component(\"./read-mltable/read_mltable.yml\")\n",
    "read_ml_table_download_func = load_component(\"./read-mltable-download/read_mltable_download.yml\")"
   ]
  },
  {
   "cell_type": "code",
   "execution_count": 8,
   "metadata": {
    "tags": []
   },
   "outputs": [
    {
     "name": "stderr",
     "output_type": "stream",
     "text": [
      "\u001b[32mUploading read-mltable (0.0 MBs): 100%|##########################################################################################################################################################################################################| 1487/1487 [00:00<00:00, 1513.21it/s]\u001b[0m\n",
      "\u001b[39m\n",
      "\n"
     ]
    },
    {
     "data": {
      "text/plain": [
       "CommandComponent({'auto_increment_version': False, 'source': 'REMOTE.WORKSPACE.COMPONENT', 'is_anonymous': False, 'name': 'read_mltable', 'description': 'Read MLTable', 'tags': {'author': 'azureml-sdk-team'}, 'properties': {}, 'print_as_yaml': True, 'id': '/subscriptions/b8c23406-f9b5-4ccb-8a65-a8cb5dcd6a5a/resourceGroups/rge2etests/providers/Microsoft.MachineLearningServices/workspaces/wse2etests/components/read_mltable/versions/3', 'Resource__source_path': None, 'base_path': WindowsPath('.'), 'creation_context': <azure.ai.ml._restclient.v2022_10_01.models._models_py3.SystemData object at 0x000002BF45E154F0>, 'serialize': <msrest.serialization.Serializer object at 0x000002BF45E15C10>, 'command': 'python read_mltable.py ${{inputs.input_mltable}}', 'code': '/subscriptions/b8c23406-f9b5-4ccb-8a65-a8cb5dcd6a5a/resourceGroups/rge2etests/providers/Microsoft.MachineLearningServices/workspaces/wse2etests/codes/a63b2c27-1418-45c8-88c9-cb1c8c9bdf5b/versions/1', 'environment_variables': None, 'environment': 'azureml://registries/azureml-dev/environments/AzureML-sklearn-1.0-ubuntu20.04-py38-cpu/versions/1', 'distribution': None, 'resources': {'instance_count': 1}, 'version': '3', 'latest_version': None, 'schema': 'https://azuremlschemas.azureedge.net/latest/commandComponent.schema.json', 'type': 'command', 'display_name': 'read_mltable', 'is_deterministic': True, 'inputs': {'input_mltable': {'type': 'mltable', 'optional': False}}, 'outputs': {}, 'yaml_str': None, 'other_parameter': {}})"
      ]
     },
     "execution_count": 8,
     "metadata": {},
     "output_type": "execute_result"
    }
   ],
   "source": [
    "ml_client.components.create_or_update(output_mltable_func)\n",
    "ml_client.components.create_or_update(pass_through_func)\n",
    "ml_client.components.create_or_update(read_ml_table_func)"
   ]
  },
  {
   "cell_type": "markdown",
   "metadata": {},
   "source": [
    "### 2.2 Intellisense and docstring support\n",
    "\n",
    "The loaded component_func has dynamic generated signature."
   ]
  },
  {
   "cell_type": "markdown",
   "metadata": {},
   "source": [
    "# 3. Sample pipeline job\n",
    "## 3.1 Build pipeline\n",
    "You can build pipeline through SDK experience, or drag-n-drop way through [Azure Machine Learning designer (preview)](https://docs.microsoft.com/en-us/azure/machine-learning/concept-designer)\n",
    "\n",
    "With the component SDK, you will benefit from:\n",
    "* Simple syntax to provide consistent experience with drag-n-drop.\n",
    "* Creating a pipeline with unpublished component for debugging/testing purpose."
   ]
  },
  {
   "cell_type": "code",
   "execution_count": 9,
   "metadata": {},
   "outputs": [],
   "source": [
    "# define a pipeline\n",
    "@pipeline()\n",
    "def training_pipeline_mltable(input_data):\n",
    "    output_mltable = output_mltable_func(\n",
    "        input_containing_relative_path=input_data\n",
    "    )\n",
    "    # read_mltable_download = read_ml_table_download_func(input_mltable=output_mltable.outputs.output_mltable)\n",
    "    read_mltable = read_ml_table_func(input_mltable=output_mltable.outputs.output_mltable)\n",
    "    # pass_through = pass_through_func(\n",
    "    #    input_file = output_mltable.outputs.output_mltable\n",
    "    # )"
   ]
  },
  {
   "cell_type": "code",
   "execution_count": 10,
   "metadata": {
    "scrolled": false
   },
   "outputs": [
    {
     "name": "stderr",
     "output_type": "stream",
     "text": [
      "Method validate: This is an experimental method, and may change at any time. Please see https://aka.ms/azuremlexperimental for more information.\n"
     ]
    },
    {
     "data": {
      "text/plain": [
       "{\n",
       "  \"result\": \"Succeeded\"\n",
       "}"
      ]
     },
     "execution_count": 10,
     "metadata": {},
     "output_type": "execute_result"
    }
   ],
   "source": [
    "# create a pipeline\n",
    "pipeline_job = training_pipeline_mltable(\n",
    "    input_asset\n",
    ")\n",
    "pipeline_job.settings.default_compute = cluster_name\n",
    "pipeline_job.settings.default_datastore = \"workspaceblobstore\"\n",
    "# pipeline_job.settings._dataset_access_mode = \"DatasetInDpv2\"\n",
    "\n",
    "# Validating the pipeline\n",
    "ml_client.jobs.validate(pipeline_job)"
   ]
  },
  {
   "cell_type": "markdown",
   "metadata": {},
   "source": [
    "## 3.2 Run pipeline on remote compute"
   ]
  },
  {
   "cell_type": "code",
   "execution_count": 11,
   "metadata": {
    "tags": []
   },
   "outputs": [
    {
     "data": {
      "text/html": [
       "<table style=\"width:100%\"><tr><th>Experiment</th><th>Name</th><th>Type</th><th>Status</th><th>Details Page</th></tr><tr><td>migu_test_mltable</td><td>honest_guava_k31m6t94yl</td><td>pipeline</td><td>Preparing</td><td><a href=\"https://ml.azure.com/runs/honest_guava_k31m6t94yl?wsid=/subscriptions/b8c23406-f9b5-4ccb-8a65-a8cb5dcd6a5a/resourcegroups/rge2etests/workspaces/wse2etests&amp;tid=72f988bf-86f1-41af-91ab-2d7cd011db47\" target=\"_blank\" rel=\"noopener\">Link to Azure Machine Learning studio</a></td></tr></table>"
      ],
      "text/plain": [
       "PipelineJob({'inputs': {'input_data': <azure.ai.ml.entities._job.pipeline._io.base.PipelineInput object at 0x000002BF475236A0>}, 'outputs': {}, 'jobs': {}, 'component': PipelineComponent({'auto_increment_version': False, 'source': 'REMOTE.WORKSPACE.JOB', 'is_anonymous': True, 'name': 'azureml_anonymous', 'description': None, 'tags': {}, 'properties': {}, 'print_as_yaml': True, 'id': None, 'Resource__source_path': None, 'base_path': 'D:\\\\Projects\\\\DesignerPrivatePreviewFeatures\\\\azure-ai-ml\\\\samples\\\\basics\\\\get-started', 'creation_context': None, 'serialize': <msrest.serialization.Serializer object at 0x000002BF47523760>, 'version': '1', 'latest_version': None, 'schema': None, 'type': 'pipeline', 'display_name': 'training_pipeline_mltable', 'is_deterministic': None, 'inputs': {'input_data': {}}, 'outputs': {}, 'yaml_str': None, 'other_parameter': {}, 'jobs': {'output_mltable': Command({'parameters': {}, 'init': False, 'type': 'command', 'status': None, 'log_files': None, 'name': 'output_mltable', 'description': None, 'tags': {}, 'properties': {}, 'print_as_yaml': True, 'id': None, 'Resource__source_path': None, 'base_path': 'D:\\\\Projects\\\\DesignerPrivatePreviewFeatures\\\\azure-ai-ml\\\\samples\\\\basics\\\\get-started', 'creation_context': None, 'serialize': <msrest.serialization.Serializer object at 0x000002BF45C7F3D0>, 'allowed_keys': {}, 'key_restriction': False, 'logger': <Logger attr_dict (WARNING)>, 'display_name': None, 'experiment_name': None, 'compute': None, 'services': None, 'comment': None, 'job_inputs': {'input_containing_relative_path': '${{parent.inputs.input_data}}'}, 'job_outputs': {}, 'inputs': {'input_containing_relative_path': <azure.ai.ml.entities._job.pipeline._io.base.NodeInput object at 0x000002BF475237C0>}, 'outputs': {}, 'component': 'azureml_anonymous:fda53569-17fb-442b-bb65-766944b7da53', 'referenced_control_flow_node_instance_id': None, 'kwargs': {'services': None}, 'instance_id': 'e02b8bdb-7ae9-4c38-a486-f9d715d612d8', 'source': 'REMOTE.WORKSPACE.COMPONENT', 'validate_required_input_not_provided': True, 'limits': None, 'identity': None, 'distribution': None, 'environment_variables': {}, 'environment': None, 'resources': None, 'swept': False}), 'read_mltable': Command({'parameters': {}, 'init': False, 'type': 'command', 'status': None, 'log_files': None, 'name': 'read_mltable', 'description': None, 'tags': {}, 'properties': {}, 'print_as_yaml': True, 'id': None, 'Resource__source_path': None, 'base_path': 'D:\\\\Projects\\\\DesignerPrivatePreviewFeatures\\\\azure-ai-ml\\\\samples\\\\basics\\\\get-started', 'creation_context': None, 'serialize': <msrest.serialization.Serializer object at 0x000002BF475238B0>, 'allowed_keys': {}, 'key_restriction': False, 'logger': <Logger attr_dict (WARNING)>, 'display_name': None, 'experiment_name': None, 'compute': None, 'services': None, 'comment': None, 'job_inputs': {'input_mltable': '${{parent.jobs.output_mltable.outputs.output_mltable}}'}, 'job_outputs': {}, 'inputs': {'input_mltable': <azure.ai.ml.entities._job.pipeline._io.base.NodeInput object at 0x000002BF47523730>}, 'outputs': {}, 'component': 'azureml_anonymous:a554327a-866c-4faf-8f0a-583a222006ab', 'referenced_control_flow_node_instance_id': None, 'kwargs': {'services': None}, 'instance_id': '3eb08222-7f38-4064-b93d-7f4db10140ee', 'source': 'REMOTE.WORKSPACE.COMPONENT', 'validate_required_input_not_provided': True, 'limits': None, 'identity': None, 'distribution': None, 'environment_variables': {}, 'environment': None, 'resources': None, 'swept': False})}, 'job_types': {'command': 2}, 'job_sources': {'REMOTE.WORKSPACE.COMPONENT': 2}, 'source_job_id': None}), 'type': 'pipeline', 'status': 'Preparing', 'log_files': None, 'name': 'honest_guava_k31m6t94yl', 'description': None, 'tags': {}, 'properties': {'mlflow.source.git.repoURL': 'https://github.com/Azure/DesignerPrivatePreviewFeatures.git', 'mlflow.source.git.branch': 'migu/test-ml-table', 'mlflow.source.git.commit': '1a24fa59cd472a339f1d5a3b023871202301e49c', 'azureml.git.dirty': 'True', 'azureml.DevPlatv2': 'true', 'azureml.runsource': 'azureml.PipelineRun', 'runSource': 'MFE', 'runType': 'HTTP', 'azureml.parameters': '{}', 'azureml.continue_on_step_failure': 'False', 'azureml.continue_on_failed_optional_input': 'True', 'azureml.defaultComputeName': 'cpucluster', 'azureml.defaultDataStoreName': 'workspaceblobstore', 'azureml.pipelineComponent': 'pipelinerun'}, 'print_as_yaml': True, 'id': '/subscriptions/b8c23406-f9b5-4ccb-8a65-a8cb5dcd6a5a/resourceGroups/rge2etests/providers/Microsoft.MachineLearningServices/workspaces/wse2etests/jobs/honest_guava_k31m6t94yl', 'Resource__source_path': None, 'base_path': 'D:\\\\Projects\\\\DesignerPrivatePreviewFeatures\\\\azure-ai-ml\\\\samples\\\\basics\\\\get-started', 'creation_context': <azure.ai.ml.entities._system_data.SystemData object at 0x000002BF475235E0>, 'serialize': <msrest.serialization.Serializer object at 0x000002BF475235B0>, 'display_name': 'training_pipeline_mltable', 'experiment_name': 'migu_test_mltable', 'compute': None, 'services': {'Tracking': <azure.ai.ml.entities._job.job_service.JobService object at 0x000002BF47523A60>, 'Studio': <azure.ai.ml.entities._job.job_service.JobService object at 0x000002BF475236D0>}, 'settings': {}, 'identity': None, 'default_code': None, 'default_environment': None})"
      ]
     },
     "execution_count": 11,
     "metadata": {},
     "output_type": "execute_result"
    }
   ],
   "source": [
    "# Specify the workspace for workspace independent component when submitting the pipeline.\n",
    "created_pipeline_job = ml_client.jobs.create_or_update(\n",
    "    pipeline_job, experiment_name=\"migu_test_mltable\"\n",
    ")\n",
    "\n",
    "\n",
    "# show detail information of run\n",
    "created_pipeline_job"
   ]
  },
  {
   "cell_type": "code",
   "execution_count": null,
   "metadata": {
    "scrolled": false,
    "tags": []
   },
   "outputs": [
    {
     "name": "stdout",
     "output_type": "stream",
     "text": [
      "RunId: honest_guava_k31m6t94yl\n",
      "Web View: https://ml.azure.com/runs/honest_guava_k31m6t94yl?wsid=/subscriptions/b8c23406-f9b5-4ccb-8a65-a8cb5dcd6a5a/resourcegroups/rge2etests/workspaces/wse2etests\n",
      "\n",
      "Streaming logs/azureml/executionlogs.txt\n",
      "========================================\n",
      "\n",
      "[2023-02-22 02:50:34Z] Completing processing run id f2422fcb-d001-47e3-94ad-02fe9005fc1f.\n",
      "[2023-02-22 02:50:36Z] Submitting 1 runs, first five are: 82931b88:f6f0ff80-817b-4919-b572-49f84d749efa\n"
     ]
    }
   ],
   "source": [
    "# Wait until the job completes\n",
    "ml_client.jobs.stream(created_pipeline_job.name)"
   ]
  },
  {
   "cell_type": "markdown",
   "metadata": {},
   "source": [
    "## Next steps\n",
    "\n",
    "In this notebook, you built a basic simple pipeline using the AzureML component SDK. Check the following examples for more advanced topics:\n",
    "* [Create a pipeline with sub-pipeline](create-pipeline-with-subpipeline.ipynb)"
   ]
  },
  {
   "cell_type": "code",
   "execution_count": 5,
   "metadata": {},
   "outputs": [],
   "source": [
    "\n",
    "import mltable\n",
    "# help(mltable.load)\n",
    "\n",
    "files = {\"folder\": \"./asdfsrc\"}\n",
    "tbl = mltable.from_paths(paths=[files])\n",
    "mltable.from\n",
    "\n",
    "tbl.save(\"./hod\")"
   ]
  },
  {
   "cell_type": "code",
   "execution_count": 7,
   "metadata": {},
   "outputs": [],
   "source": [
    "from azure.ai.ml.entities import Data\n",
    "from azure.ai.ml.constants import AssetTypes\n",
    "\n",
    "my_path = \"./src\"\n",
    "\n",
    "my_data = Data(\n",
    "    path=my_path,\n",
    "    type=AssetTypes.URI_FOLDER,\n",
    "    name=\"mltable_test_files\",\n",
    "    # version=\"1\",\n",
    ")\n",
    "\n",
    "registered_data = ml_client.data.create_or_update(my_data)"
   ]
  },
  {
   "cell_type": "code",
   "execution_count": 13,
   "metadata": {},
   "outputs": [
    {
     "data": {
      "text/plain": [
       "'azureml://subscriptions/96aede12-2f73-41cb-b983-6d11a904839b/resourcegroups/hod-eastus2/workspaces/sdk_vnext_cli/datastores/workspaceblobstore/paths/LocalUpload/cc355250825d6284521e9ae14f3db123/src/'"
      ]
     },
     "execution_count": 13,
     "metadata": {},
     "output_type": "execute_result"
    }
   ],
   "source": [
    "registered_data.path"
   ]
  },
  {
   "cell_type": "code",
   "execution_count": 14,
   "metadata": {},
   "outputs": [
    {
     "data": {
      "text/plain": [
       "'/subscriptions/96aede12-2f73-41cb-b983-6d11a904839b/resourceGroups/hod-eastus2/providers/Microsoft.MachineLearningServices/workspaces/sdk_vnext_cli/data/mltable_test_files/versions/2'"
      ]
     },
     "execution_count": 14,
     "metadata": {},
     "output_type": "execute_result"
    }
   ],
   "source": [
    "registered_data.id"
   ]
  },
  {
   "cell_type": "code",
   "execution_count": 19,
   "metadata": {},
   "outputs": [],
   "source": [
    "got_data = ml_client.data.get(name=\"mltable_test_files\", version=\"2\")"
   ]
  },
  {
   "cell_type": "code",
   "execution_count": 23,
   "metadata": {},
   "outputs": [
    {
     "data": {
      "text/plain": [
       "'d:\\\\programs\\\\azureml-examples\\\\sdk\\\\python\\\\jobs\\\\pipelines\\\\hod_test_mltable\\\\test_create_and_link'"
      ]
     },
     "execution_count": 23,
     "metadata": {},
     "output_type": "execute_result"
    }
   ],
   "source": [
    "got_data.base_path"
   ]
  },
  {
   "cell_type": "code",
   "execution_count": null,
   "metadata": {},
   "outputs": [],
   "source": []
  }
 ],
 "metadata": {
  "kernelspec": {
   "display_name": "git_sdk",
   "language": "python",
   "name": "python3"
  },
  "language_info": {
   "codemirror_mode": {
    "name": "ipython",
    "version": 3
   },
   "file_extension": ".py",
   "mimetype": "text/x-python",
   "name": "python",
   "nbconvert_exporter": "python",
   "pygments_lexer": "ipython3",
   "version": "3.10.8"
  },
  "required_sdk_version": "0.9.1",
  "vscode": {
   "interpreter": {
    "hash": "901590fd2121b297931cb9e45033033448ad2d0581b02ead13ed661d40dac950"
   }
  }
 },
 "nbformat": 4,
 "nbformat_minor": 2
}
