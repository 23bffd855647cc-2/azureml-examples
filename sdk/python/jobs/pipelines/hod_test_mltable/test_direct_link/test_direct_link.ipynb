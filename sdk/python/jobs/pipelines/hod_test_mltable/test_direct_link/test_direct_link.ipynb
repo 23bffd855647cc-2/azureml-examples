{
 "cells": [
  {
   "cell_type": "markdown",
   "metadata": {},
   "source": [
    "Copyright (c) Microsoft Corporation. All rights reserved.\n",
    "\n",
    "Licensed under the MIT License."
   ]
  },
  {
   "cell_type": "markdown",
   "metadata": {},
   "source": [
    "# Build an ML Pipeline\n",
    "\n",
    "In this notebook, you learn how to create a machine learning training pipeline by using Azure Machine Learning components.\n",
    "\n",
    "1. Prepare and create components into the workspace.\n",
    "2. Use the component and pipeline SDK to create a pipeline the registered components."
   ]
  },
  {
   "cell_type": "markdown",
   "metadata": {},
   "source": [
    "## Prerequisites\n",
    "* Install azure-ai-ml sdk following the [instructions here](../../README.md).\n",
    "* Initialize credential & create compute clusters following [instructions here](../../configuration.ipynb);"
   ]
  },
  {
   "cell_type": "markdown",
   "metadata": {},
   "source": [
    "# 1. Connect to Azure Machine Learning Workspace\n",
    "\n",
    "The [workspace](https://docs.microsoft.com/en-us/azure/machine-learning/concept-workspace) is the top-level resource for Azure Machine Learning, providing a centralized place to work with all the artifacts you create when you use Azure Machine Learning. In this section we will connect to the workspace in which the job will be run.\n",
    "\n",
    "## 1.1 Import the required libraries"
   ]
  },
  {
   "cell_type": "code",
   "execution_count": 1,
   "metadata": {
    "tags": []
   },
   "outputs": [],
   "source": [
    "# Import required libraries\n",
    "from azure.identity import DefaultAzureCredential, InteractiveBrowserCredential\n",
    "from azure.ai.ml import load_component, Input, Output\n",
    "from azure.ai.ml.dsl import pipeline\n",
    "from azure.ai.ml import MLClient\n",
    "from azure.ai.ml.constants import AssetTypes, InputOutputModes, InputOutputModes\n",
    "\n",
    "import os\n",
    "\n",
    "# enable internal components in v2\n",
    "os.environ[\"AZURE_ML_INTERNAL_COMPONENTS_ENABLED\"] = \"True\""
   ]
  },
  {
   "cell_type": "markdown",
   "metadata": {},
   "source": [
    "## 1.2 Configure credential\n",
    "\n",
    "We are using `DefaultAzureCredential` to get access to workspace. \n",
    "`DefaultAzureCredential` should be capable of handling most Azure SDK authentication scenarios. \n",
    "\n",
    "Reference for more available credentials if it does not work for you: [configure credential example](../../configuration.ipynb), [azure-identity reference doc](https://docs.microsoft.com/en-us/python/api/azure-identity/azure.identity?view=azure-python)."
   ]
  },
  {
   "cell_type": "code",
   "execution_count": 2,
   "metadata": {},
   "outputs": [
    {
     "name": "stderr",
     "output_type": "stream",
     "text": [
      "DefaultAzureCredential failed to retrieve a token from the included credentials.\n",
      "Attempted credentials:\n",
      "\tEnvironmentCredential: EnvironmentCredential authentication unavailable. Environment variables are not fully configured.\n",
      "Visit https://aka.ms/azsdk/python/identity/environmentcredential/troubleshoot to troubleshoot.this issue.\n",
      "\tManagedIdentityCredential: ManagedIdentityCredential authentication unavailable, no response from the IMDS endpoint.\n",
      "\tAzureDeveloperCliCredential: Azure Developer CLI could not be found. Please visit https://aka.ms/azure-dev for installation instructions and then,once installed, authenticate to your Azure account using 'azd login'.\n",
      "\tSharedTokenCacheCredential: Azure Active Directory error '(invalid_grant) AADSTS700082: The refresh token has expired due to inactivity. The token was issued on 2022-11-21T03:07:07.6802296Z and was inactive for 90.00:00:00.\n",
      "Trace ID: e9e9ce0d-5227-439f-8382-bc2b582b1b00\n",
      "Correlation ID: 9d530314-c334-4d9c-9291-219145518030\n",
      "Timestamp: 2023-02-24 08:08:28Z'\n",
      "Content: {\"error\":\"invalid_grant\",\"error_description\":\"AADSTS700082: The refresh token has expired due to inactivity. The token was issued on 2022-11-21T03:07:07.6802296Z and was inactive for 90.00:00:00.\\r\\nTrace ID: e9e9ce0d-5227-439f-8382-bc2b582b1b00\\r\\nCorrelation ID: 9d530314-c334-4d9c-9291-219145518030\\r\\nTimestamp: 2023-02-24 08:08:28Z\",\"error_codes\":[700082],\"timestamp\":\"2023-02-24 08:08:28Z\",\"trace_id\":\"e9e9ce0d-5227-439f-8382-bc2b582b1b00\",\"correlation_id\":\"9d530314-c334-4d9c-9291-219145518030\",\"error_uri\":\"https://login.microsoftonline.com/error?code=700082\"}\n",
      "To mitigate this issue, please refer to the troubleshooting guidelines here at https://aka.ms/azsdk/python/identity/defaultazurecredential/troubleshoot.\n"
     ]
    }
   ],
   "source": [
    "try:\n",
    "    credential = DefaultAzureCredential()\n",
    "    # Check if given credential can get token successfully.\n",
    "    credential.get_token(\"https://management.azure.com/.default\")\n",
    "except Exception as ex:\n",
    "    # Fall back to InteractiveBrowserCredential in case DefaultAzureCredential not work\n",
    "    credential = InteractiveBrowserCredential()"
   ]
  },
  {
   "cell_type": "markdown",
   "metadata": {},
   "source": [
    "## 1.3 Get a handle to the workspace\n",
    "\n",
    "We use config file to connect to a workspace. The Azure ML workspace should be configured with computer cluster. [Check this notebook for configure a workspace](../../configuration.ipynb)"
   ]
  },
  {
   "cell_type": "code",
   "execution_count": 3,
   "metadata": {
    "tags": []
   },
   "outputs": [
    {
     "name": "stderr",
     "output_type": "stream",
     "text": [
      "Found the config file in: D:\\programs\\azureml-examples\\sdk\\.azureml\\config.json\n"
     ]
    },
    {
     "name": "stdout",
     "output_type": "stream",
     "text": [
      "enable_node_public_ip: true\n",
      "id: /subscriptions/96aede12-2f73-41cb-b983-6d11a904839b/resourceGroups/hod-eastus2/providers/Microsoft.MachineLearningServices/workspaces/sdk_vnext_cli/computes/cpu-cluster\n",
      "idle_time_before_scale_down: 120\n",
      "location: eastus2\n",
      "max_instances: 4\n",
      "min_instances: 0\n",
      "name: cpu-cluster\n",
      "provisioning_state: Succeeded\n",
      "size: STANDARD_DS2_V2\n",
      "ssh_public_access_enabled: true\n",
      "tier: dedicated\n",
      "type: amlcompute\n",
      "\n"
     ]
    }
   ],
   "source": [
    "# Get a handle to workspace\n",
    "ml_client = MLClient.from_config(credential=credential)\n",
    "\n",
    "# Retrieve an already attached Azure Machine Learning Compute.\n",
    "cluster_name = \"cpu-cluster\"\n",
    "print(ml_client.compute.get(cluster_name))"
   ]
  },
  {
   "cell_type": "code",
   "execution_count": 4,
   "metadata": {
    "tags": []
   },
   "outputs": [],
   "source": [
    "from azure.ai.ml import Input, load_component\n",
    "from azure.ai.ml.constants import AssetTypes, InputOutputModes\n",
    "from azure.ai.ml.dsl import pipeline\n",
    "from sdk.receive_and_link import gen_data_0, gen_data_1, select_data, consume_data\n",
    "\n",
    "# input_asset = Input(\n",
    "#     type=\"uri_file\",\n",
    "#     path=\"azureml://datastores/workspaceblobstore/paths/miguTestMLTable/relative_path_in_content.txt\",\n",
    "# )\n",
    "\n",
    "# ml_client.components.create_or_update(consume_data, version=\"2\")"
   ]
  },
  {
   "cell_type": "code",
   "execution_count": 5,
   "metadata": {},
   "outputs": [
    {
     "name": "stderr",
     "output_type": "stream",
     "text": [
      "Method validate: This is an experimental method, and may change at any time. Please see https://aka.ms/azuremlexperimental for more information.\n"
     ]
    },
    {
     "data": {
      "text/plain": [
       "{\n",
       "  \"result\": \"Succeeded\"\n",
       "}"
      ]
     },
     "execution_count": 5,
     "metadata": {},
     "output_type": "execute_result"
    }
   ],
   "source": [
    "@pipeline\n",
    "def my_pipeline():\n",
    "    node_0 = gen_data_0()\n",
    "    node_1 = gen_data_1()\n",
    "    node_2 = select_data(input_0=node_0.outputs.output, input_1=node_1.outputs.output)\n",
    "    node_3 = consume_data(data_path=node_2.outputs.output)\n",
    "    node_2.inputs.input_0.mode = \"direct\"\n",
    "    node_2.inputs.input_1.mode = \"direct\"\n",
    "    node_3.inputs.data_path.mode = \"eval_mount\"\n",
    "\n",
    "# create a pipeline\n",
    "pipeline_job = my_pipeline()\n",
    "pipeline_job.settings.default_compute = \"cpu-cluster\"\n",
    "pipeline_job.settings.force_rerun = True\n",
    "# pipeline_job.settings.default_datastore = \"workspaceblobstore\"\n",
    "# pipeline_job.settings._dataset_access_mode = \"DatasetInDpv2\"\n",
    "\n",
    "# Validating the pipeline\n",
    "ml_client.jobs.validate(pipeline_job)"
   ]
  },
  {
   "cell_type": "code",
   "execution_count": 6,
   "metadata": {},
   "outputs": [
    {
     "name": "stderr",
     "output_type": "stream",
     "text": [
      "\u001b[32mUploading sdk (0.0 MBs): 100%|##########| 2566/2566 [00:00<00:00, 15168.44it/s]\n",
      "\u001b[39m\n",
      "\n",
      "\u001b[32mUploading sdk (0.0 MBs): 100%|##########| 2566/2566 [00:00<00:00, 11133.04it/s]\n",
      "\u001b[39m\n",
      "\n",
      "\u001b[32mUploading sdk (0.0 MBs): 100%|##########| 2566/2566 [00:00<00:00, 11098.78it/s]\n",
      "\u001b[39m\n",
      "\n",
      "\u001b[32mUploading sdk (0.0 MBs): 100%|##########| 2566/2566 [00:00<00:00, 10525.11it/s]\n",
      "\u001b[39m\n",
      "\n"
     ]
    },
    {
     "data": {
      "text/html": [
       "<table style=\"width:100%\"><tr><th>Experiment</th><th>Name</th><th>Type</th><th>Status</th><th>Details Page</th></tr><tr><td>hod_test_mltable</td><td>helpful_tiger_qxjmxny3pm</td><td>pipeline</td><td>Preparing</td><td><a href=\"https://ml.azure.com/runs/helpful_tiger_qxjmxny3pm?wsid=/subscriptions/96aede12-2f73-41cb-b983-6d11a904839b/resourcegroups/hod-eastus2/workspaces/sdk_vnext_cli&amp;tid=72f988bf-86f1-41af-91ab-2d7cd011db47\" target=\"_blank\" rel=\"noopener\">Link to Azure Machine Learning studio</a></td></tr></table>"
      ],
      "text/plain": [
       "PipelineJob({'inputs': {}, 'outputs': {}, 'jobs': {}, 'component': PipelineComponent({'auto_increment_version': False, 'source': 'REMOTE.WORKSPACE.JOB', 'is_anonymous': True, 'name': 'azureml_anonymous', 'description': None, 'tags': {}, 'properties': {}, 'print_as_yaml': True, 'id': None, 'Resource__source_path': None, 'base_path': 'd:\\\\programs\\\\azureml-examples\\\\sdk\\\\python\\\\jobs\\\\pipelines\\\\hod_test_mltable\\\\test_direct_link', 'creation_context': None, 'serialize': <msrest.serialization.Serializer object at 0x0000026DC345DB70>, 'version': '1', 'latest_version': None, 'schema': None, 'type': 'pipeline', 'display_name': 'my_pipeline', 'is_deterministic': None, 'inputs': {}, 'outputs': {}, 'yaml_str': None, 'other_parameter': {}, 'jobs': {'node_0': Command({'parameters': {}, 'init': False, 'type': 'command', 'status': None, 'log_files': None, 'name': 'node_0', 'description': None, 'tags': {}, 'properties': {}, 'print_as_yaml': True, 'id': None, 'Resource__source_path': None, 'base_path': 'd:\\\\programs\\\\azureml-examples\\\\sdk\\\\python\\\\jobs\\\\pipelines\\\\hod_test_mltable\\\\test_direct_link', 'creation_context': None, 'serialize': <msrest.serialization.Serializer object at 0x0000026DC345DB10>, 'allowed_keys': {}, 'key_restriction': False, 'logger': <Logger attr_dict (WARNING)>, 'display_name': None, 'experiment_name': None, 'compute': None, 'services': None, 'comment': None, 'job_inputs': {}, 'job_outputs': {}, 'inputs': {}, 'outputs': {}, 'component': 'azureml_anonymous:4b36c0bc-f379-4d20-ac45-9ac12df21070', 'referenced_control_flow_node_instance_id': None, 'kwargs': {'services': None}, 'instance_id': 'ed1b45ed-5ef2-4f4a-9950-b20dc4fbe8c4', 'source': 'REMOTE.WORKSPACE.COMPONENT', 'validate_required_input_not_provided': True, 'limits': None, 'identity': None, 'distribution': None, 'environment_variables': {}, 'environment': None, 'resources': None, 'swept': False}), 'node_1': Command({'parameters': {}, 'init': False, 'type': 'command', 'status': None, 'log_files': None, 'name': 'node_1', 'description': None, 'tags': {}, 'properties': {}, 'print_as_yaml': True, 'id': None, 'Resource__source_path': None, 'base_path': 'd:\\\\programs\\\\azureml-examples\\\\sdk\\\\python\\\\jobs\\\\pipelines\\\\hod_test_mltable\\\\test_direct_link', 'creation_context': None, 'serialize': <msrest.serialization.Serializer object at 0x0000026DC345D7B0>, 'allowed_keys': {}, 'key_restriction': False, 'logger': <Logger attr_dict (WARNING)>, 'display_name': None, 'experiment_name': None, 'compute': None, 'services': None, 'comment': None, 'job_inputs': {}, 'job_outputs': {}, 'inputs': {}, 'outputs': {}, 'component': 'azureml_anonymous:3fbb4c7c-5d66-4f40-a5bd-63d8b1c38b2f', 'referenced_control_flow_node_instance_id': None, 'kwargs': {'services': None}, 'instance_id': 'c54ec72a-9e51-44cb-bee7-6d1fcf360841', 'source': 'REMOTE.WORKSPACE.COMPONENT', 'validate_required_input_not_provided': True, 'limits': None, 'identity': None, 'distribution': None, 'environment_variables': {}, 'environment': None, 'resources': None, 'swept': False}), 'node_2': Command({'parameters': {}, 'init': False, 'type': 'command', 'status': None, 'log_files': None, 'name': 'node_2', 'description': None, 'tags': {}, 'properties': {}, 'print_as_yaml': True, 'id': None, 'Resource__source_path': None, 'base_path': 'd:\\\\programs\\\\azureml-examples\\\\sdk\\\\python\\\\jobs\\\\pipelines\\\\hod_test_mltable\\\\test_direct_link', 'creation_context': None, 'serialize': <msrest.serialization.Serializer object at 0x0000026DC345D7E0>, 'allowed_keys': {}, 'key_restriction': False, 'logger': <Logger attr_dict (WARNING)>, 'display_name': None, 'experiment_name': None, 'compute': None, 'services': None, 'comment': None, 'job_inputs': {'input_0': {'type': 'uri_folder', 'path': '${{parent.jobs.node_0.outputs.output}}', 'mode': 'direct'}, 'input_1': {'type': 'uri_folder', 'path': '${{parent.jobs.node_1.outputs.output}}', 'mode': 'direct'}}, 'job_outputs': {}, 'inputs': {'input_0': <azure.ai.ml.entities._job.pipeline._io.base.NodeInput object at 0x0000026DC345DE10>, 'input_1': <azure.ai.ml.entities._job.pipeline._io.base.NodeInput object at 0x0000026DC345D4E0>}, 'outputs': {}, 'component': 'azureml_anonymous:f05943cb-78cc-4d51-8a6f-8cf03fe2d152', 'referenced_control_flow_node_instance_id': None, 'kwargs': {'services': None}, 'instance_id': 'c89784fe-a9cd-4a99-9808-a39b1841fa89', 'source': 'REMOTE.WORKSPACE.COMPONENT', 'validate_required_input_not_provided': True, 'limits': None, 'identity': None, 'distribution': None, 'environment_variables': {}, 'environment': None, 'resources': None, 'swept': False}), 'node_3': Command({'parameters': {}, 'init': False, 'type': 'command', 'status': None, 'log_files': None, 'name': 'node_3', 'description': None, 'tags': {}, 'properties': {}, 'print_as_yaml': True, 'id': None, 'Resource__source_path': None, 'base_path': 'd:\\\\programs\\\\azureml-examples\\\\sdk\\\\python\\\\jobs\\\\pipelines\\\\hod_test_mltable\\\\test_direct_link', 'creation_context': None, 'serialize': <msrest.serialization.Serializer object at 0x0000026DC345DEA0>, 'allowed_keys': {}, 'key_restriction': False, 'logger': <Logger attr_dict (WARNING)>, 'display_name': None, 'experiment_name': None, 'compute': None, 'services': None, 'comment': None, 'job_inputs': {'data_path': {'type': 'uri_folder', 'path': '${{parent.jobs.node_2.outputs.output}}', 'mode': 'eval_mount'}}, 'job_outputs': {}, 'inputs': {'data_path': <azure.ai.ml.entities._job.pipeline._io.base.NodeInput object at 0x0000026DC345D8D0>}, 'outputs': {}, 'component': 'azureml_anonymous:8a0a7336-d0bd-4ada-9a5a-729989314a94', 'referenced_control_flow_node_instance_id': None, 'kwargs': {'services': None}, 'instance_id': '1316d065-0e2c-4ab3-9cdc-43d8e632e621', 'source': 'REMOTE.WORKSPACE.COMPONENT', 'validate_required_input_not_provided': True, 'limits': None, 'identity': None, 'distribution': None, 'environment_variables': {}, 'environment': None, 'resources': None, 'swept': False})}, 'job_types': {'command': 4}, 'job_sources': {'REMOTE.WORKSPACE.COMPONENT': 4}, 'source_job_id': None}), 'type': 'pipeline', 'status': 'Preparing', 'log_files': None, 'name': 'helpful_tiger_qxjmxny3pm', 'description': None, 'tags': {}, 'properties': {'mlflow.source.git.repoURL': 'https://github.com/Azure/azureml-examples.git', 'mlflow.source.git.branch': 'hod/mltable', 'mlflow.source.git.commit': '306fca525c301484fce341cc1eb51bbc6c9bcd6c', 'azureml.git.dirty': 'True', 'azureml.DevPlatv2': 'true', 'azureml.runsource': 'azureml.PipelineRun', 'runSource': 'MFE', 'runType': 'HTTP', 'azureml.parameters': '{}', 'azureml.continue_on_step_failure': 'False', 'azureml.continue_on_failed_optional_input': 'True', 'azureml.enforceRerun': 'True', 'azureml.defaultComputeName': 'cpu-cluster', 'azureml.defaultDataStoreName': 'workspaceblobstore', 'azureml.pipelineComponent': 'pipelinerun'}, 'print_as_yaml': True, 'id': '/subscriptions/96aede12-2f73-41cb-b983-6d11a904839b/resourceGroups/hod-eastus2/providers/Microsoft.MachineLearningServices/workspaces/sdk_vnext_cli/jobs/helpful_tiger_qxjmxny3pm', 'Resource__source_path': None, 'base_path': 'd:\\\\programs\\\\azureml-examples\\\\sdk\\\\python\\\\jobs\\\\pipelines\\\\hod_test_mltable\\\\test_direct_link', 'creation_context': <azure.ai.ml.entities._system_data.SystemData object at 0x0000026DC345DC90>, 'serialize': <msrest.serialization.Serializer object at 0x0000026DC345D3F0>, 'display_name': 'my_pipeline', 'experiment_name': 'hod_test_mltable', 'compute': None, 'services': {'Tracking': <azure.ai.ml.entities._job.job_service.JobService object at 0x0000026DC345DC60>, 'Studio': <azure.ai.ml.entities._job.job_service.JobService object at 0x0000026DC345DD80>}, 'settings': {}, 'identity': None, 'default_code': None, 'default_environment': None})"
      ]
     },
     "execution_count": 6,
     "metadata": {},
     "output_type": "execute_result"
    }
   ],
   "source": [
    "# Specify the workspace for workspace independent component when submitting the pipeline.\n",
    "created_pipeline_job = ml_client.jobs.create_or_update(pipeline_job, experiment_name=\"hod_test_mltable\")\n",
    "\n",
    "# show detail information of run\n",
    "created_pipeline_job"
   ]
  },
  {
   "cell_type": "code",
   "execution_count": null,
   "metadata": {},
   "outputs": [],
   "source": []
  }
 ],
 "metadata": {
  "kernelspec": {
   "display_name": "git_sdk",
   "language": "python",
   "name": "python3"
  },
  "language_info": {
   "codemirror_mode": {
    "name": "ipython",
    "version": 3
   },
   "file_extension": ".py",
   "mimetype": "text/x-python",
   "name": "python",
   "nbconvert_exporter": "python",
   "pygments_lexer": "ipython3",
   "version": "3.10.8"
  },
  "required_sdk_version": "0.9.1",
  "vscode": {
   "interpreter": {
    "hash": "901590fd2121b297931cb9e45033033448ad2d0581b02ead13ed661d40dac950"
   }
  }
 },
 "nbformat": 4,
 "nbformat_minor": 2
}
