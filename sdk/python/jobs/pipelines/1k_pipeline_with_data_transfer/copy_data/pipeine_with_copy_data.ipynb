{
 "cells": [
  {
   "attachments": {},
   "cell_type": "markdown",
   "metadata": {},
   "source": [
    "# Pipeline job using data transfer to copy data\n",
    "\n",
    "**Requirements** - In order to benefit from this tutorial, you will need:\n",
    "- A basic understanding of Machine Learning\n",
    "- An Azure account with an active subscription - [Create an account for free](https://azure.microsoft.com/free/?WT.mc_id=A261C142F)\n",
    "- An Azure ML workspace with computer cluster - [Configure workspace](../../configuration.ipynb)\n",
    "- A python environment\n",
    "- Installed Azure Machine Learning Python SDK v2 - [install instructions](../../../README.md) - check the getting started section\n",
    "\n",
    "**Learning Objectives** - By the end of this tutorial, you should be able to:\n",
    "- Connect to your AML workspace from the Python SDK\n",
    "- Create `datatranster` component using load component function.\n",
    "- Create `PipelineJob` with `datatranster` component.\n",
    "\n",
    "**Motivations** - This notebook covers the scenario that user define pipeline component using dsl decorator."
   ]
  },
  {
   "attachments": {},
   "cell_type": "markdown",
   "metadata": {},
   "source": [
    "# 1. Connect to Azure Machine Learning Workspace\n",
    "\n",
    "The [workspace](https://docs.microsoft.com/en-us/azure/machine-learning/concept-workspace) is the top-level resource for Azure Machine Learning, providing a centralized place to work with all the artifacts you create when you use Azure Machine Learning. In this section we will connect to the workspace in which the job will be run.\n",
    "\n",
    "## 1.1 Import the required libraries"
   ]
  },
  {
   "cell_type": "code",
   "execution_count": 1,
   "metadata": {},
   "outputs": [],
   "source": [
    "# Import required libraries\n",
    "from azure.identity import DefaultAzureCredential, InteractiveBrowserCredential\n",
    "\n",
    "from azure.ai.ml import MLClient, command, Input, Output\n",
    "from azure.ai.ml.dsl import pipeline\n",
    "from azure.ai.ml import load_component"
   ]
  },
  {
   "cell_type": "code",
   "execution_count": 2,
   "metadata": {},
   "outputs": [
    {
     "name": "stdout",
     "output_type": "stream",
     "text": [
      "1.7.2\n"
     ]
    }
   ],
   "source": [
    "from azure.ai.ml._version import VERSION\n",
    "\n",
    "print(VERSION)"
   ]
  },
  {
   "attachments": {},
   "cell_type": "markdown",
   "metadata": {},
   "source": [
    "## 1.2 Configure credential\n",
    "\n",
    "We are using `DefaultAzureCredential` to get access to workspace. \n",
    "`DefaultAzureCredential` should be capable of handling most Azure SDK authentication scenarios. \n",
    "\n",
    "Reference for more available credentials if it does not work for you: [configure credential example](../../configuration.ipynb), [azure-identity reference doc](https://docs.microsoft.com/en-us/python/api/azure-identity/azure.identity?view=azure-python)."
   ]
  },
  {
   "cell_type": "code",
   "execution_count": 3,
   "metadata": {},
   "outputs": [
    {
     "name": "stderr",
     "output_type": "stream",
     "text": [
      "DefaultAzureCredential failed to retrieve a token from the included credentials.\n",
      "Attempted credentials:\n",
      "\tEnvironmentCredential: EnvironmentCredential authentication unavailable. Environment variables are not fully configured.\n",
      "Visit https://aka.ms/azsdk/python/identity/environmentcredential/troubleshoot to troubleshoot.this issue.\n",
      "\tManagedIdentityCredential: ManagedIdentityCredential authentication unavailable, no response from the IMDS endpoint.\n",
      "\tSharedTokenCacheCredential: Shared token cache unavailable\n",
      "\tVisualStudioCodeCredential: Azure Active Directory error '(invalid_grant) AADSTS700082: The refresh token has expired due to inactivity. The token was issued on 2022-01-12T00:05:41.8429245Z and was inactive for 90.00:00:00.\n",
      "Trace ID: f5a721ce-874a-4bcc-b035-842ca5ff0800\n",
      "Correlation ID: 9d8a09fe-44d9-4fe5-8847-657016773a65\n",
      "Timestamp: 2023-05-31 09:26:45Z'\n",
      "Content: {\"error\":\"invalid_grant\",\"error_description\":\"AADSTS700082: The refresh token has expired due to inactivity. The token was issued on 2022-01-12T00:05:41.8429245Z and was inactive for 90.00:00:00.\\r\\nTrace ID: f5a721ce-874a-4bcc-b035-842ca5ff0800\\r\\nCorrelation ID: 9d8a09fe-44d9-4fe5-8847-657016773a65\\r\\nTimestamp: 2023-05-31 09:26:45Z\",\"error_codes\":[700082],\"timestamp\":\"2023-05-31 09:26:45Z\",\"trace_id\":\"f5a721ce-874a-4bcc-b035-842ca5ff0800\",\"correlation_id\":\"9d8a09fe-44d9-4fe5-8847-657016773a65\",\"error_uri\":\"https://login.microsoftonline.com/error?code=700082\"}\n",
      "To mitigate this issue, please refer to the troubleshooting guidelines here at https://aka.ms/azsdk/python/identity/defaultazurecredential/troubleshoot.\n"
     ]
    }
   ],
   "source": [
    "try:\n",
    "    credential = DefaultAzureCredential()\n",
    "    # Check if given credential can get token successfully.\n",
    "    credential.get_token(\"https://management.azure.com/.default\")\n",
    "except Exception as ex:\n",
    "    # Fall back to InteractiveBrowserCredential in case DefaultAzureCredential not work\n",
    "    credential = InteractiveBrowserCredential()"
   ]
  },
  {
   "attachments": {},
   "cell_type": "markdown",
   "metadata": {},
   "source": [
    "## 1.3 Get a handle to the workspace\n",
    "\n",
    "We use config file to connect to a workspace. The Azure ML workspace should be configured with computer cluster. [Check this notebook for configure a workspace](../../configuration.ipynb)"
   ]
  },
  {
   "cell_type": "code",
   "execution_count": 4,
   "metadata": {},
   "outputs": [
    {
     "name": "stderr",
     "output_type": "stream",
     "text": [
      "Found the config file in: D:\\azureml-examples\\config.json\n"
     ]
    },
    {
     "name": "stdout",
     "output_type": "stream",
     "text": [
      "enable_node_public_ip: true\n",
      "id: /subscriptions/d128f140-94e6-4175-87a7-954b9d27db16/resourceGroups/lochen/providers/Microsoft.MachineLearningServices/workspaces/lochen-eastus/computes/cpu-cluster\n",
      "idle_time_before_scale_down: 120\n",
      "location: eastus\n",
      "max_instances: 1\n",
      "min_instances: 0\n",
      "name: cpu-cluster\n",
      "provisioning_state: Succeeded\n",
      "size: STANDARD_DS3_V2\n",
      "ssh_public_access_enabled: false\n",
      "tier: dedicated\n",
      "type: amlcompute\n",
      "\n"
     ]
    }
   ],
   "source": [
    "# Get a handle to workspace\n",
    "ml_client = MLClient.from_config(credential=credential)\n",
    "\n",
    "# Retrieve an already attached Azure Machine Learning Compute.\n",
    "cluster_name = \"cpu-cluster\"\n",
    "print(ml_client.compute.get(cluster_name))"
   ]
  },
  {
   "attachments": {},
   "cell_type": "markdown",
   "metadata": {},
   "source": [
    "# 2. Define and create components into workspace\n",
    "## 2.1 Load data transfer components from YAML"
   ]
  },
  {
   "cell_type": "code",
   "execution_count": 5,
   "metadata": {},
   "outputs": [
    {
     "name": "stderr",
     "output_type": "stream",
     "text": [
      "Class DataTransferCopyComponent: This is an experimental class, and may change at any time. Please see https://aka.ms/azuremlexperimental for more information.\n"
     ]
    }
   ],
   "source": [
    "components_dir = \".\"\n",
    "data_merge = load_component(source=f\"{components_dir}/data_merge.yml\")"
   ]
  },
  {
   "attachments": {},
   "cell_type": "markdown",
   "metadata": {},
   "source": [
    "## 2.2 (Optional) Create data transfer component to workspace"
   ]
  },
  {
   "cell_type": "code",
   "execution_count": 6,
   "metadata": {},
   "outputs": [],
   "source": [
    "registered_data_pipeline_component = ml_client.components.create_or_update(\n",
    "    data_merge\n",
    ")"
   ]
  },
  {
   "attachments": {},
   "cell_type": "markdown",
   "metadata": {},
   "source": [
    "## 2.3 Define command component via command function\n",
    "Use `command` function to create a `Command` object which can be used in `@pipeline` function."
   ]
  },
  {
   "cell_type": "code",
   "execution_count": 13,
   "metadata": {},
   "outputs": [],
   "source": [
    "environment = \"AzureML-sklearn-1.0-ubuntu20.04-py38-cpu:1\"\n",
    "# Create a dummy command component to generate output\n",
    "hello_component = command(\n",
    "    name=\"hello_component\",\n",
    "    display_name=\"hello component\",\n",
    "    description=\"generate dummy folder as output\",\n",
    "    tags=dict(),\n",
    "    command=\"echo 'hello' > ${{outputs.hello_output}}/hello.txt\",\n",
    "    environment=environment,\n",
    "    outputs=dict(\n",
    "        hello_output=Output(type=\"uri_folder\")\n",
    "    ),\n",
    ")\n",
    "\n",
    "world_component = command(\n",
    "    name=\"world_component\",\n",
    "    display_name=\"world component\",\n",
    "    description=\"generate dummy folder as output\",\n",
    "    tags=dict(),\n",
    "    command=\"echo 'world' > ${{outputs.world_output}}/world.txt\",\n",
    "    environment=environment,\n",
    "    outputs=dict(\n",
    "        world_output=Output(type=\"uri_folder\")\n",
    "    ),\n",
    ")"
   ]
  },
  {
   "attachments": {},
   "cell_type": "markdown",
   "metadata": {},
   "source": [
    "# 3. Build pipeline job to merge data\n",
    "## 3.1 Build pipeline"
   ]
  },
  {
   "cell_type": "code",
   "execution_count": 25,
   "metadata": {},
   "outputs": [],
   "source": [
    "# Construct pipeline\n",
    "@pipeline\n",
    "def pipeline_copy_data():\n",
    "    # define steps in pipeline job\n",
    "    hello_step=hello_component()\n",
    "    world_step=world_component()\n",
    "    data_merge_step = data_merge(folder1=hello_step.outputs.hello_output, folder2=world_step.outputs.world_output)\n",
    "    data_merge_step.outputs.output_folder.type = \"uri_folder\"\n",
    "    # Return: pipeline outputs\n",
    "    data_merge_step.compute = \"serverless\"\n",
    "    return {\n",
    "        \"output_folder\": data_merge_step.outputs.output_folder,\n",
    "    }\n",
    "\n",
    "\n",
    "pipeline_job = pipeline_copy_data()\n",
    "# set pipeline level compute\n",
    "pipeline_job.settings.default_compute = \"cpu-cluster\"\n",
    "pipeline_job.outputs.output_folder.type = \"uri_folder\""
   ]
  },
  {
   "cell_type": "code",
   "execution_count": 26,
   "metadata": {},
   "outputs": [
    {
     "name": "stdout",
     "output_type": "stream",
     "text": [
      "display_name: pipeline_copy_data\n",
      "type: pipeline\n",
      "outputs:\n",
      "  output_folder:\n",
      "    type: uri_folder\n",
      "jobs:\n",
      "  hello_step:\n",
      "    type: command\n",
      "    outputs:\n",
      "      hello_output:\n",
      "        type: uri_folder\n",
      "    environment: azureml:AzureML-sklearn-1.0-ubuntu20.04-py38-cpu:1\n",
      "    component:\n",
      "      name: hello_component\n",
      "      display_name: hello component\n",
      "      description: generate dummy folder as output\n",
      "      type: command\n",
      "      outputs:\n",
      "        hello_output:\n",
      "          type: uri_folder\n",
      "      command: echo 'hello' > ${{outputs.hello_output}}/hello.txt\n",
      "      environment: azureml:AzureML-sklearn-1.0-ubuntu20.04-py38-cpu:1\n",
      "      is_deterministic: true\n",
      "      id: /subscriptions/d128f140-94e6-4175-87a7-954b9d27db16/resourceGroups/lochen/providers/Microsoft.MachineLearningServices/workspaces/lochen-eastus/components/azureml_anonymous/versions/d3fdc987-f543-4223-96ad-96253a6e8074\n",
      "  world_step:\n",
      "    type: command\n",
      "    outputs:\n",
      "      world_output:\n",
      "        type: uri_folder\n",
      "    environment: azureml:AzureML-sklearn-1.0-ubuntu20.04-py38-cpu:1\n",
      "    component:\n",
      "      name: world_component\n",
      "      display_name: world component\n",
      "      description: generate dummy folder as output\n",
      "      type: command\n",
      "      outputs:\n",
      "        world_output:\n",
      "          type: uri_folder\n",
      "      command: echo 'world' > ${{outputs.world_output}}/world.txt\n",
      "      environment: azureml:AzureML-sklearn-1.0-ubuntu20.04-py38-cpu:1\n",
      "      is_deterministic: true\n",
      "      id: /subscriptions/d128f140-94e6-4175-87a7-954b9d27db16/resourceGroups/lochen/providers/Microsoft.MachineLearningServices/workspaces/lochen-eastus/components/azureml_anonymous/versions/209c34ea-d895-458a-82e1-ba06a1204b73\n",
      "  data_merge_step:\n",
      "    type: data_transfer\n",
      "    inputs:\n",
      "      folder1:\n",
      "        path: ${{parent.jobs.hello_step.outputs.hello_output}}\n",
      "      folder2:\n",
      "        path: ${{parent.jobs.world_step.outputs.world_output}}\n",
      "    outputs:\n",
      "      output_folder: ${{parent.outputs.output_folder}}\n",
      "    component:\n",
      "      $schema: https://azuremlschemas.azureedge.net/latest/datatransferComponent.schema.json\n",
      "      name: data_merge_component_cli\n",
      "      display_name: data_merge\n",
      "      description: A example data transfer component\n",
      "      type: data_transfer\n",
      "      inputs:\n",
      "        folder1:\n",
      "          type: uri_folder\n",
      "        folder2:\n",
      "          type: uri_folder\n",
      "      outputs:\n",
      "        output_folder:\n",
      "          type: uri_folder\n",
      "      is_deterministic: true\n",
      "      id: /subscriptions/d128f140-94e6-4175-87a7-954b9d27db16/resourceGroups/lochen/providers/Microsoft.MachineLearningServices/workspaces/lochen-eastus/components/azureml_anonymous/versions/d9afa3a3-4bf6-47a1-8807-703a6566e5d5\n",
      "      data_copy_mode: fail_if_conflict\n",
      "      tags:\n",
      "        author: azureml-sdk-team\n",
      "      task: copy_data\n",
      "    task: copy_data\n",
      "    compute: azureml:serverless\n",
      "settings:\n",
      "  default_compute: azureml:cpu-cluster\n",
      "\n"
     ]
    }
   ],
   "source": [
    "# Inspect built pipeline\n",
    "print(pipeline_job)"
   ]
  },
  {
   "attachments": {},
   "cell_type": "markdown",
   "metadata": {},
   "source": [
    "## 3.2 Submit pipeline job"
   ]
  },
  {
   "cell_type": "code",
   "execution_count": 24,
   "metadata": {},
   "outputs": [
    {
     "data": {
      "text/html": [
       "<table style=\"width:100%\"><tr><th>Experiment</th><th>Name</th><th>Type</th><th>Status</th><th>Details Page</th></tr><tr><td>data_transfer_in_pipeline</td><td>sad_pocket_1ykf265tbx</td><td>pipeline</td><td>Preparing</td><td><a href=\"https://ml.azure.com/runs/sad_pocket_1ykf265tbx?wsid=/subscriptions/d128f140-94e6-4175-87a7-954b9d27db16/resourcegroups/lochen/workspaces/lochen-eastus&amp;tid=72f988bf-86f1-41af-91ab-2d7cd011db47\" target=\"_blank\" rel=\"noopener\">Link to Azure Machine Learning studio</a></td></tr></table>"
      ],
      "text/plain": [
       "PipelineJob({'inputs': {}, 'outputs': {'output_folder': <azure.ai.ml.entities._job.pipeline._io.base.PipelineOutput object at 0x000002EBCF019340>}, 'jobs': {}, 'component': PipelineComponent({'intellectual_property': None, 'auto_increment_version': False, 'source': 'REMOTE.WORKSPACE.JOB', 'is_anonymous': True, 'auto_delete_setting': None, 'name': 'azureml_anonymous', 'description': None, 'tags': {}, 'properties': {}, 'print_as_yaml': True, 'id': None, 'Resource__source_path': None, 'base_path': 'd:\\\\azureml-examples\\\\sdk\\\\python\\\\jobs\\\\pipelines\\\\1k_pipeline_with_data_transfer\\\\copy_data', 'creation_context': None, 'serialize': <msrest.serialization.Serializer object at 0x000002EBCF019130>, 'version': '1', 'latest_version': None, 'schema': None, 'type': 'pipeline', 'display_name': 'pipeline_copy_data', 'is_deterministic': None, 'inputs': {}, 'outputs': {'output_folder': {}}, 'yaml_str': None, 'other_parameter': {}, 'jobs': {'hello_step': Command({'parameters': {}, 'init': False, 'name': 'hello_step', 'type': 'command', 'status': None, 'log_files': None, 'description': None, 'tags': {}, 'properties': {}, 'print_as_yaml': True, 'id': None, 'Resource__source_path': None, 'base_path': 'd:\\\\azureml-examples\\\\sdk\\\\python\\\\jobs\\\\pipelines\\\\1k_pipeline_with_data_transfer\\\\copy_data', 'creation_context': None, 'serialize': <msrest.serialization.Serializer object at 0x000002EBCF00BC70>, 'allowed_keys': {}, 'key_restriction': False, 'logger': <Logger attr_dict (WARNING)>, 'display_name': 'hello component', 'experiment_name': None, 'compute': None, 'services': None, 'comment': None, 'job_inputs': {}, 'job_outputs': {'hello_output': {'type': 'uri_folder'}}, 'inputs': {}, 'outputs': {'hello_output': <azure.ai.ml.entities._job.pipeline._io.base.NodeOutput object at 0x000002EBCF00BFD0>}, 'component': 'azureml_anonymous:d3fdc987-f543-4223-96ad-96253a6e8074', 'referenced_control_flow_node_instance_id': None, 'kwargs': {'services': None}, 'instance_id': 'b4f1718c-0c71-4a04-85a6-e583d15abb9c', 'source': 'REMOTE.WORKSPACE.COMPONENT', 'validate_required_input_not_provided': True, 'limits': None, 'identity': None, 'distribution': None, 'environment_variables': {}, 'environment': None, 'resources': None, 'queue_settings': None, 'swept': False}), 'world_step': Command({'parameters': {}, 'init': False, 'name': 'world_step', 'type': 'command', 'status': None, 'log_files': None, 'description': None, 'tags': {}, 'properties': {}, 'print_as_yaml': True, 'id': None, 'Resource__source_path': None, 'base_path': 'd:\\\\azureml-examples\\\\sdk\\\\python\\\\jobs\\\\pipelines\\\\1k_pipeline_with_data_transfer\\\\copy_data', 'creation_context': None, 'serialize': <msrest.serialization.Serializer object at 0x000002EBCF00BE80>, 'allowed_keys': {}, 'key_restriction': False, 'logger': <Logger attr_dict (WARNING)>, 'display_name': 'world component', 'experiment_name': None, 'compute': None, 'services': None, 'comment': None, 'job_inputs': {}, 'job_outputs': {'world_output': {'type': 'uri_folder'}}, 'inputs': {}, 'outputs': {'world_output': <azure.ai.ml.entities._job.pipeline._io.base.NodeOutput object at 0x000002EBCF00BEE0>}, 'component': 'azureml_anonymous:209c34ea-d895-458a-82e1-ba06a1204b73', 'referenced_control_flow_node_instance_id': None, 'kwargs': {'services': None}, 'instance_id': 'a9ce181c-88df-4b3e-997a-567bfca7799b', 'source': 'REMOTE.WORKSPACE.COMPONENT', 'validate_required_input_not_provided': True, 'limits': None, 'identity': None, 'distribution': None, 'environment_variables': {}, 'environment': None, 'resources': None, 'queue_settings': None, 'swept': False}), 'data_merge_step': DataTransferCopy({'init': False, 'name': 'data_merge_step', 'type': 'data_transfer', 'status': None, 'log_files': None, 'description': None, 'tags': {}, 'properties': {}, 'print_as_yaml': True, 'id': None, 'Resource__source_path': None, 'base_path': 'd:\\\\azureml-examples\\\\sdk\\\\python\\\\jobs\\\\pipelines\\\\1k_pipeline_with_data_transfer\\\\copy_data', 'creation_context': None, 'serialize': <msrest.serialization.Serializer object at 0x000002EBCF0190A0>, 'allowed_keys': {}, 'key_restriction': False, 'logger': <Logger attr_dict (WARNING)>, 'display_name': None, 'experiment_name': None, 'compute': 'serverless', 'services': None, 'comment': None, 'job_inputs': {'folder1': '${{parent.jobs.hello_step.outputs.hello_output}}', 'folder2': '${{parent.jobs.world_step.outputs.world_output}}'}, 'job_outputs': {'output_folder': '${{parent.outputs.output_folder}}'}, 'inputs': {'folder1': <azure.ai.ml.entities._job.pipeline._io.base.NodeInput object at 0x000002EBCF019040>, 'folder2': <azure.ai.ml.entities._job.pipeline._io.base.NodeInput object at 0x000002EBCF019310>}, 'outputs': {'output_folder': <azure.ai.ml.entities._job.pipeline._io.base.NodeOutput object at 0x000002EBCF00BEB0>}, 'component': 'azureml_anonymous:d9afa3a3-4bf6-47a1-8807-703a6566e5d5', 'referenced_control_flow_node_instance_id': None, 'kwargs': {'task': 'copy_data'}, 'instance_id': 'f736760b-3407-4c3e-9506-bcfebed104e2', 'source': 'REMOTE.WORKSPACE.COMPONENT', 'validate_required_input_not_provided': True, 'task': 'copy_data', 'data_copy_mode': 'fail_if_conflict'})}, 'job_types': {'command': 2, 'data_transfer': 1}, 'job_sources': {'REMOTE.WORKSPACE.COMPONENT': 3}, 'source_job_id': None}), 'type': 'pipeline', 'status': 'Preparing', 'log_files': None, 'name': 'sad_pocket_1ykf265tbx', 'description': None, 'tags': {}, 'properties': {'mlflow.source.git.repoURL': 'https://github.com/Azure/azureml-examples.git', 'mlflow.source.git.branch': 'lochen/data_transfer_may', 'mlflow.source.git.commit': '8255958edb474b47e14be7e590c1e6e40b730fad', 'azureml.git.dirty': 'True', 'azureml.DevPlatv2': 'true', 'azureml.DatasetAccessMode': 'Dataset', 'azureml.runsource': 'azureml.PipelineRun', 'runSource': 'MFE', 'runType': 'HTTP', 'azureml.parameters': '{}', 'azureml.continue_on_step_failure': 'True', 'azureml.continue_on_failed_optional_input': 'True', 'azureml.enforceRerun': 'False', 'azureml.defaultComputeName': 'cpu-cluster', 'azureml.defaultDataStoreName': 'workspaceblobstore', 'azureml.pipelineComponent': 'pipelinerun'}, 'print_as_yaml': True, 'id': '/subscriptions/d128f140-94e6-4175-87a7-954b9d27db16/resourceGroups/lochen/providers/Microsoft.MachineLearningServices/workspaces/lochen-eastus/jobs/sad_pocket_1ykf265tbx', 'Resource__source_path': None, 'base_path': 'd:\\\\azureml-examples\\\\sdk\\\\python\\\\jobs\\\\pipelines\\\\1k_pipeline_with_data_transfer\\\\copy_data', 'creation_context': <azure.ai.ml.entities._system_data.SystemData object at 0x000002EBCF0192B0>, 'serialize': <msrest.serialization.Serializer object at 0x000002EBCF019520>, 'display_name': 'pipeline_copy_data', 'experiment_name': 'data_transfer_in_pipeline', 'compute': None, 'services': {'Tracking': {'endpoint': 'azureml://eastus.api.azureml.ms/mlflow/v1.0/subscriptions/d128f140-94e6-4175-87a7-954b9d27db16/resourceGroups/lochen/providers/Microsoft.MachineLearningServices/workspaces/lochen-eastus?', 'type': 'Tracking'}, 'Studio': {'endpoint': 'https://ml.azure.com/runs/sad_pocket_1ykf265tbx?wsid=/subscriptions/d128f140-94e6-4175-87a7-954b9d27db16/resourcegroups/lochen/workspaces/lochen-eastus&tid=72f988bf-86f1-41af-91ab-2d7cd011db47', 'type': 'Studio'}}, 'settings': {}, 'identity': None, 'default_code': None, 'default_environment': None})"
      ]
     },
     "execution_count": 24,
     "metadata": {},
     "output_type": "execute_result"
    }
   ],
   "source": [
    "# Submit pipeline job to workspace\n",
    "pipeline_job = ml_client.jobs.create_or_update(\n",
    "    pipeline_job, experiment_name=\"data_transfer_in_pipeline\"\n",
    ")\n",
    "pipeline_job"
   ]
  },
  {
   "cell_type": "code",
   "execution_count": null,
   "metadata": {},
   "outputs": [],
   "source": [
    "# Wait until the job completes\n",
    "ml_client.jobs.stream(pipeline_job.name)"
   ]
  },
  {
   "attachments": {},
   "cell_type": "markdown",
   "metadata": {},
   "source": [
    "# Next Steps\n",
    "You can see further examples of running a pipeline job [here](../README.md)"
   ]
  }
 ],
 "metadata": {
  "description": {
   "description": "Create pipeline with CommandComponents from local YAML file"
  },
  "kernelspec": {
   "display_name": "sdk-preview",
   "language": "python",
   "name": "python3"
  },
  "language_info": {
   "codemirror_mode": {
    "name": "ipython",
    "version": 3
   },
   "file_extension": ".py",
   "mimetype": "text/x-python",
   "name": "python",
   "nbconvert_exporter": "python",
   "pygments_lexer": "ipython3",
   "version": "3.8.12"
  }
 },
 "nbformat": 4,
 "nbformat_minor": 2
}
