{
 "cells": [
  {
   "cell_type": "code",
   "execution_count": 31,
   "metadata": {},
   "outputs": [
    {
     "name": "stdout",
     "output_type": "stream",
     "text": [
      "azureml://eastus.api.azureml.ms/mlflow/v1.0/subscriptions/96aede12-2f73-41cb-b983-6d11a904839b/resourceGroups/hod-rg/providers/Microsoft.MachineLearningServices/workspaces/hod-pflow\n"
     ]
    }
   ],
   "source": [
    "import mlflow\n",
    "from azure.ai.ml import MLClient\n",
    "from azure.identity import DefaultAzureCredential\n",
    "\n",
    "from mlflow.tracking import MlflowClient\n",
    "from mlflow.utils.rest_utils import http_request\n",
    "import uuid\n",
    "\n",
    "# subscription_id = '96aede12-2f73-41cb-b983-6d11a904839b'\n",
    "# resource_group = 'promptflow'\n",
    "# workspace_name = 'promptflow-canary'\n",
    "\n",
    "subscription_id = '96aede12-2f73-41cb-b983-6d11a904839b'\n",
    "resource_group = 'hod-rg'\n",
    "workspace_name = 'hod-pflow'\n",
    "\n",
    "ml_client = MLClient(credential=DefaultAzureCredential(),\n",
    "                        subscription_id=subscription_id,\n",
    "                        resource_group_name=resource_group,\n",
    "                        workspace_name=workspace_name)\n",
    "\n",
    "mlflow_tracking_uri = ml_client.workspaces.get(ml_client.workspace_name).mlflow_tracking_uri\n",
    "print(mlflow_tracking_uri)\n",
    "mlflow.set_tracking_uri(mlflow_tracking_uri)"
   ]
  },
  {
   "cell_type": "code",
   "execution_count": 26,
   "metadata": {},
   "outputs": [
    {
     "name": "stdout",
     "output_type": "stream",
     "text": [
      "a9cc702b-fdb3-4f25-945c-c48a7800299f\n"
     ]
    }
   ],
   "source": [
    "run = mlflow.start_run(run_id=\"a9cc702b-fdb3-4f25-945c-c48a7800299f\")\n",
    "print(run.info.run_id)"
   ]
  },
  {
   "cell_type": "code",
   "execution_count": 25,
   "metadata": {},
   "outputs": [
    {
     "name": "stdout",
     "output_type": "stream",
     "text": [
      "None\n"
     ]
    }
   ],
   "source": [
    "print(mlflow.active_run())"
   ]
  },
  {
   "cell_type": "code",
   "execution_count": null,
   "metadata": {},
   "outputs": [],
   "source": [
    "mlflow.end_run()"
   ]
  },
  {
   "cell_type": "code",
   "execution_count": null,
   "metadata": {},
   "outputs": [],
   "source": [
    "run = mlflow.active_run()\n",
    "print(run.info.run_id)"
   ]
  },
  {
   "cell_type": "code",
   "execution_count": 34,
   "metadata": {},
   "outputs": [
    {
     "name": "stdout",
     "output_type": "stream",
     "text": [
      "True\n"
     ]
    }
   ],
   "source": [
    "\n",
    "from enum import Enum\n",
    "class Status(Enum):\n",
    "    Started = \"Started\"\n",
    "    Completed = \"Completed\"\n",
    "    Failed = \"Failed\"\n",
    "    Cancelled = \"Cancelled\"\n",
    "    NOTSTARTED = 'NotStarted'\n",
    "\n",
    "    @staticmethod\n",
    "    def is_terminated(status):\n",
    "        return status in {Status.Completed, Status.Failed, Status.Cancelled}\n",
    "    \n",
    "    \n",
    "print(Status.is_terminated(Status.Completed))"
   ]
  },
  {
   "cell_type": "code",
   "execution_count": 2,
   "metadata": {},
   "outputs": [
    {
     "name": "stdout",
     "output_type": "stream",
     "text": [
      "test\n"
     ]
    }
   ],
   "source": [
    "class AzureMLConfig:\n",
    "    SUBSCRIPTION_ID = \"SUBSCRIPTION_ID\"\n",
    "    RESOURCE_GROUP_NAME = \"RESOURCE_GROUP_NAME\"\n",
    "    WORKSPACE_NAME = \"WORKSPACE_NAME\"\n",
    "    WORKSPACE_REGION = \"WORKSPACE_REGION\"\n",
    "    \n",
    "    @staticmethod\n",
    "    def test():\n",
    "        print(\"test\")\n",
    "\n",
    "class hod(AzureMLConfig):\n",
    "    a = 1\n",
    "\n",
    "hod.test()"
   ]
  },
  {
   "cell_type": "code",
   "execution_count": 7,
   "metadata": {},
   "outputs": [
    {
     "name": "stdout",
     "output_type": "stream",
     "text": [
      "New run id: d4a2d5c7-57f9-4dec-848e-19d3969eb22f\n",
      "Successfully created a run with run id 'd4a2d5c7-57f9-4dec-848e-19d3969eb22f'\n"
     ]
    }
   ],
   "source": [
    "\n",
    "\n",
    "run_id = str(uuid.uuid4())\n",
    "print(f\"New run id: {run_id}\")\n",
    "\n",
    "# get auth from client\n",
    "client = MlflowClient()\n",
    "cred = client._tracking_client.store.get_host_creds()\n",
    "cred.host = cred.host.replace(\"mlflow/v2.0\", \"mlflow/v1.0\").replace(\"mlflow/v1.0\", \"history/v1.0\")\n",
    "response = http_request(\n",
    "    host_creds=cred,\n",
    "    endpoint=\"/experiments/{}/runs/{}\".format(\"promptflow\", run_id),\n",
    "    method=\"PATCH\",\n",
    "    json={\"runId\": run_id},\n",
    ")\n",
    "if response.status_code == 200:\n",
    "    print(f\"Successfully created a run with run id '{run_id}'\")\n",
    "else:\n",
    "    raise\n"
   ]
  },
  {
   "attachments": {},
   "cell_type": "markdown",
   "metadata": {},
   "source": [
    "## Cancel an active run"
   ]
  },
  {
   "cell_type": "code",
   "execution_count": 5,
   "metadata": {},
   "outputs": [
    {
     "name": "stdout",
     "output_type": "stream",
     "text": [
      "Successfully run a run with run id '03ba6490-0889-4e28-a95e-9622dbb39c71'\n"
     ]
    }
   ],
   "source": [
    "\n",
    "current_run = mlflow.active_run()\n",
    "run_id = current_run.info.run_id\n",
    "experiment_id = current_run.info.experiment_id\n",
    "\n",
    "# get auth from client\n",
    "client = MlflowClient()\n",
    "cred = client._tracking_client.store.get_host_creds()\n",
    "cred.host = cred.host.replace(\"mlflow/v2.0\", \"mlflow/v1.0\").replace(\"mlflow/v1.0\", \"history/v1.0\")\n",
    "\n",
    "end_event = {\n",
    "    \"timestamp\": datetime.utcnow().isoformat(),\n",
    "    \"name\": \"Microsoft.MachineLearning.Run.Canceled\",\n",
    "    \"data\": {\n",
    "        \"endtime\": datetime.utcnow().isoformat(),\n",
    "    },\n",
    "}\n",
    "response = http_request(\n",
    "    host_creds=cred,\n",
    "    endpoint=\"/experimentids/{}/runs/{}/events\".format(experiment_id, run_id),\n",
    "    method=\"POST\",\n",
    "    json=end_event,\n",
    ")\n",
    "\n",
    "if response.status_code == 200:\n",
    "    print(f\"Successfully canceled a run with run id '{run_id}'\")\n",
    "else:\n",
    "    print(f\"Code: {response.status_code}, text: {response.text}\")"
   ]
  },
  {
   "attachments": {},
   "cell_type": "markdown",
   "metadata": {},
   "source": [
    "## Write error message"
   ]
  },
  {
   "cell_type": "code",
   "execution_count": 27,
   "metadata": {},
   "outputs": [
    {
     "name": "stdout",
     "output_type": "stream",
     "text": [
      "Successfully write error message with run id 'a9cc702b-fdb3-4f25-945c-c48a7800299f'\n"
     ]
    }
   ],
   "source": [
    "\n",
    "# run = mlflow.start_run()\n",
    "# print(run.info.run_id)\n",
    "\n",
    "current_run = mlflow.active_run()\n",
    "run_id = current_run.info.run_id\n",
    "experiment_id = current_run.info.experiment_id\n",
    "\n",
    "# get auth from client\n",
    "client = MlflowClient()\n",
    "cred = client._tracking_client.store.get_host_creds()\n",
    "cred.host = cred.host.replace(\"mlflow/v2.0\", \"mlflow/v1.0\").replace(\"mlflow/v1.0\", \"history/v1.0\")\n",
    "\n",
    "error_event = {\n",
    "    \"timestamp\": datetime.utcnow().isoformat(),\n",
    "    \"name\": \"Microsoft.MachineLearning.Run.Error\",\n",
    "    \"data\": {\n",
    "        \"errorResponse\":{\n",
    "            \"error\": {\n",
    "                \"code\": \"UserError\",\n",
    "                \"message\": \"test hod error\",\n",
    "            },\n",
    "            \"componentName\": \"promptflow\"\n",
    "        },\n",
    "    },\n",
    "}\n",
    "response = http_request(\n",
    "    host_creds=cred,\n",
    "    endpoint=\"/experimentids/{}/runs/{}/events\".format(experiment_id, run_id),\n",
    "    method=\"POST\",\n",
    "    json=error_event,\n",
    ")\n",
    "\n",
    "if response.status_code == 200:\n",
    "    print(f\"Successfully write error message with run id '{run_id}'\")\n",
    "else:\n",
    "    print(f\"Code: {response.status_code}, text: {response.text}\")"
   ]
  },
  {
   "attachments": {},
   "cell_type": "markdown",
   "metadata": {},
   "source": [
    "## Write run history"
   ]
  },
  {
   "cell_type": "code",
   "execution_count": 30,
   "metadata": {},
   "outputs": [
    {
     "name": "stdout",
     "output_type": "stream",
     "text": [
      "0996a1ef-294c-4c13-bb69-0a37c3516a92\n",
      "Successfully write run properties with run id '0996a1ef-294c-4c13-bb69-0a37c3516a92'\n"
     ]
    }
   ],
   "source": [
    "run = mlflow.start_run()\n",
    "print(run.info.run_id)\n",
    "\n",
    "current_run = mlflow.active_run()\n",
    "run_id = current_run.info.run_id\n",
    "experiment_id = current_run.info.experiment_id\n",
    "\n",
    "# get auth from client\n",
    "client = MlflowClient()\n",
    "cred = client._tracking_client.store.get_host_creds()\n",
    "cred.host = cred.host.replace(\"mlflow/v2.0\", \"mlflow/v1.0\").replace(\"mlflow/v1.0\", \"history/v1.0\")\n",
    "\n",
    "properties = {\n",
    "    \"hod-test-property\": \"123\"\n",
    "}\n",
    "\n",
    "response = http_request(\n",
    "    host_creds=cred,\n",
    "    endpoint=\"/experimentids/{}/runs/{}\".format(experiment_id, run_id),\n",
    "    method=\"PATCH\",\n",
    "    json={\"runId\": run_id, \"properties\": properties},\n",
    ")\n",
    "\n",
    "if response.status_code == 200:\n",
    "    print(f\"Successfully write run properties with run id '{run_id}'\")\n",
    "else:\n",
    "    print(f\"Code: {response.status_code}, text: {response.text}\")"
   ]
  },
  {
   "cell_type": "code",
   "execution_count": 32,
   "metadata": {},
   "outputs": [],
   "source": [
    "mlflow.end_run()"
   ]
  },
  {
   "cell_type": "code",
   "execution_count": null,
   "metadata": {},
   "outputs": [],
   "source": []
  }
 ],
 "metadata": {
  "kernelspec": {
   "display_name": "git_sdk",
   "language": "python",
   "name": "python3"
  },
  "language_info": {
   "codemirror_mode": {
    "name": "ipython",
    "version": 3
   },
   "file_extension": ".py",
   "mimetype": "text/x-python",
   "name": "python",
   "nbconvert_exporter": "python",
   "pygments_lexer": "ipython3",
   "version": "3.8.16"
  },
  "orig_nbformat": 4,
  "vscode": {
   "interpreter": {
    "hash": "901590fd2121b297931cb9e45033033448ad2d0581b02ead13ed661d40dac950"
   }
  }
 },
 "nbformat": 4,
 "nbformat_minor": 2
}
