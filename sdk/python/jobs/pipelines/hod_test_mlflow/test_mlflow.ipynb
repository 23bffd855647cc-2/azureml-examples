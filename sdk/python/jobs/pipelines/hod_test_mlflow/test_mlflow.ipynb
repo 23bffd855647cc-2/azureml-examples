{
 "cells": [
  {
   "cell_type": "code",
   "execution_count": 3,
   "metadata": {},
   "outputs": [
    {
     "name": "stdout",
     "output_type": "stream",
     "text": [
      "azureml://eastus.api.azureml.ms/mlflow/v1.0/subscriptions/96aede12-2f73-41cb-b983-6d11a904839b/resourceGroups/hod-rg/providers/Microsoft.MachineLearningServices/workspaces/hod-pflow\n"
     ]
    }
   ],
   "source": [
    "import mlflow\n",
    "from azure.ai.ml import MLClient\n",
    "from azure.identity import DefaultAzureCredential\n",
    "from datetime import datetime\n",
    "\n",
    "from mlflow.tracking import MlflowClient\n",
    "from mlflow.utils.rest_utils import http_request\n",
    "import uuid\n",
    "\n",
    "# subscription_id = '96aede12-2f73-41cb-b983-6d11a904839b'\n",
    "# resource_group = 'promptflow'\n",
    "# workspace_name = 'promptflow-canary-dev'\n",
    "\n",
    "subscription_id = '96aede12-2f73-41cb-b983-6d11a904839b'\n",
    "resource_group = 'hod-rg'\n",
    "workspace_name = 'hod-pflow'\n",
    "\n",
    "ml_client = MLClient(credential=DefaultAzureCredential(),\n",
    "                        subscription_id=subscription_id,\n",
    "                        resource_group_name=resource_group,\n",
    "                        workspace_name=workspace_name)\n",
    "\n",
    "mlflow_tracking_uri = ml_client.workspaces.get(ml_client.workspace_name).mlflow_tracking_uri\n",
    "print(mlflow_tracking_uri)\n",
    "mlflow.set_tracking_uri(mlflow_tracking_uri)\n",
    "\n",
    "# update the cred host for api call\n",
    "client = MlflowClient()\n",
    "cred = client._tracking_client.store.get_host_creds()\n",
    "cred.host = cred.host.replace(\"mlflow/v2.0\", \"mlflow/v1.0\").replace(\"mlflow/v1.0\", \"history/v1.0\")"
   ]
  },
  {
   "cell_type": "code",
   "execution_count": null,
   "metadata": {},
   "outputs": [],
   "source": [
    "a = ml_client.jobs._runs_operations.get_run(run_id=\"f9f19743-f9bd-4046-9074-35241f9286a9\")\n",
    "print(a)"
   ]
  },
  {
   "cell_type": "code",
   "execution_count": null,
   "metadata": {},
   "outputs": [],
   "source": [
    "run = mlflow.get_run(run_id=\"run_20230524162058_3b2d8cb0-1b57-498e-8f1a-aff518897bb0_variant_2\")\n",
    "print(run.to_dictionary())"
   ]
  },
  {
   "cell_type": "code",
   "execution_count": null,
   "metadata": {},
   "outputs": [],
   "source": [
    "run = mlflow.active_run()\n",
    "print(run.info.run_id)"
   ]
  },
  {
   "cell_type": "code",
   "execution_count": null,
   "metadata": {},
   "outputs": [],
   "source": [
    "\n",
    "from enum import Enum\n",
    "class Status(Enum):\n",
    "    Started = \"Started\"\n",
    "    Completed = \"Completed\"\n",
    "    Failed = \"Failed\"\n",
    "    Cancelled = \"Cancelled\"\n",
    "    NOTSTARTED = 'NotStarted'\n",
    "\n",
    "    @staticmethod\n",
    "    def is_terminated(status):\n",
    "        return status in {Status.Completed, Status.Failed, Status.Cancelled}\n",
    "    \n",
    "    \n",
    "print(Status.is_terminated(Status.Completed))"
   ]
  },
  {
   "cell_type": "code",
   "execution_count": null,
   "metadata": {},
   "outputs": [],
   "source": [
    "class AzureMLConfig:\n",
    "    SUBSCRIPTION_ID = \"SUBSCRIPTION_ID\"\n",
    "    RESOURCE_GROUP_NAME = \"RESOURCE_GROUP_NAME\"\n",
    "    WORKSPACE_NAME = \"WORKSPACE_NAME\"\n",
    "    WORKSPACE_REGION = \"WORKSPACE_REGION\"\n",
    "    \n",
    "    @staticmethod\n",
    "    def test():\n",
    "        print(\"test\")\n",
    "\n",
    "class hod(AzureMLConfig):\n",
    "    a = 1\n",
    "\n",
    "hod.test()"
   ]
  },
  {
   "attachments": {},
   "cell_type": "markdown",
   "metadata": {},
   "source": [
    "## Create a run with NotStarted status"
   ]
  },
  {
   "cell_type": "code",
   "execution_count": 2,
   "metadata": {},
   "outputs": [
    {
     "name": "stdout",
     "output_type": "stream",
     "text": [
      "New run id: f172595d-9b91-46b4-90cf-0fca214a6907\n",
      "Successfully created a run with run id 'f172595d-9b91-46b4-90cf-0fca214a6907'\n"
     ]
    }
   ],
   "source": [
    "run_id = str(uuid.uuid4())\n",
    "print(f\"New run id: {run_id}\")\n",
    "\n",
    "response = http_request(\n",
    "    host_creds=cred,\n",
    "    endpoint=\"/experiments/{}/runs/{}\".format(\"promptflow\", run_id),\n",
    "    method=\"PATCH\",\n",
    "    json={\"runId\": run_id},\n",
    ")\n",
    "if response.status_code == 200:\n",
    "    print(f\"Successfully created a run with run id '{run_id}'\")\n",
    "else:\n",
    "    raise\n"
   ]
  },
  {
   "attachments": {},
   "cell_type": "markdown",
   "metadata": {},
   "source": [
    "## Update run status with API call"
   ]
  },
  {
   "cell_type": "code",
   "execution_count": 5,
   "metadata": {},
   "outputs": [
    {
     "name": "stdout",
     "output_type": "stream",
     "text": [
      "Successfully update run status to 'Running' for run 'f172595d-9b91-46b4-90cf-0fca214a6907'.\n"
     ]
    }
   ],
   "source": [
    "run_id = \"f172595d-9b91-46b4-90cf-0fca214a6907\"\n",
    "mlflow_run = mlflow.get_run(run_id=run_id)\n",
    "experiment_id = mlflow_run.info.experiment_id\n",
    "\n",
    "status_event = {\n",
    "    \"timestamp\": datetime.utcnow().isoformat(),\n",
    "    \"name\": \"Microsoft.MachineLearning.Run.Start\",\n",
    "    \"data\": {\n",
    "        \"startTime\": datetime.utcnow().isoformat(),\n",
    "    },\n",
    "}\n",
    "\n",
    "response = http_request(\n",
    "    host_creds=cred,\n",
    "    endpoint=\"/experimentids/{}/runs/{}/events\".format(experiment_id, run_id),\n",
    "    method=\"POST\",\n",
    "    json=status_event,\n",
    ")\n",
    "\n",
    "if response.status_code == 200:\n",
    "    print(f\"Successfully update run status to 'Running' for run {run_id!r}.\")\n",
    "else:\n",
    "    print(\n",
    "        f\"Failed to update run status to 'Running' for run {run_id!r}. \"\n",
    "        f\"Code: {response.status_code}, text: {response.text}\"\n",
    "    )"
   ]
  },
  {
   "attachments": {},
   "cell_type": "markdown",
   "metadata": {},
   "source": [
    "## Cancel an active run"
   ]
  },
  {
   "cell_type": "code",
   "execution_count": null,
   "metadata": {},
   "outputs": [],
   "source": [
    "\n",
    "current_run = mlflow.active_run()\n",
    "run_id = current_run.info.run_id\n",
    "experiment_id = current_run.info.experiment_id\n",
    "\n",
    "end_event = {\n",
    "    \"timestamp\": datetime.utcnow().isoformat(),\n",
    "    \"name\": \"Microsoft.MachineLearning.Run.Canceled\",\n",
    "    \"data\": {\n",
    "        \"endtime\": datetime.utcnow().isoformat(),\n",
    "    },\n",
    "}\n",
    "response = http_request(\n",
    "    host_creds=cred,\n",
    "    endpoint=\"/experimentids/{}/runs/{}/events\".format(experiment_id, run_id),\n",
    "    method=\"POST\",\n",
    "    json=end_event,\n",
    ")\n",
    "\n",
    "if response.status_code == 200:\n",
    "    print(f\"Successfully canceled a run with run id '{run_id}'\")\n",
    "else:\n",
    "    print(f\"Code: {response.status_code}, text: {response.text}\")"
   ]
  },
  {
   "attachments": {},
   "cell_type": "markdown",
   "metadata": {},
   "source": [
    "## Write error message"
   ]
  },
  {
   "cell_type": "code",
   "execution_count": 17,
   "metadata": {},
   "outputs": [
    {
     "name": "stdout",
     "output_type": "stream",
     "text": [
      "Successfully write error message with run id '1ec6cf78-8583-43cf-a933-3b0c8b5fbedf'\n"
     ]
    }
   ],
   "source": [
    "from datetime import datetime\n",
    "# run = mlflow.start_run()\n",
    "# print(run.info.run_id)\n",
    "\n",
    "# current_run = mlflow.active_run()\n",
    "# run_id = current_run.info.run_id\n",
    "# experiment_id = current_run.info.experiment_id\n",
    "\n",
    "error_event = {\n",
    "    \"timestamp\": datetime.utcnow().isoformat(),\n",
    "    \"name\": \"Microsoft.MachineLearning.Run.Error\",\n",
    "    \"data\": {\n",
    "        \"errorResponse\":{\n",
    "            \"error\": {\n",
    "                \"code\": \"UserError\",\n",
    "                \"message\": \"test hod error\",\n",
    "            },\n",
    "            \"componentName\": \"promptflow\"\n",
    "        },\n",
    "    },\n",
    "}\n",
    "response = http_request(\n",
    "    host_creds=cred,\n",
    "    endpoint=\"/experimentids/{}/runs/{}/events\".format(experiment_id, run_id),\n",
    "    method=\"POST\",\n",
    "    json=error_event,\n",
    ")\n",
    "\n",
    "if response.status_code == 200:\n",
    "    print(f\"Successfully write error message with run id '{run_id}'\")\n",
    "else:\n",
    "    print(f\"Code: {response.status_code}, text: {response.text}\")"
   ]
  },
  {
   "attachments": {},
   "cell_type": "markdown",
   "metadata": {},
   "source": [
    "## Write run properties"
   ]
  },
  {
   "cell_type": "code",
   "execution_count": null,
   "metadata": {},
   "outputs": [],
   "source": [
    "run = mlflow.start_run()\n",
    "print(run.info.run_id)\n",
    "\n",
    "current_run = mlflow.active_run()\n",
    "run_id = current_run.info.run_id\n",
    "experiment_id = current_run.info.experiment_id\n",
    "\n",
    "properties = {\n",
    "    \"hod-test-property\": \"123\"\n",
    "}\n",
    "\n",
    "response = http_request(\n",
    "    host_creds=cred,\n",
    "    endpoint=\"/experimentids/{}/runs/{}\".format(experiment_id, run_id),\n",
    "    method=\"PATCH\",\n",
    "    json={\"runId\": run_id, \"properties\": properties},\n",
    ")\n",
    "\n",
    "if response.status_code == 200:\n",
    "    print(f\"Successfully write run properties with run id '{run_id}'\")\n",
    "else:\n",
    "    print(f\"Code: {response.status_code}, text: {response.text}\")"
   ]
  },
  {
   "cell_type": "code",
   "execution_count": null,
   "metadata": {},
   "outputs": [],
   "source": [
    "mlflow.end_run()"
   ]
  },
  {
   "cell_type": "code",
   "execution_count": null,
   "metadata": {},
   "outputs": [],
   "source": []
  }
 ],
 "metadata": {
  "kernelspec": {
   "display_name": "git_sdk",
   "language": "python",
   "name": "python3"
  },
  "language_info": {
   "codemirror_mode": {
    "name": "ipython",
    "version": 3
   },
   "file_extension": ".py",
   "mimetype": "text/x-python",
   "name": "python",
   "nbconvert_exporter": "python",
   "pygments_lexer": "ipython3",
   "version": "3.8.16"
  },
  "orig_nbformat": 4,
  "vscode": {
   "interpreter": {
    "hash": "901590fd2121b297931cb9e45033033448ad2d0581b02ead13ed661d40dac950"
   }
  }
 },
 "nbformat": 4,
 "nbformat_minor": 2
}
