{
 "cells": [
  {
   "cell_type": "code",
   "execution_count": 1,
   "metadata": {},
   "outputs": [
    {
     "name": "stdout",
     "output_type": "stream",
     "text": [
      "azureml://eastus2euap.api.azureml.ms/mlflow/v1.0/subscriptions/96aede12-2f73-41cb-b983-6d11a904839b/resourceGroups/promptflow/providers/Microsoft.MachineLearningServices/workspaces/promptflow-canary-dev\n",
      "https://eastus2euap.api.azureml.ms/index/v1.0/subscriptions/96aede12-2f73-41cb-b983-6d11a904839b/resourceGroups/promptflow/providers/Microsoft.MachineLearningServices/workspaces/promptflow-canary-dev\n"
     ]
    }
   ],
   "source": [
    "import mlflow\n",
    "from azure.ai.ml import MLClient\n",
    "from azure.identity import DefaultAzureCredential\n",
    "from datetime import datetime\n",
    "\n",
    "from mlflow.tracking import MlflowClient\n",
    "from mlflow.utils.rest_utils import http_request\n",
    "import uuid\n",
    "\n",
    "subscription_id = '96aede12-2f73-41cb-b983-6d11a904839b'\n",
    "resource_group = 'promptflow'\n",
    "workspace_name = 'promptflow-canary-dev'\n",
    "\n",
    "# subscription_id = '96aede12-2f73-41cb-b983-6d11a904839b'\n",
    "# resource_group = 'hod-rg'\n",
    "# workspace_name = 'hod-pflow'\n",
    "\n",
    "ml_client = MLClient(credential=DefaultAzureCredential(),\n",
    "                        subscription_id=subscription_id,\n",
    "                        resource_group_name=resource_group,\n",
    "                        workspace_name=workspace_name)\n",
    "\n",
    "mlflow_tracking_uri = ml_client.workspaces.get(ml_client.workspace_name).mlflow_tracking_uri\n",
    "print(mlflow_tracking_uri)\n",
    "mlflow.set_tracking_uri(mlflow_tracking_uri)\n",
    "\n",
    "# update the cred host for api call\n",
    "client = MlflowClient()\n",
    "cred = client._tracking_client.store.get_host_creds()\n",
    "# cred.host = cred.host.replace(\"mlflow/v2.0\", \"mlflow/v1.0\").replace(\"mlflow/v1.0\", \"history/v1.0\")\n",
    "cred.host = cred.host.replace(\"mlflow/v2.0\", \"mlflow/v1.0\").replace(\"mlflow/v1.0\", \"index/v1.0\")\n",
    "print(cred.host)"
   ]
  },
  {
   "cell_type": "code",
   "execution_count": null,
   "metadata": {},
   "outputs": [],
   "source": [
    "credential=DefaultAzureCredential()\n",
    "credential.get_token(\"https://management.azure.com/.default\").token"
   ]
  },
  {
   "cell_type": "code",
   "execution_count": 28,
   "metadata": {},
   "outputs": [],
   "source": [
    "runs = mlflow.search_runs(max_results=50, output_format=\"list\", order_by=[\"start_time DESC\"])"
   ]
  },
  {
   "cell_type": "code",
   "execution_count": 30,
   "metadata": {},
   "outputs": [
    {
     "name": "stdout",
     "output_type": "stream",
     "text": [
      "{'info': {'artifact_uri': '', 'end_time': 1688532651851, 'experiment_id': '108bbbb1-af43-4246-96ea-782056d4e7fd', 'lifecycle_stage': 'active', 'run_id': 'dd28ab79-99cd-4bc2-b6b6-b51bfc9c4b58', 'run_name': 'quirky_juice_h86hyrnh', 'run_uuid': 'dd28ab79-99cd-4bc2-b6b6-b51bfc9c4b58', 'start_time': 1688532651564, 'status': 'FINISHED', 'user_id': '1e6ca164-23af-452c-8b54-192295bb78ef'}, 'data': {'metrics': {}, 'params': {}, 'tags': {'mlflow.rootRunId': 'dd28ab79-99cd-4bc2-b6b6-b51bfc9c4b58', 'mlflow.runName': 'quirky_juice_h86hyrnh', 'mlflow.user': '1e6ca164-23af-452c-8b54-192295bb78ef'}}, 'inputs': {'dataset_inputs': []}}\n",
      "{'info': {'artifact_uri': '', 'end_time': 1688532650797, 'experiment_id': '108bbbb1-af43-4246-96ea-782056d4e7fd', 'lifecycle_stage': 'active', 'run_id': 'classification_eval_flow_run_id_6dc468bb-27a4-481a-bf82-14767714e5ec', 'run_name': 'great_hominy_93rmvbp1', 'run_uuid': 'classification_eval_flow_run_id_6dc468bb-27a4-481a-bf82-14767714e5ec', 'start_time': 1688532648171, 'status': 'FINISHED', 'user_id': '1e6ca164-23af-452c-8b54-192295bb78ef'}, 'data': {'metrics': {'nodes.grades.completed': 2.0, 'nodes.grades.failed': 0.0, 'nodes.calculate_accuracy.completed': 1.0, 'lines.completed': 2.0, 'lines.failed': 0.0, 'accuracy.variant_0': 0.0}, 'params': {}, 'tags': {'mlflow.rootRunId': 'classification_eval_flow_run_id_6dc468bb-27a4-481a-bf82-14767714e5ec', 'mlflow.runName': 'great_hominy_93rmvbp1', 'mlflow.user': '1e6ca164-23af-452c-8b54-192295bb78ef'}}, 'inputs': {'dataset_inputs': []}}\n",
      "{'info': {'artifact_uri': '', 'end_time': 1688532641792, 'experiment_id': '108bbbb1-af43-4246-96ea-782056d4e7fd', 'lifecycle_stage': 'active', 'run_id': '9771686c-133a-4181-8030-476b64cc5d09', 'run_name': 'patient_spinach_rhrzs4f3', 'run_uuid': '9771686c-133a-4181-8030-476b64cc5d09', 'start_time': 1688532641433, 'status': 'FINISHED', 'user_id': '1e6ca164-23af-452c-8b54-192295bb78ef'}, 'data': {'metrics': {}, 'params': {}, 'tags': {'mlflow.rootRunId': '9771686c-133a-4181-8030-476b64cc5d09', 'mlflow.runName': 'patient_spinach_rhrzs4f3', 'mlflow.user': '1e6ca164-23af-452c-8b54-192295bb78ef'}}, 'inputs': {'dataset_inputs': []}}\n",
      "{'info': {'artifact_uri': '', 'end_time': 1688532647214, 'experiment_id': '108bbbb1-af43-4246-96ea-782056d4e7fd', 'lifecycle_stage': 'active', 'run_id': '6dc468bb-27a4-481a-bf82-14767714e5ec', 'run_name': 'lemon_boat_cpjdb4lh', 'run_uuid': '6dc468bb-27a4-481a-bf82-14767714e5ec', 'start_time': 1688532640849, 'status': 'FINISHED', 'user_id': '1e6ca164-23af-452c-8b54-192295bb78ef'}, 'data': {'metrics': {'nodes.fetch_text_content_from_url_1.completed': 2.0, 'nodes.fetch_text_content_from_url_1.failed': 0.0, 'nodes.prepare_examples_1.completed': 2.0, 'nodes.prepare_examples_1.failed': 0.0, 'nodes.classifier_1.completed': 2.0, 'nodes.classifier_1.failed': 0.0, 'nodes.convert_to_dict_1.completed': 2.0, 'nodes.convert_to_dict_1.failed': 0.0, 'lines.completed': 2.0, 'lines.failed': 0.0}, 'params': {}, 'tags': {'mlflow.rootRunId': '6dc468bb-27a4-481a-bf82-14767714e5ec', 'mlflow.runName': 'lemon_boat_cpjdb4lh', 'mlflow.user': '1e6ca164-23af-452c-8b54-192295bb78ef'}}, 'inputs': {'dataset_inputs': []}}\n",
      "{'info': {'artifact_uri': '', 'end_time': 1688532640704, 'experiment_id': '108bbbb1-af43-4246-96ea-782056d4e7fd', 'lifecycle_stage': 'active', 'run_id': 'infer_intent_variant1_run_id_8a0e3e89-d573-4d17-927f-4e938a3e0c5b', 'run_name': 'heroic_date_m0ncf71j', 'run_uuid': 'infer_intent_variant1_run_id_8a0e3e89-d573-4d17-927f-4e938a3e0c5b', 'start_time': 1688532635442, 'status': 'FINISHED', 'user_id': '1e6ca164-23af-452c-8b54-192295bb78ef'}, 'data': {'metrics': {'nodes.infer_intent.completed': 1.0, 'nodes.infer_intent.failed': 0.0, 'nodes.Bing_search_1.completed': 1.0, 'nodes.Bing_search_1.failed': 0.0, 'nodes.combine_search_result_1.completed': 1.0, 'nodes.combine_search_result_1.failed': 0.0, 'nodes.qa_with_sources.completed': 1.0, 'nodes.qa_with_sources.failed': 0.0, 'lines.completed': 1.0, 'lines.failed': 0.0}, 'params': {}, 'tags': {'mlflow.rootRunId': 'infer_intent_variant1_run_id_8a0e3e89-d573-4d17-927f-4e938a3e0c5b', 'mlflow.runName': 'heroic_date_m0ncf71j', 'mlflow.user': '1e6ca164-23af-452c-8b54-192295bb78ef'}}, 'inputs': {'dataset_inputs': []}}\n",
      "{'info': {'artifact_uri': '', 'end_time': 1688532635476, 'experiment_id': '108bbbb1-af43-4246-96ea-782056d4e7fd', 'lifecycle_stage': 'active', 'run_id': '9563a5e9-1d02-43af-8b7b-be586a0a83fb', 'run_name': 'zen_roti_59pnl80v', 'run_uuid': '9563a5e9-1d02-43af-8b7b-be586a0a83fb', 'start_time': 1688532635220, 'status': 'FINISHED', 'user_id': '1e6ca164-23af-452c-8b54-192295bb78ef'}, 'data': {'metrics': {}, 'params': {}, 'tags': {'mlflow.rootRunId': '9563a5e9-1d02-43af-8b7b-be586a0a83fb', 'mlflow.runName': 'zen_roti_59pnl80v', 'mlflow.user': '1e6ca164-23af-452c-8b54-192295bb78ef'}}, 'inputs': {'dataset_inputs': []}}\n",
      "{'info': {'artifact_uri': '', 'end_time': 1688532634554, 'experiment_id': '108bbbb1-af43-4246-96ea-782056d4e7fd', 'lifecycle_stage': 'active', 'run_id': 'classification_eval_flow_run_id_f249f799-0288-4300-8540-128e2aad7e5f', 'run_name': 'silver_toe_wtxmr829', 'run_uuid': 'classification_eval_flow_run_id_f249f799-0288-4300-8540-128e2aad7e5f', 'start_time': 1688532631206, 'status': 'FINISHED', 'user_id': '1e6ca164-23af-452c-8b54-192295bb78ef'}, 'data': {'metrics': {'nodes.grades.completed': 4.0, 'nodes.grades.failed': 0.0, 'nodes.calculate_accuracy.completed': 1.0, 'lines.completed': 4.0, 'lines.failed': 0.0, 'accuracy.variant_0': 0.0, 'accuracy.variant1': 0.0}, 'params': {}, 'tags': {'mlflow.rootRunId': 'classification_eval_flow_run_id_f249f799-0288-4300-8540-128e2aad7e5f', 'mlflow.runName': 'silver_toe_wtxmr829', 'mlflow.user': '1e6ca164-23af-452c-8b54-192295bb78ef'}}, 'inputs': {'dataset_inputs': []}}\n",
      "{'info': {'artifact_uri': '', 'end_time': 1688532634723, 'experiment_id': '108bbbb1-af43-4246-96ea-782056d4e7fd', 'lifecycle_stage': 'active', 'run_id': '8a0e3e89-d573-4d17-927f-4e938a3e0c5b', 'run_name': 'happy_cup_wvd51kr8', 'run_uuid': '8a0e3e89-d573-4d17-927f-4e938a3e0c5b', 'start_time': 1688532629279, 'status': 'FINISHED', 'user_id': '1e6ca164-23af-452c-8b54-192295bb78ef'}, 'data': {'metrics': {'nodes.infer_intent.completed': 1.0, 'nodes.infer_intent.failed': 0.0, 'nodes.Bing_search_1.completed': 1.0, 'nodes.Bing_search_1.failed': 0.0, 'nodes.combine_search_result_1.completed': 1.0, 'nodes.combine_search_result_1.failed': 0.0, 'nodes.qa_with_sources.completed': 1.0, 'nodes.qa_with_sources.failed': 0.0, 'lines.completed': 1.0, 'lines.failed': 0.0}, 'params': {}, 'tags': {'mlflow.rootRunId': '8a0e3e89-d573-4d17-927f-4e938a3e0c5b', 'mlflow.runName': 'happy_cup_wvd51kr8', 'mlflow.user': '1e6ca164-23af-452c-8b54-192295bb78ef'}}, 'inputs': {'dataset_inputs': []}}\n",
      "{'info': {'artifact_uri': '', 'end_time': 1688532630260, 'experiment_id': '108bbbb1-af43-4246-96ea-782056d4e7fd', 'lifecycle_stage': 'active', 'run_id': 'classifier_variant1_run_id_f249f799-0288-4300-8540-128e2aad7e5f', 'run_name': 'kind_parsnip_w43k0vrm', 'run_uuid': 'classifier_variant1_run_id_f249f799-0288-4300-8540-128e2aad7e5f', 'start_time': 1688532624689, 'status': 'FINISHED', 'user_id': '1e6ca164-23af-452c-8b54-192295bb78ef'}, 'data': {'metrics': {'nodes.fetch_text_content_from_url_1.completed': 2.0, 'nodes.fetch_text_content_from_url_1.failed': 0.0, 'nodes.prepare_examples_1.completed': 2.0, 'nodes.prepare_examples_1.failed': 0.0, 'nodes.classifier_1.completed': 2.0, 'nodes.classifier_1.failed': 0.0, 'nodes.convert_to_dict_1.completed': 2.0, 'nodes.convert_to_dict_1.failed': 0.0, 'lines.completed': 2.0, 'lines.failed': 0.0}, 'params': {}, 'tags': {'mlflow.rootRunId': 'classifier_variant1_run_id_f249f799-0288-4300-8540-128e2aad7e5f', 'mlflow.runName': 'kind_parsnip_w43k0vrm', 'mlflow.user': '1e6ca164-23af-452c-8b54-192295bb78ef'}}, 'inputs': {'dataset_inputs': []}}\n",
      "{'info': {'artifact_uri': '', 'end_time': 1688532623705, 'experiment_id': '108bbbb1-af43-4246-96ea-782056d4e7fd', 'lifecycle_stage': 'active', 'run_id': 'd6804706-cb90-4dab-a30c-4ab31952e644', 'run_name': 'careful_picture_x59x81s1', 'run_uuid': 'd6804706-cb90-4dab-a30c-4ab31952e644', 'start_time': 1688532623396, 'status': 'FINISHED', 'user_id': '1e6ca164-23af-452c-8b54-192295bb78ef'}, 'data': {'metrics': {}, 'params': {}, 'tags': {'mlflow.rootRunId': 'd6804706-cb90-4dab-a30c-4ab31952e644', 'mlflow.runName': 'careful_picture_x59x81s1', 'mlflow.user': '1e6ca164-23af-452c-8b54-192295bb78ef'}}, 'inputs': {'dataset_inputs': []}}\n"
     ]
    }
   ],
   "source": [
    "for run in runs[0:10]:\n",
    "    # print(f\"{run.info.run_id} {run.info.status} {run.info.start_time} {run.info.end_time}\")\n",
    "    print(run.to_dictionary())"
   ]
  },
  {
   "cell_type": "code",
   "execution_count": null,
   "metadata": {},
   "outputs": [],
   "source": [
    "a = ml_client.jobs._runs_operations.get_run(run_id=\"f9f19743-f9bd-4046-9074-35241f9286a9\")\n",
    "print(a)"
   ]
  },
  {
   "cell_type": "code",
   "execution_count": null,
   "metadata": {},
   "outputs": [],
   "source": [
    "run = mlflow.get_run(run_id=\"run_20230524162058_3b2d8cb0-1b57-498e-8f1a-aff518897bb0_variant_2\")\n",
    "print(run.to_dictionary())"
   ]
  },
  {
   "cell_type": "code",
   "execution_count": null,
   "metadata": {},
   "outputs": [],
   "source": [
    "run = mlflow.active_run()\n",
    "print(run.info.run_id)"
   ]
  },
  {
   "cell_type": "code",
   "execution_count": null,
   "metadata": {},
   "outputs": [],
   "source": [
    "\n",
    "from enum import Enum\n",
    "class Status(Enum):\n",
    "    Started = \"Started\"\n",
    "    Completed = \"Completed\"\n",
    "    Failed = \"Failed\"\n",
    "    Cancelled = \"Cancelled\"\n",
    "    NOTSTARTED = 'NotStarted'\n",
    "\n",
    "    @staticmethod\n",
    "    def is_terminated(status):\n",
    "        return status in {Status.Completed, Status.Failed, Status.Cancelled}\n",
    "    \n",
    "    \n",
    "print(Status.is_terminated(Status.Completed))"
   ]
  },
  {
   "cell_type": "code",
   "execution_count": null,
   "metadata": {},
   "outputs": [],
   "source": [
    "class AzureMLConfig:\n",
    "    SUBSCRIPTION_ID = \"SUBSCRIPTION_ID\"\n",
    "    RESOURCE_GROUP_NAME = \"RESOURCE_GROUP_NAME\"\n",
    "    WORKSPACE_NAME = \"WORKSPACE_NAME\"\n",
    "    WORKSPACE_REGION = \"WORKSPACE_REGION\"\n",
    "    \n",
    "    @staticmethod\n",
    "    def test():\n",
    "        print(\"test\")\n",
    "\n",
    "class hod(AzureMLConfig):\n",
    "    a = 1\n",
    "\n",
    "hod.test()"
   ]
  },
  {
   "attachments": {},
   "cell_type": "markdown",
   "metadata": {},
   "source": [
    "## Create a run with NotStarted status"
   ]
  },
  {
   "cell_type": "code",
   "execution_count": 2,
   "metadata": {},
   "outputs": [
    {
     "name": "stdout",
     "output_type": "stream",
     "text": [
      "New run id: f172595d-9b91-46b4-90cf-0fca214a6907\n",
      "Successfully created a run with run id 'f172595d-9b91-46b4-90cf-0fca214a6907'\n"
     ]
    }
   ],
   "source": [
    "run_id = str(uuid.uuid4())\n",
    "print(f\"New run id: {run_id}\")\n",
    "\n",
    "response = http_request(\n",
    "    host_creds=cred,\n",
    "    endpoint=\"/experiments/{}/runs/{}\".format(\"promptflow\", run_id),\n",
    "    method=\"PATCH\",\n",
    "    json={\"runId\": run_id},\n",
    ")\n",
    "if response.status_code == 200:\n",
    "    print(f\"Successfully created a run with run id '{run_id}'\")\n",
    "else:\n",
    "    raise\n"
   ]
  },
  {
   "attachments": {},
   "cell_type": "markdown",
   "metadata": {},
   "source": [
    "## Update run status with API call"
   ]
  },
  {
   "cell_type": "code",
   "execution_count": 5,
   "metadata": {},
   "outputs": [
    {
     "name": "stdout",
     "output_type": "stream",
     "text": [
      "Successfully update run status to 'Running' for run 'f172595d-9b91-46b4-90cf-0fca214a6907'.\n"
     ]
    }
   ],
   "source": [
    "run_id = \"f172595d-9b91-46b4-90cf-0fca214a6907\"\n",
    "mlflow_run = mlflow.get_run(run_id=run_id)\n",
    "experiment_id = mlflow_run.info.experiment_id\n",
    "\n",
    "status_event = {\n",
    "    \"timestamp\": datetime.utcnow().isoformat(),\n",
    "    \"name\": \"Microsoft.MachineLearning.Run.Start\",\n",
    "    \"data\": {\n",
    "        \"startTime\": datetime.utcnow().isoformat(),\n",
    "    },\n",
    "}\n",
    "\n",
    "response = http_request(\n",
    "    host_creds=cred,\n",
    "    endpoint=\"/experimentids/{}/runs/{}/events\".format(experiment_id, run_id),\n",
    "    method=\"POST\",\n",
    "    json=status_event,\n",
    ")\n",
    "\n",
    "if response.status_code == 200:\n",
    "    print(f\"Successfully update run status to 'Running' for run {run_id!r}.\")\n",
    "else:\n",
    "    print(\n",
    "        f\"Failed to update run status to 'Running' for run {run_id!r}. \"\n",
    "        f\"Code: {response.status_code}, text: {response.text}\"\n",
    "    )"
   ]
  },
  {
   "attachments": {},
   "cell_type": "markdown",
   "metadata": {},
   "source": [
    "## Cancel an active run"
   ]
  },
  {
   "cell_type": "code",
   "execution_count": null,
   "metadata": {},
   "outputs": [],
   "source": [
    "\n",
    "current_run = mlflow.active_run()\n",
    "run_id = current_run.info.run_id\n",
    "experiment_id = current_run.info.experiment_id\n",
    "\n",
    "end_event = {\n",
    "    \"timestamp\": datetime.utcnow().isoformat(),\n",
    "    \"name\": \"Microsoft.MachineLearning.Run.Canceled\",\n",
    "    \"data\": {\n",
    "        \"endtime\": datetime.utcnow().isoformat(),\n",
    "    },\n",
    "}\n",
    "response = http_request(\n",
    "    host_creds=cred,\n",
    "    endpoint=\"/experimentids/{}/runs/{}/events\".format(experiment_id, run_id),\n",
    "    method=\"POST\",\n",
    "    json=end_event,\n",
    ")\n",
    "\n",
    "if response.status_code == 200:\n",
    "    print(f\"Successfully canceled a run with run id '{run_id}'\")\n",
    "else:\n",
    "    print(f\"Code: {response.status_code}, text: {response.text}\")"
   ]
  },
  {
   "attachments": {},
   "cell_type": "markdown",
   "metadata": {},
   "source": [
    "## Write error message"
   ]
  },
  {
   "cell_type": "code",
   "execution_count": 17,
   "metadata": {},
   "outputs": [
    {
     "name": "stdout",
     "output_type": "stream",
     "text": [
      "Successfully write error message with run id '1ec6cf78-8583-43cf-a933-3b0c8b5fbedf'\n"
     ]
    }
   ],
   "source": [
    "from datetime import datetime\n",
    "# run = mlflow.start_run()\n",
    "# print(run.info.run_id)\n",
    "\n",
    "# current_run = mlflow.active_run()\n",
    "# run_id = current_run.info.run_id\n",
    "# experiment_id = current_run.info.experiment_id\n",
    "\n",
    "error_event = {\n",
    "    \"timestamp\": datetime.utcnow().isoformat(),\n",
    "    \"name\": \"Microsoft.MachineLearning.Run.Error\",\n",
    "    \"data\": {\n",
    "        \"errorResponse\":{\n",
    "            \"error\": {\n",
    "                \"code\": \"UserError\",\n",
    "                \"message\": \"test hod error\",\n",
    "            },\n",
    "            \"componentName\": \"promptflow\"\n",
    "        },\n",
    "    },\n",
    "}\n",
    "response = http_request(\n",
    "    host_creds=cred,\n",
    "    endpoint=\"/experimentids/{}/runs/{}/events\".format(experiment_id, run_id),\n",
    "    method=\"POST\",\n",
    "    json=error_event,\n",
    ")\n",
    "\n",
    "if response.status_code == 200:\n",
    "    print(f\"Successfully write error message with run id '{run_id}'\")\n",
    "else:\n",
    "    print(f\"Code: {response.status_code}, text: {response.text}\")"
   ]
  },
  {
   "attachments": {},
   "cell_type": "markdown",
   "metadata": {},
   "source": [
    "## Write run properties"
   ]
  },
  {
   "cell_type": "code",
   "execution_count": null,
   "metadata": {},
   "outputs": [],
   "source": [
    "run = mlflow.start_run()\n",
    "print(run.info.run_id)\n",
    "\n",
    "current_run = mlflow.active_run()\n",
    "run_id = current_run.info.run_id\n",
    "experiment_id = current_run.info.experiment_id\n",
    "\n",
    "properties = {\n",
    "    \"hod-test-property\": \"123\"\n",
    "}\n",
    "\n",
    "response = http_request(\n",
    "    host_creds=cred,\n",
    "    endpoint=\"/experimentids/{}/runs/{}\".format(experiment_id, run_id),\n",
    "    method=\"PATCH\",\n",
    "    json={\"runId\": run_id, \"properties\": properties},\n",
    ")\n",
    "\n",
    "if response.status_code == 200:\n",
    "    print(f\"Successfully write run properties with run id '{run_id}'\")\n",
    "else:\n",
    "    print(f\"Code: {response.status_code}, text: {response.text}\")"
   ]
  },
  {
   "attachments": {},
   "cell_type": "markdown",
   "metadata": {},
   "source": [
    "## List runs from index service"
   ]
  },
  {
   "cell_type": "code",
   "execution_count": 2,
   "metadata": {},
   "outputs": [
    {
     "name": "stdout",
     "output_type": "stream",
     "text": [
      "{'User-Agent': 'mlflow-python-client/2.4.1 azureml-mlflow/1.50.0'}\n",
      "Successfully list runs from index service\n"
     ]
    }
   ],
   "source": [
    "import importlib  \n",
    "importlib.reload(mlflow) \n",
    "\n",
    "pay_load = {\n",
    "\t\"filters\": [{\n",
    "\t\t\t\"field\": \"type\",\n",
    "\t\t\t\"operator\": \"eq\",\n",
    "\t\t\t\"values\": [\"runs\"]\n",
    "\t\t}, {\n",
    "\t\t\t\"field\": \"annotations/archived\",\n",
    "\t\t\t\"operator\": \"eq\",\n",
    "\t\t\t\"values\": [\"true\"]\n",
    "\t\t},\n",
    "        {\n",
    "\t\t\t\"field\": \"properties/runType\",\n",
    "            \"operator\": \"contains\",\n",
    "            \"values\": [\"azureml.promptflow.FlowRun\", \"azureml.promptflow.EvaluationRun\"]\n",
    "\t\t}\n",
    "\t],\n",
    "\t\"freeTextSearch\": \"\",\n",
    "\t\"order\": [{\n",
    "\t\t\t\"direction\": \"Desc\",\n",
    "\t\t\t\"field\": \"properties/creationContext/createdTime\"\n",
    "\t\t}\n",
    "\t],\n",
    "\t\"pageSize\": 50,\n",
    "\t\"skip\": 0,\n",
    "\t\"includeTotalResultCount\": True,\n",
    "\t\"searchBuilder\": \"AppendPrefix\"\n",
    "}\n",
    "\n",
    "response = http_request(\n",
    "    host_creds=cred,\n",
    "    endpoint=\"/entities\",\n",
    "    method=\"POST\",\n",
    "    json=pay_load,\n",
    ")\n",
    "\n",
    "if response.status_code == 200:\n",
    "    print(f\"Successfully list runs from index service\")\n",
    "else:\n",
    "    print(f\"Code: {response.status_code}, text: {response.text}\")"
   ]
  },
  {
   "cell_type": "code",
   "execution_count": 73,
   "metadata": {},
   "outputs": [
    {
     "name": "stdout",
     "output_type": "stream",
     "text": [
      "totalCount: 0\n",
      "Length of value: 0\n",
      "nextSkip: None\n"
     ]
    }
   ],
   "source": [
    "import json\n",
    "res = json.loads(response.text)\n",
    "\n",
    "print(f\"totalCount: {res['totalCount']}\")\n",
    "print(f\"Length of value: {len(res['value'])}\")\n",
    "print(f\"nextSkip: {res['nextSkip']}\")\n",
    "\n",
    "with open(\"./entities_archived.json\", \"w\") as f:\n",
    "    json.dump(res, f)\n"
   ]
  },
  {
   "cell_type": "code",
   "execution_count": null,
   "metadata": {},
   "outputs": [],
   "source": [
    "credential=DefaultAzureCredential()\n",
    "token = credential.get_token(\"https://management.azure.com/.default\").token\n",
    "print(token)"
   ]
  },
  {
   "cell_type": "code",
   "execution_count": 6,
   "metadata": {},
   "outputs": [
    {
     "name": "stdout",
     "output_type": "stream",
     "text": [
      "Successfully list runs from index service\n"
     ]
    }
   ],
   "source": [
    "import urllib3\n",
    "import json\n",
    "\n",
    "http = urllib3.PoolManager() \n",
    "url = \"https://eastus2euap.api.azureml.ms/index/v1.0/subscriptions/96aede12-2f73-41cb-b983-6d11a904839b/resourceGroups/promptflow/providers/Microsoft.MachineLearningServices/workspaces/promptflow-canary-dev/entities\"\n",
    "\n",
    "payload = {\n",
    "\t\"filters\": [{\n",
    "\t\t\t\"field\": \"type\",\n",
    "\t\t\t\"operator\": \"eq\",\n",
    "\t\t\t\"values\": [\"runs\"]\n",
    "\t\t}, {\n",
    "\t\t\t\"field\": \"annotations/archived\",\n",
    "\t\t\t\"operator\": \"eq\",\n",
    "\t\t\t\"values\": [\"false\"]\n",
    "\t\t},\n",
    "        {\n",
    "\t\t\t\"field\": \"properties/runType\",\n",
    "            \"operator\": \"contains\",\n",
    "            \"values\": [\"azureml.promptflow.FlowRun\", \"azureml.promptflow.EvaluationRun\"]\n",
    "\t\t}\n",
    "\t],\n",
    "\t\"freeTextSearch\": \"\",\n",
    "\t\"order\": [{\n",
    "\t\t\t\"direction\": \"Desc\",\n",
    "\t\t\t\"field\": \"properties/creationContext/createdTime\"\n",
    "\t\t}\n",
    "\t],\n",
    "\t\"pageSize\": 50,\n",
    "\t\"skip\": 0,\n",
    "\t\"includeTotalResultCount\": True,\n",
    "\t\"searchBuilder\": \"AppendPrefix\"\n",
    "}\n",
    "payload = json.dumps(payload).encode('utf-8')\n",
    "\n",
    "headers = {  \n",
    "    'Authorization': f'Bearer {token}',\n",
    "    'Content-Type': 'application/json',\n",
    "} \n",
    "\n",
    "response = http.request(\"POST\", url, body=payload, headers=headers)\n",
    "\n",
    "if response.status == 200:\n",
    "    print(f\"Successfully list runs from index service\")\n",
    "else:\n",
    "    print(f\"Code: {response.status}, Reason: {response.reason}\")"
   ]
  },
  {
   "cell_type": "code",
   "execution_count": 8,
   "metadata": {},
   "outputs": [
    {
     "name": "stdout",
     "output_type": "stream",
     "text": [
      "totalCount: 26341\n",
      "Length of value: 50\n",
      "nextSkip: 50\n"
     ]
    }
   ],
   "source": [
    "# print(response.data.decode('utf-8'))\n",
    "import json\n",
    "res = json.loads(response.data)\n",
    "\n",
    "print(f\"totalCount: {res['totalCount']}\")\n",
    "print(f\"Length of value: {len(res['value'])}\")\n",
    "print(f\"nextSkip: {res['nextSkip']}\")\n",
    "\n",
    "with open(\"./entities_archived.json\", \"w\") as f:\n",
    "    json.dump(res, f)"
   ]
  },
  {
   "cell_type": "code",
   "execution_count": 62,
   "metadata": {},
   "outputs": [
    {
     "name": "stdout",
     "output_type": "stream",
     "text": [
      "[]\n"
     ]
    }
   ],
   "source": [
    "a = [1,2,3]\n",
    "print(a[0:0])"
   ]
  },
  {
   "cell_type": "code",
   "execution_count": 70,
   "metadata": {},
   "outputs": [
    {
     "ename": "AttributeError",
     "evalue": "'MLClient' object has no attribute 'registry_name'",
     "output_type": "error",
     "traceback": [
      "\u001b[1;31m---------------------------------------------------------------------------\u001b[0m",
      "\u001b[1;31mAttributeError\u001b[0m                            Traceback (most recent call last)",
      "Cell \u001b[1;32mIn[70], line 1\u001b[0m\n\u001b[1;32m----> 1\u001b[0m \u001b[39mprint\u001b[39m(ml_client\u001b[39m.\u001b[39;49mregistry_name)\n",
      "\u001b[1;31mAttributeError\u001b[0m: 'MLClient' object has no attribute 'registry_name'"
     ]
    }
   ],
   "source": [
    "print(ml_client.registry_name)"
   ]
  },
  {
   "cell_type": "code",
   "execution_count": null,
   "metadata": {},
   "outputs": [],
   "source": []
  }
 ],
 "metadata": {
  "kernelspec": {
   "display_name": "git_sdk",
   "language": "python",
   "name": "python3"
  },
  "language_info": {
   "codemirror_mode": {
    "name": "ipython",
    "version": 3
   },
   "file_extension": ".py",
   "mimetype": "text/x-python",
   "name": "python",
   "nbconvert_exporter": "python",
   "pygments_lexer": "ipython3",
   "version": "3.8.16"
  },
  "orig_nbformat": 4,
  "vscode": {
   "interpreter": {
    "hash": "901590fd2121b297931cb9e45033033448ad2d0581b02ead13ed661d40dac950"
   }
  }
 },
 "nbformat": 4,
 "nbformat_minor": 2
}
