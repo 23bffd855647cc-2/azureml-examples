{
 "cells": [
  {
   "attachments": {},
   "cell_type": "markdown",
   "metadata": {},
   "source": [
    "# How to create an Azure AI Content Safety enabled Llama batch endpoint (Preview)\n",
    "### This notebook will walk you through the steps to create an __Azure AI Content Safety__ enabled __Llama__ batch endpoint.\n",
    "### This notebook is under preview\n",
    "### The steps are:\n",
    "1. Create an __Azure AI Content Safety__ resource for moderating the request from user and response from the __Llama__ batch endpoint.\n",
    "2. Create a new __Azure AI Content Safety__ enabled __Llama__ batch endpoint with a custom score.py which will integrate with the __Azure AI Content Safety__ resource to moderate the response from the __Llama__ model and the request from the user, but to make the custom score.py to sucessfully autheticated to the __Azure AI Content Safety__ resource, for batch inferencing is using __Environment variable__ to pass the access key of the __Azure AI Content Safety__ resource to the custom score.py via environment variable, then the custom score.py can use the key directly to access the Azure AI Content Safety resource, this option is less secure than the first option, if someone in your org has access to the endpoint, he/she can get the access key from the environment variable and use it to access the Azure AI Content Safety resource.\n",
    "  "
   ]
  },
  {
   "attachments": {},
   "cell_type": "markdown",
   "metadata": {},
   "source": [
    "### 1. Prerequisites\n",
    "#### 1.1 Check List:\n",
    "- [x] You have created a new Python virtual environment for this notebook.\n",
    "- [x] The identity you are using to execute this notebook(yourself or your VM) need to have the __Contributor__ role on the resource group where the AML Workspace your specified is located, because this notebook will create an Azure AI Content Safety resource using that identity.\n",
    "- [x] Required If you choose to use the UAI approach, the identity executing this notebook (either yourself or your virtual machine) needs to have the owner role on the resource group that contains the specified AML Workspace. This is because the notebook will create a new UAI and assign the UAI some required roles to successfully create the Azure AI Content Safety enabled Llama endpoint."
   ]
  },
  {
   "attachments": {},
   "cell_type": "markdown",
   "metadata": {},
   "source": [
    "#### 1.2 Assign variables for the workspace and deployment"
   ]
  },
  {
   "cell_type": "code",
   "execution_count": 2,
   "metadata": {},
   "outputs": [],
   "source": [
    "# The public registry name contains Llama models\n",
    "registry_name = \"msft-meta-preview\"\n",
    "\n",
    "# Name of the Llama model to be deployed\n",
    "# available_llama_models_text_generation = [\"Llama-2-7b\", \"Llama-2-13b\"]\n",
    "# available_llama_models_chat_complete = [\"Llama-2-7b-chat\", \"Llama-2-13b-chat\"]\n",
    "model_name = \"Llama-2-7b\"\n",
    "\n",
    "endpoint_name = \"bani-llama-endpt\"  # Replace with your endpoint name\n",
    "deployment_name = \"bani-llama-dep\"  # Replace with your deployment name, lower case only!!!\n",
    "sku_name = \"Standard_NC6\"  # Name of the sku(instance type) Check the model-list(can be found in the parent folder(inference)) to get the most optimal sku for your model (Default: Standard_DS2_v2)\n",
    "\n",
    "environment_name = f\"{endpoint_name}-env\"  # Replace with your environment name"
   ]
  },
  {
   "attachments": {},
   "cell_type": "markdown",
   "metadata": {},
   "source": [
    "#### 1.3 Install Dependencies(as needed)"
   ]
  },
  {
   "cell_type": "code",
   "execution_count": 3,
   "metadata": {},
   "outputs": [
    {
     "name": "stdout",
     "output_type": "stream",
     "text": [
      "Collecting azure-identity==1.13.0\n",
      "  Downloading azure_identity-1.13.0-py3-none-any.whl (151 kB)\n",
      "                                              0.0/151.6 kB ? eta -:--:--\n",
      "     -------------------------------------- 151.6/151.6 kB 4.4 MB/s eta 0:00:00\n",
      "Requirement already satisfied: azure-core<2.0.0,>=1.11.0 in c:\\users\\banide\\gitrepos\\azure-sdk-for-python\\env\\lib\\site-packages (from azure-identity==1.13.0) (1.28.0)\n",
      "Requirement already satisfied: cryptography>=2.5 in c:\\users\\banide\\gitrepos\\azure-sdk-for-python\\env\\lib\\site-packages (from azure-identity==1.13.0) (41.0.1)\n",
      "Requirement already satisfied: msal<2.0.0,>=1.20.0 in c:\\users\\banide\\gitrepos\\azure-sdk-for-python\\env\\lib\\site-packages (from azure-identity==1.13.0) (1.22.0)\n",
      "Requirement already satisfied: msal-extensions<2.0.0,>=0.3.0 in c:\\users\\banide\\gitrepos\\azure-sdk-for-python\\env\\lib\\site-packages (from azure-identity==1.13.0) (1.0.0)\n",
      "Requirement already satisfied: six>=1.12.0 in c:\\users\\banide\\gitrepos\\azure-sdk-for-python\\env\\lib\\site-packages (from azure-identity==1.13.0) (1.16.0)\n",
      "Requirement already satisfied: requests>=2.18.4 in c:\\users\\banide\\gitrepos\\azure-sdk-for-python\\env\\lib\\site-packages (from azure-core<2.0.0,>=1.11.0->azure-identity==1.13.0) (2.31.0)\n",
      "Requirement already satisfied: typing-extensions>=4.3.0 in c:\\users\\banide\\gitrepos\\azure-sdk-for-python\\env\\lib\\site-packages (from azure-core<2.0.0,>=1.11.0->azure-identity==1.13.0) (4.7.1)\n",
      "Requirement already satisfied: cffi>=1.12 in c:\\users\\banide\\gitrepos\\azure-sdk-for-python\\env\\lib\\site-packages (from cryptography>=2.5->azure-identity==1.13.0) (1.15.1)\n",
      "Requirement already satisfied: PyJWT[crypto]<3,>=1.0.0 in c:\\users\\banide\\gitrepos\\azure-sdk-for-python\\env\\lib\\site-packages (from msal<2.0.0,>=1.20.0->azure-identity==1.13.0) (2.7.0)\n",
      "Requirement already satisfied: portalocker<3,>=1.6 in c:\\users\\banide\\gitrepos\\azure-sdk-for-python\\env\\lib\\site-packages (from msal-extensions<2.0.0,>=0.3.0->azure-identity==1.13.0) (2.7.0)\n",
      "Requirement already satisfied: pycparser in c:\\users\\banide\\gitrepos\\azure-sdk-for-python\\env\\lib\\site-packages (from cffi>=1.12->cryptography>=2.5->azure-identity==1.13.0) (2.21)\n",
      "Requirement already satisfied: pywin32>=226 in c:\\users\\banide\\gitrepos\\azure-sdk-for-python\\env\\lib\\site-packages (from portalocker<3,>=1.6->msal-extensions<2.0.0,>=0.3.0->azure-identity==1.13.0) (304)\n",
      "Requirement already satisfied: charset-normalizer<4,>=2 in c:\\users\\banide\\gitrepos\\azure-sdk-for-python\\env\\lib\\site-packages (from requests>=2.18.4->azure-core<2.0.0,>=1.11.0->azure-identity==1.13.0) (3.1.0)\n",
      "Requirement already satisfied: idna<4,>=2.5 in c:\\users\\banide\\gitrepos\\azure-sdk-for-python\\env\\lib\\site-packages (from requests>=2.18.4->azure-core<2.0.0,>=1.11.0->azure-identity==1.13.0) (3.4)\n",
      "Requirement already satisfied: urllib3<3,>=1.21.1 in c:\\users\\banide\\gitrepos\\azure-sdk-for-python\\env\\lib\\site-packages (from requests>=2.18.4->azure-core<2.0.0,>=1.11.0->azure-identity==1.13.0) (1.26.16)\n",
      "Requirement already satisfied: certifi>=2017.4.17 in c:\\users\\banide\\gitrepos\\azure-sdk-for-python\\env\\lib\\site-packages (from requests>=2.18.4->azure-core<2.0.0,>=1.11.0->azure-identity==1.13.0) (2023.5.7)\n",
      "Installing collected packages: azure-identity\n",
      "  Attempting uninstall: azure-identity\n",
      "    Found existing installation: azure-identity 1.14.0b2\n",
      "    Uninstalling azure-identity-1.14.0b2:\n",
      "      Successfully uninstalled azure-identity-1.14.0b2\n",
      "Successfully installed azure-identity-1.13.0\n",
      "Note: you may need to restart the kernel to use updated packages.\n",
      "Collecting azure-mgmt-cognitiveservices==13.4.0\n",
      "  Downloading azure_mgmt_cognitiveservices-13.4.0-py3-none-any.whl (134 kB)\n",
      "                                              0.0/134.1 kB ? eta -:--:--\n",
      "     -------------------------------------- 134.1/134.1 kB 7.7 MB/s eta 0:00:00\n",
      "Requirement already satisfied: msrest>=0.7.1 in c:\\users\\banide\\gitrepos\\azure-sdk-for-python\\env\\lib\\site-packages (from azure-mgmt-cognitiveservices==13.4.0) (0.7.1)\n",
      "Requirement already satisfied: azure-common~=1.1 in c:\\users\\banide\\gitrepos\\azure-sdk-for-python\\env\\lib\\site-packages (from azure-mgmt-cognitiveservices==13.4.0) (1.1.28)\n",
      "Requirement already satisfied: azure-mgmt-core<2.0.0,>=1.3.2 in c:\\users\\banide\\gitrepos\\azure-sdk-for-python\\env\\lib\\site-packages (from azure-mgmt-cognitiveservices==13.4.0) (1.4.0)\n",
      "Requirement already satisfied: azure-core<2.0.0,>=1.26.2 in c:\\users\\banide\\gitrepos\\azure-sdk-for-python\\env\\lib\\site-packages (from azure-mgmt-core<2.0.0,>=1.3.2->azure-mgmt-cognitiveservices==13.4.0) (1.28.0)\n",
      "Requirement already satisfied: certifi>=2017.4.17 in c:\\users\\banide\\gitrepos\\azure-sdk-for-python\\env\\lib\\site-packages (from msrest>=0.7.1->azure-mgmt-cognitiveservices==13.4.0) (2023.5.7)\n",
      "Requirement already satisfied: isodate>=0.6.0 in c:\\users\\banide\\gitrepos\\azure-sdk-for-python\\env\\lib\\site-packages (from msrest>=0.7.1->azure-mgmt-cognitiveservices==13.4.0) (0.6.1)\n",
      "Requirement already satisfied: requests-oauthlib>=0.5.0 in c:\\users\\banide\\gitrepos\\azure-sdk-for-python\\env\\lib\\site-packages (from msrest>=0.7.1->azure-mgmt-cognitiveservices==13.4.0) (1.3.1)\n",
      "Requirement already satisfied: requests~=2.16 in c:\\users\\banide\\gitrepos\\azure-sdk-for-python\\env\\lib\\site-packages (from msrest>=0.7.1->azure-mgmt-cognitiveservices==13.4.0) (2.31.0)\n",
      "Requirement already satisfied: six>=1.11.0 in c:\\users\\banide\\gitrepos\\azure-sdk-for-python\\env\\lib\\site-packages (from azure-core<2.0.0,>=1.26.2->azure-mgmt-core<2.0.0,>=1.3.2->azure-mgmt-cognitiveservices==13.4.0) (1.16.0)\n",
      "Requirement already satisfied: typing-extensions>=4.3.0 in c:\\users\\banide\\gitrepos\\azure-sdk-for-python\\env\\lib\\site-packages (from azure-core<2.0.0,>=1.26.2->azure-mgmt-core<2.0.0,>=1.3.2->azure-mgmt-cognitiveservices==13.4.0) (4.7.1)\n",
      "Requirement already satisfied: charset-normalizer<4,>=2 in c:\\users\\banide\\gitrepos\\azure-sdk-for-python\\env\\lib\\site-packages (from requests~=2.16->msrest>=0.7.1->azure-mgmt-cognitiveservices==13.4.0) (3.1.0)\n",
      "Requirement already satisfied: idna<4,>=2.5 in c:\\users\\banide\\gitrepos\\azure-sdk-for-python\\env\\lib\\site-packages (from requests~=2.16->msrest>=0.7.1->azure-mgmt-cognitiveservices==13.4.0) (3.4)\n",
      "Requirement already satisfied: urllib3<3,>=1.21.1 in c:\\users\\banide\\gitrepos\\azure-sdk-for-python\\env\\lib\\site-packages (from requests~=2.16->msrest>=0.7.1->azure-mgmt-cognitiveservices==13.4.0) (1.26.16)\n",
      "Requirement already satisfied: oauthlib>=3.0.0 in c:\\users\\banide\\gitrepos\\azure-sdk-for-python\\env\\lib\\site-packages (from requests-oauthlib>=0.5.0->msrest>=0.7.1->azure-mgmt-cognitiveservices==13.4.0) (3.2.2)\n",
      "Installing collected packages: azure-mgmt-cognitiveservices\n",
      "  Attempting uninstall: azure-mgmt-cognitiveservices\n",
      "    Found existing installation: azure-mgmt-cognitiveservices 13.3.0\n",
      "    Uninstalling azure-mgmt-cognitiveservices-13.3.0:\n",
      "      Successfully uninstalled azure-mgmt-cognitiveservices-13.3.0\n",
      "Successfully installed azure-mgmt-cognitiveservices-13.4.0\n",
      "Note: you may need to restart the kernel to use updated packages.\n"
     ]
    },
    {
     "name": "stderr",
     "output_type": "stream",
     "text": [
      "ERROR: pip's dependency resolver does not currently take into account all the packages that are installed. This behaviour is the source of the following dependency conflicts.\n",
      "azure-cli 2.50.0 requires azure-mgmt-cognitiveservices~=13.3.0, but you have azure-mgmt-cognitiveservices 13.4.0 which is incompatible.\n",
      "azure-cli 2.50.0 requires azure-mgmt-resource==23.1.0b2, but you have azure-mgmt-resource 22.0.0 which is incompatible.\n"
     ]
    },
    {
     "name": "stdout",
     "output_type": "stream",
     "text": [
      "Collecting azure-ai-ml==1.8.0\n",
      "  Downloading azure_ai_ml-1.8.0-py3-none-any.whl (6.2 MB)\n",
      "                                              0.0/6.2 MB ? eta -:--:--\n",
      "     -------------                            2.1/6.2 MB 129.9 MB/s eta 0:00:01\n",
      "     ---------------------------------------  6.2/6.2 MB 99.4 MB/s eta 0:00:01\n",
      "     ---------------------------------------- 6.2/6.2 MB 56.6 MB/s eta 0:00:00\n",
      "Requirement already satisfied: pyyaml<7.0.0,>=5.1.0 in c:\\users\\banide\\gitrepos\\azure-sdk-for-python\\env\\lib\\site-packages (from azure-ai-ml==1.8.0) (6.0)\n",
      "Requirement already satisfied: msrest>=0.6.18 in c:\\users\\banide\\gitrepos\\azure-sdk-for-python\\env\\lib\\site-packages (from azure-ai-ml==1.8.0) (0.7.1)\n",
      "Requirement already satisfied: azure-core<2.0.0,>=1.23.0 in c:\\users\\banide\\gitrepos\\azure-sdk-for-python\\env\\lib\\site-packages (from azure-ai-ml==1.8.0) (1.28.0)\n",
      "Requirement already satisfied: azure-mgmt-core<2.0.0,>=1.3.0 in c:\\users\\banide\\gitrepos\\azure-sdk-for-python\\env\\lib\\site-packages (from azure-ai-ml==1.8.0) (1.4.0)\n",
      "Requirement already satisfied: marshmallow<4.0.0,>=3.5 in c:\\users\\banide\\gitrepos\\azure-sdk-for-python\\env\\lib\\site-packages (from azure-ai-ml==1.8.0) (3.19.0)\n",
      "Requirement already satisfied: jsonschema<5.0.0,>=4.0.0 in c:\\users\\banide\\gitrepos\\azure-sdk-for-python\\env\\lib\\site-packages (from azure-ai-ml==1.8.0) (4.17.3)\n",
      "Requirement already satisfied: tqdm<5.0.0 in c:\\users\\banide\\gitrepos\\azure-sdk-for-python\\env\\lib\\site-packages (from azure-ai-ml==1.8.0) (4.65.0)\n",
      "Requirement already satisfied: strictyaml<2.0.0 in c:\\users\\banide\\gitrepos\\azure-sdk-for-python\\env\\lib\\site-packages (from azure-ai-ml==1.8.0) (1.7.3)\n",
      "Requirement already satisfied: colorama<0.5.0 in c:\\users\\banide\\gitrepos\\azure-sdk-for-python\\env\\lib\\site-packages (from azure-ai-ml==1.8.0) (0.4.6)\n",
      "Requirement already satisfied: pyjwt<3.0.0 in c:\\users\\banide\\gitrepos\\azure-sdk-for-python\\env\\lib\\site-packages (from azure-ai-ml==1.8.0) (2.7.0)\n",
      "Requirement already satisfied: azure-storage-blob<13.0.0,>=12.10.0 in c:\\users\\banide\\gitrepos\\azure-sdk-for-python\\env\\lib\\site-packages (from azure-ai-ml==1.8.0) (12.16.0)\n",
      "Requirement already satisfied: azure-storage-file-share<13.0.0 in c:\\users\\banide\\gitrepos\\azure-sdk-for-python\\env\\lib\\site-packages (from azure-ai-ml==1.8.0) (12.12.0)\n",
      "Requirement already satisfied: azure-storage-file-datalake<13.0.0 in c:\\users\\banide\\gitrepos\\azure-sdk-for-python\\env\\lib\\site-packages (from azure-ai-ml==1.8.0) (12.11.0)\n",
      "Requirement already satisfied: pydash<6.0.0 in c:\\users\\banide\\gitrepos\\azure-sdk-for-python\\env\\lib\\site-packages (from azure-ai-ml==1.8.0) (5.1.2)\n",
      "Requirement already satisfied: isodate in c:\\users\\banide\\gitrepos\\azure-sdk-for-python\\env\\lib\\site-packages (from azure-ai-ml==1.8.0) (0.6.1)\n",
      "Requirement already satisfied: azure-common<2.0.0,>=1.1 in c:\\users\\banide\\gitrepos\\azure-sdk-for-python\\env\\lib\\site-packages (from azure-ai-ml==1.8.0) (1.1.28)\n",
      "Requirement already satisfied: typing-extensions<5.0.0 in c:\\users\\banide\\gitrepos\\azure-sdk-for-python\\env\\lib\\site-packages (from azure-ai-ml==1.8.0) (4.7.1)\n",
      "Requirement already satisfied: opencensus-ext-azure<2.0.0 in c:\\users\\banide\\gitrepos\\azure-sdk-for-python\\env\\lib\\site-packages (from azure-ai-ml==1.8.0) (1.1.9)\n",
      "Requirement already satisfied: requests>=2.18.4 in c:\\users\\banide\\gitrepos\\azure-sdk-for-python\\env\\lib\\site-packages (from azure-core<2.0.0,>=1.23.0->azure-ai-ml==1.8.0) (2.31.0)\n",
      "Requirement already satisfied: six>=1.11.0 in c:\\users\\banide\\gitrepos\\azure-sdk-for-python\\env\\lib\\site-packages (from azure-core<2.0.0,>=1.23.0->azure-ai-ml==1.8.0) (1.16.0)\n",
      "Requirement already satisfied: cryptography>=2.1.4 in c:\\users\\banide\\gitrepos\\azure-sdk-for-python\\env\\lib\\site-packages (from azure-storage-blob<13.0.0,>=12.10.0->azure-ai-ml==1.8.0) (41.0.1)\n",
      "Requirement already satisfied: attrs>=17.4.0 in c:\\users\\banide\\gitrepos\\azure-sdk-for-python\\env\\lib\\site-packages (from jsonschema<5.0.0,>=4.0.0->azure-ai-ml==1.8.0) (23.1.0)\n",
      "Requirement already satisfied: pyrsistent!=0.17.0,!=0.17.1,!=0.17.2,>=0.14.0 in c:\\users\\banide\\gitrepos\\azure-sdk-for-python\\env\\lib\\site-packages (from jsonschema<5.0.0,>=4.0.0->azure-ai-ml==1.8.0) (0.19.3)\n",
      "Requirement already satisfied: packaging>=17.0 in c:\\users\\banide\\gitrepos\\azure-sdk-for-python\\env\\lib\\site-packages (from marshmallow<4.0.0,>=3.5->azure-ai-ml==1.8.0) (23.1)\n",
      "Requirement already satisfied: certifi>=2017.4.17 in c:\\users\\banide\\gitrepos\\azure-sdk-for-python\\env\\lib\\site-packages (from msrest>=0.6.18->azure-ai-ml==1.8.0) (2023.5.7)\n",
      "Requirement already satisfied: requests-oauthlib>=0.5.0 in c:\\users\\banide\\gitrepos\\azure-sdk-for-python\\env\\lib\\site-packages (from msrest>=0.6.18->azure-ai-ml==1.8.0) (1.3.1)\n",
      "Requirement already satisfied: azure-identity<2.0.0,>=1.5.0 in c:\\users\\banide\\gitrepos\\azure-sdk-for-python\\env\\lib\\site-packages (from opencensus-ext-azure<2.0.0->azure-ai-ml==1.8.0) (1.13.0)\n",
      "Requirement already satisfied: opencensus<1.0.0,>=0.11.2 in c:\\users\\banide\\gitrepos\\azure-sdk-for-python\\env\\lib\\site-packages (from opencensus-ext-azure<2.0.0->azure-ai-ml==1.8.0) (0.11.2)\n",
      "Requirement already satisfied: psutil>=5.6.3 in c:\\users\\banide\\gitrepos\\azure-sdk-for-python\\env\\lib\\site-packages (from opencensus-ext-azure<2.0.0->azure-ai-ml==1.8.0) (5.9.5)\n",
      "Requirement already satisfied: python-dateutil>=2.6.0 in c:\\users\\banide\\gitrepos\\azure-sdk-for-python\\env\\lib\\site-packages (from strictyaml<2.0.0->azure-ai-ml==1.8.0) (2.8.2)\n",
      "Requirement already satisfied: msal<2.0.0,>=1.20.0 in c:\\users\\banide\\gitrepos\\azure-sdk-for-python\\env\\lib\\site-packages (from azure-identity<2.0.0,>=1.5.0->opencensus-ext-azure<2.0.0->azure-ai-ml==1.8.0) (1.22.0)\n",
      "Requirement already satisfied: msal-extensions<2.0.0,>=0.3.0 in c:\\users\\banide\\gitrepos\\azure-sdk-for-python\\env\\lib\\site-packages (from azure-identity<2.0.0,>=1.5.0->opencensus-ext-azure<2.0.0->azure-ai-ml==1.8.0) (1.0.0)\n",
      "Requirement already satisfied: cffi>=1.12 in c:\\users\\banide\\gitrepos\\azure-sdk-for-python\\env\\lib\\site-packages (from cryptography>=2.1.4->azure-storage-blob<13.0.0,>=12.10.0->azure-ai-ml==1.8.0) (1.15.1)\n",
      "Requirement already satisfied: opencensus-context>=0.1.3 in c:\\users\\banide\\gitrepos\\azure-sdk-for-python\\env\\lib\\site-packages (from opencensus<1.0.0,>=0.11.2->opencensus-ext-azure<2.0.0->azure-ai-ml==1.8.0) (0.1.3)\n",
      "Requirement already satisfied: google-api-core<3.0.0,>=1.0.0 in c:\\users\\banide\\gitrepos\\azure-sdk-for-python\\env\\lib\\site-packages (from opencensus<1.0.0,>=0.11.2->opencensus-ext-azure<2.0.0->azure-ai-ml==1.8.0) (2.11.1)\n",
      "Requirement already satisfied: charset-normalizer<4,>=2 in c:\\users\\banide\\gitrepos\\azure-sdk-for-python\\env\\lib\\site-packages (from requests>=2.18.4->azure-core<2.0.0,>=1.23.0->azure-ai-ml==1.8.0) (3.1.0)\n",
      "Requirement already satisfied: idna<4,>=2.5 in c:\\users\\banide\\gitrepos\\azure-sdk-for-python\\env\\lib\\site-packages (from requests>=2.18.4->azure-core<2.0.0,>=1.23.0->azure-ai-ml==1.8.0) (3.4)\n",
      "Requirement already satisfied: urllib3<3,>=1.21.1 in c:\\users\\banide\\gitrepos\\azure-sdk-for-python\\env\\lib\\site-packages (from requests>=2.18.4->azure-core<2.0.0,>=1.23.0->azure-ai-ml==1.8.0) (1.26.16)\n",
      "Requirement already satisfied: oauthlib>=3.0.0 in c:\\users\\banide\\gitrepos\\azure-sdk-for-python\\env\\lib\\site-packages (from requests-oauthlib>=0.5.0->msrest>=0.6.18->azure-ai-ml==1.8.0) (3.2.2)\n",
      "Requirement already satisfied: pycparser in c:\\users\\banide\\gitrepos\\azure-sdk-for-python\\env\\lib\\site-packages (from cffi>=1.12->cryptography>=2.1.4->azure-storage-blob<13.0.0,>=12.10.0->azure-ai-ml==1.8.0) (2.21)\n",
      "Requirement already satisfied: googleapis-common-protos<2.0.dev0,>=1.56.2 in c:\\users\\banide\\gitrepos\\azure-sdk-for-python\\env\\lib\\site-packages (from google-api-core<3.0.0,>=1.0.0->opencensus<1.0.0,>=0.11.2->opencensus-ext-azure<2.0.0->azure-ai-ml==1.8.0) (1.59.1)\n",
      "Requirement already satisfied: protobuf!=3.20.0,!=3.20.1,!=4.21.0,!=4.21.1,!=4.21.2,!=4.21.3,!=4.21.4,!=4.21.5,<5.0.0.dev0,>=3.19.5 in c:\\users\\banide\\gitrepos\\azure-sdk-for-python\\env\\lib\\site-packages (from google-api-core<3.0.0,>=1.0.0->opencensus<1.0.0,>=0.11.2->opencensus-ext-azure<2.0.0->azure-ai-ml==1.8.0) (4.23.3)\n",
      "Requirement already satisfied: google-auth<3.0.dev0,>=2.14.1 in c:\\users\\banide\\gitrepos\\azure-sdk-for-python\\env\\lib\\site-packages (from google-api-core<3.0.0,>=1.0.0->opencensus<1.0.0,>=0.11.2->opencensus-ext-azure<2.0.0->azure-ai-ml==1.8.0) (2.21.0)\n",
      "Requirement already satisfied: portalocker<3,>=1.6 in c:\\users\\banide\\gitrepos\\azure-sdk-for-python\\env\\lib\\site-packages (from msal-extensions<2.0.0,>=0.3.0->azure-identity<2.0.0,>=1.5.0->opencensus-ext-azure<2.0.0->azure-ai-ml==1.8.0) (2.7.0)\n",
      "Requirement already satisfied: cachetools<6.0,>=2.0.0 in c:\\users\\banide\\gitrepos\\azure-sdk-for-python\\env\\lib\\site-packages (from google-auth<3.0.dev0,>=2.14.1->google-api-core<3.0.0,>=1.0.0->opencensus<1.0.0,>=0.11.2->opencensus-ext-azure<2.0.0->azure-ai-ml==1.8.0) (5.3.1)\n",
      "Requirement already satisfied: pyasn1-modules>=0.2.1 in c:\\users\\banide\\gitrepos\\azure-sdk-for-python\\env\\lib\\site-packages (from google-auth<3.0.dev0,>=2.14.1->google-api-core<3.0.0,>=1.0.0->opencensus<1.0.0,>=0.11.2->opencensus-ext-azure<2.0.0->azure-ai-ml==1.8.0) (0.3.0)\n",
      "Requirement already satisfied: rsa<5,>=3.1.4 in c:\\users\\banide\\gitrepos\\azure-sdk-for-python\\env\\lib\\site-packages (from google-auth<3.0.dev0,>=2.14.1->google-api-core<3.0.0,>=1.0.0->opencensus<1.0.0,>=0.11.2->opencensus-ext-azure<2.0.0->azure-ai-ml==1.8.0) (4.9)\n",
      "Requirement already satisfied: pywin32>=226 in c:\\users\\banide\\gitrepos\\azure-sdk-for-python\\env\\lib\\site-packages (from portalocker<3,>=1.6->msal-extensions<2.0.0,>=0.3.0->azure-identity<2.0.0,>=1.5.0->opencensus-ext-azure<2.0.0->azure-ai-ml==1.8.0) (304)\n",
      "Requirement already satisfied: pyasn1<0.6.0,>=0.4.6 in c:\\users\\banide\\gitrepos\\azure-sdk-for-python\\env\\lib\\site-packages (from pyasn1-modules>=0.2.1->google-auth<3.0.dev0,>=2.14.1->google-api-core<3.0.0,>=1.0.0->opencensus<1.0.0,>=0.11.2->opencensus-ext-azure<2.0.0->azure-ai-ml==1.8.0) (0.5.0)\n",
      "Installing collected packages: azure-ai-ml\n",
      "  Attempting uninstall: azure-ai-ml\n",
      "    Found existing installation: azure-ai-ml 1.9.0\n",
      "    Uninstalling azure-ai-ml-1.9.0:\n",
      "      Successfully uninstalled azure-ai-ml-1.9.0\n",
      "Successfully installed azure-ai-ml-1.8.0\n",
      "Note: you may need to restart the kernel to use updated packages.\n",
      "Requirement already satisfied: azure-mgmt-msi==7.0.0 in c:\\users\\banide\\gitrepos\\azure-sdk-for-python\\env\\lib\\site-packages (7.0.0)\n",
      "Requirement already satisfied: msrest>=0.7.1 in c:\\users\\banide\\gitrepos\\azure-sdk-for-python\\env\\lib\\site-packages (from azure-mgmt-msi==7.0.0) (0.7.1)\n",
      "Requirement already satisfied: azure-common~=1.1 in c:\\users\\banide\\gitrepos\\azure-sdk-for-python\\env\\lib\\site-packages (from azure-mgmt-msi==7.0.0) (1.1.28)\n",
      "Requirement already satisfied: azure-mgmt-core<2.0.0,>=1.3.2 in c:\\users\\banide\\gitrepos\\azure-sdk-for-python\\env\\lib\\site-packages (from azure-mgmt-msi==7.0.0) (1.4.0)\n",
      "Requirement already satisfied: azure-core<2.0.0,>=1.26.2 in c:\\users\\banide\\gitrepos\\azure-sdk-for-python\\env\\lib\\site-packages (from azure-mgmt-core<2.0.0,>=1.3.2->azure-mgmt-msi==7.0.0) (1.28.0)\n",
      "Requirement already satisfied: certifi>=2017.4.17 in c:\\users\\banide\\gitrepos\\azure-sdk-for-python\\env\\lib\\site-packages (from msrest>=0.7.1->azure-mgmt-msi==7.0.0) (2023.5.7)\n",
      "Requirement already satisfied: isodate>=0.6.0 in c:\\users\\banide\\gitrepos\\azure-sdk-for-python\\env\\lib\\site-packages (from msrest>=0.7.1->azure-mgmt-msi==7.0.0) (0.6.1)\n",
      "Requirement already satisfied: requests-oauthlib>=0.5.0 in c:\\users\\banide\\gitrepos\\azure-sdk-for-python\\env\\lib\\site-packages (from msrest>=0.7.1->azure-mgmt-msi==7.0.0) (1.3.1)\n",
      "Requirement already satisfied: requests~=2.16 in c:\\users\\banide\\gitrepos\\azure-sdk-for-python\\env\\lib\\site-packages (from msrest>=0.7.1->azure-mgmt-msi==7.0.0) (2.31.0)\n",
      "Requirement already satisfied: six>=1.11.0 in c:\\users\\banide\\gitrepos\\azure-sdk-for-python\\env\\lib\\site-packages (from azure-core<2.0.0,>=1.26.2->azure-mgmt-core<2.0.0,>=1.3.2->azure-mgmt-msi==7.0.0) (1.16.0)\n",
      "Requirement already satisfied: typing-extensions>=4.3.0 in c:\\users\\banide\\gitrepos\\azure-sdk-for-python\\env\\lib\\site-packages (from azure-core<2.0.0,>=1.26.2->azure-mgmt-core<2.0.0,>=1.3.2->azure-mgmt-msi==7.0.0) (4.7.1)\n",
      "Requirement already satisfied: charset-normalizer<4,>=2 in c:\\users\\banide\\gitrepos\\azure-sdk-for-python\\env\\lib\\site-packages (from requests~=2.16->msrest>=0.7.1->azure-mgmt-msi==7.0.0) (3.1.0)\n",
      "Requirement already satisfied: idna<4,>=2.5 in c:\\users\\banide\\gitrepos\\azure-sdk-for-python\\env\\lib\\site-packages (from requests~=2.16->msrest>=0.7.1->azure-mgmt-msi==7.0.0) (3.4)\n",
      "Requirement already satisfied: urllib3<3,>=1.21.1 in c:\\users\\banide\\gitrepos\\azure-sdk-for-python\\env\\lib\\site-packages (from requests~=2.16->msrest>=0.7.1->azure-mgmt-msi==7.0.0) (1.26.16)\n",
      "Requirement already satisfied: oauthlib>=3.0.0 in c:\\users\\banide\\gitrepos\\azure-sdk-for-python\\env\\lib\\site-packages (from requests-oauthlib>=0.5.0->msrest>=0.7.1->azure-mgmt-msi==7.0.0) (3.2.2)\n",
      "Note: you may need to restart the kernel to use updated packages.\n",
      "Requirement already satisfied: azure-mgmt-authorization==3.0.0 in c:\\users\\banide\\gitrepos\\azure-sdk-for-python\\env\\lib\\site-packages (3.0.0)\n",
      "Requirement already satisfied: msrest>=0.7.1 in c:\\users\\banide\\gitrepos\\azure-sdk-for-python\\env\\lib\\site-packages (from azure-mgmt-authorization==3.0.0) (0.7.1)\n",
      "Requirement already satisfied: azure-common~=1.1 in c:\\users\\banide\\gitrepos\\azure-sdk-for-python\\env\\lib\\site-packages (from azure-mgmt-authorization==3.0.0) (1.1.28)\n",
      "Requirement already satisfied: azure-mgmt-core<2.0.0,>=1.3.2 in c:\\users\\banide\\gitrepos\\azure-sdk-for-python\\env\\lib\\site-packages (from azure-mgmt-authorization==3.0.0) (1.4.0)\n",
      "Requirement already satisfied: azure-core<2.0.0,>=1.26.2 in c:\\users\\banide\\gitrepos\\azure-sdk-for-python\\env\\lib\\site-packages (from azure-mgmt-core<2.0.0,>=1.3.2->azure-mgmt-authorization==3.0.0) (1.28.0)\n",
      "Requirement already satisfied: certifi>=2017.4.17 in c:\\users\\banide\\gitrepos\\azure-sdk-for-python\\env\\lib\\site-packages (from msrest>=0.7.1->azure-mgmt-authorization==3.0.0) (2023.5.7)\n",
      "Requirement already satisfied: isodate>=0.6.0 in c:\\users\\banide\\gitrepos\\azure-sdk-for-python\\env\\lib\\site-packages (from msrest>=0.7.1->azure-mgmt-authorization==3.0.0) (0.6.1)\n",
      "Requirement already satisfied: requests-oauthlib>=0.5.0 in c:\\users\\banide\\gitrepos\\azure-sdk-for-python\\env\\lib\\site-packages (from msrest>=0.7.1->azure-mgmt-authorization==3.0.0) (1.3.1)\n",
      "Requirement already satisfied: requests~=2.16 in c:\\users\\banide\\gitrepos\\azure-sdk-for-python\\env\\lib\\site-packages (from msrest>=0.7.1->azure-mgmt-authorization==3.0.0) (2.31.0)\n",
      "Requirement already satisfied: six>=1.11.0 in c:\\users\\banide\\gitrepos\\azure-sdk-for-python\\env\\lib\\site-packages (from azure-core<2.0.0,>=1.26.2->azure-mgmt-core<2.0.0,>=1.3.2->azure-mgmt-authorization==3.0.0) (1.16.0)\n",
      "Requirement already satisfied: typing-extensions>=4.3.0 in c:\\users\\banide\\gitrepos\\azure-sdk-for-python\\env\\lib\\site-packages (from azure-core<2.0.0,>=1.26.2->azure-mgmt-core<2.0.0,>=1.3.2->azure-mgmt-authorization==3.0.0) (4.7.1)\n",
      "Requirement already satisfied: charset-normalizer<4,>=2 in c:\\users\\banide\\gitrepos\\azure-sdk-for-python\\env\\lib\\site-packages (from requests~=2.16->msrest>=0.7.1->azure-mgmt-authorization==3.0.0) (3.1.0)\n",
      "Requirement already satisfied: idna<4,>=2.5 in c:\\users\\banide\\gitrepos\\azure-sdk-for-python\\env\\lib\\site-packages (from requests~=2.16->msrest>=0.7.1->azure-mgmt-authorization==3.0.0) (3.4)\n",
      "Requirement already satisfied: urllib3<3,>=1.21.1 in c:\\users\\banide\\gitrepos\\azure-sdk-for-python\\env\\lib\\site-packages (from requests~=2.16->msrest>=0.7.1->azure-mgmt-authorization==3.0.0) (1.26.16)\n",
      "Requirement already satisfied: oauthlib>=3.0.0 in c:\\users\\banide\\gitrepos\\azure-sdk-for-python\\env\\lib\\site-packages (from requests-oauthlib>=0.5.0->msrest>=0.7.1->azure-mgmt-authorization==3.0.0) (3.2.2)\n",
      "Note: you may need to restart the kernel to use updated packages.\n"
     ]
    }
   ],
   "source": [
    "# uncomment the following lines to install the required packages\n",
    "%pip install azure-identity==1.13.0\n",
    "%pip install azure-mgmt-cognitiveservices==13.4.0\n",
    "%pip install azure-ai-ml==1.8.0\n",
    "%pip install azure-mgmt-msi==7.0.0\n",
    "%pip install azure-mgmt-authorization==3.0.0"
   ]
  },
  {
   "attachments": {},
   "cell_type": "markdown",
   "metadata": {},
   "source": [
    "#### 1.4 Get credential"
   ]
  },
  {
   "cell_type": "code",
   "execution_count": 4,
   "metadata": {},
   "outputs": [],
   "source": [
    "from azure.identity import DefaultAzureCredential, InteractiveBrowserCredential\n",
    "\n",
    "try:\n",
    "    credential = DefaultAzureCredential()\n",
    "    # Check if given credential can get token successfully.\n",
    "    credential.get_token(\"https://management.azure.com/.default\")\n",
    "except Exception as ex:\n",
    "    # Fall back to InteractiveBrowserCredential in case DefaultAzureCredential not work\n",
    "    credential = InteractiveBrowserCredential()"
   ]
  },
  {
   "attachments": {},
   "cell_type": "markdown",
   "metadata": {},
   "source": [
    "#### 1.5 Configure workspace "
   ]
  },
  {
   "cell_type": "code",
   "execution_count": 5,
   "metadata": {},
   "outputs": [
    {
     "name": "stdout",
     "output_type": "stream",
     "text": [
      "Connected to workspace bani-llm-ws\n"
     ]
    }
   ],
   "source": [
    "from azure.ai.ml import MLClient\n",
    "\n",
    "try:\n",
    "    ml_client = MLClient.from_config(credential=credential)\n",
    "except Exception as ex:\n",
    "    # enter details of your AML workspace\n",
    "    subscription_id = \"b17253fa-f327-42d6-9686-f3e553e24763\"\n",
    "    resource_group = \"bani-llm\"\n",
    "    workspace = \"bani-llm-ws\"\n",
    "\n",
    "    # get a handle to the workspace\n",
    "    ml_client = MLClient(credential, subscription_id, resource_group, workspace)\n",
    "\n",
    "\n",
    "subscription_id = ml_client.subscription_id\n",
    "resource_group = ml_client.resource_group_name\n",
    "workspace = ml_client.workspace_name\n",
    "\n",
    "print(f\"Connected to workspace {workspace}\")\n"
   ]
  },
  {
   "cell_type": "code",
   "execution_count": 9,
   "metadata": {},
   "outputs": [
    {
     "name": "stdout",
     "output_type": "stream",
     "text": [
      "b17253fa-f327-42d6-9686-f3e553e24763\n"
     ]
    }
   ],
   "source": [
    "print(subscription_id)"
   ]
  },
  {
   "attachments": {},
   "cell_type": "markdown",
   "metadata": {},
   "source": [
    "#### 1.6 Assign variables for Azure Content Safety\n",
    "Currently, Azure AI Content Safety is in a limited set of regions:\n",
    "\n",
    "\n",
    "__NOTE__: before you choose the region to deploy the Azure AI Content Safety, please be aware that your data will be transferred to the region you choose and by selecting a region outside your current location, you may be allowing the transmission of your data to regions outside your jurisdiction. It is important to note that data protection and privacy laws may vary between jurisdictions. Before proceeding, we strongly advise you to familiarize yourself with the local laws and regulations governing data transfer and ensure that you are legally permitted to transmit your data to an overseas location for processing. By continuing with the selection of a different region, you acknowledge that you have understood and accepted any potential risks associated with such data transmission. Please proceed with caution."
   ]
  },
  {
   "cell_type": "code",
   "execution_count": 7,
   "metadata": {},
   "outputs": [
    {
     "name": "stdout",
     "output_type": "stream",
     "text": [
      "Available SKUs:\n",
      "SKU Name\tSKU Tier\tLocations\n",
      "F0\tFree\tCENTRALUSEUAP\n",
      "F0\tFree\tEASTUS\n",
      "F0\tFree\tWESTEUROPE\n",
      "S0\tStandard\tCENTRALUSEUAP\n",
      "S0\tStandard\tEASTUS\n",
      "S0\tStandard\tWESTEUROPE\n",
      "Choose a new Azure AI Content Safety resource in east us with SKU S0\n"
     ]
    }
   ],
   "source": [
    "from azure.mgmt.cognitiveservices import CognitiveServicesManagementClient\n",
    "\n",
    "acs_client = CognitiveServicesManagementClient(credential, subscription_id)\n",
    "\n",
    "\n",
    "# settings for the Azure AI Content Safety resource\n",
    "# we will choose existing AACS resource if it exists, otherwise create a new one\n",
    "# name of azure ai content safety resource, has to be unique\n",
    "import time\n",
    "\n",
    "aacs_name = f\"{endpoint_name}-aacs-{str(time.time()).replace('.','')}\"\n",
    "available_aacs_locations = [\"east us\", \"west europe\"]\n",
    "\n",
    "# create a new Cognitive Services Account\n",
    "kind = \"ContentSafety\"\n",
    "aacs_sku_name = \"S0\"\n",
    "aacs_location = available_aacs_locations[0]\n",
    "\n",
    "\n",
    "print(\"Available SKUs:\")\n",
    "aacs_skus = acs_client.resource_skus.list()\n",
    "print(\"SKU Name\\tSKU Tier\\tLocations\")\n",
    "for sku in aacs_skus:\n",
    "    if sku.kind == \"ContentSafety\":\n",
    "        locations = \",\".join(sku.locations)\n",
    "        print(sku.name + \"\\t\" + sku.tier + \"\\t\" + locations)\n",
    "\n",
    "print(\n",
    "    f\"Choose a new Azure AI Content Safety resource in {aacs_location} with SKU {aacs_sku_name}\"\n",
    ")"
   ]
  },
  {
   "attachments": {},
   "cell_type": "markdown",
   "metadata": {},
   "source": [
    "### 2. Create Azure AI Content Safety"
   ]
  },
  {
   "cell_type": "code",
   "execution_count": 8,
   "metadata": {},
   "outputs": [
    {
     "name": "stdout",
     "output_type": "stream",
     "text": [
      "Creating Azure AI content safety Account bani-llama-endpt-aacs-16891181011306443.\n",
      "Resource created.\n",
      "AACS endpoint is https://bani-llama-endpt-aacs-16891181011306443.cognitiveservices.azure.com/\n",
      "AACS ResourceId is /subscriptions/b17253fa-f327-42d6-9686-f3e553e24763/resourceGroups/bani-llm/providers/Microsoft.CognitiveServices/accounts/bani-llama-endpt-aacs-16891181011306443\n"
     ]
    }
   ],
   "source": [
    "from azure.mgmt.cognitiveservices.models import Account, Sku, AccountProperties\n",
    "\n",
    "\n",
    "parameters = Account(\n",
    "    sku=Sku(name=aacs_sku_name),\n",
    "    kind=kind,\n",
    "    location=aacs_location,\n",
    "    properties=AccountProperties(\n",
    "        custom_sub_domain_name=aacs_name, public_network_access=\"Enabled\"\n",
    "    ),\n",
    ")\n",
    "# How many seconds to wait between checking the status of an async operation.\n",
    "wait_time = 10\n",
    "\n",
    "\n",
    "def find_acs(accounts):\n",
    "    return next(\n",
    "        x\n",
    "        for x in accounts\n",
    "        if x.kind == \"ContentSafety\"\n",
    "        and x.location == aacs_location\n",
    "        and x.sku.name == aacs_sku_name\n",
    "    )\n",
    "\n",
    "\n",
    "try:\n",
    "    # check if AACS exists\n",
    "    aacs = acs_client.accounts.get(resource_group, aacs_name)\n",
    "    print(f\"Found existing Azure AI content safety Account {aacs.name}.\")\n",
    "except:\n",
    "    try:\n",
    "        # check if there is an existing AACS resource within same resource group\n",
    "        aacs = find_acs(acs_client.accounts.list_by_resource_group(resource_group))\n",
    "        print(\n",
    "            f\"Found existing Azure AI content safety Account {aacs.name} in resource group {resource_group}.\"\n",
    "        )\n",
    "    except:\n",
    "        print(f\"Creating Azure AI content safety Account {aacs_name}.\")\n",
    "        acs_client.accounts.begin_create(resource_group, aacs_name, parameters).wait()\n",
    "        print(\"Resource created.\")\n",
    "        aacs = acs_client.accounts.get(resource_group, aacs_name)\n",
    "\n",
    "\n",
    "aacs_endpoint = aacs.properties.endpoint\n",
    "aacs_resource_id = aacs.id\n",
    "print(f\"AACS endpoint is {aacs_endpoint}\")\n",
    "print(f\"AACS ResourceId is {aacs_resource_id}\")\n",
    "\n",
    "aacs_access_key = acs_client.accounts.list_keys(\n",
    "    resource_group_name=resource_group, account_name=aacs.name\n",
    ").key1"
   ]
  },
  {
   "attachments": {},
   "cell_type": "markdown",
   "metadata": {},
   "source": [
    "### 3. Create Azure AI Content Safety enabled Llama batch endpoint"
   ]
  },
  {
   "attachments": {},
   "cell_type": "markdown",
   "metadata": {},
   "source": [
    "#### 3.1 Check if Llama model is available in the AML registry."
   ]
  },
  {
   "cell_type": "code",
   "execution_count": 11,
   "metadata": {},
   "outputs": [
    {
     "name": "stdout",
     "output_type": "stream",
     "text": [
      "Using model name: Llama-2-7b, version: 5, id: azureml://registries/msft-meta-preview/models/Llama-2-7b/versions/5 for inferencing\n"
     ]
    }
   ],
   "source": [
    "reg_client = MLClient(\n",
    "    credential,\n",
    "    subscription_id=subscription_id,\n",
    "    resource_group_name=resource_group,\n",
    "    registry_name=registry_name,\n",
    ")\n",
    "version_list = list(\n",
    "    reg_client.models.list(model_name)\n",
    ")  # list available versions of the model\n",
    "llama_model = None\n",
    "if len(version_list) == 0:\n",
    "    raise Exception(f\"No model named {model_name} found in registry\")\n",
    "else:\n",
    "    model_version = version_list[0].version\n",
    "    llama_model = reg_client.models.get(model_name, model_version)\n",
    "    print(\n",
    "        f\"Using model name: {llama_model.name}, version: {llama_model.version}, id: {llama_model.id} for inferencing\"\n",
    "    )"
   ]
  },
  {
   "attachments": {},
   "cell_type": "markdown",
   "metadata": {},
   "source": [
    "#### 3.2 Create Llama batch endpoint\n",
    "This step may take a few minutes."
   ]
  },
  {
   "cell_type": "code",
   "execution_count": 12,
   "metadata": {},
   "outputs": [
    {
     "name": "stdout",
     "output_type": "stream",
     "text": [
      "\n",
      "---Endpoint created successfully---\n",
      "\n"
     ]
    }
   ],
   "source": [
    "from azure.ai.ml.entities import BatchEndpoint\n",
    "\n",
    "# Check if the endpoint already exists in the workspace\n",
    "try:\n",
    "    endpoint = ml_client.batch_endpoints.get(endpoint_name)\n",
    "    print(\"---Endpoint already exists---\")\n",
    "except:\n",
    "    # Create an batch endpoint if it doesn't exist\n",
    "\n",
    "    # Define the endpoint\n",
    "    endpoint = BatchEndpoint(\n",
    "        name=endpoint_name, description=\"Test endpoint for model\"\n",
    "    )\n",
    "\n",
    "    # Trigger the endpoint creation\n",
    "    try:\n",
    "        ml_client.begin_create_or_update(endpoint).wait()\n",
    "        print(\"\\n---Endpoint created successfully---\\n\")\n",
    "    except Exception as err:\n",
    "        raise RuntimeError(\n",
    "            f\"Endpoint creation failed. Detailed Response:\\n{err}\"\n",
    "        ) from err"
   ]
  },
  {
   "attachments": {},
   "cell_type": "markdown",
   "metadata": {},
   "source": [
    "##### 3.3 Create environment for Llama endpoint\n"
   ]
  },
  {
   "cell_type": "code",
   "execution_count": 13,
   "metadata": {},
   "outputs": [
    {
     "name": "stderr",
     "output_type": "stream",
     "text": [
      "C:\\Users\\banide\\AppData\\Local\\Temp\\ipykernel_8332\\3332616466.py:1: DeprecationWarning: Importing display from IPython.core.display is deprecated since IPython 7.14, please import from IPython display\n",
      "  from IPython.core.display import display, HTML\n"
     ]
    },
    {
     "name": "stdout",
     "output_type": "stream",
     "text": [
      "---Creating environment---\n"
     ]
    },
    {
     "name": "stderr",
     "output_type": "stream",
     "text": [
      "\u001b[32mUploading docker_env (0.0 MBs): 100%|##########| 999/999 [00:00<00:00, 3022.23it/s]\n",
      "\u001b[39m\n",
      "\n"
     ]
    },
    {
     "name": "stdout",
     "output_type": "stream",
     "text": [
      "---Please use link below to check build status---\n"
     ]
    },
    {
     "data": {
      "text/html": [
       "\n",
       "             <a href=\"https://ml.azure.com/environments/bani-llama-endpt-env/version/1?wsid=/subscriptions/b17253fa-f327-42d6-9686-f3e553e24763/resourceGroups/bani-llm/providers/Microsoft.MachineLearningServices/workspaces/bani-llm-ws\">\n",
       "                Click here to check env build status in AML studio\n",
       "             </a>\n",
       "             "
      ],
      "text/plain": [
       "<IPython.core.display.HTML object>"
      ]
     },
     "metadata": {},
     "output_type": "display_data"
    }
   ],
   "source": [
    "from IPython.core.display import display, HTML\n",
    "from azure.ai.ml.entities import Environment, BuildContext\n",
    "\n",
    "try:\n",
    "    env = ml_client.environments.get(environment_name, label=\"latest\")\n",
    "    print(\"---Environment already exists---\")\n",
    "except:\n",
    "    print(\"---Creating environment---\")\n",
    "    env = Environment(\n",
    "        name=environment_name, build=BuildContext(path=\"./llama-files/docker_env\")\n",
    "    )\n",
    "    ml_client.environments.create_or_update(env)\n",
    "    env = ml_client.environments.get(environment_name, label=\"latest\")\n",
    "    print(\"---Please use link below to check build status---\")\n",
    "\n",
    "\n",
    "display(\n",
    "    HTML(\n",
    "        f\"\"\"\n",
    "             <a href=\"https://ml.azure.com/environments/{environment_name}/version/{env.version}?wsid=/subscriptions/{subscription_id}/resourceGroups/{resource_group}/providers/Microsoft.MachineLearningServices/workspaces/{workspace}\">\n",
    "                Click here to check env build status in AML studio\n",
    "             </a>\n",
    "             \"\"\"\n",
    "    )\n",
    ")"
   ]
  },
  {
   "cell_type": "code",
   "execution_count": 15,
   "metadata": {},
   "outputs": [],
   "source": [
    "from azure.ai.ml import Input\n",
    "from azure.ai.ml.entities import (\n",
    "    BatchEndpoint,\n",
    "    ModelBatchDeployment,\n",
    "    ModelBatchDeploymentSettings,\n",
    "    Model,\n",
    "    AmlCompute,\n",
    "    Data,\n",
    "    BatchRetrySettings,\n",
    "    CodeConfiguration,\n",
    "    Environment,\n",
    ")\n",
    "from azure.ai.ml.constants import AssetTypes, BatchDeploymentOutputAction\n",
    "\n",
    "compute_name = \"gpu-cluster\"\n",
    "if not any(filter(lambda m: m.name == compute_name, ml_client.compute.list())):\n",
    "    compute_cluster = AmlCompute(\n",
    "        name=compute_name,\n",
    "        description=\"GPU cluster compute\",\n",
    "        size=\"Standard_Nc6\",\n",
    "        min_instances=0,\n",
    "        max_instances=2,\n",
    "    )\n",
    "    ml_client.compute.begin_create_or_update(compute_cluster).result()"
   ]
  },
  {
   "attachments": {},
   "cell_type": "markdown",
   "metadata": {},
   "source": [
    "##### 3.4 Deploy Llama model\n",
    "This step may take a few minutes."
   ]
  },
  {
   "cell_type": "code",
   "execution_count": 30,
   "metadata": {},
   "outputs": [
    {
     "ename": "RuntimeError",
     "evalue": "Deployment creation failed. Detailed Response:\n(UserError) The Deployment request provided has the following validation errors. Please resolve them and try again.\nErrors:\n[\n  {\n    \"PropertyName\": \"DeploymentName\",\n    \"ErrorMessage\": \"Deployment name must start with an alphabet, end with an alpha-numeric character and can contain alpha-numeric characters and dashes.\",\n    \"AttemptedValue\": \"deployment_name\",\n    \"ErrorCode\": \"ArgumentInvalid\"\n  }\n]\n\nCode: UserError\nMessage: The Deployment request provided has the following validation errors. Please resolve them and try again.\nErrors:\n[\n  {\n    \"PropertyName\": \"DeploymentName\",\n    \"ErrorMessage\": \"Deployment name must start with an alphabet, end with an alpha-numeric character and can contain alpha-numeric characters and dashes.\",\n    \"AttemptedValue\": \"deployment_name\",\n    \"ErrorCode\": \"ArgumentInvalid\"\n  }\n]\n\nAdditional Information:Type: ComponentName\nInfo: {\n    \"value\": \"managementfrontend\"\n}Type: Correlation\nInfo: {\n    \"value\": {\n        \"operation\": \"74e860fb8a5e09885920a63bbdcdea56\",\n        \"request\": \"6ba19b826452f544\"\n    }\n}Type: Environment\nInfo: {\n    \"value\": \"eastus2\"\n}Type: Location\nInfo: {\n    \"value\": \"eastus2\"\n}Type: Time\nInfo: {\n    \"value\": \"2023-07-12T00:09:55.2972019+00:00\"\n}Type: InnerError\nInfo: {\n    \"value\": {\n        \"code\": \"BadArgument\",\n        \"innerError\": {\n            \"code\": \"ArgumentInvalid\",\n            \"innerError\": {\n                \"code\": \"InvalidInputArguments\",\n                \"innerError\": null\n            }\n        }\n    }\n}",
     "output_type": "error",
     "traceback": [
      "\u001b[1;31m---------------------------------------------------------------------------\u001b[0m",
      "\u001b[1;31mHttpResponseError\u001b[0m                         Traceback (most recent call last)",
      "Cell \u001b[1;32mIn[30], line 29\u001b[0m\n\u001b[0;32m     28\u001b[0m \u001b[39mtry\u001b[39;00m:\n\u001b[1;32m---> 29\u001b[0m     ml_client\u001b[39m.\u001b[39;49mbegin_create_or_update(deployment)\u001b[39m.\u001b[39mwait()\n\u001b[0;32m     30\u001b[0m     \u001b[39mprint\u001b[39m(\u001b[39m\"\u001b[39m\u001b[39m\\n\u001b[39;00m\u001b[39m---Deployment created successfully---\u001b[39m\u001b[39m\\n\u001b[39;00m\u001b[39m\"\u001b[39m)\n",
      "File \u001b[1;32mc:\\Users\\banide\\gitrepos\\azure-sdk-for-python\\env\\Lib\\site-packages\\azure\\ai\\ml\\_ml_client.py:938\u001b[0m, in \u001b[0;36mMLClient.begin_create_or_update\u001b[1;34m(self, entity, **kwargs)\u001b[0m\n\u001b[0;32m    924\u001b[0m \u001b[39m\u001b[39m\u001b[39m\"\"\"Creates or updates an Azure ML resource asynchronously.\u001b[39;00m\n\u001b[0;32m    925\u001b[0m \n\u001b[0;32m    926\u001b[0m \u001b[39m:param entity: The resource to create or update.\u001b[39;00m\n\u001b[1;32m   (...)\u001b[0m\n\u001b[0;32m    935\u001b[0m \u001b[39m    , ~azure.ai.ml.entities.BatchEndpoint, ~azure.ai.ml.entities.Schedule]]\u001b[39;00m\n\u001b[0;32m    936\u001b[0m \u001b[39m\"\"\"\u001b[39;00m\n\u001b[1;32m--> 938\u001b[0m \u001b[39mreturn\u001b[39;00m _begin_create_or_update(entity, \u001b[39mself\u001b[39;49m\u001b[39m.\u001b[39;49m_operation_container\u001b[39m.\u001b[39;49mall_operations, \u001b[39m*\u001b[39;49m\u001b[39m*\u001b[39;49mkwargs)\n",
      "File \u001b[1;32mC:\\Program Files\\WindowsApps\\PythonSoftwareFoundation.Python.3.11_3.11.1264.0_x64__qbz5n2kfra8p0\\Lib\\functools.py:909\u001b[0m, in \u001b[0;36msingledispatch.<locals>.wrapper\u001b[1;34m(*args, **kw)\u001b[0m\n\u001b[0;32m    906\u001b[0m     \u001b[39mraise\u001b[39;00m \u001b[39mTypeError\u001b[39;00m(\u001b[39mf\u001b[39m\u001b[39m'\u001b[39m\u001b[39m{\u001b[39;00mfuncname\u001b[39m}\u001b[39;00m\u001b[39m requires at least \u001b[39m\u001b[39m'\u001b[39m\n\u001b[0;32m    907\u001b[0m                     \u001b[39m'\u001b[39m\u001b[39m1 positional argument\u001b[39m\u001b[39m'\u001b[39m)\n\u001b[1;32m--> 909\u001b[0m \u001b[39mreturn\u001b[39;00m dispatch(args[\u001b[39m0\u001b[39;49m]\u001b[39m.\u001b[39;49m\u001b[39m__class__\u001b[39;49m)(\u001b[39m*\u001b[39;49margs, \u001b[39m*\u001b[39;49m\u001b[39m*\u001b[39;49mkw)\n",
      "File \u001b[1;32mc:\\Users\\banide\\gitrepos\\azure-sdk-for-python\\env\\Lib\\site-packages\\azure\\ai\\ml\\_ml_client.py:1050\u001b[0m, in \u001b[0;36m_\u001b[1;34m(entity, operations, *args, **kwargs)\u001b[0m\n\u001b[0;32m   1049\u001b[0m module_logger\u001b[39m.\u001b[39mdebug(\u001b[39m\"\u001b[39m\u001b[39mCreating or updating batch_deployments\u001b[39m\u001b[39m\"\u001b[39m)\n\u001b[1;32m-> 1050\u001b[0m \u001b[39mreturn\u001b[39;00m operations[AzureMLResourceType\u001b[39m.\u001b[39;49mBATCH_DEPLOYMENT]\u001b[39m.\u001b[39;49mbegin_create_or_update(entity, \u001b[39m*\u001b[39;49m\u001b[39m*\u001b[39;49mkwargs)\n",
      "File \u001b[1;32mc:\\Users\\banide\\gitrepos\\azure-sdk-for-python\\env\\Lib\\site-packages\\azure\\core\\tracing\\decorator.py:76\u001b[0m, in \u001b[0;36mdistributed_trace.<locals>.decorator.<locals>.wrapper_use_tracer\u001b[1;34m(*args, **kwargs)\u001b[0m\n\u001b[0;32m     75\u001b[0m \u001b[39mif\u001b[39;00m span_impl_type \u001b[39mis\u001b[39;00m \u001b[39mNone\u001b[39;00m:\n\u001b[1;32m---> 76\u001b[0m     \u001b[39mreturn\u001b[39;00m func(\u001b[39m*\u001b[39;49margs, \u001b[39m*\u001b[39;49m\u001b[39m*\u001b[39;49mkwargs)\n\u001b[0;32m     78\u001b[0m \u001b[39m# Merge span is parameter is set, but only if no explicit parent are passed\u001b[39;00m\n",
      "File \u001b[1;32mc:\\Users\\banide\\gitrepos\\azure-sdk-for-python\\env\\Lib\\site-packages\\azure\\ai\\ml\\_telemetry\\activity.py:263\u001b[0m, in \u001b[0;36mmonitor_with_activity.<locals>.monitor.<locals>.wrapper\u001b[1;34m(*args, **kwargs)\u001b[0m\n\u001b[0;32m    262\u001b[0m \u001b[39mwith\u001b[39;00m log_activity(logger, activity_name \u001b[39mor\u001b[39;00m f\u001b[39m.\u001b[39m\u001b[39m__name__\u001b[39m, activity_type, custom_dimensions):\n\u001b[1;32m--> 263\u001b[0m     \u001b[39mreturn\u001b[39;00m f(\u001b[39m*\u001b[39;49margs, \u001b[39m*\u001b[39;49m\u001b[39m*\u001b[39;49mkwargs)\n",
      "File \u001b[1;32mc:\\Users\\banide\\gitrepos\\azure-sdk-for-python\\env\\Lib\\site-packages\\azure\\ai\\ml\\operations\\_batch_deployment_operations.py:152\u001b[0m, in \u001b[0;36mBatchDeploymentOperations.begin_create_or_update\u001b[1;34m(self, deployment, skip_script_validation, **kwargs)\u001b[0m\n\u001b[0;32m    151\u001b[0m \u001b[39mexcept\u001b[39;00m \u001b[39mException\u001b[39;00m \u001b[39mas\u001b[39;00m ex:\n\u001b[1;32m--> 152\u001b[0m     \u001b[39mraise\u001b[39;00m ex\n",
      "File \u001b[1;32mc:\\Users\\banide\\gitrepos\\azure-sdk-for-python\\env\\Lib\\site-packages\\azure\\ai\\ml\\operations\\_batch_deployment_operations.py:142\u001b[0m, in \u001b[0;36mBatchDeploymentOperations.begin_create_or_update\u001b[1;34m(self, deployment, skip_script_validation, **kwargs)\u001b[0m\n\u001b[0;32m    141\u001b[0m     \u001b[39melse\u001b[39;00m:\n\u001b[1;32m--> 142\u001b[0m         \u001b[39mreturn\u001b[39;00m \u001b[39mself\u001b[39;49m\u001b[39m.\u001b[39;49m_batch_deployment\u001b[39m.\u001b[39;49mbegin_create_or_update(\n\u001b[0;32m    143\u001b[0m             resource_group_name\u001b[39m=\u001b[39;49m\u001b[39mself\u001b[39;49m\u001b[39m.\u001b[39;49m_resource_group_name,\n\u001b[0;32m    144\u001b[0m             workspace_name\u001b[39m=\u001b[39;49m\u001b[39mself\u001b[39;49m\u001b[39m.\u001b[39;49m_workspace_name,\n\u001b[0;32m    145\u001b[0m             endpoint_name\u001b[39m=\u001b[39;49mdeployment\u001b[39m.\u001b[39;49mendpoint_name,\n\u001b[0;32m    146\u001b[0m             deployment_name\u001b[39m=\u001b[39;49mdeployment\u001b[39m.\u001b[39;49mname,\n\u001b[0;32m    147\u001b[0m             body\u001b[39m=\u001b[39;49mdeployment_rest,\n\u001b[0;32m    148\u001b[0m             \u001b[39m*\u001b[39;49m\u001b[39m*\u001b[39;49m\u001b[39mself\u001b[39;49m\u001b[39m.\u001b[39;49m_init_kwargs,\n\u001b[0;32m    149\u001b[0m             \u001b[39mcls\u001b[39;49m\u001b[39m=\u001b[39;49m\u001b[39mlambda\u001b[39;49;00m response, deserialized, headers: BatchDeployment\u001b[39m.\u001b[39;49m_from_rest_object(deserialized),\n\u001b[0;32m    150\u001b[0m         )\n\u001b[0;32m    151\u001b[0m \u001b[39mexcept\u001b[39;00m \u001b[39mException\u001b[39;00m \u001b[39mas\u001b[39;00m ex:\n",
      "File \u001b[1;32mc:\\Users\\banide\\gitrepos\\azure-sdk-for-python\\env\\Lib\\site-packages\\azure\\core\\tracing\\decorator.py:76\u001b[0m, in \u001b[0;36mdistributed_trace.<locals>.decorator.<locals>.wrapper_use_tracer\u001b[1;34m(*args, **kwargs)\u001b[0m\n\u001b[0;32m     75\u001b[0m \u001b[39mif\u001b[39;00m span_impl_type \u001b[39mis\u001b[39;00m \u001b[39mNone\u001b[39;00m:\n\u001b[1;32m---> 76\u001b[0m     \u001b[39mreturn\u001b[39;00m func(\u001b[39m*\u001b[39;49margs, \u001b[39m*\u001b[39;49m\u001b[39m*\u001b[39;49mkwargs)\n\u001b[0;32m     78\u001b[0m \u001b[39m# Merge span is parameter is set, but only if no explicit parent are passed\u001b[39;00m\n",
      "File \u001b[1;32mc:\\Users\\banide\\gitrepos\\azure-sdk-for-python\\env\\Lib\\site-packages\\azure\\ai\\ml\\_restclient\\v2022_05_01\\operations\\_batch_deployments_operations.py:804\u001b[0m, in \u001b[0;36mBatchDeploymentsOperations.begin_create_or_update\u001b[1;34m(self, resource_group_name, workspace_name, endpoint_name, deployment_name, body, **kwargs)\u001b[0m\n\u001b[0;32m    803\u001b[0m \u001b[39mif\u001b[39;00m cont_token \u001b[39mis\u001b[39;00m \u001b[39mNone\u001b[39;00m:\n\u001b[1;32m--> 804\u001b[0m     raw_result \u001b[39m=\u001b[39m \u001b[39mself\u001b[39;49m\u001b[39m.\u001b[39;49m_create_or_update_initial(\n\u001b[0;32m    805\u001b[0m         resource_group_name\u001b[39m=\u001b[39;49mresource_group_name,\n\u001b[0;32m    806\u001b[0m         workspace_name\u001b[39m=\u001b[39;49mworkspace_name,\n\u001b[0;32m    807\u001b[0m         endpoint_name\u001b[39m=\u001b[39;49mendpoint_name,\n\u001b[0;32m    808\u001b[0m         deployment_name\u001b[39m=\u001b[39;49mdeployment_name,\n\u001b[0;32m    809\u001b[0m         body\u001b[39m=\u001b[39;49mbody,\n\u001b[0;32m    810\u001b[0m         content_type\u001b[39m=\u001b[39;49mcontent_type,\n\u001b[0;32m    811\u001b[0m         \u001b[39mcls\u001b[39;49m\u001b[39m=\u001b[39;49m\u001b[39mlambda\u001b[39;49;00m x,y,z: x,\n\u001b[0;32m    812\u001b[0m         \u001b[39m*\u001b[39;49m\u001b[39m*\u001b[39;49mkwargs\n\u001b[0;32m    813\u001b[0m     )\n\u001b[0;32m    814\u001b[0m kwargs\u001b[39m.\u001b[39mpop(\u001b[39m'\u001b[39m\u001b[39merror_map\u001b[39m\u001b[39m'\u001b[39m, \u001b[39mNone\u001b[39;00m)\n",
      "File \u001b[1;32mc:\\Users\\banide\\gitrepos\\azure-sdk-for-python\\env\\Lib\\site-packages\\azure\\ai\\ml\\_restclient\\v2022_05_01\\operations\\_batch_deployments_operations.py:736\u001b[0m, in \u001b[0;36mBatchDeploymentsOperations._create_or_update_initial\u001b[1;34m(self, resource_group_name, workspace_name, endpoint_name, deployment_name, body, **kwargs)\u001b[0m\n\u001b[0;32m    735\u001b[0m     map_error(status_code\u001b[39m=\u001b[39mresponse\u001b[39m.\u001b[39mstatus_code, response\u001b[39m=\u001b[39mresponse, error_map\u001b[39m=\u001b[39merror_map)\n\u001b[1;32m--> 736\u001b[0m     \u001b[39mraise\u001b[39;00m HttpResponseError(response\u001b[39m=\u001b[39mresponse, error_format\u001b[39m=\u001b[39mARMErrorFormat)\n\u001b[0;32m    738\u001b[0m response_headers \u001b[39m=\u001b[39m {}\n",
      "\u001b[1;31mHttpResponseError\u001b[0m: (UserError) The Deployment request provided has the following validation errors. Please resolve them and try again.\nErrors:\n[\n  {\n    \"PropertyName\": \"DeploymentName\",\n    \"ErrorMessage\": \"Deployment name must start with an alphabet, end with an alpha-numeric character and can contain alpha-numeric characters and dashes.\",\n    \"AttemptedValue\": \"deployment_name\",\n    \"ErrorCode\": \"ArgumentInvalid\"\n  }\n]\n\nCode: UserError\nMessage: The Deployment request provided has the following validation errors. Please resolve them and try again.\nErrors:\n[\n  {\n    \"PropertyName\": \"DeploymentName\",\n    \"ErrorMessage\": \"Deployment name must start with an alphabet, end with an alpha-numeric character and can contain alpha-numeric characters and dashes.\",\n    \"AttemptedValue\": \"deployment_name\",\n    \"ErrorCode\": \"ArgumentInvalid\"\n  }\n]\n\nAdditional Information:Type: ComponentName\nInfo: {\n    \"value\": \"managementfrontend\"\n}Type: Correlation\nInfo: {\n    \"value\": {\n        \"operation\": \"74e860fb8a5e09885920a63bbdcdea56\",\n        \"request\": \"6ba19b826452f544\"\n    }\n}Type: Environment\nInfo: {\n    \"value\": \"eastus2\"\n}Type: Location\nInfo: {\n    \"value\": \"eastus2\"\n}Type: Time\nInfo: {\n    \"value\": \"2023-07-12T00:09:55.2972019+00:00\"\n}Type: InnerError\nInfo: {\n    \"value\": {\n        \"code\": \"BadArgument\",\n        \"innerError\": {\n            \"code\": \"ArgumentInvalid\",\n            \"innerError\": {\n                \"code\": \"InvalidInputArguments\",\n                \"innerError\": null\n            }\n        }\n    }\n}",
      "\nThe above exception was the direct cause of the following exception:\n",
      "\u001b[1;31mRuntimeError\u001b[0m                              Traceback (most recent call last)",
      "Cell \u001b[1;32mIn[30], line 32\u001b[0m\n\u001b[0;32m     30\u001b[0m     \u001b[39mprint\u001b[39m(\u001b[39m\"\u001b[39m\u001b[39m\\n\u001b[39;00m\u001b[39m---Deployment created successfully---\u001b[39m\u001b[39m\\n\u001b[39;00m\u001b[39m\"\u001b[39m)\n\u001b[0;32m     31\u001b[0m \u001b[39mexcept\u001b[39;00m \u001b[39mException\u001b[39;00m \u001b[39mas\u001b[39;00m err:\n\u001b[1;32m---> 32\u001b[0m     \u001b[39mraise\u001b[39;00m \u001b[39mRuntimeError\u001b[39;00m(\n\u001b[0;32m     33\u001b[0m         \u001b[39mf\u001b[39m\u001b[39m\"\u001b[39m\u001b[39mDeployment creation failed. Detailed Response:\u001b[39m\u001b[39m\\n\u001b[39;00m\u001b[39m{\u001b[39;00merr\u001b[39m}\u001b[39;00m\u001b[39m\"\u001b[39m\n\u001b[0;32m     34\u001b[0m     ) \u001b[39mfrom\u001b[39;00m \u001b[39merr\u001b[39;00m\n",
      "\u001b[1;31mRuntimeError\u001b[0m: Deployment creation failed. Detailed Response:\n(UserError) The Deployment request provided has the following validation errors. Please resolve them and try again.\nErrors:\n[\n  {\n    \"PropertyName\": \"DeploymentName\",\n    \"ErrorMessage\": \"Deployment name must start with an alphabet, end with an alpha-numeric character and can contain alpha-numeric characters and dashes.\",\n    \"AttemptedValue\": \"deployment_name\",\n    \"ErrorCode\": \"ArgumentInvalid\"\n  }\n]\n\nCode: UserError\nMessage: The Deployment request provided has the following validation errors. Please resolve them and try again.\nErrors:\n[\n  {\n    \"PropertyName\": \"DeploymentName\",\n    \"ErrorMessage\": \"Deployment name must start with an alphabet, end with an alpha-numeric character and can contain alpha-numeric characters and dashes.\",\n    \"AttemptedValue\": \"deployment_name\",\n    \"ErrorCode\": \"ArgumentInvalid\"\n  }\n]\n\nAdditional Information:Type: ComponentName\nInfo: {\n    \"value\": \"managementfrontend\"\n}Type: Correlation\nInfo: {\n    \"value\": {\n        \"operation\": \"74e860fb8a5e09885920a63bbdcdea56\",\n        \"request\": \"6ba19b826452f544\"\n    }\n}Type: Environment\nInfo: {\n    \"value\": \"eastus2\"\n}Type: Location\nInfo: {\n    \"value\": \"eastus2\"\n}Type: Time\nInfo: {\n    \"value\": \"2023-07-12T00:09:55.2972019+00:00\"\n}Type: InnerError\nInfo: {\n    \"value\": {\n        \"code\": \"BadArgument\",\n        \"innerError\": {\n            \"code\": \"ArgumentInvalid\",\n            \"innerError\": {\n                \"code\": \"InvalidInputArguments\",\n                \"innerError\": null\n            }\n        }\n    }\n}"
     ]
    }
   ],
   "source": [
    "import os\n",
    "deployment = ModelBatchDeployment(\n",
    "    name=deployment_name,\n",
    "    endpoint_name=endpoint.name,\n",
    "    model=llama_model,\n",
    "    environment=env,\n",
    "    code_configuration=CodeConfiguration(\n",
    "        code=\"llama-files/score\",\n",
    "        scoring_script=\"score_batch.py\",\n",
    "    ),\n",
    "    compute=compute_name,\n",
    "    environment_variables={\n",
    "        \"MLFLOW_MODEL_FOLDER\": os.path.basename(llama_model.path),\n",
    "        \"CONTENT_SAFETY_ENDPOINT\": aacs_endpoint,\n",
    "        \"CONTENT_SAFETY_KEY\": aacs_access_key,\n",
    "    },\n",
    "    settings=ModelBatchDeploymentSettings(\n",
    "        instance_count=1,\n",
    "        max_concurrency_per_instance=1,\n",
    "        mini_batch_size=1,\n",
    "        output_action=BatchDeploymentOutputAction.APPEND_ROW,\n",
    "        output_file_name=\"predictions.csv\",\n",
    "        retry_settings=BatchRetrySettings(max_retries=3, timeout=3000),\n",
    "        logging_level=\"info\",\n",
    "    ),\n",
    ")\n",
    "# Trigger the deployment creation\n",
    "try:\n",
    "    ml_client.begin_create_or_update(deployment).wait()\n",
    "    print(\"\\n---Deployment created successfully---\\n\")\n",
    "except Exception as err:\n",
    "    raise RuntimeError(\n",
    "        f\"Deployment creation failed. Detailed Response:\\n{err}\"\n",
    "    ) from err"
   ]
  },
  {
   "cell_type": "code",
   "execution_count": 26,
   "metadata": {},
   "outputs": [
    {
     "data": {
      "text/plain": [
       "<azure.ai.ml._restclient.v2022_05_01.models._models_py3.BatchEndpointData at 0x2a06d189090>"
      ]
     },
     "execution_count": 26,
     "metadata": {},
     "output_type": "execute_result"
    }
   ],
   "source": [
    "endpoint = ml_client.batch_endpoints.get(endpoint_name)\n",
    "endpoint.defaults.deployment_name = deployment.name\n",
    "ml_client.batch_endpoints.begin_create_or_update(endpoint).result()"
   ]
  },
  {
   "attachments": {},
   "cell_type": "markdown",
   "metadata": {},
   "source": [
    "### 4. Test the Safety Enabled Llama batch endpoint."
   ]
  },
  {
   "cell_type": "code",
   "execution_count": 20,
   "metadata": {},
   "outputs": [],
   "source": [
    "data_path = \"llama-files/data\"\n",
    "dataset_name = \"summary-small\"\n",
    "\n",
    "summary_data = Data(\n",
    "    path=data_path,\n",
    "    type=AssetTypes.URI_FOLDER,\n",
    "    description=\"A sample of the  dataset for text generation, in CSV file format\",\n",
    "    name=dataset_name,\n",
    ")"
   ]
  },
  {
   "cell_type": "code",
   "execution_count": 21,
   "metadata": {},
   "outputs": [
    {
     "name": "stderr",
     "output_type": "stream",
     "text": [
      "\u001b[32mUploading data (0.0 MBs): 100%|##########| 1268/1268 [00:00<00:00, 3822.24it/s]\n",
      "\u001b[39m\n",
      "\n"
     ]
    }
   ],
   "source": [
    "summary_data = ml_client.data.create_or_update(summary_data)"
   ]
  },
  {
   "cell_type": "code",
   "execution_count": 22,
   "metadata": {},
   "outputs": [
    {
     "name": "stdout",
     "output_type": "stream",
     "text": [
      "Waiting for data asset summary-small [DONE]\n"
     ]
    }
   ],
   "source": [
    "from time import sleep\n",
    "\n",
    "print(f\"Waiting for data asset {dataset_name}\", end=\"\")\n",
    "while not any(filter(lambda m: m.name == dataset_name, ml_client.data.list())):\n",
    "    sleep(10)\n",
    "    print(\".\", end=\"\")\n",
    "\n",
    "print(\" [DONE]\")"
   ]
  },
  {
   "cell_type": "code",
   "execution_count": 23,
   "metadata": {},
   "outputs": [],
   "source": [
    "summary_data = ml_client.data.get(name=dataset_name, label=\"latest\")"
   ]
  },
  {
   "cell_type": "code",
   "execution_count": 24,
   "metadata": {},
   "outputs": [],
   "source": [
    "input = Input(type=AssetTypes.URI_FOLDER, path=summary_data.id)"
   ]
  },
  {
   "cell_type": "code",
   "execution_count": 29,
   "metadata": {},
   "outputs": [
    {
     "ename": "ServiceResponseError",
     "evalue": "HTTPSConnectionPool(host='bani-llama-endpt.eastus2.inference.ml.azure.com', port=443): Read timed out. (read timeout=300)",
     "output_type": "error",
     "traceback": [
      "\u001b[1;31m---------------------------------------------------------------------------\u001b[0m",
      "\u001b[1;31mServiceResponseError\u001b[0m                      Traceback (most recent call last)",
      "Cell \u001b[1;32mIn[29], line 1\u001b[0m\n\u001b[1;32m----> 1\u001b[0m job \u001b[39m=\u001b[39m ml_client\u001b[39m.\u001b[39;49mbatch_endpoints\u001b[39m.\u001b[39;49minvoke(endpoint_name\u001b[39m=\u001b[39;49mendpoint\u001b[39m.\u001b[39;49mname, \u001b[39minput\u001b[39;49m\u001b[39m=\u001b[39;49m\u001b[39minput\u001b[39;49m)\n",
      "File \u001b[1;32mc:\\Users\\banide\\gitrepos\\azure-sdk-for-python\\env\\Lib\\site-packages\\azure\\core\\tracing\\decorator.py:76\u001b[0m, in \u001b[0;36mdistributed_trace.<locals>.decorator.<locals>.wrapper_use_tracer\u001b[1;34m(*args, **kwargs)\u001b[0m\n\u001b[0;32m     74\u001b[0m span_impl_type \u001b[39m=\u001b[39m settings\u001b[39m.\u001b[39mtracing_implementation()\n\u001b[0;32m     75\u001b[0m \u001b[39mif\u001b[39;00m span_impl_type \u001b[39mis\u001b[39;00m \u001b[39mNone\u001b[39;00m:\n\u001b[1;32m---> 76\u001b[0m     \u001b[39mreturn\u001b[39;00m func(\u001b[39m*\u001b[39;49margs, \u001b[39m*\u001b[39;49m\u001b[39m*\u001b[39;49mkwargs)\n\u001b[0;32m     78\u001b[0m \u001b[39m# Merge span is parameter is set, but only if no explicit parent are passed\u001b[39;00m\n\u001b[0;32m     79\u001b[0m \u001b[39mif\u001b[39;00m merge_span \u001b[39mand\u001b[39;00m \u001b[39mnot\u001b[39;00m passed_in_parent:\n",
      "File \u001b[1;32mc:\\Users\\banide\\gitrepos\\azure-sdk-for-python\\env\\Lib\\site-packages\\azure\\ai\\ml\\_telemetry\\activity.py:263\u001b[0m, in \u001b[0;36mmonitor_with_activity.<locals>.monitor.<locals>.wrapper\u001b[1;34m(*args, **kwargs)\u001b[0m\n\u001b[0;32m    260\u001b[0m \u001b[39m@functools\u001b[39m\u001b[39m.\u001b[39mwraps(f)\n\u001b[0;32m    261\u001b[0m \u001b[39mdef\u001b[39;00m \u001b[39mwrapper\u001b[39m(\u001b[39m*\u001b[39margs, \u001b[39m*\u001b[39m\u001b[39m*\u001b[39mkwargs):\n\u001b[0;32m    262\u001b[0m     \u001b[39mwith\u001b[39;00m log_activity(logger, activity_name \u001b[39mor\u001b[39;00m f\u001b[39m.\u001b[39m\u001b[39m__name__\u001b[39m, activity_type, custom_dimensions):\n\u001b[1;32m--> 263\u001b[0m         \u001b[39mreturn\u001b[39;00m f(\u001b[39m*\u001b[39;49margs, \u001b[39m*\u001b[39;49m\u001b[39m*\u001b[39;49mkwargs)\n",
      "File \u001b[1;32mc:\\Users\\banide\\gitrepos\\azure-sdk-for-python\\env\\Lib\\site-packages\\azure\\ai\\ml\\operations\\_batch_endpoint_operations.py:311\u001b[0m, in \u001b[0;36mBatchEndpointOperations.invoke\u001b[1;34m(self, endpoint_name, deployment_name, inputs, **kwargs)\u001b[0m\n\u001b[0;32m    308\u001b[0m \u001b[39mif\u001b[39;00m deployment_name:\n\u001b[0;32m    309\u001b[0m     headers[EndpointInvokeFields\u001b[39m.\u001b[39mMODEL_DEPLOYMENT] \u001b[39m=\u001b[39m deployment_name\n\u001b[1;32m--> 311\u001b[0m response \u001b[39m=\u001b[39m \u001b[39mself\u001b[39;49m\u001b[39m.\u001b[39;49m_requests_pipeline\u001b[39m.\u001b[39;49mpost(\n\u001b[0;32m    312\u001b[0m     endpoint\u001b[39m.\u001b[39;49mproperties\u001b[39m.\u001b[39;49mscoring_uri,\n\u001b[0;32m    313\u001b[0m     json\u001b[39m=\u001b[39;49mBatchJobResource(properties\u001b[39m=\u001b[39;49mbatch_job)\u001b[39m.\u001b[39;49mserialize(),\n\u001b[0;32m    314\u001b[0m     headers\u001b[39m=\u001b[39;49mheaders,\n\u001b[0;32m    315\u001b[0m )\n\u001b[0;32m    316\u001b[0m validate_response(response)\n\u001b[0;32m    317\u001b[0m batch_job \u001b[39m=\u001b[39m json\u001b[39m.\u001b[39mloads(response\u001b[39m.\u001b[39mtext())\n",
      "File \u001b[1;32mc:\\Users\\banide\\gitrepos\\azure-sdk-for-python\\env\\Lib\\site-packages\\azure\\ai\\ml\\_utils\\_http_utils.py:63\u001b[0m, in \u001b[0;36m_request_function.<locals>._.<locals>.decorated\u001b[1;34m(self, *args, **kwargs)\u001b[0m\n\u001b[0;32m     44\u001b[0m \u001b[39m\u001b[39m\u001b[39m\"\"\"A function that sends an HTTP request and returns the response.\u001b[39;00m\n\u001b[0;32m     45\u001b[0m \n\u001b[0;32m     46\u001b[0m \u001b[39mAccepts the same parameters as azure.core.rest.HttpRequest, except for the method.\u001b[39;00m\n\u001b[1;32m   (...)\u001b[0m\n\u001b[0;32m     50\u001b[0m \u001b[39m:return HttpResponse:\u001b[39;00m\n\u001b[0;32m     51\u001b[0m \u001b[39m\"\"\"\u001b[39;00m\n\u001b[0;32m     52\u001b[0m request \u001b[39m=\u001b[39m HttpRequest(\n\u001b[0;32m     53\u001b[0m     f\u001b[39m.\u001b[39m\u001b[39m__name__\u001b[39m\u001b[39m.\u001b[39mupper(),\n\u001b[0;32m     54\u001b[0m     \u001b[39m*\u001b[39margs,\n\u001b[1;32m   (...)\u001b[0m\n\u001b[0;32m     60\u001b[0m     files\u001b[39m=\u001b[39mkwargs\u001b[39m.\u001b[39mpop(\u001b[39m\"\u001b[39m\u001b[39mfiles\u001b[39m\u001b[39m\"\u001b[39m, \u001b[39mNone\u001b[39;00m),\n\u001b[0;32m     61\u001b[0m )\n\u001b[1;32m---> 63\u001b[0m \u001b[39mreturn\u001b[39;00m \u001b[39mself\u001b[39;49m\u001b[39m.\u001b[39;49mrun(request, \u001b[39m*\u001b[39;49m\u001b[39m*\u001b[39;49mkwargs)\u001b[39m.\u001b[39mhttp_response\n",
      "File \u001b[1;32mc:\\Users\\banide\\gitrepos\\azure-sdk-for-python\\env\\Lib\\site-packages\\azure\\core\\pipeline\\_base.py:213\u001b[0m, in \u001b[0;36mPipeline.run\u001b[1;34m(self, request, **kwargs)\u001b[0m\n\u001b[0;32m    211\u001b[0m pipeline_request: PipelineRequest[HTTPRequestType] \u001b[39m=\u001b[39m PipelineRequest(request, context)\n\u001b[0;32m    212\u001b[0m first_node \u001b[39m=\u001b[39m \u001b[39mself\u001b[39m\u001b[39m.\u001b[39m_impl_policies[\u001b[39m0\u001b[39m] \u001b[39mif\u001b[39;00m \u001b[39mself\u001b[39m\u001b[39m.\u001b[39m_impl_policies \u001b[39melse\u001b[39;00m _TransportRunner(\u001b[39mself\u001b[39m\u001b[39m.\u001b[39m_transport)\n\u001b[1;32m--> 213\u001b[0m \u001b[39mreturn\u001b[39;00m first_node\u001b[39m.\u001b[39;49msend(pipeline_request)\n",
      "File \u001b[1;32mc:\\Users\\banide\\gitrepos\\azure-sdk-for-python\\env\\Lib\\site-packages\\azure\\core\\pipeline\\_base.py:70\u001b[0m, in \u001b[0;36m_SansIOHTTPPolicyRunner.send\u001b[1;34m(self, request)\u001b[0m\n\u001b[0;32m     68\u001b[0m _await_result(\u001b[39mself\u001b[39m\u001b[39m.\u001b[39m_policy\u001b[39m.\u001b[39mon_request, request)\n\u001b[0;32m     69\u001b[0m \u001b[39mtry\u001b[39;00m:\n\u001b[1;32m---> 70\u001b[0m     response \u001b[39m=\u001b[39m \u001b[39mself\u001b[39;49m\u001b[39m.\u001b[39;49mnext\u001b[39m.\u001b[39;49msend(request)\n\u001b[0;32m     71\u001b[0m \u001b[39mexcept\u001b[39;00m \u001b[39mException\u001b[39;00m:  \u001b[39m# pylint: disable=broad-except\u001b[39;00m\n\u001b[0;32m     72\u001b[0m     _await_result(\u001b[39mself\u001b[39m\u001b[39m.\u001b[39m_policy\u001b[39m.\u001b[39mon_exception, request)\n",
      "File \u001b[1;32mc:\\Users\\banide\\gitrepos\\azure-sdk-for-python\\env\\Lib\\site-packages\\azure\\core\\pipeline\\_base.py:70\u001b[0m, in \u001b[0;36m_SansIOHTTPPolicyRunner.send\u001b[1;34m(self, request)\u001b[0m\n\u001b[0;32m     68\u001b[0m _await_result(\u001b[39mself\u001b[39m\u001b[39m.\u001b[39m_policy\u001b[39m.\u001b[39mon_request, request)\n\u001b[0;32m     69\u001b[0m \u001b[39mtry\u001b[39;00m:\n\u001b[1;32m---> 70\u001b[0m     response \u001b[39m=\u001b[39m \u001b[39mself\u001b[39;49m\u001b[39m.\u001b[39;49mnext\u001b[39m.\u001b[39;49msend(request)\n\u001b[0;32m     71\u001b[0m \u001b[39mexcept\u001b[39;00m \u001b[39mException\u001b[39;00m:  \u001b[39m# pylint: disable=broad-except\u001b[39;00m\n\u001b[0;32m     72\u001b[0m     _await_result(\u001b[39mself\u001b[39m\u001b[39m.\u001b[39m_policy\u001b[39m.\u001b[39mon_exception, request)\n",
      "File \u001b[1;32mc:\\Users\\banide\\gitrepos\\azure-sdk-for-python\\env\\Lib\\site-packages\\azure\\core\\pipeline\\_base.py:70\u001b[0m, in \u001b[0;36m_SansIOHTTPPolicyRunner.send\u001b[1;34m(self, request)\u001b[0m\n\u001b[0;32m     68\u001b[0m _await_result(\u001b[39mself\u001b[39m\u001b[39m.\u001b[39m_policy\u001b[39m.\u001b[39mon_request, request)\n\u001b[0;32m     69\u001b[0m \u001b[39mtry\u001b[39;00m:\n\u001b[1;32m---> 70\u001b[0m     response \u001b[39m=\u001b[39m \u001b[39mself\u001b[39;49m\u001b[39m.\u001b[39;49mnext\u001b[39m.\u001b[39;49msend(request)\n\u001b[0;32m     71\u001b[0m \u001b[39mexcept\u001b[39;00m \u001b[39mException\u001b[39;00m:  \u001b[39m# pylint: disable=broad-except\u001b[39;00m\n\u001b[0;32m     72\u001b[0m     _await_result(\u001b[39mself\u001b[39m\u001b[39m.\u001b[39m_policy\u001b[39m.\u001b[39mon_exception, request)\n",
      "File \u001b[1;32mc:\\Users\\banide\\gitrepos\\azure-sdk-for-python\\env\\Lib\\site-packages\\azure\\core\\pipeline\\policies\\_redirect.py:181\u001b[0m, in \u001b[0;36mRedirectPolicy.send\u001b[1;34m(self, request)\u001b[0m\n\u001b[0;32m    179\u001b[0m original_domain \u001b[39m=\u001b[39m get_domain(request\u001b[39m.\u001b[39mhttp_request\u001b[39m.\u001b[39murl) \u001b[39mif\u001b[39;00m redirect_settings[\u001b[39m\"\u001b[39m\u001b[39mallow\u001b[39m\u001b[39m\"\u001b[39m] \u001b[39melse\u001b[39;00m \u001b[39mNone\u001b[39;00m\n\u001b[0;32m    180\u001b[0m \u001b[39mwhile\u001b[39;00m retryable:\n\u001b[1;32m--> 181\u001b[0m     response \u001b[39m=\u001b[39m \u001b[39mself\u001b[39;49m\u001b[39m.\u001b[39;49mnext\u001b[39m.\u001b[39;49msend(request)\n\u001b[0;32m    182\u001b[0m     redirect_location \u001b[39m=\u001b[39m \u001b[39mself\u001b[39m\u001b[39m.\u001b[39mget_redirect_location(response)\n\u001b[0;32m    183\u001b[0m     \u001b[39mif\u001b[39;00m redirect_location \u001b[39mand\u001b[39;00m redirect_settings[\u001b[39m\"\u001b[39m\u001b[39mallow\u001b[39m\u001b[39m\"\u001b[39m]:\n",
      "File \u001b[1;32mc:\\Users\\banide\\gitrepos\\azure-sdk-for-python\\env\\Lib\\site-packages\\azure\\core\\pipeline\\policies\\_retry.py:489\u001b[0m, in \u001b[0;36mRetryPolicy.send\u001b[1;34m(self, request)\u001b[0m\n\u001b[0;32m    487\u001b[0m                 is_response_error \u001b[39m=\u001b[39m \u001b[39mTrue\u001b[39;00m\n\u001b[0;32m    488\u001b[0m             \u001b[39mcontinue\u001b[39;00m\n\u001b[1;32m--> 489\u001b[0m     \u001b[39mraise\u001b[39;00m err\n\u001b[0;32m    490\u001b[0m \u001b[39mfinally\u001b[39;00m:\n\u001b[0;32m    491\u001b[0m     end_time \u001b[39m=\u001b[39m time\u001b[39m.\u001b[39mtime()\n",
      "File \u001b[1;32mc:\\Users\\banide\\gitrepos\\azure-sdk-for-python\\env\\Lib\\site-packages\\azure\\core\\pipeline\\policies\\_retry.py:467\u001b[0m, in \u001b[0;36mRetryPolicy.send\u001b[1;34m(self, request)\u001b[0m\n\u001b[0;32m    465\u001b[0m \u001b[39mtry\u001b[39;00m:\n\u001b[0;32m    466\u001b[0m     \u001b[39mself\u001b[39m\u001b[39m.\u001b[39m_configure_timeout(request, absolute_timeout, is_response_error)\n\u001b[1;32m--> 467\u001b[0m     response \u001b[39m=\u001b[39m \u001b[39mself\u001b[39;49m\u001b[39m.\u001b[39;49mnext\u001b[39m.\u001b[39;49msend(request)\n\u001b[0;32m    468\u001b[0m     \u001b[39mif\u001b[39;00m \u001b[39mself\u001b[39m\u001b[39m.\u001b[39mis_retry(retry_settings, response):\n\u001b[0;32m    469\u001b[0m         retry_active \u001b[39m=\u001b[39m \u001b[39mself\u001b[39m\u001b[39m.\u001b[39mincrement(retry_settings, response\u001b[39m=\u001b[39mresponse)\n",
      "File \u001b[1;32mc:\\Users\\banide\\gitrepos\\azure-sdk-for-python\\env\\Lib\\site-packages\\azure\\core\\pipeline\\_base.py:70\u001b[0m, in \u001b[0;36m_SansIOHTTPPolicyRunner.send\u001b[1;34m(self, request)\u001b[0m\n\u001b[0;32m     68\u001b[0m _await_result(\u001b[39mself\u001b[39m\u001b[39m.\u001b[39m_policy\u001b[39m.\u001b[39mon_request, request)\n\u001b[0;32m     69\u001b[0m \u001b[39mtry\u001b[39;00m:\n\u001b[1;32m---> 70\u001b[0m     response \u001b[39m=\u001b[39m \u001b[39mself\u001b[39;49m\u001b[39m.\u001b[39;49mnext\u001b[39m.\u001b[39;49msend(request)\n\u001b[0;32m     71\u001b[0m \u001b[39mexcept\u001b[39;00m \u001b[39mException\u001b[39;00m:  \u001b[39m# pylint: disable=broad-except\u001b[39;00m\n\u001b[0;32m     72\u001b[0m     _await_result(\u001b[39mself\u001b[39m\u001b[39m.\u001b[39m_policy\u001b[39m.\u001b[39mon_exception, request)\n",
      "File \u001b[1;32mc:\\Users\\banide\\gitrepos\\azure-sdk-for-python\\env\\Lib\\site-packages\\azure\\core\\pipeline\\_base.py:70\u001b[0m, in \u001b[0;36m_SansIOHTTPPolicyRunner.send\u001b[1;34m(self, request)\u001b[0m\n\u001b[0;32m     68\u001b[0m _await_result(\u001b[39mself\u001b[39m\u001b[39m.\u001b[39m_policy\u001b[39m.\u001b[39mon_request, request)\n\u001b[0;32m     69\u001b[0m \u001b[39mtry\u001b[39;00m:\n\u001b[1;32m---> 70\u001b[0m     response \u001b[39m=\u001b[39m \u001b[39mself\u001b[39;49m\u001b[39m.\u001b[39;49mnext\u001b[39m.\u001b[39;49msend(request)\n\u001b[0;32m     71\u001b[0m \u001b[39mexcept\u001b[39;00m \u001b[39mException\u001b[39;00m:  \u001b[39m# pylint: disable=broad-except\u001b[39;00m\n\u001b[0;32m     72\u001b[0m     _await_result(\u001b[39mself\u001b[39m\u001b[39m.\u001b[39m_policy\u001b[39m.\u001b[39mon_exception, request)\n",
      "File \u001b[1;32mc:\\Users\\banide\\gitrepos\\azure-sdk-for-python\\env\\Lib\\site-packages\\azure\\core\\pipeline\\_base.py:108\u001b[0m, in \u001b[0;36m_TransportRunner.send\u001b[1;34m(self, request)\u001b[0m\n\u001b[0;32m    100\u001b[0m \u001b[39m# \"insecure_domain_change\" is used to indicate that a redirect\u001b[39;00m\n\u001b[0;32m    101\u001b[0m \u001b[39m# has occurred to a different domain. This tells the SensitiveHeaderCleanupPolicy\u001b[39;00m\n\u001b[0;32m    102\u001b[0m \u001b[39m# to clean up sensitive headers. We need to remove it before sending the request\u001b[39;00m\n\u001b[0;32m    103\u001b[0m \u001b[39m# to the transport layer. This code is needed to handle the case that the\u001b[39;00m\n\u001b[0;32m    104\u001b[0m \u001b[39m# SensitiveHeaderCleanupPolicy is not added into the pipeline and \"insecure_domain_change\" is not popped.\u001b[39;00m\n\u001b[0;32m    105\u001b[0m request\u001b[39m.\u001b[39mcontext\u001b[39m.\u001b[39moptions\u001b[39m.\u001b[39mpop(\u001b[39m\"\u001b[39m\u001b[39minsecure_domain_change\u001b[39m\u001b[39m\"\u001b[39m, \u001b[39mFalse\u001b[39;00m)\n\u001b[0;32m    106\u001b[0m \u001b[39mreturn\u001b[39;00m PipelineResponse(\n\u001b[0;32m    107\u001b[0m     request\u001b[39m.\u001b[39mhttp_request,\n\u001b[1;32m--> 108\u001b[0m     \u001b[39mself\u001b[39;49m\u001b[39m.\u001b[39;49m_sender\u001b[39m.\u001b[39;49msend(request\u001b[39m.\u001b[39;49mhttp_request, \u001b[39m*\u001b[39;49m\u001b[39m*\u001b[39;49mrequest\u001b[39m.\u001b[39;49mcontext\u001b[39m.\u001b[39;49moptions),\n\u001b[0;32m    109\u001b[0m     context\u001b[39m=\u001b[39mrequest\u001b[39m.\u001b[39mcontext,\n\u001b[0;32m    110\u001b[0m )\n",
      "File \u001b[1;32mc:\\Users\\banide\\gitrepos\\azure-sdk-for-python\\env\\Lib\\site-packages\\azure\\core\\pipeline\\transport\\_requests_basic.py:376\u001b[0m, in \u001b[0;36mRequestsTransport.send\u001b[1;34m(self, request, **kwargs)\u001b[0m\n\u001b[0;32m    373\u001b[0m     error \u001b[39m=\u001b[39m ServiceRequestError(err, error\u001b[39m=\u001b[39merr)\n\u001b[0;32m    375\u001b[0m \u001b[39mif\u001b[39;00m error:\n\u001b[1;32m--> 376\u001b[0m     \u001b[39mraise\u001b[39;00m error\n\u001b[0;32m    377\u001b[0m \u001b[39mif\u001b[39;00m _is_rest(request):\n\u001b[0;32m    378\u001b[0m     \u001b[39mfrom\u001b[39;00m \u001b[39mazure\u001b[39;00m\u001b[39m.\u001b[39;00m\u001b[39mcore\u001b[39;00m\u001b[39m.\u001b[39;00m\u001b[39mrest\u001b[39;00m\u001b[39m.\u001b[39;00m\u001b[39m_requests_basic\u001b[39;00m \u001b[39mimport\u001b[39;00m RestRequestsTransportResponse\n",
      "\u001b[1;31mServiceResponseError\u001b[0m: HTTPSConnectionPool(host='bani-llama-endpt.eastus2.inference.ml.azure.com', port=443): Read timed out. (read timeout=300)"
     ]
    }
   ],
   "source": [
    "job = ml_client.batch_endpoints.invoke(endpoint_name=endpoint.name, input=input)"
   ]
  }
 ],
 "metadata": {
  "kernelspec": {
   "display_name": "env",
   "language": "python",
   "name": "python3"
  },
  "language_info": {
   "codemirror_mode": {
    "name": "ipython",
    "version": 3
   },
   "file_extension": ".py",
   "mimetype": "text/x-python",
   "name": "python",
   "nbconvert_exporter": "python",
   "pygments_lexer": "ipython3",
   "version": "3.11.4"
  }
 },
 "nbformat": 4,
 "nbformat_minor": 1
}
