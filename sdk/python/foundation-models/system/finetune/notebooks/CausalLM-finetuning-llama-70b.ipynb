{
 "cells": [
  {
   "cell_type": "markdown",
   "metadata": {
    "gather": {
     "logged": 1690488349925
    },
    "jupyter": {
     "outputs_hidden": false,
     "source_hidden": false
    },
    "nteract": {
     "transient": {
      "deleting": false
     }
    }
   },
   "source": [
    "# Finetuning Llama-2 on Azure Machine Mearning\n",
    "\n",
    "## Contents\n",
    "1. [Introduction](#Introduction)\n",
    "1. [Set up the environment](#Setup)\n",
    "1. [Download model from azureml-meta registry](#Download)\n",
    "1. [Data](#Data)\n",
    "1. [Establish baseline](#Baseline)\n",
    "1. [Finetune](#Finetune)\n",
    "1. [Evaluate](#Evaluate)"
   ]
  },
  {
   "cell_type": "markdown",
   "metadata": {},
   "source": [
    "## Introduction\n",
    "This notebook demonstrates finetuning Llama-2 foundation model on summarization using AzureML.\n",
    "\n",
    "Llama-2 model is now available in AzureML Model Catalog. For details please see the [blog](https://techcommunity.microsoft.com/t5/ai-machine-learning-blog/introducing-llama-2-on-azure/ba-p/3881233).\n",
    "\n",
    "This functionality is in public preview in Azure Machine Learning. The preview version is provided without a service level agreement, and it’s not recommended for production workloads. Certain features might not be supported or might have constrained capabilities. For more information, see [Supplemental Terms of Use for Microsoft Azure Previews](https://azure.microsoft.com/en-us/support/legal/preview-supplemental-terms/)\n",
    "\n",
    "Notebook summary:\n",
    "\n",
    "1. Setting the environment\n",
    "2. Loading the model and data. In this example we use the [knkarthick/dialogsum](https://huggingface.co/datasets/knkarthick/dialogsum) from Hugging Face datasets.\n",
    "3. Evaluate the pretrained model on the test set to establish baseline metrics\n",
    "4. Finetune the model\n",
    "5. Evaluating the finetuned model on a test set"
   ]
  },
  {
   "cell_type": "markdown",
   "metadata": {},
   "source": [
    "## Set up the environment <a class=\"anchor\" id=\"Setup\"></a>\n",
    "\n",
    "Install and load required packages"
   ]
  },
  {
   "cell_type": "code",
   "execution_count": 1,
   "metadata": {},
   "outputs": [
    {
     "name": "stdout",
     "output_type": "stream",
     "text": [
      "Found existing installation: azure-identity 1.13.0\n",
      "Uninstalling azure-identity-1.13.0:\n",
      "  Successfully uninstalled azure-identity-1.13.0\n",
      "\u001b[33mWARNING: Skipping azure-ai-ml as it is not installed.\u001b[0m\n",
      "Collecting azure-identity\n",
      "  Downloading azure_identity-1.13.0-py3-none-any.whl (151 kB)\n",
      "\u001b[K     |████████████████████████████████| 151 kB 6.9 MB/s eta 0:00:01\n",
      "\u001b[?25hRequirement already satisfied, skipping upgrade: six>=1.12.0 in /anaconda/envs/azureml_py38/lib/python3.8/site-packages (from azure-identity) (1.16.0)\n",
      "Requirement already satisfied, skipping upgrade: msal-extensions<2.0.0,>=0.3.0 in /anaconda/envs/azureml_py38/lib/python3.8/site-packages (from azure-identity) (1.0.0)\n",
      "Requirement already satisfied, skipping upgrade: msal<2.0.0,>=1.20.0 in /anaconda/envs/azureml_py38/lib/python3.8/site-packages (from azure-identity) (1.22.0)\n",
      "Requirement already satisfied, skipping upgrade: cryptography>=2.5 in /anaconda/envs/azureml_py38/lib/python3.8/site-packages (from azure-identity) (38.0.4)\n",
      "Requirement already satisfied, skipping upgrade: azure-core<2.0.0,>=1.11.0 in /anaconda/envs/azureml_py38/lib/python3.8/site-packages (from azure-identity) (1.26.4)\n",
      "Requirement already satisfied, skipping upgrade: portalocker<3,>=1.0; python_version >= \"3.5\" and platform_system != \"Windows\" in /anaconda/envs/azureml_py38/lib/python3.8/site-packages (from msal-extensions<2.0.0,>=0.3.0->azure-identity) (2.7.0)\n",
      "Requirement already satisfied, skipping upgrade: PyJWT[crypto]<3,>=1.0.0 in /anaconda/envs/azureml_py38/lib/python3.8/site-packages (from msal<2.0.0,>=1.20.0->azure-identity) (2.4.0)\n",
      "Requirement already satisfied, skipping upgrade: requests<3,>=2.0.0 in /anaconda/envs/azureml_py38/lib/python3.8/site-packages (from msal<2.0.0,>=1.20.0->azure-identity) (2.31.0)\n",
      "Requirement already satisfied, skipping upgrade: cffi>=1.12 in /anaconda/envs/azureml_py38/lib/python3.8/site-packages (from cryptography>=2.5->azure-identity) (1.15.1)\n",
      "Requirement already satisfied, skipping upgrade: typing-extensions>=4.3.0 in /anaconda/envs/azureml_py38/lib/python3.8/site-packages (from azure-core<2.0.0,>=1.11.0->azure-identity) (4.6.0)\n",
      "Requirement already satisfied, skipping upgrade: urllib3<3,>=1.21.1 in /anaconda/envs/azureml_py38/lib/python3.8/site-packages (from requests<3,>=2.0.0->msal<2.0.0,>=1.20.0->azure-identity) (1.26.16)\n",
      "Requirement already satisfied, skipping upgrade: idna<4,>=2.5 in /anaconda/envs/azureml_py38/lib/python3.8/site-packages (from requests<3,>=2.0.0->msal<2.0.0,>=1.20.0->azure-identity) (3.4)\n",
      "Requirement already satisfied, skipping upgrade: charset-normalizer<4,>=2 in /anaconda/envs/azureml_py38/lib/python3.8/site-packages (from requests<3,>=2.0.0->msal<2.0.0,>=1.20.0->azure-identity) (3.1.0)\n",
      "Requirement already satisfied, skipping upgrade: certifi>=2017.4.17 in /anaconda/envs/azureml_py38/lib/python3.8/site-packages (from requests<3,>=2.0.0->msal<2.0.0,>=1.20.0->azure-identity) (2022.9.24)\n",
      "Requirement already satisfied, skipping upgrade: pycparser in /anaconda/envs/azureml_py38/lib/python3.8/site-packages (from cffi>=1.12->cryptography>=2.5->azure-identity) (2.21)\n",
      "\u001b[31mERROR: azureml-inference-server-http 0.8.4 has requirement flask<2.3.0, but you'll have flask 2.3.2 which is incompatible.\u001b[0m\n",
      "Installing collected packages: azure-identity\n",
      "Successfully installed azure-identity-1.13.0\n",
      "Looking in indexes: https://pypi.org/simple, https://pkgs.dev.azure.com/azure-sdk/public/_packaging/azure-sdk-for-python/pypi/simple/\n",
      "Collecting azure-ai-ml==1.9.0a20230616001\n",
      "  Downloading https://pkgs.dev.azure.com/azure-sdk/29ec6040-b234-4e31-b139-33dc4287b756/_packaging/3572dbf9-b5ef-433b-9137-fc4d7768e7cc/pypi/download/azure-ai-ml/1.9a20230616001/azure_ai_ml-1.9.0a20230616001-py3-none-any.whl (6.2 MB)\n",
      "\u001b[K     |████████████████████████████████| 6.2 MB 33.0 MB/s eta 0:00:01\n",
      "\u001b[?25hCollecting strictyaml<2.0.0\n",
      "  Downloading strictyaml-1.7.3-py3-none-any.whl (123 kB)\n",
      "\u001b[K     |████████████████████████████████| 123 kB 6.2 MB/s eta 0:00:01\n",
      "\u001b[?25hCollecting azure-storage-file-share<13.0.0\n",
      "  Downloading azure_storage_file_share-12.13.0-py3-none-any.whl (266 kB)\n",
      "\u001b[K     |████████████████████████████████| 266 kB 31.1 MB/s eta 0:00:01\n",
      "\u001b[?25hCollecting azure-storage-file-datalake<13.0.0\n",
      "  Downloading azure_storage_file_datalake-12.12.0-py3-none-any.whl (247 kB)\n",
      "\u001b[K     |████████████████████████████████| 247 kB 35.2 MB/s eta 0:00:01\n",
      "\u001b[?25hRequirement already satisfied: azure-mgmt-core<2.0.0,>=1.3.0 in /anaconda/envs/azureml_py38/lib/python3.8/site-packages (from azure-ai-ml==1.9.0a20230616001) (1.4.0)\n",
      "Requirement already satisfied: azure-common<2.0.0,>=1.1 in /anaconda/envs/azureml_py38/lib/python3.8/site-packages (from azure-ai-ml==1.9.0a20230616001) (1.1.28)\n",
      "Requirement already satisfied: colorama<0.5.0 in /anaconda/envs/azureml_py38/lib/python3.8/site-packages (from azure-ai-ml==1.9.0a20230616001) (0.4.6)\n",
      "Collecting marshmallow<4.0.0,>=3.5\n",
      "  Downloading marshmallow-3.20.1-py3-none-any.whl (49 kB)\n",
      "\u001b[K     |████████████████████████████████| 49 kB 19.7 MB/s eta 0:00:01\n",
      "\u001b[?25hRequirement already satisfied: azure-storage-blob<13.0.0,>=12.10.0 in /anaconda/envs/azureml_py38/lib/python3.8/site-packages (from azure-ai-ml==1.9.0a20230616001) (12.13.0)\n",
      "Requirement already satisfied: typing-extensions<5.0.0 in /anaconda/envs/azureml_py38/lib/python3.8/site-packages (from azure-ai-ml==1.9.0a20230616001) (4.6.0)\n",
      "Requirement already satisfied: isodate in /anaconda/envs/azureml_py38/lib/python3.8/site-packages (from azure-ai-ml==1.9.0a20230616001) (0.6.1)\n",
      "Requirement already satisfied: pyjwt<3.0.0 in /anaconda/envs/azureml_py38/lib/python3.8/site-packages (from azure-ai-ml==1.9.0a20230616001) (2.4.0)\n",
      "Requirement already satisfied: opencensus-ext-azure<2.0.0 in /anaconda/envs/azureml_py38/lib/python3.8/site-packages (from azure-ai-ml==1.9.0a20230616001) (1.1.9)\n",
      "Requirement already satisfied: azure-core<2.0.0,>=1.23.0 in /anaconda/envs/azureml_py38/lib/python3.8/site-packages (from azure-ai-ml==1.9.0a20230616001) (1.26.4)\n",
      "Requirement already satisfied: pyyaml<7.0.0,>=5.1.0 in /anaconda/envs/azureml_py38/lib/python3.8/site-packages (from azure-ai-ml==1.9.0a20230616001) (6.0)\n",
      "Requirement already satisfied: msrest>=0.6.18 in /anaconda/envs/azureml_py38/lib/python3.8/site-packages (from azure-ai-ml==1.9.0a20230616001) (0.7.1)\n",
      "Requirement already satisfied: tqdm<5.0.0 in /anaconda/envs/azureml_py38/lib/python3.8/site-packages (from azure-ai-ml==1.9.0a20230616001) (4.65.0)\n",
      "Collecting pydash<6.0.0\n",
      "  Downloading pydash-5.1.2-py3-none-any.whl (84 kB)\n",
      "\u001b[K     |████████████████████████████████| 84 kB 16.0 MB/s eta 0:00:01\n",
      "\u001b[?25hRequirement already satisfied: jsonschema<5.0.0,>=4.0.0 in /anaconda/envs/azureml_py38/lib/python3.8/site-packages (from azure-ai-ml==1.9.0a20230616001) (4.17.3)\n",
      "Requirement already satisfied: python-dateutil>=2.6.0 in /anaconda/envs/azureml_py38/lib/python3.8/site-packages (from strictyaml<2.0.0->azure-ai-ml==1.9.0a20230616001) (2.8.2)\n",
      "Requirement already satisfied: cryptography>=2.1.4 in /anaconda/envs/azureml_py38/lib/python3.8/site-packages (from azure-storage-file-share<13.0.0->azure-ai-ml==1.9.0a20230616001) (38.0.4)\n",
      "Requirement already satisfied: packaging>=17.0 in /anaconda/envs/azureml_py38/lib/python3.8/site-packages (from marshmallow<4.0.0,>=3.5->azure-ai-ml==1.9.0a20230616001) (23.0)\n",
      "Requirement already satisfied: six in /anaconda/envs/azureml_py38/lib/python3.8/site-packages (from isodate->azure-ai-ml==1.9.0a20230616001) (1.16.0)\n",
      "Requirement already satisfied: requests>=2.19.0 in /anaconda/envs/azureml_py38/lib/python3.8/site-packages (from opencensus-ext-azure<2.0.0->azure-ai-ml==1.9.0a20230616001) (2.31.0)\n",
      "Requirement already satisfied: opencensus<1.0.0,>=0.11.2 in /anaconda/envs/azureml_py38/lib/python3.8/site-packages (from opencensus-ext-azure<2.0.0->azure-ai-ml==1.9.0a20230616001) (0.11.2)\n",
      "Requirement already satisfied: azure-identity<2.0.0,>=1.5.0 in /anaconda/envs/azureml_py38/lib/python3.8/site-packages (from opencensus-ext-azure<2.0.0->azure-ai-ml==1.9.0a20230616001) (1.13.0)\n",
      "Requirement already satisfied: psutil>=5.6.3 in /anaconda/envs/azureml_py38/lib/python3.8/site-packages (from opencensus-ext-azure<2.0.0->azure-ai-ml==1.9.0a20230616001) (5.9.5)\n",
      "Requirement already satisfied: requests-oauthlib>=0.5.0 in /anaconda/envs/azureml_py38/lib/python3.8/site-packages (from msrest>=0.6.18->azure-ai-ml==1.9.0a20230616001) (1.3.1)\n"
     ]
    },
    {
     "name": "stdout",
     "output_type": "stream",
     "text": [
      "Requirement already satisfied: certifi>=2017.4.17 in /anaconda/envs/azureml_py38/lib/python3.8/site-packages (from msrest>=0.6.18->azure-ai-ml==1.9.0a20230616001) (2022.9.24)\n",
      "Requirement already satisfied: pyrsistent!=0.17.0,!=0.17.1,!=0.17.2,>=0.14.0 in /anaconda/envs/azureml_py38/lib/python3.8/site-packages (from jsonschema<5.0.0,>=4.0.0->azure-ai-ml==1.9.0a20230616001) (0.19.3)\n",
      "Requirement already satisfied: pkgutil-resolve-name>=1.3.10; python_version < \"3.9\" in /anaconda/envs/azureml_py38/lib/python3.8/site-packages (from jsonschema<5.0.0,>=4.0.0->azure-ai-ml==1.9.0a20230616001) (1.3.10)\n",
      "Requirement already satisfied: importlib-resources>=1.4.0; python_version < \"3.9\" in /anaconda/envs/azureml_py38/lib/python3.8/site-packages (from jsonschema<5.0.0,>=4.0.0->azure-ai-ml==1.9.0a20230616001) (5.12.0)\n",
      "Requirement already satisfied: attrs>=17.4.0 in /anaconda/envs/azureml_py38/lib/python3.8/site-packages (from jsonschema<5.0.0,>=4.0.0->azure-ai-ml==1.9.0a20230616001) (23.1.0)\n",
      "Requirement already satisfied: cffi>=1.12 in /anaconda/envs/azureml_py38/lib/python3.8/site-packages (from cryptography>=2.1.4->azure-storage-file-share<13.0.0->azure-ai-ml==1.9.0a20230616001) (1.15.1)\n",
      "Requirement already satisfied: idna<4,>=2.5 in /anaconda/envs/azureml_py38/lib/python3.8/site-packages (from requests>=2.19.0->opencensus-ext-azure<2.0.0->azure-ai-ml==1.9.0a20230616001) (3.4)\n",
      "Requirement already satisfied: urllib3<3,>=1.21.1 in /anaconda/envs/azureml_py38/lib/python3.8/site-packages (from requests>=2.19.0->opencensus-ext-azure<2.0.0->azure-ai-ml==1.9.0a20230616001) (1.26.16)\n",
      "Requirement already satisfied: charset-normalizer<4,>=2 in /anaconda/envs/azureml_py38/lib/python3.8/site-packages (from requests>=2.19.0->opencensus-ext-azure<2.0.0->azure-ai-ml==1.9.0a20230616001) (3.1.0)\n",
      "Requirement already satisfied: google-api-core<3.0.0,>=1.0.0; python_version >= \"3.6\" in /anaconda/envs/azureml_py38/lib/python3.8/site-packages (from opencensus<1.0.0,>=0.11.2->opencensus-ext-azure<2.0.0->azure-ai-ml==1.9.0a20230616001) (2.11.0)\n",
      "Requirement already satisfied: opencensus-context>=0.1.3 in /anaconda/envs/azureml_py38/lib/python3.8/site-packages (from opencensus<1.0.0,>=0.11.2->opencensus-ext-azure<2.0.0->azure-ai-ml==1.9.0a20230616001) (0.1.3)\n",
      "Requirement already satisfied: msal<2.0.0,>=1.20.0 in /anaconda/envs/azureml_py38/lib/python3.8/site-packages (from azure-identity<2.0.0,>=1.5.0->opencensus-ext-azure<2.0.0->azure-ai-ml==1.9.0a20230616001) (1.22.0)\n",
      "Requirement already satisfied: msal-extensions<2.0.0,>=0.3.0 in /anaconda/envs/azureml_py38/lib/python3.8/site-packages (from azure-identity<2.0.0,>=1.5.0->opencensus-ext-azure<2.0.0->azure-ai-ml==1.9.0a20230616001) (1.0.0)\n",
      "Requirement already satisfied: oauthlib>=3.0.0 in /anaconda/envs/azureml_py38/lib/python3.8/site-packages (from requests-oauthlib>=0.5.0->msrest>=0.6.18->azure-ai-ml==1.9.0a20230616001) (3.2.2)\n",
      "Requirement already satisfied: zipp>=3.1.0; python_version < \"3.10\" in /anaconda/envs/azureml_py38/lib/python3.8/site-packages (from importlib-resources>=1.4.0; python_version < \"3.9\"->jsonschema<5.0.0,>=4.0.0->azure-ai-ml==1.9.0a20230616001) (3.12.0)\n",
      "Requirement already satisfied: pycparser in /anaconda/envs/azureml_py38/lib/python3.8/site-packages (from cffi>=1.12->cryptography>=2.1.4->azure-storage-file-share<13.0.0->azure-ai-ml==1.9.0a20230616001) (2.21)\n",
      "Requirement already satisfied: google-auth<3.0dev,>=2.14.1 in /anaconda/envs/azureml_py38/lib/python3.8/site-packages (from google-api-core<3.0.0,>=1.0.0; python_version >= \"3.6\"->opencensus<1.0.0,>=0.11.2->opencensus-ext-azure<2.0.0->azure-ai-ml==1.9.0a20230616001) (2.18.1)\n",
      "Requirement already satisfied: protobuf!=3.20.0,!=3.20.1,!=4.21.0,!=4.21.1,!=4.21.2,!=4.21.3,!=4.21.4,!=4.21.5,<5.0.0dev,>=3.19.5 in /anaconda/envs/azureml_py38/lib/python3.8/site-packages (from google-api-core<3.0.0,>=1.0.0; python_version >= \"3.6\"->opencensus<1.0.0,>=0.11.2->opencensus-ext-azure<2.0.0->azure-ai-ml==1.9.0a20230616001) (3.20.3)\n",
      "Requirement already satisfied: googleapis-common-protos<2.0dev,>=1.56.2 in /anaconda/envs/azureml_py38/lib/python3.8/site-packages (from google-api-core<3.0.0,>=1.0.0; python_version >= \"3.6\"->opencensus<1.0.0,>=0.11.2->opencensus-ext-azure<2.0.0->azure-ai-ml==1.9.0a20230616001) (1.59.0)\n",
      "Requirement already satisfied: portalocker<3,>=1.0; python_version >= \"3.5\" and platform_system != \"Windows\" in /anaconda/envs/azureml_py38/lib/python3.8/site-packages (from msal-extensions<2.0.0,>=0.3.0->azure-identity<2.0.0,>=1.5.0->opencensus-ext-azure<2.0.0->azure-ai-ml==1.9.0a20230616001) (2.7.0)\n",
      "Requirement already satisfied: pyasn1-modules>=0.2.1 in /anaconda/envs/azureml_py38/lib/python3.8/site-packages (from google-auth<3.0dev,>=2.14.1->google-api-core<3.0.0,>=1.0.0; python_version >= \"3.6\"->opencensus<1.0.0,>=0.11.2->opencensus-ext-azure<2.0.0->azure-ai-ml==1.9.0a20230616001) (0.3.0)\n",
      "Requirement already satisfied: cachetools<6.0,>=2.0.0 in /anaconda/envs/azureml_py38/lib/python3.8/site-packages (from google-auth<3.0dev,>=2.14.1->google-api-core<3.0.0,>=1.0.0; python_version >= \"3.6\"->opencensus<1.0.0,>=0.11.2->opencensus-ext-azure<2.0.0->azure-ai-ml==1.9.0a20230616001) (5.3.0)\n",
      "Requirement already satisfied: rsa<5,>=3.1.4; python_version >= \"3.6\" in /anaconda/envs/azureml_py38/lib/python3.8/site-packages (from google-auth<3.0dev,>=2.14.1->google-api-core<3.0.0,>=1.0.0; python_version >= \"3.6\"->opencensus<1.0.0,>=0.11.2->opencensus-ext-azure<2.0.0->azure-ai-ml==1.9.0a20230616001) (4.9)\n",
      "Requirement already satisfied: pyasn1<0.6.0,>=0.4.6 in /anaconda/envs/azureml_py38/lib/python3.8/site-packages (from pyasn1-modules>=0.2.1->google-auth<3.0dev,>=2.14.1->google-api-core<3.0.0,>=1.0.0; python_version >= \"3.6\"->opencensus<1.0.0,>=0.11.2->opencensus-ext-azure<2.0.0->azure-ai-ml==1.9.0a20230616001) (0.5.0)\n",
      "\u001b[31mERROR: azure-storage-file-share 12.13.0 has requirement azure-core<2.0.0,>=1.28.0, but you'll have azure-core 1.26.4 which is incompatible.\u001b[0m\n",
      "\u001b[31mERROR: azure-storage-file-datalake 12.12.0 has requirement azure-core<2.0.0,>=1.28.0, but you'll have azure-core 1.26.4 which is incompatible.\u001b[0m\n",
      "\u001b[31mERROR: azure-storage-file-datalake 12.12.0 has requirement azure-storage-blob<13.0.0,>=12.17.0, but you'll have azure-storage-blob 12.13.0 which is incompatible.\u001b[0m\n",
      "Installing collected packages: strictyaml, azure-storage-file-share, azure-storage-file-datalake, marshmallow, pydash, azure-ai-ml\n",
      "Successfully installed azure-ai-ml-1.9.0a20230616001 azure-storage-file-datalake-12.12.0 azure-storage-file-share-12.13.0 marshmallow-3.20.1 pydash-5.1.2 strictyaml-1.7.3\n",
      "Requirement already satisfied: torch==2.0.1 in /anaconda/envs/azureml_py38/lib/python3.8/site-packages (2.0.1)\n",
      "Requirement already satisfied: nvidia-curand-cu11==10.2.10.91; platform_system == \"Linux\" and platform_machine == \"x86_64\" in /anaconda/envs/azureml_py38/lib/python3.8/site-packages (from torch==2.0.1) (10.2.10.91)\n",
      "Requirement already satisfied: nvidia-cuda-runtime-cu11==11.7.99; platform_system == \"Linux\" and platform_machine == \"x86_64\" in /anaconda/envs/azureml_py38/lib/python3.8/site-packages (from torch==2.0.1) (11.7.99)\n",
      "Requirement already satisfied: typing-extensions in /anaconda/envs/azureml_py38/lib/python3.8/site-packages (from torch==2.0.1) (4.6.0)\n",
      "Requirement already satisfied: nvidia-cublas-cu11==11.10.3.66; platform_system == \"Linux\" and platform_machine == \"x86_64\" in /anaconda/envs/azureml_py38/lib/python3.8/site-packages (from torch==2.0.1) (11.10.3.66)\n",
      "Requirement already satisfied: networkx in /anaconda/envs/azureml_py38/lib/python3.8/site-packages (from torch==2.0.1) (2.5)\n",
      "Requirement already satisfied: sympy in /anaconda/envs/azureml_py38/lib/python3.8/site-packages (from torch==2.0.1) (1.12)\n",
      "Requirement already satisfied: jinja2 in /anaconda/envs/azureml_py38/lib/python3.8/site-packages (from torch==2.0.1) (2.11.2)\n",
      "Requirement already satisfied: nvidia-cuda-cupti-cu11==11.7.101; platform_system == \"Linux\" and platform_machine == \"x86_64\" in /anaconda/envs/azureml_py38/lib/python3.8/site-packages (from torch==2.0.1) (11.7.101)\n",
      "Requirement already satisfied: nvidia-cusolver-cu11==11.4.0.1; platform_system == \"Linux\" and platform_machine == \"x86_64\" in /anaconda/envs/azureml_py38/lib/python3.8/site-packages (from torch==2.0.1) (11.4.0.1)\n",
      "Requirement already satisfied: nvidia-nccl-cu11==2.14.3; platform_system == \"Linux\" and platform_machine == \"x86_64\" in /anaconda/envs/azureml_py38/lib/python3.8/site-packages (from torch==2.0.1) (2.14.3)\n",
      "Requirement already satisfied: nvidia-nvtx-cu11==11.7.91; platform_system == \"Linux\" and platform_machine == \"x86_64\" in /anaconda/envs/azureml_py38/lib/python3.8/site-packages (from torch==2.0.1) (11.7.91)\n",
      "Requirement already satisfied: triton==2.0.0; platform_system == \"Linux\" and platform_machine == \"x86_64\" in /anaconda/envs/azureml_py38/lib/python3.8/site-packages (from torch==2.0.1) (2.0.0)\n"
     ]
    },
    {
     "name": "stdout",
     "output_type": "stream",
     "text": [
      "Requirement already satisfied: nvidia-cusparse-cu11==11.7.4.91; platform_system == \"Linux\" and platform_machine == \"x86_64\" in /anaconda/envs/azureml_py38/lib/python3.8/site-packages (from torch==2.0.1) (11.7.4.91)\n",
      "Requirement already satisfied: filelock in /anaconda/envs/azureml_py38/lib/python3.8/site-packages (from torch==2.0.1) (3.12.0)\n",
      "Requirement already satisfied: nvidia-cudnn-cu11==8.5.0.96; platform_system == \"Linux\" and platform_machine == \"x86_64\" in /anaconda/envs/azureml_py38/lib/python3.8/site-packages (from torch==2.0.1) (8.5.0.96)\n",
      "Requirement already satisfied: nvidia-cuda-nvrtc-cu11==11.7.99; platform_system == \"Linux\" and platform_machine == \"x86_64\" in /anaconda/envs/azureml_py38/lib/python3.8/site-packages (from torch==2.0.1) (11.7.99)\n",
      "Requirement already satisfied: nvidia-cufft-cu11==10.9.0.58; platform_system == \"Linux\" and platform_machine == \"x86_64\" in /anaconda/envs/azureml_py38/lib/python3.8/site-packages (from torch==2.0.1) (10.9.0.58)\n",
      "Requirement already satisfied: wheel in /anaconda/envs/azureml_py38/lib/python3.8/site-packages (from nvidia-curand-cu11==10.2.10.91; platform_system == \"Linux\" and platform_machine == \"x86_64\"->torch==2.0.1) (0.37.1)\n",
      "Requirement already satisfied: setuptools in /anaconda/envs/azureml_py38/lib/python3.8/site-packages (from nvidia-curand-cu11==10.2.10.91; platform_system == \"Linux\" and platform_machine == \"x86_64\"->torch==2.0.1) (65.6.3)\n",
      "Requirement already satisfied: decorator>=4.3.0 in /anaconda/envs/azureml_py38/lib/python3.8/site-packages (from networkx->torch==2.0.1) (5.1.1)\n",
      "Requirement already satisfied: mpmath>=0.19 in /anaconda/envs/azureml_py38/lib/python3.8/site-packages (from sympy->torch==2.0.1) (1.3.0)\n",
      "Requirement already satisfied: MarkupSafe>=0.23 in /anaconda/envs/azureml_py38/lib/python3.8/site-packages (from jinja2->torch==2.0.1) (2.0.1)\n",
      "Requirement already satisfied: cmake in /anaconda/envs/azureml_py38/lib/python3.8/site-packages (from triton==2.0.0; platform_system == \"Linux\" and platform_machine == \"x86_64\"->torch==2.0.1) (3.27.0)\n",
      "Requirement already satisfied: lit in /anaconda/envs/azureml_py38/lib/python3.8/site-packages (from triton==2.0.0; platform_system == \"Linux\" and platform_machine == \"x86_64\"->torch==2.0.1) (16.0.6)\n",
      "Requirement already satisfied: bitsandbytes in /anaconda/envs/azureml_py38/lib/python3.8/site-packages (0.41.0)\n",
      "Requirement already satisfied: transformers==4.31.0 in /anaconda/envs/azureml_py38/lib/python3.8/site-packages (4.31.0)\n",
      "Requirement already satisfied: tokenizers!=0.11.3,<0.14,>=0.11.1 in /anaconda/envs/azureml_py38/lib/python3.8/site-packages (from transformers==4.31.0) (0.13.3)\n",
      "Requirement already satisfied: tqdm>=4.27 in /anaconda/envs/azureml_py38/lib/python3.8/site-packages (from transformers==4.31.0) (4.65.0)\n",
      "Requirement already satisfied: filelock in /anaconda/envs/azureml_py38/lib/python3.8/site-packages (from transformers==4.31.0) (3.12.0)\n",
      "Requirement already satisfied: pyyaml>=5.1 in /anaconda/envs/azureml_py38/lib/python3.8/site-packages (from transformers==4.31.0) (6.0)\n",
      "Requirement already satisfied: packaging>=20.0 in /anaconda/envs/azureml_py38/lib/python3.8/site-packages (from transformers==4.31.0) (23.0)\n",
      "Requirement already satisfied: regex!=2019.12.17 in /anaconda/envs/azureml_py38/lib/python3.8/site-packages (from transformers==4.31.0) (2023.5.5)\n",
      "Requirement already satisfied: huggingface-hub<1.0,>=0.14.1 in /anaconda/envs/azureml_py38/lib/python3.8/site-packages (from transformers==4.31.0) (0.14.1)\n",
      "Requirement already satisfied: numpy>=1.17 in /anaconda/envs/azureml_py38/lib/python3.8/site-packages (from transformers==4.31.0) (1.21.6)\n",
      "Requirement already satisfied: requests in /anaconda/envs/azureml_py38/lib/python3.8/site-packages (from transformers==4.31.0) (2.31.0)\n",
      "Requirement already satisfied: safetensors>=0.3.1 in /anaconda/envs/azureml_py38/lib/python3.8/site-packages (from transformers==4.31.0) (0.3.1)\n",
      "Requirement already satisfied: typing-extensions>=3.7.4.3 in /anaconda/envs/azureml_py38/lib/python3.8/site-packages (from huggingface-hub<1.0,>=0.14.1->transformers==4.31.0) (4.6.0)\n",
      "Requirement already satisfied: fsspec in /anaconda/envs/azureml_py38/lib/python3.8/site-packages (from huggingface-hub<1.0,>=0.14.1->transformers==4.31.0) (2023.5.0)\n",
      "Requirement already satisfied: certifi>=2017.4.17 in /anaconda/envs/azureml_py38/lib/python3.8/site-packages (from requests->transformers==4.31.0) (2022.9.24)\n",
      "Requirement already satisfied: idna<4,>=2.5 in /anaconda/envs/azureml_py38/lib/python3.8/site-packages (from requests->transformers==4.31.0) (3.4)\n",
      "Requirement already satisfied: urllib3<3,>=1.21.1 in /anaconda/envs/azureml_py38/lib/python3.8/site-packages (from requests->transformers==4.31.0) (1.26.16)\n",
      "Requirement already satisfied: charset-normalizer<4,>=2 in /anaconda/envs/azureml_py38/lib/python3.8/site-packages (from requests->transformers==4.31.0) (3.1.0)\n",
      "Requirement already satisfied: peft in /anaconda/envs/azureml_py38/lib/python3.8/site-packages (0.4.0)\n",
      "Requirement already satisfied: packaging>=20.0 in /anaconda/envs/azureml_py38/lib/python3.8/site-packages (from peft) (23.0)\n",
      "Requirement already satisfied: pyyaml in /anaconda/envs/azureml_py38/lib/python3.8/site-packages (from peft) (6.0)\n",
      "Requirement already satisfied: accelerate in /anaconda/envs/azureml_py38/lib/python3.8/site-packages (from peft) (0.21.0)\n",
      "Requirement already satisfied: numpy>=1.17 in /anaconda/envs/azureml_py38/lib/python3.8/site-packages (from peft) (1.21.6)\n",
      "Requirement already satisfied: transformers in /anaconda/envs/azureml_py38/lib/python3.8/site-packages (from peft) (4.31.0)\n",
      "Requirement already satisfied: psutil in /anaconda/envs/azureml_py38/lib/python3.8/site-packages (from peft) (5.9.5)\n",
      "Requirement already satisfied: safetensors in /anaconda/envs/azureml_py38/lib/python3.8/site-packages (from peft) (0.3.1)\n",
      "Requirement already satisfied: torch>=1.13.0 in /anaconda/envs/azureml_py38/lib/python3.8/site-packages (from peft) (2.0.1)\n",
      "Requirement already satisfied: filelock in /anaconda/envs/azureml_py38/lib/python3.8/site-packages (from transformers->peft) (3.12.0)\n",
      "Requirement already satisfied: tqdm>=4.27 in /anaconda/envs/azureml_py38/lib/python3.8/site-packages (from transformers->peft) (4.65.0)\n",
      "Requirement already satisfied: huggingface-hub<1.0,>=0.14.1 in /anaconda/envs/azureml_py38/lib/python3.8/site-packages (from transformers->peft) (0.14.1)\n",
      "Requirement already satisfied: tokenizers!=0.11.3,<0.14,>=0.11.1 in /anaconda/envs/azureml_py38/lib/python3.8/site-packages (from transformers->peft) (0.13.3)\n",
      "Requirement already satisfied: requests in /anaconda/envs/azureml_py38/lib/python3.8/site-packages (from transformers->peft) (2.31.0)\n",
      "Requirement already satisfied: regex!=2019.12.17 in /anaconda/envs/azureml_py38/lib/python3.8/site-packages (from transformers->peft) (2023.5.5)\n",
      "Requirement already satisfied: nvidia-nvtx-cu11==11.7.91; platform_system == \"Linux\" and platform_machine == \"x86_64\" in /anaconda/envs/azureml_py38/lib/python3.8/site-packages (from torch>=1.13.0->peft) (11.7.91)\n",
      "Requirement already satisfied: networkx in /anaconda/envs/azureml_py38/lib/python3.8/site-packages (from torch>=1.13.0->peft) (2.5)\n",
      "Requirement already satisfied: nvidia-nccl-cu11==2.14.3; platform_system == \"Linux\" and platform_machine == \"x86_64\" in /anaconda/envs/azureml_py38/lib/python3.8/site-packages (from torch>=1.13.0->peft) (2.14.3)\n",
      "Requirement already satisfied: nvidia-cublas-cu11==11.10.3.66; platform_system == \"Linux\" and platform_machine == \"x86_64\" in /anaconda/envs/azureml_py38/lib/python3.8/site-packages (from torch>=1.13.0->peft) (11.10.3.66)\n",
      "Requirement already satisfied: triton==2.0.0; platform_system == \"Linux\" and platform_machine == \"x86_64\" in /anaconda/envs/azureml_py38/lib/python3.8/site-packages (from torch>=1.13.0->peft) (2.0.0)\n",
      "Requirement already satisfied: nvidia-curand-cu11==10.2.10.91; platform_system == \"Linux\" and platform_machine == \"x86_64\" in /anaconda/envs/azureml_py38/lib/python3.8/site-packages (from torch>=1.13.0->peft) (10.2.10.91)\n",
      "Requirement already satisfied: nvidia-cuda-nvrtc-cu11==11.7.99; platform_system == \"Linux\" and platform_machine == \"x86_64\" in /anaconda/envs/azureml_py38/lib/python3.8/site-packages (from torch>=1.13.0->peft) (11.7.99)\n",
      "Requirement already satisfied: nvidia-cusparse-cu11==11.7.4.91; platform_system == \"Linux\" and platform_machine == \"x86_64\" in /anaconda/envs/azureml_py38/lib/python3.8/site-packages (from torch>=1.13.0->peft) (11.7.4.91)\n",
      "Requirement already satisfied: jinja2 in /anaconda/envs/azureml_py38/lib/python3.8/site-packages (from torch>=1.13.0->peft) (2.11.2)\n",
      "Requirement already satisfied: sympy in /anaconda/envs/azureml_py38/lib/python3.8/site-packages (from torch>=1.13.0->peft) (1.12)\n",
      "Requirement already satisfied: nvidia-cufft-cu11==10.9.0.58; platform_system == \"Linux\" and platform_machine == \"x86_64\" in /anaconda/envs/azureml_py38/lib/python3.8/site-packages (from torch>=1.13.0->peft) (10.9.0.58)\n",
      "Requirement already satisfied: nvidia-cusolver-cu11==11.4.0.1; platform_system == \"Linux\" and platform_machine == \"x86_64\" in /anaconda/envs/azureml_py38/lib/python3.8/site-packages (from torch>=1.13.0->peft) (11.4.0.1)\n",
      "Requirement already satisfied: nvidia-cuda-runtime-cu11==11.7.99; platform_system == \"Linux\" and platform_machine == \"x86_64\" in /anaconda/envs/azureml_py38/lib/python3.8/site-packages (from torch>=1.13.0->peft) (11.7.99)\n",
      "Requirement already satisfied: nvidia-cudnn-cu11==8.5.0.96; platform_system == \"Linux\" and platform_machine == \"x86_64\" in /anaconda/envs/azureml_py38/lib/python3.8/site-packages (from torch>=1.13.0->peft) (8.5.0.96)\n",
      "Requirement already satisfied: typing-extensions in /anaconda/envs/azureml_py38/lib/python3.8/site-packages (from torch>=1.13.0->peft) (4.6.0)\n",
      "Requirement already satisfied: nvidia-cuda-cupti-cu11==11.7.101; platform_system == \"Linux\" and platform_machine == \"x86_64\" in /anaconda/envs/azureml_py38/lib/python3.8/site-packages (from torch>=1.13.0->peft) (11.7.101)\n",
      "Requirement already satisfied: fsspec in /anaconda/envs/azureml_py38/lib/python3.8/site-packages (from huggingface-hub<1.0,>=0.14.1->transformers->peft) (2023.5.0)\n"
     ]
    },
    {
     "name": "stdout",
     "output_type": "stream",
     "text": [
      "Requirement already satisfied: charset-normalizer<4,>=2 in /anaconda/envs/azureml_py38/lib/python3.8/site-packages (from requests->transformers->peft) (3.1.0)\n",
      "Requirement already satisfied: urllib3<3,>=1.21.1 in /anaconda/envs/azureml_py38/lib/python3.8/site-packages (from requests->transformers->peft) (1.26.16)\n",
      "Requirement already satisfied: certifi>=2017.4.17 in /anaconda/envs/azureml_py38/lib/python3.8/site-packages (from requests->transformers->peft) (2022.9.24)\n",
      "Requirement already satisfied: idna<4,>=2.5 in /anaconda/envs/azureml_py38/lib/python3.8/site-packages (from requests->transformers->peft) (3.4)\n",
      "Requirement already satisfied: setuptools in /anaconda/envs/azureml_py38/lib/python3.8/site-packages (from nvidia-nvtx-cu11==11.7.91; platform_system == \"Linux\" and platform_machine == \"x86_64\"->torch>=1.13.0->peft) (65.6.3)\n",
      "Requirement already satisfied: wheel in /anaconda/envs/azureml_py38/lib/python3.8/site-packages (from nvidia-nvtx-cu11==11.7.91; platform_system == \"Linux\" and platform_machine == \"x86_64\"->torch>=1.13.0->peft) (0.37.1)\n",
      "Requirement already satisfied: decorator>=4.3.0 in /anaconda/envs/azureml_py38/lib/python3.8/site-packages (from networkx->torch>=1.13.0->peft) (5.1.1)\n",
      "Requirement already satisfied: lit in /anaconda/envs/azureml_py38/lib/python3.8/site-packages (from triton==2.0.0; platform_system == \"Linux\" and platform_machine == \"x86_64\"->torch>=1.13.0->peft) (16.0.6)\n",
      "Requirement already satisfied: cmake in /anaconda/envs/azureml_py38/lib/python3.8/site-packages (from triton==2.0.0; platform_system == \"Linux\" and platform_machine == \"x86_64\"->torch>=1.13.0->peft) (3.27.0)\n",
      "Requirement already satisfied: MarkupSafe>=0.23 in /anaconda/envs/azureml_py38/lib/python3.8/site-packages (from jinja2->torch>=1.13.0->peft) (2.0.1)\n",
      "Requirement already satisfied: mpmath>=0.19 in /anaconda/envs/azureml_py38/lib/python3.8/site-packages (from sympy->torch>=1.13.0->peft) (1.3.0)\n",
      "Collecting azureml-evaluate-mlflow\n",
      "  Downloading azureml_evaluate_mlflow-0.0.21-py3-none-any.whl (213 kB)\n",
      "\u001b[K     |████████████████████████████████| 213 kB 7.4 MB/s eta 0:00:01\n",
      "\u001b[?25hCollecting scikit-learn>=0.24.0\n",
      "  Downloading scikit_learn-1.3.0-cp38-cp38-manylinux_2_17_x86_64.manylinux2014_x86_64.whl (11.1 MB)\n",
      "\u001b[K     |████████████████████████████████| 11.1 MB 35.2 MB/s eta 0:00:01\n",
      "\u001b[?25hCollecting mlflow-skinny==2.3.1\n",
      "  Downloading mlflow_skinny-2.3.1-py3-none-any.whl (4.1 MB)\n",
      "\u001b[K     |████████████████████████████████| 4.1 MB 36.8 MB/s eta 0:00:01\n",
      "\u001b[?25hCollecting datasets>=2.11.0\n",
      "  Downloading datasets-2.14.2-py3-none-any.whl (518 kB)\n",
      "\u001b[K     |████████████████████████████████| 518 kB 36.0 MB/s eta 0:00:01\n",
      "\u001b[?25hCollecting soundfile>=0.12.1\n",
      "  Downloading soundfile-0.12.1-py2.py3-none-any.whl (24 kB)\n",
      "Requirement already satisfied: torch>=1.9.0 in /anaconda/envs/azureml_py38/lib/python3.8/site-packages (from azureml-evaluate-mlflow) (2.0.1)\n",
      "Requirement already satisfied: accelerate>=0.19.0 in /anaconda/envs/azureml_py38/lib/python3.8/site-packages (from azureml-evaluate-mlflow) (0.21.0)\n",
      "Requirement already satisfied: cryptography in /anaconda/envs/azureml_py38/lib/python3.8/site-packages (from azureml-evaluate-mlflow) (38.0.4)\n",
      "Requirement already satisfied: python-dateutil<3.0.0,>=2.7.3 in /anaconda/envs/azureml_py38/lib/python3.8/site-packages (from azureml-evaluate-mlflow) (2.8.2)\n",
      "Collecting diffusers>=0.14.0\n",
      "  Downloading diffusers-0.19.3-py3-none-any.whl (1.3 MB)\n",
      "\u001b[K     |████████████████████████████████| 1.3 MB 34.7 MB/s eta 0:00:01\n",
      "\u001b[?25hCollecting mlflow==2.3.1\n",
      "  Downloading mlflow-2.3.1-py3-none-any.whl (17.7 MB)\n",
      "\u001b[K     |████████████████████████████████| 17.7 MB 35.4 MB/s eta 0:00:01\n",
      "\u001b[?25hRequirement already satisfied: azureml-metrics in /anaconda/envs/azureml_py38/lib/python3.8/site-packages (from azureml-evaluate-mlflow) (0.0.21)\n",
      "Collecting librosa\n",
      "  Downloading librosa-0.10.0.post2-py3-none-any.whl (253 kB)\n",
      "\u001b[K     |████████████████████████████████| 253 kB 36.8 MB/s eta 0:00:01\n",
      "\u001b[?25hRequirement already satisfied: jsonpickle in /anaconda/envs/azureml_py38/lib/python3.8/site-packages (from azureml-evaluate-mlflow) (3.0.1)\n",
      "Collecting Pillow==9.4.0\n",
      "  Downloading Pillow-9.4.0-cp38-cp38-manylinux_2_17_x86_64.manylinux2014_x86_64.whl (3.3 MB)\n",
      "\u001b[K     |████████████████████████████████| 3.3 MB 35.1 MB/s eta 0:00:01\n",
      "\u001b[?25hRequirement already satisfied: transformers>=4.28.1 in /anaconda/envs/azureml_py38/lib/python3.8/site-packages (from azureml-evaluate-mlflow) (4.31.0)\n",
      "Requirement already satisfied: azureml-mlflow>=1.47.0 in /anaconda/envs/azureml_py38/lib/python3.8/site-packages (from azureml-evaluate-mlflow) (1.51.0)\n",
      "Requirement already satisfied: azureml-core>=1.43.0 in /anaconda/envs/azureml_py38/lib/python3.8/site-packages (from azureml-evaluate-mlflow) (1.51.0)\n",
      "Requirement already satisfied: sentencepiece in /anaconda/envs/azureml_py38/lib/python3.8/site-packages (from azureml-evaluate-mlflow) (0.1.99)\n",
      "Requirement already satisfied: joblib>=1.1.1 in /anaconda/envs/azureml_py38/lib/python3.8/site-packages (from scikit-learn>=0.24.0->azureml-evaluate-mlflow) (1.2.0)\n",
      "Requirement already satisfied: scipy>=1.5.0 in /anaconda/envs/azureml_py38/lib/python3.8/site-packages (from scikit-learn>=0.24.0->azureml-evaluate-mlflow) (1.5.3)\n",
      "Requirement already satisfied: numpy>=1.17.3 in /anaconda/envs/azureml_py38/lib/python3.8/site-packages (from scikit-learn>=0.24.0->azureml-evaluate-mlflow) (1.21.6)\n",
      "Requirement already satisfied: threadpoolctl>=2.0.0 in /anaconda/envs/azureml_py38/lib/python3.8/site-packages (from scikit-learn>=0.24.0->azureml-evaluate-mlflow) (3.1.0)\n",
      "Requirement already satisfied: click<9,>=7.0 in /anaconda/envs/azureml_py38/lib/python3.8/site-packages (from mlflow-skinny==2.3.1->azureml-evaluate-mlflow) (8.1.3)\n",
      "Requirement already satisfied: cloudpickle<3 in /anaconda/envs/azureml_py38/lib/python3.8/site-packages (from mlflow-skinny==2.3.1->azureml-evaluate-mlflow) (1.6.0)\n",
      "Requirement already satisfied: pytz<2024 in /anaconda/envs/azureml_py38/lib/python3.8/site-packages (from mlflow-skinny==2.3.1->azureml-evaluate-mlflow) (2022.5)\n",
      "Requirement already satisfied: entrypoints<1 in /anaconda/envs/azureml_py38/lib/python3.8/site-packages (from mlflow-skinny==2.3.1->azureml-evaluate-mlflow) (0.4)\n",
      "Requirement already satisfied: sqlparse<1,>=0.4.0 in /anaconda/envs/azureml_py38/lib/python3.8/site-packages (from mlflow-skinny==2.3.1->azureml-evaluate-mlflow) (0.4.4)\n",
      "Requirement already satisfied: packaging<24 in /anaconda/envs/azureml_py38/lib/python3.8/site-packages (from mlflow-skinny==2.3.1->azureml-evaluate-mlflow) (23.0)\n",
      "Requirement already satisfied: importlib-metadata!=4.7.0,<7,>=3.7.0 in /anaconda/envs/azureml_py38/lib/python3.8/site-packages (from mlflow-skinny==2.3.1->azureml-evaluate-mlflow) (6.6.0)\n",
      "Requirement already satisfied: requests<3,>=2.17.3 in /anaconda/envs/azureml_py38/lib/python3.8/site-packages (from mlflow-skinny==2.3.1->azureml-evaluate-mlflow) (2.31.0)\n",
      "Requirement already satisfied: pyyaml<7,>=5.1 in /anaconda/envs/azureml_py38/lib/python3.8/site-packages (from mlflow-skinny==2.3.1->azureml-evaluate-mlflow) (6.0)\n",
      "Requirement already satisfied: gitpython<4,>=2.1.0 in /anaconda/envs/azureml_py38/lib/python3.8/site-packages (from mlflow-skinny==2.3.1->azureml-evaluate-mlflow) (3.1.31)\n",
      "Requirement already satisfied: protobuf<5,>=3.12.0 in /anaconda/envs/azureml_py38/lib/python3.8/site-packages (from mlflow-skinny==2.3.1->azureml-evaluate-mlflow) (3.20.3)\n",
      "Requirement already satisfied: databricks-cli<1,>=0.8.7 in /anaconda/envs/azureml_py38/lib/python3.8/site-packages (from mlflow-skinny==2.3.1->azureml-evaluate-mlflow) (0.17.7)\n",
      "Requirement already satisfied: aiohttp in /anaconda/envs/azureml_py38/lib/python3.8/site-packages (from datasets>=2.11.0->azureml-evaluate-mlflow) (3.8.4)\n",
      "Requirement already satisfied: pyarrow>=8.0.0 in /anaconda/envs/azureml_py38/lib/python3.8/site-packages (from datasets>=2.11.0->azureml-evaluate-mlflow) (9.0.0)\n",
      "Requirement already satisfied: tqdm>=4.62.1 in /anaconda/envs/azureml_py38/lib/python3.8/site-packages (from datasets>=2.11.0->azureml-evaluate-mlflow) (4.65.0)\n",
      "Requirement already satisfied: xxhash in /anaconda/envs/azureml_py38/lib/python3.8/site-packages (from datasets>=2.11.0->azureml-evaluate-mlflow) (3.2.0)\n",
      "Requirement already satisfied: huggingface-hub<1.0.0,>=0.14.0 in /anaconda/envs/azureml_py38/lib/python3.8/site-packages (from datasets>=2.11.0->azureml-evaluate-mlflow) (0.14.1)\n"
     ]
    },
    {
     "name": "stdout",
     "output_type": "stream",
     "text": [
      "Requirement already satisfied: fsspec[http]>=2021.11.1 in /anaconda/envs/azureml_py38/lib/python3.8/site-packages (from datasets>=2.11.0->azureml-evaluate-mlflow) (2023.5.0)\n",
      "Requirement already satisfied: multiprocess in /anaconda/envs/azureml_py38/lib/python3.8/site-packages (from datasets>=2.11.0->azureml-evaluate-mlflow) (0.70.14)\n",
      "Requirement already satisfied: pandas in /anaconda/envs/azureml_py38/lib/python3.8/site-packages (from datasets>=2.11.0->azureml-evaluate-mlflow) (1.1.5)\n",
      "Requirement already satisfied: dill<0.3.8,>=0.3.0 in /anaconda/envs/azureml_py38/lib/python3.8/site-packages (from datasets>=2.11.0->azureml-evaluate-mlflow) (0.3.5.1)\n",
      "Requirement already satisfied: cffi>=1.0 in /anaconda/envs/azureml_py38/lib/python3.8/site-packages (from soundfile>=0.12.1->azureml-evaluate-mlflow) (1.15.1)\n",
      "Requirement already satisfied: nvidia-curand-cu11==10.2.10.91; platform_system == \"Linux\" and platform_machine == \"x86_64\" in /anaconda/envs/azureml_py38/lib/python3.8/site-packages (from torch>=1.9.0->azureml-evaluate-mlflow) (10.2.10.91)\n",
      "Requirement already satisfied: typing-extensions in /anaconda/envs/azureml_py38/lib/python3.8/site-packages (from torch>=1.9.0->azureml-evaluate-mlflow) (4.6.0)\n",
      "Requirement already satisfied: nvidia-cusparse-cu11==11.7.4.91; platform_system == \"Linux\" and platform_machine == \"x86_64\" in /anaconda/envs/azureml_py38/lib/python3.8/site-packages (from torch>=1.9.0->azureml-evaluate-mlflow) (11.7.4.91)\n",
      "Requirement already satisfied: sympy in /anaconda/envs/azureml_py38/lib/python3.8/site-packages (from torch>=1.9.0->azureml-evaluate-mlflow) (1.12)\n",
      "Requirement already satisfied: nvidia-cuda-cupti-cu11==11.7.101; platform_system == \"Linux\" and platform_machine == \"x86_64\" in /anaconda/envs/azureml_py38/lib/python3.8/site-packages (from torch>=1.9.0->azureml-evaluate-mlflow) (11.7.101)\n",
      "Requirement already satisfied: nvidia-nvtx-cu11==11.7.91; platform_system == \"Linux\" and platform_machine == \"x86_64\" in /anaconda/envs/azureml_py38/lib/python3.8/site-packages (from torch>=1.9.0->azureml-evaluate-mlflow) (11.7.91)\n",
      "Requirement already satisfied: triton==2.0.0; platform_system == \"Linux\" and platform_machine == \"x86_64\" in /anaconda/envs/azureml_py38/lib/python3.8/site-packages (from torch>=1.9.0->azureml-evaluate-mlflow) (2.0.0)\n",
      "Requirement already satisfied: jinja2 in /anaconda/envs/azureml_py38/lib/python3.8/site-packages (from torch>=1.9.0->azureml-evaluate-mlflow) (2.11.2)\n",
      "Requirement already satisfied: nvidia-nccl-cu11==2.14.3; platform_system == \"Linux\" and platform_machine == \"x86_64\" in /anaconda/envs/azureml_py38/lib/python3.8/site-packages (from torch>=1.9.0->azureml-evaluate-mlflow) (2.14.3)\n",
      "Requirement already satisfied: filelock in /anaconda/envs/azureml_py38/lib/python3.8/site-packages (from torch>=1.9.0->azureml-evaluate-mlflow) (3.12.0)\n",
      "Requirement already satisfied: networkx in /anaconda/envs/azureml_py38/lib/python3.8/site-packages (from torch>=1.9.0->azureml-evaluate-mlflow) (2.5)\n",
      "Requirement already satisfied: nvidia-cufft-cu11==10.9.0.58; platform_system == \"Linux\" and platform_machine == \"x86_64\" in /anaconda/envs/azureml_py38/lib/python3.8/site-packages (from torch>=1.9.0->azureml-evaluate-mlflow) (10.9.0.58)\n",
      "Requirement already satisfied: nvidia-cusolver-cu11==11.4.0.1; platform_system == \"Linux\" and platform_machine == \"x86_64\" in /anaconda/envs/azureml_py38/lib/python3.8/site-packages (from torch>=1.9.0->azureml-evaluate-mlflow) (11.4.0.1)\n",
      "Requirement already satisfied: nvidia-cublas-cu11==11.10.3.66; platform_system == \"Linux\" and platform_machine == \"x86_64\" in /anaconda/envs/azureml_py38/lib/python3.8/site-packages (from torch>=1.9.0->azureml-evaluate-mlflow) (11.10.3.66)\n",
      "Requirement already satisfied: nvidia-cuda-nvrtc-cu11==11.7.99; platform_system == \"Linux\" and platform_machine == \"x86_64\" in /anaconda/envs/azureml_py38/lib/python3.8/site-packages (from torch>=1.9.0->azureml-evaluate-mlflow) (11.7.99)\n",
      "Requirement already satisfied: nvidia-cudnn-cu11==8.5.0.96; platform_system == \"Linux\" and platform_machine == \"x86_64\" in /anaconda/envs/azureml_py38/lib/python3.8/site-packages (from torch>=1.9.0->azureml-evaluate-mlflow) (8.5.0.96)\n",
      "Requirement already satisfied: nvidia-cuda-runtime-cu11==11.7.99; platform_system == \"Linux\" and platform_machine == \"x86_64\" in /anaconda/envs/azureml_py38/lib/python3.8/site-packages (from torch>=1.9.0->azureml-evaluate-mlflow) (11.7.99)\n",
      "Requirement already satisfied: psutil in /anaconda/envs/azureml_py38/lib/python3.8/site-packages (from accelerate>=0.19.0->azureml-evaluate-mlflow) (5.9.5)\n",
      "Requirement already satisfied: six>=1.5 in /anaconda/envs/azureml_py38/lib/python3.8/site-packages (from python-dateutil<3.0.0,>=2.7.3->azureml-evaluate-mlflow) (1.16.0)\n",
      "Requirement already satisfied: safetensors>=0.3.1 in /anaconda/envs/azureml_py38/lib/python3.8/site-packages (from diffusers>=0.14.0->azureml-evaluate-mlflow) (0.3.1)\n",
      "Requirement already satisfied: regex!=2019.12.17 in /anaconda/envs/azureml_py38/lib/python3.8/site-packages (from diffusers>=0.14.0->azureml-evaluate-mlflow) (2023.5.5)\n",
      "Collecting alembic!=1.10.0,<2\n",
      "  Downloading alembic-1.11.1-py3-none-any.whl (224 kB)\n",
      "\u001b[K     |████████████████████████████████| 224 kB 36.4 MB/s eta 0:00:01\n",
      "\u001b[?25hCollecting sqlalchemy<3,>=1.4.0\n",
      "  Downloading SQLAlchemy-2.0.19-cp38-cp38-manylinux_2_17_x86_64.manylinux2014_x86_64.whl (2.8 MB)\n",
      "\u001b[K     |████████████████████████████████| 2.8 MB 35.0 MB/s eta 0:00:01\n",
      "\u001b[?25hRequirement already satisfied: gunicorn<21; platform_system != \"Windows\" in /anaconda/envs/azureml_py38/lib/python3.8/site-packages (from mlflow==2.3.1->azureml-evaluate-mlflow) (20.1.0)\n",
      "Requirement already satisfied: docker<7,>=4.0.0 in /anaconda/envs/azureml_py38/lib/python3.8/site-packages (from mlflow==2.3.1->azureml-evaluate-mlflow) (6.1.2)\n",
      "Requirement already satisfied: matplotlib<4 in /anaconda/envs/azureml_py38/lib/python3.8/site-packages (from mlflow==2.3.1->azureml-evaluate-mlflow) (3.2.1)\n",
      "Requirement already satisfied: Flask<3 in /anaconda/envs/azureml_py38/lib/python3.8/site-packages (from mlflow==2.3.1->azureml-evaluate-mlflow) (2.3.2)\n",
      "Collecting querystring-parser<2\n",
      "  Downloading querystring_parser-1.2.4-py2.py3-none-any.whl (7.9 kB)\n",
      "Requirement already satisfied: markdown<4,>=3.3 in /anaconda/envs/azureml_py38/lib/python3.8/site-packages (from mlflow==2.3.1->azureml-evaluate-mlflow) (3.4.3)\n",
      "Requirement already satisfied: nltk==3.8.1 in /anaconda/envs/azureml_py38/lib/python3.8/site-packages (from azureml-metrics->azureml-evaluate-mlflow) (3.8.1)\n",
      "Requirement already satisfied: seqeval==1.2.2 in /anaconda/envs/azureml_py38/lib/python3.8/site-packages (from azureml-metrics->azureml-evaluate-mlflow) (1.2.2)\n",
      "Requirement already satisfied: rouge-score>=0.1.2 in /anaconda/envs/azureml_py38/lib/python3.8/site-packages (from azureml-metrics->azureml-evaluate-mlflow) (0.1.2)\n",
      "Requirement already satisfied: bert-score>=0.3.13 in /anaconda/envs/azureml_py38/lib/python3.8/site-packages (from azureml-metrics->azureml-evaluate-mlflow) (0.3.13)\n",
      "Requirement already satisfied: tenacity>=8.2.2 in /anaconda/envs/azureml_py38/lib/python3.8/site-packages (from azureml-metrics->azureml-evaluate-mlflow) (8.2.2)\n",
      "Requirement already satisfied: pycocotools==2.0.6 in /anaconda/envs/azureml_py38/lib/python3.8/site-packages (from azureml-metrics->azureml-evaluate-mlflow) (2.0.6)\n",
      "Requirement already satisfied: evaluate>=0.3.0 in /anaconda/envs/azureml_py38/lib/python3.8/site-packages (from azureml-metrics->azureml-evaluate-mlflow) (0.4.0)\n",
      "Requirement already satisfied: openai>=0.27.2 in /anaconda/envs/azureml_py38/lib/python3.8/site-packages (from azureml-metrics->azureml-evaluate-mlflow) (0.27.8)\n",
      "Requirement already satisfied: lazy-loader>=0.1 in /anaconda/envs/azureml_py38/lib/python3.8/site-packages (from librosa->azureml-evaluate-mlflow) (0.2)\n",
      "Collecting pooch<1.7,>=1.0\n",
      "  Downloading pooch-1.6.0-py3-none-any.whl (56 kB)\n",
      "\u001b[K     |████████████████████████████████| 56 kB 16.5 MB/s eta 0:00:01\n",
      "\u001b[?25hCollecting audioread>=2.1.9\n",
      "  Downloading audioread-3.0.0.tar.gz (377 kB)\n",
      "\u001b[K     |████████████████████████████████| 377 kB 37.1 MB/s eta 0:00:01\n",
      "\u001b[?25hCollecting soxr>=0.3.2\n",
      "  Downloading soxr-0.3.5-cp38-cp38-manylinux_2_17_x86_64.manylinux2014_x86_64.whl (1.3 MB)\n"
     ]
    },
    {
     "name": "stdout",
     "output_type": "stream",
     "text": [
      "\u001b[K     |████████████████████████████████| 1.3 MB 33.2 MB/s eta 0:00:01\n",
      "\u001b[?25hRequirement already satisfied: decorator>=4.3.0 in /anaconda/envs/azureml_py38/lib/python3.8/site-packages (from librosa->azureml-evaluate-mlflow) (5.1.1)\n",
      "Requirement already satisfied: numba>=0.51.0 in /anaconda/envs/azureml_py38/lib/python3.8/site-packages (from librosa->azureml-evaluate-mlflow) (0.55.2)\n",
      "Requirement already satisfied: msgpack>=1.0 in /anaconda/envs/azureml_py38/lib/python3.8/site-packages (from librosa->azureml-evaluate-mlflow) (1.0.5)\n",
      "Requirement already satisfied: tokenizers!=0.11.3,<0.14,>=0.11.1 in /anaconda/envs/azureml_py38/lib/python3.8/site-packages (from transformers>=4.28.1->azureml-evaluate-mlflow) (0.13.3)\n",
      "Requirement already satisfied: azure-core!=1.22.0,<2.0.0,>=1.8.0 in /anaconda/envs/azureml_py38/lib/python3.8/site-packages (from azureml-mlflow>=1.47.0->azureml-evaluate-mlflow) (1.26.4)\n",
      "Requirement already satisfied: azure-storage-blob<=12.13.0,>=12.5.0 in /anaconda/envs/azureml_py38/lib/python3.8/site-packages (from azureml-mlflow>=1.47.0->azureml-evaluate-mlflow) (12.13.0)\n",
      "Requirement already satisfied: msrest>=0.6.18 in /anaconda/envs/azureml_py38/lib/python3.8/site-packages (from azureml-mlflow>=1.47.0->azureml-evaluate-mlflow) (0.7.1)\n",
      "Requirement already satisfied: azure-identity in /anaconda/envs/azureml_py38/lib/python3.8/site-packages (from azureml-mlflow>=1.47.0->azureml-evaluate-mlflow) (1.13.0)\n",
      "Requirement already satisfied: azure-common<2.0.0,>=1.1 in /anaconda/envs/azureml_py38/lib/python3.8/site-packages (from azureml-mlflow>=1.47.0->azureml-evaluate-mlflow) (1.1.28)\n",
      "Requirement already satisfied: azure-mgmt-core<2.0.0,>=1.2.0 in /anaconda/envs/azureml_py38/lib/python3.8/site-packages (from azureml-mlflow>=1.47.0->azureml-evaluate-mlflow) (1.4.0)\n",
      "Requirement already satisfied: paramiko<4.0.0,>=2.0.8 in /anaconda/envs/azureml_py38/lib/python3.8/site-packages (from azureml-core>=1.43.0->azureml-evaluate-mlflow) (3.1.0)\n",
      "Requirement already satisfied: adal<=1.2.7,>=1.2.0 in /anaconda/envs/azureml_py38/lib/python3.8/site-packages (from azureml-core>=1.43.0->azureml-evaluate-mlflow) (1.2.7)\n",
      "Requirement already satisfied: msal<2.0.0,>=1.15.0 in /anaconda/envs/azureml_py38/lib/python3.8/site-packages (from azureml-core>=1.43.0->azureml-evaluate-mlflow) (1.22.0)\n",
      "Requirement already satisfied: pyopenssl<24.0.0 in /anaconda/envs/azureml_py38/lib/python3.8/site-packages (from azureml-core>=1.43.0->azureml-evaluate-mlflow) (23.0.0)\n",
      "Requirement already satisfied: msrestazure<=0.6.4,>=0.4.33 in /anaconda/envs/azureml_py38/lib/python3.8/site-packages (from azureml-core>=1.43.0->azureml-evaluate-mlflow) (0.6.4)\n",
      "Requirement already satisfied: humanfriendly<11.0,>=4.7 in /anaconda/envs/azureml_py38/lib/python3.8/site-packages (from azureml-core>=1.43.0->azureml-evaluate-mlflow) (10.0)\n",
      "Requirement already satisfied: PyJWT<3.0.0 in /anaconda/envs/azureml_py38/lib/python3.8/site-packages (from azureml-core>=1.43.0->azureml-evaluate-mlflow) (2.4.0)\n",
      "Requirement already satisfied: azure-mgmt-authorization<4,>=0.40.0 in /anaconda/envs/azureml_py38/lib/python3.8/site-packages (from azureml-core>=1.43.0->azureml-evaluate-mlflow) (3.0.0)\n",
      "Requirement already satisfied: azure-graphrbac<1.0.0,>=0.40.0 in /anaconda/envs/azureml_py38/lib/python3.8/site-packages (from azureml-core>=1.43.0->azureml-evaluate-mlflow) (0.60.0)\n",
      "Requirement already satisfied: pkginfo in /anaconda/envs/azureml_py38/lib/python3.8/site-packages (from azureml-core>=1.43.0->azureml-evaluate-mlflow) (1.9.6)\n",
      "Requirement already satisfied: contextlib2<22.0.0 in /anaconda/envs/azureml_py38/lib/python3.8/site-packages (from azureml-core>=1.43.0->azureml-evaluate-mlflow) (21.6.0)\n",
      "Requirement already satisfied: backports.tempfile in /anaconda/envs/azureml_py38/lib/python3.8/site-packages (from azureml-core>=1.43.0->azureml-evaluate-mlflow) (1.0)\n",
      "Requirement already satisfied: azure-mgmt-resource<=22.0.0,>=15.0.0 in /anaconda/envs/azureml_py38/lib/python3.8/site-packages (from azureml-core>=1.43.0->azureml-evaluate-mlflow) (21.1.0b1)\n",
      "Requirement already satisfied: argcomplete<3 in /anaconda/envs/azureml_py38/lib/python3.8/site-packages (from azureml-core>=1.43.0->azureml-evaluate-mlflow) (2.1.2)\n",
      "Requirement already satisfied: azure-mgmt-storage<=21.0.0,>=16.0.0 in /anaconda/envs/azureml_py38/lib/python3.8/site-packages (from azureml-core>=1.43.0->azureml-evaluate-mlflow) (21.0.0)\n",
      "Requirement already satisfied: urllib3<2.0.0,>=1.23 in /anaconda/envs/azureml_py38/lib/python3.8/site-packages (from azureml-core>=1.43.0->azureml-evaluate-mlflow) (1.26.16)\n",
      "Requirement already satisfied: azure-mgmt-keyvault<11.0.0,>=0.40.0 in /anaconda/envs/azureml_py38/lib/python3.8/site-packages (from azureml-core>=1.43.0->azureml-evaluate-mlflow) (10.2.1)\n",
      "Requirement already satisfied: ndg-httpsclient<=0.5.1 in /anaconda/envs/azureml_py38/lib/python3.8/site-packages (from azureml-core>=1.43.0->azureml-evaluate-mlflow) (0.5.1)\n",
      "Requirement already satisfied: msal-extensions<=1.0.0,>=0.3.0 in /anaconda/envs/azureml_py38/lib/python3.8/site-packages (from azureml-core>=1.43.0->azureml-evaluate-mlflow) (1.0.0)\n",
      "Requirement already satisfied: jmespath<2.0.0 in /anaconda/envs/azureml_py38/lib/python3.8/site-packages (from azureml-core>=1.43.0->azureml-evaluate-mlflow) (0.10.0)\n",
      "Requirement already satisfied: azure-mgmt-containerregistry<11,>=8.2.0 in /anaconda/envs/azureml_py38/lib/python3.8/site-packages (from azureml-core>=1.43.0->azureml-evaluate-mlflow) (10.1.0)\n",
      "Requirement already satisfied: SecretStorage<4.0.0 in /anaconda/envs/azureml_py38/lib/python3.8/site-packages (from azureml-core>=1.43.0->azureml-evaluate-mlflow) (3.3.3)\n",
      "Requirement already satisfied: pathspec<1.0.0 in /anaconda/envs/azureml_py38/lib/python3.8/site-packages (from azureml-core>=1.43.0->azureml-evaluate-mlflow) (0.11.1)\n",
      "Requirement already satisfied: knack~=0.10.0 in /anaconda/envs/azureml_py38/lib/python3.8/site-packages (from azureml-core>=1.43.0->azureml-evaluate-mlflow) (0.10.1)\n",
      "Requirement already satisfied: zipp>=0.5 in /anaconda/envs/azureml_py38/lib/python3.8/site-packages (from importlib-metadata!=4.7.0,<7,>=3.7.0->mlflow-skinny==2.3.1->azureml-evaluate-mlflow) (3.12.0)\n",
      "Requirement already satisfied: idna<4,>=2.5 in /anaconda/envs/azureml_py38/lib/python3.8/site-packages (from requests<3,>=2.17.3->mlflow-skinny==2.3.1->azureml-evaluate-mlflow) (3.4)\n",
      "Requirement already satisfied: certifi>=2017.4.17 in /anaconda/envs/azureml_py38/lib/python3.8/site-packages (from requests<3,>=2.17.3->mlflow-skinny==2.3.1->azureml-evaluate-mlflow) (2022.9.24)\n",
      "Requirement already satisfied: charset-normalizer<4,>=2 in /anaconda/envs/azureml_py38/lib/python3.8/site-packages (from requests<3,>=2.17.3->mlflow-skinny==2.3.1->azureml-evaluate-mlflow) (3.1.0)\n",
      "Requirement already satisfied: gitdb<5,>=4.0.1 in /anaconda/envs/azureml_py38/lib/python3.8/site-packages (from gitpython<4,>=2.1.0->mlflow-skinny==2.3.1->azureml-evaluate-mlflow) (4.0.10)\n",
      "Requirement already satisfied: oauthlib>=3.1.0 in /anaconda/envs/azureml_py38/lib/python3.8/site-packages (from databricks-cli<1,>=0.8.7->mlflow-skinny==2.3.1->azureml-evaluate-mlflow) (3.2.2)\n",
      "Requirement already satisfied: tabulate>=0.7.7 in /anaconda/envs/azureml_py38/lib/python3.8/site-packages (from databricks-cli<1,>=0.8.7->mlflow-skinny==2.3.1->azureml-evaluate-mlflow) (0.9.0)\n",
      "Requirement already satisfied: attrs>=17.3.0 in /anaconda/envs/azureml_py38/lib/python3.8/site-packages (from aiohttp->datasets>=2.11.0->azureml-evaluate-mlflow) (23.1.0)\n",
      "Requirement already satisfied: async-timeout<5.0,>=4.0.0a3 in /anaconda/envs/azureml_py38/lib/python3.8/site-packages (from aiohttp->datasets>=2.11.0->azureml-evaluate-mlflow) (4.0.2)\n",
      "Requirement already satisfied: multidict<7.0,>=4.5 in /anaconda/envs/azureml_py38/lib/python3.8/site-packages (from aiohttp->datasets>=2.11.0->azureml-evaluate-mlflow) (6.0.4)\n",
      "Requirement already satisfied: aiosignal>=1.1.2 in /anaconda/envs/azureml_py38/lib/python3.8/site-packages (from aiohttp->datasets>=2.11.0->azureml-evaluate-mlflow) (1.3.1)\n",
      "Requirement already satisfied: yarl<2.0,>=1.0 in /anaconda/envs/azureml_py38/lib/python3.8/site-packages (from aiohttp->datasets>=2.11.0->azureml-evaluate-mlflow) (1.9.2)\n",
      "Requirement already satisfied: frozenlist>=1.1.1 in /anaconda/envs/azureml_py38/lib/python3.8/site-packages (from aiohttp->datasets>=2.11.0->azureml-evaluate-mlflow) (1.3.3)\n",
      "Requirement already satisfied: pycparser in /anaconda/envs/azureml_py38/lib/python3.8/site-packages (from cffi>=1.0->soundfile>=0.12.1->azureml-evaluate-mlflow) (2.21)\n",
      "Requirement already satisfied: wheel in /anaconda/envs/azureml_py38/lib/python3.8/site-packages (from nvidia-curand-cu11==10.2.10.91; platform_system == \"Linux\" and platform_machine == \"x86_64\"->torch>=1.9.0->azureml-evaluate-mlflow) (0.37.1)\n",
      "Requirement already satisfied: setuptools in /anaconda/envs/azureml_py38/lib/python3.8/site-packages (from nvidia-curand-cu11==10.2.10.91; platform_system == \"Linux\" and platform_machine == \"x86_64\"->torch>=1.9.0->azureml-evaluate-mlflow) (65.6.3)\n",
      "Requirement already satisfied: mpmath>=0.19 in /anaconda/envs/azureml_py38/lib/python3.8/site-packages (from sympy->torch>=1.9.0->azureml-evaluate-mlflow) (1.3.0)\n",
      "Requirement already satisfied: lit in /anaconda/envs/azureml_py38/lib/python3.8/site-packages (from triton==2.0.0; platform_system == \"Linux\" and platform_machine == \"x86_64\"->torch>=1.9.0->azureml-evaluate-mlflow) (16.0.6)\n",
      "Requirement already satisfied: cmake in /anaconda/envs/azureml_py38/lib/python3.8/site-packages (from triton==2.0.0; platform_system == \"Linux\" and platform_machine == \"x86_64\"->torch>=1.9.0->azureml-evaluate-mlflow) (3.27.0)\n"
     ]
    },
    {
     "name": "stdout",
     "output_type": "stream",
     "text": [
      "Requirement already satisfied: MarkupSafe>=0.23 in /anaconda/envs/azureml_py38/lib/python3.8/site-packages (from jinja2->torch>=1.9.0->azureml-evaluate-mlflow) (2.0.1)\n",
      "Collecting Mako\n",
      "  Downloading Mako-1.2.4-py3-none-any.whl (78 kB)\n",
      "\u001b[K     |████████████████████████████████| 78 kB 21.7 MB/s eta 0:00:01\n",
      "\u001b[?25hRequirement already satisfied: importlib-resources; python_version < \"3.9\" in /anaconda/envs/azureml_py38/lib/python3.8/site-packages (from alembic!=1.10.0,<2->mlflow==2.3.1->azureml-evaluate-mlflow) (5.12.0)\n",
      "Requirement already satisfied: greenlet!=0.4.17; platform_machine == \"aarch64\" or (platform_machine == \"ppc64le\" or (platform_machine == \"x86_64\" or (platform_machine == \"amd64\" or (platform_machine == \"AMD64\" or (platform_machine == \"win32\" or platform_machine == \"WIN32\"))))) in /anaconda/envs/azureml_py38/lib/python3.8/site-packages (from sqlalchemy<3,>=1.4.0->mlflow==2.3.1->azureml-evaluate-mlflow) (2.0.2)\n",
      "Requirement already satisfied: websocket-client>=0.32.0 in /anaconda/envs/azureml_py38/lib/python3.8/site-packages (from docker<7,>=4.0.0->mlflow==2.3.1->azureml-evaluate-mlflow) (1.3.3)\n",
      "Requirement already satisfied: cycler>=0.10 in /anaconda/envs/azureml_py38/lib/python3.8/site-packages (from matplotlib<4->mlflow==2.3.1->azureml-evaluate-mlflow) (0.11.0)\n",
      "Requirement already satisfied: kiwisolver>=1.0.1 in /anaconda/envs/azureml_py38/lib/python3.8/site-packages (from matplotlib<4->mlflow==2.3.1->azureml-evaluate-mlflow) (1.4.4)\n",
      "Requirement already satisfied: pyparsing!=2.0.4,!=2.1.2,!=2.1.6,>=2.0.1 in /anaconda/envs/azureml_py38/lib/python3.8/site-packages (from matplotlib<4->mlflow==2.3.1->azureml-evaluate-mlflow) (3.1.0)\n",
      "Requirement already satisfied: Werkzeug>=2.3.3 in /anaconda/envs/azureml_py38/lib/python3.8/site-packages (from Flask<3->mlflow==2.3.1->azureml-evaluate-mlflow) (2.3.4)\n",
      "Requirement already satisfied: blinker>=1.6.2 in /anaconda/envs/azureml_py38/lib/python3.8/site-packages (from Flask<3->mlflow==2.3.1->azureml-evaluate-mlflow) (1.6.2)\n",
      "Requirement already satisfied: itsdangerous>=2.1.2 in /anaconda/envs/azureml_py38/lib/python3.8/site-packages (from Flask<3->mlflow==2.3.1->azureml-evaluate-mlflow) (2.1.2)\n",
      "Requirement already satisfied: absl-py in /anaconda/envs/azureml_py38/lib/python3.8/site-packages (from rouge-score>=0.1.2->azureml-metrics->azureml-evaluate-mlflow) (1.4.0)\n",
      "Requirement already satisfied: responses<0.19 in /anaconda/envs/azureml_py38/lib/python3.8/site-packages (from evaluate>=0.3.0->azureml-metrics->azureml-evaluate-mlflow) (0.18.0)\n",
      "Collecting appdirs>=1.3.0\n",
      "  Downloading appdirs-1.4.4-py2.py3-none-any.whl (9.6 kB)\n",
      "Requirement already satisfied: llvmlite<0.39,>=0.38.0rc1 in /anaconda/envs/azureml_py38/lib/python3.8/site-packages (from numba>=0.51.0->librosa->azureml-evaluate-mlflow) (0.38.1)\n",
      "Requirement already satisfied: requests-oauthlib>=0.5.0 in /anaconda/envs/azureml_py38/lib/python3.8/site-packages (from msrest>=0.6.18->azureml-mlflow>=1.47.0->azureml-evaluate-mlflow) (1.3.1)\n",
      "Requirement already satisfied: isodate>=0.6.0 in /anaconda/envs/azureml_py38/lib/python3.8/site-packages (from msrest>=0.6.18->azureml-mlflow>=1.47.0->azureml-evaluate-mlflow) (0.6.1)\n",
      "Requirement already satisfied: bcrypt>=3.2 in /anaconda/envs/azureml_py38/lib/python3.8/site-packages (from paramiko<4.0.0,>=2.0.8->azureml-core>=1.43.0->azureml-evaluate-mlflow) (4.0.1)\n",
      "Requirement already satisfied: pynacl>=1.5 in /anaconda/envs/azureml_py38/lib/python3.8/site-packages (from paramiko<4.0.0,>=2.0.8->azureml-core>=1.43.0->azureml-evaluate-mlflow) (1.5.0)\n",
      "Requirement already satisfied: backports.weakref in /anaconda/envs/azureml_py38/lib/python3.8/site-packages (from backports.tempfile->azureml-core>=1.43.0->azureml-evaluate-mlflow) (1.0.post1)\n",
      "Requirement already satisfied: pyasn1>=0.1.1 in /anaconda/envs/azureml_py38/lib/python3.8/site-packages (from ndg-httpsclient<=0.5.1->azureml-core>=1.43.0->azureml-evaluate-mlflow) (0.5.0)\n",
      "Requirement already satisfied: portalocker<3,>=1.0; python_version >= \"3.5\" and platform_system != \"Windows\" in /anaconda/envs/azureml_py38/lib/python3.8/site-packages (from msal-extensions<=1.0.0,>=0.3.0->azureml-core>=1.43.0->azureml-evaluate-mlflow) (2.7.0)\n",
      "Requirement already satisfied: jeepney>=0.6 in /anaconda/envs/azureml_py38/lib/python3.8/site-packages (from SecretStorage<4.0.0->azureml-core>=1.43.0->azureml-evaluate-mlflow) (0.8.0)\n",
      "Requirement already satisfied: pygments in /anaconda/envs/azureml_py38/lib/python3.8/site-packages (from knack~=0.10.0->azureml-core>=1.43.0->azureml-evaluate-mlflow) (2.15.1)\n",
      "Requirement already satisfied: smmap<6,>=3.0.1 in /anaconda/envs/azureml_py38/lib/python3.8/site-packages (from gitdb<5,>=4.0.1->gitpython<4,>=2.1.0->mlflow-skinny==2.3.1->azureml-evaluate-mlflow) (5.0.0)\n",
      "Building wheels for collected packages: audioread\n",
      "  Building wheel for audioread (setup.py) ... \u001b[?25ldone\n",
      "\u001b[?25h  Created wheel for audioread: filename=audioread-3.0.0-py3-none-any.whl size=23703 sha256=c9f3e9336e0188e67f41ec9a93d703e66bc6b90de610c675b6e545ab81d88c3a\n",
      "  Stored in directory: /home/azureuser/.cache/pip/wheels/0a/ed/be/49df2538fca496690a024a4374455584d65c2afd6fc3d6e9c7\n",
      "Successfully built audioread\n",
      "\u001b[31mERROR: scikit-image 0.21.0 has requirement networkx>=2.8, but you'll have networkx 2.5 which is incompatible.\u001b[0m\n",
      "\u001b[31mERROR: scikit-image 0.21.0 has requirement scipy>=1.8, but you'll have scipy 1.5.3 which is incompatible.\u001b[0m\n",
      "\u001b[31mERROR: responsibleai 0.27.0 has requirement ipykernel<=6.8.0, but you'll have ipykernel 6.22.0 which is incompatible.\u001b[0m\n",
      "\u001b[31mERROR: responsibleai 0.27.0 has requirement scikit-learn<1.1,>=0.22.1, but you'll have scikit-learn 1.3.0 which is incompatible.\u001b[0m\n",
      "\u001b[31mERROR: econml 0.14.1 has requirement scikit-learn<1.3,>0.22.0, but you'll have scikit-learn 1.3.0 which is incompatible.\u001b[0m\n",
      "\u001b[31mERROR: azureml-training-tabular 1.51.0.post1 has requirement scikit-learn<0.23.0,>=0.19.0, but you'll have scikit-learn 1.3.0 which is incompatible.\u001b[0m\n",
      "\u001b[31mERROR: azureml-train-automl-runtime 1.51.0.post2 has requirement scikit-learn<0.23.0,>=0.19.0, but you'll have scikit-learn 1.3.0 which is incompatible.\u001b[0m\n",
      "\u001b[31mERROR: azureml-metrics 0.0.21 has requirement scikit-learn<=0.24.2,>=0.19.0; python_version <= \"3.9\", but you'll have scikit-learn 1.3.0 which is incompatible.\u001b[0m\n",
      "\u001b[31mERROR: azureml-automl-runtime 1.51.0.post1 has requirement scikit-learn<0.23.0,>=0.19.0, but you'll have scikit-learn 1.3.0 which is incompatible.\u001b[0m\n",
      "\u001b[31mERROR: azureml-automl-dnn-nlp 1.51.0 has requirement datasets<=2.3.2,>=1.7.0, but you'll have datasets 2.14.2 which is incompatible.\u001b[0m\n",
      "\u001b[31mERROR: azureml-automl-dnn-nlp 1.51.0 has requirement torch<=1.12.0,>=1.5.0, but you'll have torch 2.0.1 which is incompatible.\u001b[0m\n",
      "\u001b[31mERROR: azureml-automl-dnn-nlp 1.51.0 has requirement transformers[sentencepiece]<=4.16.0, but you'll have transformers 4.31.0 which is incompatible.\u001b[0m\n",
      "\u001b[31mERROR: autokeras 1.0.16 has requirement tensorflow<=2.5.0,>=2.3.0, but you'll have tensorflow 2.11.0 which is incompatible.\u001b[0m\n",
      "Installing collected packages: scikit-learn, mlflow-skinny, datasets, soundfile, Pillow, diffusers, Mako, sqlalchemy, alembic, querystring-parser, mlflow, appdirs, pooch, audioread, soxr, librosa, azureml-evaluate-mlflow\n",
      "  Attempting uninstall: scikit-learn\n",
      "    Found existing installation: scikit-learn 0.22.1\n",
      "    Uninstalling scikit-learn-0.22.1:\n",
      "      Successfully uninstalled scikit-learn-0.22.1\n",
      "  Attempting uninstall: mlflow-skinny\n",
      "    Found existing installation: mlflow-skinny 2.3.2\n",
      "    Uninstalling mlflow-skinny-2.3.2:\n",
      "      Successfully uninstalled mlflow-skinny-2.3.2\n",
      "  Attempting uninstall: datasets\n",
      "    Found existing installation: datasets 2.3.2\n",
      "    Uninstalling datasets-2.3.2:\n",
      "      Successfully uninstalled datasets-2.3.2\n",
      "  Attempting uninstall: Pillow\n",
      "    Found existing installation: Pillow 9.2.0\n",
      "    Uninstalling Pillow-9.2.0:\n",
      "      Successfully uninstalled Pillow-9.2.0\n",
      "Successfully installed Mako-1.2.4 Pillow-9.4.0 alembic-1.11.1 appdirs-1.4.4 audioread-3.0.0 azureml-evaluate-mlflow-0.0.21 datasets-2.14.2 diffusers-0.19.3 librosa-0.10.0.post2 mlflow-2.3.1 mlflow-skinny-2.3.1 pooch-1.6.0 querystring-parser-1.2.4 scikit-learn-1.3.0 soundfile-0.12.1 soxr-0.3.5 sqlalchemy-2.0.19\n"
     ]
    },
    {
     "name": "stdout",
     "output_type": "stream",
     "text": [
      "Requirement already satisfied: pandas in /anaconda/envs/azureml_py38/lib/python3.8/site-packages (1.1.5)\r\n",
      "Requirement already satisfied: pytz>=2017.2 in /anaconda/envs/azureml_py38/lib/python3.8/site-packages (from pandas) (2022.5)\r\n",
      "Requirement already satisfied: python-dateutil>=2.7.3 in /anaconda/envs/azureml_py38/lib/python3.8/site-packages (from pandas) (2.8.2)\r\n",
      "Requirement already satisfied: numpy>=1.15.4 in /anaconda/envs/azureml_py38/lib/python3.8/site-packages (from pandas) (1.21.6)\r\n",
      "Requirement already satisfied: six>=1.5 in /anaconda/envs/azureml_py38/lib/python3.8/site-packages (from python-dateutil>=2.7.3->pandas) (1.16.0)\r\n"
     ]
    }
   ],
   "source": [
    "! pip uninstall -y azure-identity\n",
    "! pip uninstall -y azure-ai-ml\n",
    "\n",
    "! pip install -U azure-identity\n",
    "! pip install azure-ai-ml==1.9.0a20230616001 --extra-index-url https://pkgs.dev.azure.com/azure-sdk/public/_packaging/azure-sdk-for-python/pypi/simple/\n",
    "! pip install torch==2.0.1\n",
    "! pip install bitsandbytes\n",
    "! pip install transformers==4.31.0\n",
    "! pip install peft\n",
    "! pip install azureml-evaluate-mlflow\n",
    "! pip install pandas"
   ]
  },
  {
   "cell_type": "code",
   "execution_count": 2,
   "metadata": {},
   "outputs": [
    {
     "name": "stderr",
     "output_type": "stream",
     "text": [
      "2023-08-01 08:10:19.893748: I tensorflow/core/platform/cpu_feature_guard.cc:193] This TensorFlow binary is optimized with oneAPI Deep Neural Network Library (oneDNN) to use the following CPU instructions in performance-critical operations:  AVX2 FMA\n",
      "To enable them in other operations, rebuild TensorFlow with the appropriate compiler flags.\n",
      "2023-08-01 08:10:29.982216: W tensorflow/compiler/xla/stream_executor/platform/default/dso_loader.cc:64] Could not load dynamic library 'libnvinfer.so.7'; dlerror: libnvinfer.so.7: cannot open shared object file: No such file or directory\n",
      "2023-08-01 08:10:29.982344: W tensorflow/compiler/xla/stream_executor/platform/default/dso_loader.cc:64] Could not load dynamic library 'libnvinfer_plugin.so.7'; dlerror: libnvinfer_plugin.so.7: cannot open shared object file: No such file or directory\n",
      "2023-08-01 08:10:29.982354: W tensorflow/compiler/tf2tensorrt/utils/py_utils.cc:38] TF-TRT Warning: Cannot dlopen some TensorRT libraries. If you would like to use Nvidia GPU with TensorRT, please make sure the missing libraries mentioned above are installed properly.\n"
     ]
    }
   ],
   "source": [
    "from transformers import LlamaTokenizer, LlamaForCausalLM\n",
    "from transformers import Trainer, TrainingArguments\n",
    "from peft import prepare_model_for_int8_training, LoraConfig, get_peft_model\n",
    "from datasets import Dataset\n",
    "import os\n",
    "import numpy as np\n",
    "import pandas as pd\n",
    "from pprint import pprint\n",
    "import torch\n",
    "\n",
    "from azureml.metrics import compute_metrics, constants"
   ]
  },
  {
   "cell_type": "markdown",
   "metadata": {},
   "source": [
    "### Download model from azureml-meta registry <a class=\"anchor\" id=\"Download\"></a>"
   ]
  },
  {
   "cell_type": "code",
   "execution_count": 3,
   "metadata": {},
   "outputs": [
    {
     "name": "stderr",
     "output_type": "stream",
     "text": [
      "Found the config file in: /config.json\n",
      "Downloading the model mlflow_model_folder at ./Llama-2-70b/mlflow_model_folder\n",
      "\n",
      "Your file exceeds 100 MB. If you experience low speeds, latency, or broken connections, we recommend using the AzCopyv10 tool for this file transfer.\n",
      "\n",
      "Example: azcopy copy 'https://amlmtayj4buuse01.blob.core.windows.net/azureml-me-80bb7f94-a0fa-55ee-b401-844db6ecc66f/mlflow_model_folder' './Llama-2-70b/mlflow_model_folder' \n",
      "\n",
      "See https://docs.microsoft.com/azure/storage/common/storage-use-azcopy-v10 for more information.\n",
      "Your file exceeds 100 MB. If you experience low speeds, latency, or broken connections, we recommend using the AzCopyv10 tool for this file transfer.\n",
      "\n",
      "Example: azcopy copy 'https://amlmtayj4buuse01.blob.core.windows.net/azureml-me-80bb7f94-a0fa-55ee-b401-844db6ecc66f/mlflow_model_folder' './Llama-2-70b/mlflow_model_folder' \n",
      "\n",
      "See https://docs.microsoft.com/azure/storage/common/storage-use-azcopy-v10 for more information.\n",
      "Your file exceeds 100 MB. If you experience low speeds, latency, or broken connections, we recommend using the AzCopyv10 tool for this file transfer.\n",
      "\n",
      "Example: azcopy copy 'https://amlmtayj4buuse01.blob.core.windows.net/azureml-me-80bb7f94-a0fa-55ee-b401-844db6ecc66f/mlflow_model_folder' './Llama-2-70b/mlflow_model_folder' \n",
      "\n",
      "See https://docs.microsoft.com/azure/storage/common/storage-use-azcopy-v10 for more information.\n",
      "Your file exceeds 100 MB. If you experience low speeds, latency, or broken connections, we recommend using the AzCopyv10 tool for this file transfer.\n",
      "\n",
      "Example: azcopy copy 'https://amlmtayj4buuse01.blob.core.windows.net/azureml-me-80bb7f94-a0fa-55ee-b401-844db6ecc66f/mlflow_model_folder' './Llama-2-70b/mlflow_model_folder' \n",
      "\n",
      "See https://docs.microsoft.com/azure/storage/common/storage-use-azcopy-v10 for more information.\n",
      "Your file exceeds 100 MB. If you experience low speeds, latency, or broken connections, we recommend using the AzCopyv10 tool for this file transfer.\n",
      "\n",
      "Example: azcopy copy 'https://amlmtayj4buuse01.blob.core.windows.net/azureml-me-80bb7f94-a0fa-55ee-b401-844db6ecc66f/mlflow_model_folder' './Llama-2-70b/mlflow_model_folder' \n",
      "\n",
      "See https://docs.microsoft.com/azure/storage/common/storage-use-azcopy-v10 for more information.\n",
      "Your file exceeds 100 MB. If you experience low speeds, latency, or broken connections, we recommend using the AzCopyv10 tool for this file transfer.\n",
      "\n",
      "Example: azcopy copy 'https://amlmtayj4buuse01.blob.core.windows.net/azureml-me-80bb7f94-a0fa-55ee-b401-844db6ecc66f/mlflow_model_folder' './Llama-2-70b/mlflow_model_folder' \n",
      "\n",
      "See https://docs.microsoft.com/azure/storage/common/storage-use-azcopy-v10 for more information.\n",
      "Your file exceeds 100 MB. If you experience low speeds, latency, or broken connections, we recommend using the AzCopyv10 tool for this file transfer.\n",
      "\n",
      "Example: azcopy copy 'https://amlmtayj4buuse01.blob.core.windows.net/azureml-me-80bb7f94-a0fa-55ee-b401-844db6ecc66f/mlflow_model_folder' './Llama-2-70b/mlflow_model_folder' \n",
      "\n",
      "See https://docs.microsoft.com/azure/storage/common/storage-use-azcopy-v10 for more information.\n",
      "Your file exceeds 100 MB. If you experience low speeds, latency, or broken connections, we recommend using the AzCopyv10 tool for this file transfer.\n",
      "\n",
      "Example: azcopy copy 'https://amlmtayj4buuse01.blob.core.windows.net/azureml-me-80bb7f94-a0fa-55ee-b401-844db6ecc66f/mlflow_model_folder' './Llama-2-70b/mlflow_model_folder' \n",
      "\n",
      "See https://docs.microsoft.com/azure/storage/common/storage-use-azcopy-v10 for more information.\n",
      "Your file exceeds 100 MB. If you experience low speeds, latency, or broken connections, we recommend using the AzCopyv10 tool for this file transfer.\n",
      "\n",
      "Example: azcopy copy 'https://amlmtayj4buuse01.blob.core.windows.net/azureml-me-80bb7f94-a0fa-55ee-b401-844db6ecc66f/mlflow_model_folder' './Llama-2-70b/mlflow_model_folder' \n",
      "\n",
      "See https://docs.microsoft.com/azure/storage/common/storage-use-azcopy-v10 for more information.\n",
      "Your file exceeds 100 MB. If you experience low speeds, latency, or broken connections, we recommend using the AzCopyv10 tool for this file transfer.\n",
      "\n",
      "Example: azcopy copy 'https://amlmtayj4buuse01.blob.core.windows.net/azureml-me-80bb7f94-a0fa-55ee-b401-844db6ecc66f/mlflow_model_folder' './Llama-2-70b/mlflow_model_folder' \n",
      "\n",
      "See https://docs.microsoft.com/azure/storage/common/storage-use-azcopy-v10 for more information.\n",
      "Your file exceeds 100 MB. If you experience low speeds, latency, or broken connections, we recommend using the AzCopyv10 tool for this file transfer.\n",
      "\n",
      "Example: azcopy copy 'https://amlmtayj4buuse01.blob.core.windows.net/azureml-me-80bb7f94-a0fa-55ee-b401-844db6ecc66f/mlflow_model_folder' './Llama-2-70b/mlflow_model_folder' \n",
      "\n",
      "See https://docs.microsoft.com/azure/storage/common/storage-use-azcopy-v10 for more information.\n",
      "Your file exceeds 100 MB. If you experience low speeds, latency, or broken connections, we recommend using the AzCopyv10 tool for this file transfer.\n",
      "\n",
      "Example: azcopy copy 'https://amlmtayj4buuse01.blob.core.windows.net/azureml-me-80bb7f94-a0fa-55ee-b401-844db6ecc66f/mlflow_model_folder' './Llama-2-70b/mlflow_model_folder' \n",
      "\n",
      "See https://docs.microsoft.com/azure/storage/common/storage-use-azcopy-v10 for more information.\n",
      "Your file exceeds 100 MB. If you experience low speeds, latency, or broken connections, we recommend using the AzCopyv10 tool for this file transfer.\n",
      "\n",
      "Example: azcopy copy 'https://amlmtayj4buuse01.blob.core.windows.net/azureml-me-80bb7f94-a0fa-55ee-b401-844db6ecc66f/mlflow_model_folder' './Llama-2-70b/mlflow_model_folder' \n",
      "\n",
      "See https://docs.microsoft.com/azure/storage/common/storage-use-azcopy-v10 for more information.\n",
      "Your file exceeds 100 MB. If you experience low speeds, latency, or broken connections, we recommend using the AzCopyv10 tool for this file transfer.\n",
      "\n",
      "Example: azcopy copy 'https://amlmtayj4buuse01.blob.core.windows.net/azureml-me-80bb7f94-a0fa-55ee-b401-844db6ecc66f/mlflow_model_folder' './Llama-2-70b/mlflow_model_folder' \n",
      "\n",
      "See https://docs.microsoft.com/azure/storage/common/storage-use-azcopy-v10 for more information.\n",
      "Your file exceeds 100 MB. If you experience low speeds, latency, or broken connections, we recommend using the AzCopyv10 tool for this file transfer.\n",
      "\n",
      "Example: azcopy copy 'https://amlmtayj4buuse01.blob.core.windows.net/azureml-me-80bb7f94-a0fa-55ee-b401-844db6ecc66f/mlflow_model_folder' './Llama-2-70b/mlflow_model_folder' \n",
      "\n",
      "See https://docs.microsoft.com/azure/storage/common/storage-use-azcopy-v10 for more information.\n",
      "Your file exceeds 100 MB. If you experience low speeds, latency, or broken connections, we recommend using the AzCopyv10 tool for this file transfer.\n",
      "\n",
      "Example: azcopy copy 'https://amlmtayj4buuse01.blob.core.windows.net/azureml-me-80bb7f94-a0fa-55ee-b401-844db6ecc66f/mlflow_model_folder' './Llama-2-70b/mlflow_model_folder' \n",
      "\n",
      "See https://docs.microsoft.com/azure/storage/common/storage-use-azcopy-v10 for more information.\n",
      "Your file exceeds 100 MB. If you experience low speeds, latency, or broken connections, we recommend using the AzCopyv10 tool for this file transfer.\n",
      "\n",
      "Example: azcopy copy 'https://amlmtayj4buuse01.blob.core.windows.net/azureml-me-80bb7f94-a0fa-55ee-b401-844db6ecc66f/mlflow_model_folder' './Llama-2-70b/mlflow_model_folder' \n",
      "\n",
      "See https://docs.microsoft.com/azure/storage/common/storage-use-azcopy-v10 for more information.\n",
      "Your file exceeds 100 MB. If you experience low speeds, latency, or broken connections, we recommend using the AzCopyv10 tool for this file transfer.\n",
      "\n",
      "Example: azcopy copy 'https://amlmtayj4buuse01.blob.core.windows.net/azureml-me-80bb7f94-a0fa-55ee-b401-844db6ecc66f/mlflow_model_folder' './Llama-2-70b/mlflow_model_folder' \n",
      "\n",
      "See https://docs.microsoft.com/azure/storage/common/storage-use-azcopy-v10 for more information.\n",
      "Your file exceeds 100 MB. If you experience low speeds, latency, or broken connections, we recommend using the AzCopyv10 tool for this file transfer.\n",
      "\n",
      "Example: azcopy copy 'https://amlmtayj4buuse01.blob.core.windows.net/azureml-me-80bb7f94-a0fa-55ee-b401-844db6ecc66f/mlflow_model_folder' './Llama-2-70b/mlflow_model_folder' \n",
      "\n",
      "See https://docs.microsoft.com/azure/storage/common/storage-use-azcopy-v10 for more information.\n",
      "Your file exceeds 100 MB. If you experience low speeds, latency, or broken connections, we recommend using the AzCopyv10 tool for this file transfer.\n",
      "\n",
      "Example: azcopy copy 'https://amlmtayj4buuse01.blob.core.windows.net/azureml-me-80bb7f94-a0fa-55ee-b401-844db6ecc66f/mlflow_model_folder' './Llama-2-70b/mlflow_model_folder' \n",
      "\n",
      "See https://docs.microsoft.com/azure/storage/common/storage-use-azcopy-v10 for more information.\n"
     ]
    },
    {
     "name": "stderr",
     "output_type": "stream",
     "text": [
      "Your file exceeds 100 MB. If you experience low speeds, latency, or broken connections, we recommend using the AzCopyv10 tool for this file transfer.\n",
      "\n",
      "Example: azcopy copy 'https://amlmtayj4buuse01.blob.core.windows.net/azureml-me-80bb7f94-a0fa-55ee-b401-844db6ecc66f/mlflow_model_folder' './Llama-2-70b/mlflow_model_folder' \n",
      "\n",
      "See https://docs.microsoft.com/azure/storage/common/storage-use-azcopy-v10 for more information.\n",
      "Your file exceeds 100 MB. If you experience low speeds, latency, or broken connections, we recommend using the AzCopyv10 tool for this file transfer.\n",
      "\n",
      "Example: azcopy copy 'https://amlmtayj4buuse01.blob.core.windows.net/azureml-me-80bb7f94-a0fa-55ee-b401-844db6ecc66f/mlflow_model_folder' './Llama-2-70b/mlflow_model_folder' \n",
      "\n",
      "See https://docs.microsoft.com/azure/storage/common/storage-use-azcopy-v10 for more information.\n",
      "Your file exceeds 100 MB. If you experience low speeds, latency, or broken connections, we recommend using the AzCopyv10 tool for this file transfer.\n",
      "\n",
      "Example: azcopy copy 'https://amlmtayj4buuse01.blob.core.windows.net/azureml-me-80bb7f94-a0fa-55ee-b401-844db6ecc66f/mlflow_model_folder' './Llama-2-70b/mlflow_model_folder' \n",
      "\n",
      "See https://docs.microsoft.com/azure/storage/common/storage-use-azcopy-v10 for more information.\n",
      "Your file exceeds 100 MB. If you experience low speeds, latency, or broken connections, we recommend using the AzCopyv10 tool for this file transfer.\n",
      "\n",
      "Example: azcopy copy 'https://amlmtayj4buuse01.blob.core.windows.net/azureml-me-80bb7f94-a0fa-55ee-b401-844db6ecc66f/mlflow_model_folder' './Llama-2-70b/mlflow_model_folder' \n",
      "\n",
      "See https://docs.microsoft.com/azure/storage/common/storage-use-azcopy-v10 for more information.\n",
      "Your file exceeds 100 MB. If you experience low speeds, latency, or broken connections, we recommend using the AzCopyv10 tool for this file transfer.\n",
      "\n",
      "Example: azcopy copy 'https://amlmtayj4buuse01.blob.core.windows.net/azureml-me-80bb7f94-a0fa-55ee-b401-844db6ecc66f/mlflow_model_folder' './Llama-2-70b/mlflow_model_folder' \n",
      "\n",
      "See https://docs.microsoft.com/azure/storage/common/storage-use-azcopy-v10 for more information.\n"
     ]
    }
   ],
   "source": [
    "from azure.ai.ml import MLClient\n",
    "from azure.identity import (\n",
    "    DefaultAzureCredential,\n",
    "    InteractiveBrowserCredential,\n",
    ")\n",
    "try:\n",
    "    credential = DefaultAzureCredential()\n",
    "    credential.get_token(\"https://management.azure.com/.default\")\n",
    "except Exception as ex:\n",
    "    credential = InteractiveBrowserCredential()\n",
    "\n",
    "# connect to a workspace\n",
    "workspace_ml_client = None\n",
    "try:\n",
    "    workspace_ml_client = MLClient.from_config(credential)\n",
    "    subscription_id = workspace_ml_client.subscription_id\n",
    "    workspace = workspace_ml_client.workspace_name\n",
    "    resource_group = workspace_ml_client.resource_group_name\n",
    "except Exception as ex:\n",
    "    print(ex)\n",
    "    # Enter details of your workspace\n",
    "    subscription_id = \"9ec1d932-0f3f-486c-acc6-e7d78b358f9b\"\n",
    "    resource_group = \"AML_shared\"\n",
    "    workspace = \"AML_shared_eus_ws\"\n",
    "    workspace_ml_client = MLClient(\n",
    "        credential, subscription_id, resource_group, workspace\n",
    "    )\n",
    "# Connect to the meta  registry\n",
    "registry_mlclient = MLClient(credential=credential, registry_name=\"azureml-meta\")\n",
    "model_name = \"Llama-2-70b\"\n",
    "version = list(registry_mlclient.models.list(model_name))[0].version\n",
    "registry_mlclient.models.download(model_name, version=version)"
   ]
  },
  {
   "cell_type": "markdown",
   "metadata": {},
   "source": [
    "### Load model and tokenizer"
   ]
  },
  {
   "cell_type": "code",
   "execution_count": 5,
   "metadata": {},
   "outputs": [
    {
     "name": "stderr",
     "output_type": "stream",
     "text": [
      "You are using the legacy behaviour of the <class 'transformers.models.llama.tokenization_llama.LlamaTokenizer'>. This means that tokens that come after special tokens will not be properly handled. We recommend you to read the related pull request available at https://github.com/huggingface/transformers/pull/24565\n"
     ]
    }
   ],
   "source": [
    "#tokenizer_path = f'{model_name}/mlflow_model_folder/data/tokenizer'\n",
    "tokenizer_path = f'{model_name}/mlflow_model_folder/data/model'\n",
    "tokenizer = LlamaTokenizer.from_pretrained(tokenizer_path)\n",
    "tokenizer.pad_token_id = 0"
   ]
  },
  {
   "cell_type": "code",
   "execution_count": 6,
   "metadata": {
    "gather": {
     "logged": 1690424906644
    }
   },
   "outputs": [
    {
     "data": {
      "application/vnd.jupyter.widget-view+json": {
       "model_id": "eeb9c9c3b3f44d66a5f60000ff1f7c1d",
       "version_major": 2,
       "version_minor": 0
      },
      "text/plain": [
       "Loading checkpoint shards:   0%|          | 0/15 [00:00<?, ?it/s]"
      ]
     },
     "metadata": {},
     "output_type": "display_data"
    }
   ],
   "source": [
    "# Load original model\n",
    "model_path = f'{model_name}/mlflow_model_folder/data/model'\n",
    "model = LlamaForCausalLM.from_pretrained(model_path, device_map='auto', load_in_8bit=True, torch_dtype=torch.float16) #, load_in_8bit=True)"
   ]
  },
  {
   "cell_type": "code",
   "execution_count": 7,
   "metadata": {},
   "outputs": [
    {
     "data": {
      "text/plain": [
       "{'model.embed_tokens': 0,\n",
       " 'model.layers.0': 0,\n",
       " 'model.layers.1': 0,\n",
       " 'model.layers.2': 0,\n",
       " 'model.layers.3': 0,\n",
       " 'model.layers.4': 0,\n",
       " 'model.layers.5': 0,\n",
       " 'model.layers.6': 0,\n",
       " 'model.layers.7': 0,\n",
       " 'model.layers.8': 0,\n",
       " 'model.layers.9': 0,\n",
       " 'model.layers.10': 1,\n",
       " 'model.layers.11': 1,\n",
       " 'model.layers.12': 1,\n",
       " 'model.layers.13': 1,\n",
       " 'model.layers.14': 1,\n",
       " 'model.layers.15': 1,\n",
       " 'model.layers.16': 1,\n",
       " 'model.layers.17': 1,\n",
       " 'model.layers.18': 1,\n",
       " 'model.layers.19': 1,\n",
       " 'model.layers.20': 1,\n",
       " 'model.layers.21': 2,\n",
       " 'model.layers.22': 2,\n",
       " 'model.layers.23': 2,\n",
       " 'model.layers.24': 2,\n",
       " 'model.layers.25': 2,\n",
       " 'model.layers.26': 2,\n",
       " 'model.layers.27': 2,\n",
       " 'model.layers.28': 2,\n",
       " 'model.layers.29': 2,\n",
       " 'model.layers.30': 2,\n",
       " 'model.layers.31': 2,\n",
       " 'model.layers.32': 3,\n",
       " 'model.layers.33': 3,\n",
       " 'model.layers.34': 3,\n",
       " 'model.layers.35': 3,\n",
       " 'model.layers.36': 3,\n",
       " 'model.layers.37': 3,\n",
       " 'model.layers.38': 3,\n",
       " 'model.layers.39': 3,\n",
       " 'model.layers.40': 3,\n",
       " 'model.layers.41': 3,\n",
       " 'model.layers.42': 3,\n",
       " 'model.layers.43': 4,\n",
       " 'model.layers.44': 4,\n",
       " 'model.layers.45': 4,\n",
       " 'model.layers.46': 4,\n",
       " 'model.layers.47': 4,\n",
       " 'model.layers.48': 4,\n",
       " 'model.layers.49': 4,\n",
       " 'model.layers.50': 4,\n",
       " 'model.layers.51': 4,\n",
       " 'model.layers.52': 4,\n",
       " 'model.layers.53': 4,\n",
       " 'model.layers.54': 5,\n",
       " 'model.layers.55': 5,\n",
       " 'model.layers.56': 5,\n",
       " 'model.layers.57': 5,\n",
       " 'model.layers.58': 5,\n",
       " 'model.layers.59': 5,\n",
       " 'model.layers.60': 5,\n",
       " 'model.layers.61': 5,\n",
       " 'model.layers.62': 5,\n",
       " 'model.layers.63': 5,\n",
       " 'model.layers.64': 5,\n",
       " 'model.layers.65': 6,\n",
       " 'model.layers.66': 6,\n",
       " 'model.layers.67': 6,\n",
       " 'model.layers.68': 6,\n",
       " 'model.layers.69': 6,\n",
       " 'model.layers.70': 6,\n",
       " 'model.layers.71': 6,\n",
       " 'model.layers.72': 6,\n",
       " 'model.layers.73': 6,\n",
       " 'model.layers.74': 6,\n",
       " 'model.layers.75': 6,\n",
       " 'model.layers.76': 7,\n",
       " 'model.layers.77': 7,\n",
       " 'model.layers.78': 7,\n",
       " 'model.layers.79': 7,\n",
       " 'model.norm': 7,\n",
       " 'lm_head': 7}"
      ]
     },
     "execution_count": 7,
     "metadata": {},
     "output_type": "execute_result"
    }
   ],
   "source": [
    "model.hf_device_map"
   ]
  },
  {
   "cell_type": "markdown",
   "metadata": {},
   "source": [
    "### Load and prepare data <a class=\"anchor\" id=\"Data\"></a>\n",
    "We use the [knkarthick/dialogsum](https://huggingface.co/datasets/knkarthick/dialogsum) from huggingface. We select 1000 samples from train and 100 each samples from test and valid datasets."
   ]
  },
  {
   "cell_type": "code",
   "execution_count": 8,
   "metadata": {},
   "outputs": [
    {
     "data": {
      "application/vnd.jupyter.widget-view+json": {
       "model_id": "aab951662ed0437c9a8878cdb79ac531",
       "version_major": 2,
       "version_minor": 0
      },
      "text/plain": [
       "Downloading readme:   0%|          | 0.00/4.56k [00:00<?, ?B/s]"
      ]
     },
     "metadata": {},
     "output_type": "display_data"
    },
    {
     "data": {
      "application/vnd.jupyter.widget-view+json": {
       "model_id": "3df25ebe660e4091818278b0a13b66fc",
       "version_major": 2,
       "version_minor": 0
      },
      "text/plain": [
       "Downloading data files:   0%|          | 0/3 [00:00<?, ?it/s]"
      ]
     },
     "metadata": {},
     "output_type": "display_data"
    },
    {
     "data": {
      "application/vnd.jupyter.widget-view+json": {
       "model_id": "c09ecd99b3fc4b5f97edb3bd941064cd",
       "version_major": 2,
       "version_minor": 0
      },
      "text/plain": [
       "Downloading data:   0%|          | 0.00/11.3M [00:00<?, ?B/s]"
      ]
     },
     "metadata": {},
     "output_type": "display_data"
    },
    {
     "data": {
      "application/vnd.jupyter.widget-view+json": {
       "model_id": "48f1b3ff1106438cb6b07424707b52aa",
       "version_major": 2,
       "version_minor": 0
      },
      "text/plain": [
       "Downloading data:   0%|          | 0.00/442k [00:00<?, ?B/s]"
      ]
     },
     "metadata": {},
     "output_type": "display_data"
    },
    {
     "data": {
      "application/vnd.jupyter.widget-view+json": {
       "model_id": "4997697dd36448178350f16ae15c5d98",
       "version_major": 2,
       "version_minor": 0
      },
      "text/plain": [
       "Downloading data:   0%|          | 0.00/1.35M [00:00<?, ?B/s]"
      ]
     },
     "metadata": {},
     "output_type": "display_data"
    },
    {
     "data": {
      "application/vnd.jupyter.widget-view+json": {
       "model_id": "911a6d2c69c74262be9158365422500d",
       "version_major": 2,
       "version_minor": 0
      },
      "text/plain": [
       "Extracting data files:   0%|          | 0/3 [00:00<?, ?it/s]"
      ]
     },
     "metadata": {},
     "output_type": "display_data"
    },
    {
     "data": {
      "application/vnd.jupyter.widget-view+json": {
       "model_id": "1fe8681c6b1541aa8f4fcf276682090e",
       "version_major": 2,
       "version_minor": 0
      },
      "text/plain": [
       "Generating train split: 0 examples [00:00, ? examples/s]"
      ]
     },
     "metadata": {},
     "output_type": "display_data"
    },
    {
     "data": {
      "application/vnd.jupyter.widget-view+json": {
       "model_id": "f5ed323c7ec8430a8a628917b30f515e",
       "version_major": 2,
       "version_minor": 0
      },
      "text/plain": [
       "Generating validation split: 0 examples [00:00, ? examples/s]"
      ]
     },
     "metadata": {},
     "output_type": "display_data"
    },
    {
     "data": {
      "application/vnd.jupyter.widget-view+json": {
       "model_id": "8c4109f2dfd041f898761d8426281615",
       "version_major": 2,
       "version_minor": 0
      },
      "text/plain": [
       "Generating test split: 0 examples [00:00, ? examples/s]"
      ]
     },
     "metadata": {},
     "output_type": "display_data"
    }
   ],
   "source": [
    "from datasets import load_dataset\n",
    "\n",
    "dataset_name = \"knkarthick/dialogsum\"\n",
    "dataset = load_dataset(dataset_name)\n",
    "dataset_train = dataset['train'].select(range(1000))\n",
    "dataset_test = dataset['test'].select(range(100))\n",
    "dataset_valid = dataset['validation'].select(range(100))"
   ]
  },
  {
   "cell_type": "code",
   "execution_count": 9,
   "metadata": {
    "gather": {
     "logged": 1690491431218
    },
    "jupyter": {
     "outputs_hidden": false,
     "source_hidden": false
    },
    "nteract": {
     "transient": {
      "deleting": false
     }
    },
    "scrolled": true
   },
   "outputs": [
    {
     "data": {
      "application/vnd.jupyter.widget-view+json": {
       "model_id": "941948ffaecb4989889f3f04d118fa27",
       "version_major": 2,
       "version_minor": 0
      },
      "text/plain": [
       "Map:   0%|          | 0/1000 [00:00<?, ? examples/s]"
      ]
     },
     "metadata": {},
     "output_type": "display_data"
    },
    {
     "data": {
      "application/vnd.jupyter.widget-view+json": {
       "model_id": "9e6d1a9a34064b06bee931cfe8ee921e",
       "version_major": 2,
       "version_minor": 0
      },
      "text/plain": [
       "Map:   0%|          | 0/100 [00:00<?, ? examples/s]"
      ]
     },
     "metadata": {},
     "output_type": "display_data"
    },
    {
     "data": {
      "application/vnd.jupyter.widget-view+json": {
       "model_id": "fc5381abef134bb89975893ddb837e01",
       "version_major": 2,
       "version_minor": 0
      },
      "text/plain": [
       "Map:   0%|          | 0/100 [00:00<?, ? examples/s]"
      ]
     },
     "metadata": {},
     "output_type": "display_data"
    }
   ],
   "source": [
    "def tokenize_fn(sample, include_summary=True):\n",
    "    prompt =  f\"Summarize the dialog.\\n<dialog>: {sample['dialogue']}\\n<summary>:\"\n",
    "    if include_summary:\n",
    "        prompt += f\" {sample['summary']}{tokenizer.eos_token}\"\n",
    "    tokenized_prompt = tokenizer(prompt, padding=True, truncation=True, max_length=1024, \n",
    "                       return_overflowing_tokens=False, return_length=False)\n",
    "    return {\n",
    "        'input_ids': tokenized_prompt['input_ids'],\n",
    "        'attention_mask': tokenized_prompt['attention_mask']\n",
    "    }    \n",
    "\n",
    "tokenized_data_train = dataset_train.map(tokenize_fn, remove_columns=dataset_train.column_names)\n",
    "tokenized_data_valid = dataset_valid.map(tokenize_fn, remove_columns=dataset_train.column_names)\n",
    "tokenized_data_test = dataset_test.map(lambda x: tokenize_fn(x, include_summary=False), remove_columns=dataset_test.column_names)"
   ]
  },
  {
   "cell_type": "markdown",
   "metadata": {},
   "source": [
    "### Compute metrics on test data to establish baseline<a class=\"anchor\" id=\"Baseline\"></a>\n",
    "Here we evaluate the pretrained model and compute metrics using azureml-metrics package, which is in preview."
   ]
  },
  {
   "cell_type": "code",
   "execution_count": 10,
   "metadata": {},
   "outputs": [
    {
     "data": {
      "text/plain": [
       "LlamaForCausalLM(\n",
       "  (model): LlamaModel(\n",
       "    (embed_tokens): Embedding(32000, 8192, padding_idx=0)\n",
       "    (layers): ModuleList(\n",
       "      (0-79): 80 x LlamaDecoderLayer(\n",
       "        (self_attn): LlamaAttention(\n",
       "          (q_proj): Linear8bitLt(in_features=8192, out_features=8192, bias=False)\n",
       "          (k_proj): Linear8bitLt(in_features=8192, out_features=1024, bias=False)\n",
       "          (v_proj): Linear8bitLt(in_features=8192, out_features=1024, bias=False)\n",
       "          (o_proj): Linear8bitLt(in_features=8192, out_features=8192, bias=False)\n",
       "          (rotary_emb): LlamaRotaryEmbedding()\n",
       "        )\n",
       "        (mlp): LlamaMLP(\n",
       "          (gate_proj): Linear8bitLt(in_features=8192, out_features=28620, bias=False)\n",
       "          (up_proj): Linear8bitLt(in_features=8192, out_features=28620, bias=False)\n",
       "          (down_proj): Linear8bitLt(in_features=28620, out_features=8192, bias=False)\n",
       "          (act_fn): SiLUActivation()\n",
       "        )\n",
       "        (input_layernorm): LlamaRMSNorm()\n",
       "        (post_attention_layernorm): LlamaRMSNorm()\n",
       "      )\n",
       "    )\n",
       "    (norm): LlamaRMSNorm()\n",
       "  )\n",
       "  (lm_head): Linear(in_features=8192, out_features=32000, bias=False)\n",
       ")"
      ]
     },
     "execution_count": 10,
     "metadata": {},
     "output_type": "execute_result"
    }
   ],
   "source": [
    "model.eval()"
   ]
  },
  {
   "cell_type": "code",
   "execution_count": 55,
   "metadata": {},
   "outputs": [],
   "source": [
    "def compute_model_metrics(target_model):\n",
    "    device = 'cuda'\n",
    "    y_pred = []\n",
    "    l = len(tokenized_data_test)\n",
    "\n",
    "    for i in range(0, l):\n",
    "        inference_input = tokenized_data_test[i]\n",
    "        with torch.no_grad():\n",
    "            gen_tokens = target_model.generate(\n",
    "                input_ids = torch.LongTensor([inference_input['input_ids']]).to(device),\n",
    "                attention_mask=torch.LongTensor([inference_input['attention_mask']]).to(device),\n",
    "                max_new_tokens=100, pad_token_id=tokenizer.pad_token_id)\n",
    "        pred_text = tokenizer.batch_decode(gen_tokens.cpu().numpy(), skip_special_tokens=True)[0]\n",
    "        _, summary = pred_text.split(\"<summary>: \", 1)\n",
    "        y_pred.append(summary)\n",
    "        \n",
    "    y_test = [[item] for item in dataset_test['summary']]\n",
    "    return compute_metrics(task_type=constants.Tasks.SUMMARIZATION, y_test=y_test, y_pred=y_pred)"
   ]
  },
  {
   "cell_type": "code",
   "execution_count": 56,
   "metadata": {},
   "outputs": [
    {
     "name": "stdout",
     "output_type": "stream",
     "text": [
      "{'artifacts': {},\n",
      " 'metrics': {'rouge1': 0.23757774076492347,\n",
      "             'rouge2': 0.0672074786438569,\n",
      "             'rougeL': 0.17331192372776122,\n",
      "             'rougeLsum': 0.19087761549424737}}\n"
     ]
    }
   ],
   "source": [
    "pretrained_metrics = compute_model_metrics(model)\n",
    "pprint(pretrained_metrics)"
   ]
  },
  {
   "cell_type": "markdown",
   "metadata": {},
   "source": [
    "## Finetune the model <a class=\"anchor\" id=\"Finetune\"></a>"
   ]
  },
  {
   "cell_type": "code",
   "execution_count": 57,
   "metadata": {},
   "outputs": [
    {
     "name": "stderr",
     "output_type": "stream",
     "text": [
      "/anaconda/envs/azureml_py38/lib/python3.8/site-packages/peft/utils/other.py:102: FutureWarning: prepare_model_for_int8_training is deprecated and will be removed in a future version. Use prepare_model_for_kbit_training instead.\n",
      "  warnings.warn(\n"
     ]
    },
    {
     "name": "stdout",
     "output_type": "stream",
     "text": [
      "trainable params: 8,192,000 || all params: 68,984,840,192 || trainable%: 0.01187507280904016\n"
     ]
    }
   ],
   "source": [
    "model.train()\n",
    "model = prepare_model_for_int8_training(model)\n",
    "config = LoraConfig(\n",
    "    r=4,\n",
    "    lora_alpha=16,\n",
    "    target_modules= [\n",
    "        \"q_proj\",\n",
    "        \"v_proj\",\n",
    "    ],\n",
    "    lora_dropout=.05,\n",
    "    bias=\"none\",\n",
    "    task_type=\"CAUSAL_LM\",\n",
    ")\n",
    "\n",
    "peft_model = get_peft_model(model, config)\n",
    "peft_model.print_trainable_parameters()\n"
   ]
  },
  {
   "cell_type": "code",
   "execution_count": 59,
   "metadata": {
    "gather": {
     "logged": 1690492697541
    },
    "jupyter": {
     "outputs_hidden": false,
     "source_hidden": false
    },
    "nteract": {
     "transient": {
      "deleting": false
     }
    }
   },
   "outputs": [],
   "source": [
    "from transformers import DataCollatorForLanguageModeling\n",
    "\n",
    "training_args = TrainingArguments(\n",
    "    per_device_train_batch_size=4,\n",
    "    per_device_eval_batch_size=4,\n",
    "    gradient_accumulation_steps=1,\n",
    "    warmup_steps=0,\n",
    "    num_train_epochs=1,\n",
    "    learning_rate=3e-4,\n",
    "    fp16=False,\n",
    "    evaluation_strategy=\"steps\",\n",
    "    save_strategy=\"no\",\n",
    "    output_dir='.',\n",
    "    ddp_find_unused_parameters=None,\n",
    "    remove_unused_columns=False,\n",
    "    logging_steps=100)\n",
    "\n",
    "data_collator = DataCollatorForLanguageModeling(tokenizer, mlm=False)\n",
    "\n",
    "trainer = Trainer(\n",
    "                  model=peft_model,\n",
    "                  train_dataset=tokenized_data_train,\n",
    "                  eval_dataset=tokenized_data_valid,\n",
    "                  args=training_args,\n",
    "                  data_collator=data_collator\n",
    "                 )"
   ]
  },
  {
   "cell_type": "code",
   "execution_count": 60,
   "metadata": {
    "gather": {
     "logged": 1690492720825
    },
    "jupyter": {
     "outputs_hidden": false,
     "source_hidden": false
    },
    "nteract": {
     "transient": {
      "deleting": false
     }
    },
    "scrolled": true
   },
   "outputs": [
    {
     "name": "stderr",
     "output_type": "stream",
     "text": [
      "/anaconda/envs/azureml_py38/lib/python3.8/site-packages/transformers/optimization.py:411: FutureWarning: This implementation of AdamW is deprecated and will be removed in a future version. Use the PyTorch implementation torch.optim.AdamW instead, or set `no_deprecation_warning=True` to disable this warning\n",
      "  warnings.warn(\n",
      "`use_cache=True` is incompatible with gradient checkpointing. Setting `use_cache=False`...\n",
      "/anaconda/envs/azureml_py38/lib/python3.8/site-packages/bitsandbytes/autograd/_functions.py:322: UserWarning: MatMul8bitLt: inputs will be cast from torch.float32 to float16 during quantization\n",
      "  warnings.warn(f\"MatMul8bitLt: inputs will be cast from {A.dtype} to float16 during quantization\")\n"
     ]
    },
    {
     "data": {
      "text/html": [
       "\n",
       "    <div>\n",
       "      \n",
       "      <progress value='250' max='250' style='width:300px; height:20px; vertical-align: middle;'></progress>\n",
       "      [250/250 1:22:05, Epoch 1/1]\n",
       "    </div>\n",
       "    <table border=\"1\" class=\"dataframe\">\n",
       "  <thead>\n",
       " <tr style=\"text-align: left;\">\n",
       "      <th>Step</th>\n",
       "      <th>Training Loss</th>\n",
       "      <th>Validation Loss</th>\n",
       "    </tr>\n",
       "  </thead>\n",
       "  <tbody>\n",
       "    <tr>\n",
       "      <td>100</td>\n",
       "      <td>1.222900</td>\n",
       "      <td>1.202101</td>\n",
       "    </tr>\n",
       "    <tr>\n",
       "      <td>200</td>\n",
       "      <td>1.168400</td>\n",
       "      <td>1.197658</td>\n",
       "    </tr>\n",
       "  </tbody>\n",
       "</table><p>"
      ],
      "text/plain": [
       "<IPython.core.display.HTML object>"
      ]
     },
     "metadata": {},
     "output_type": "display_data"
    },
    {
     "name": "stderr",
     "output_type": "stream",
     "text": [
      "WARNING:urllib3.connectionpool:Retrying (Retry(total=4, connect=5, read=4, redirect=5, status=5)) after connection broken by 'ReadTimeoutError(\"HTTPSConnectionPool(host='eastus.api.azureml.ms', port=443): Read timed out. (read timeout=120)\")': /mlflow/v2.0/subscriptions/9ec1d932-0f3f-486c-acc6-e7d78b358f9b/resourceGroups/aml_shared/providers/Microsoft.MachineLearningServices/workspaces/aml_shared_eus_ws/api/2.0/mlflow/runs/log-batch\n",
      "WARNING:urllib3.connectionpool:Retrying (Retry(total=4, connect=5, read=4, redirect=5, status=5)) after connection broken by 'ReadTimeoutError(\"HTTPSConnectionPool(host='eastus.api.azureml.ms', port=443): Read timed out. (read timeout=120)\")': /mlflow/v2.0/subscriptions/9ec1d932-0f3f-486c-acc6-e7d78b358f9b/resourceGroups/aml_shared/providers/Microsoft.MachineLearningServices/workspaces/aml_shared_eus_ws/api/2.0/mlflow/runs/log-batch\n",
      "WARNING:urllib3.connectionpool:Retrying (Retry(total=4, connect=5, read=4, redirect=5, status=5)) after connection broken by 'ReadTimeoutError(\"HTTPSConnectionPool(host='eastus.api.azureml.ms', port=443): Read timed out. (read timeout=120)\")': /mlflow/v2.0/subscriptions/9ec1d932-0f3f-486c-acc6-e7d78b358f9b/resourceGroups/aml_shared/providers/Microsoft.MachineLearningServices/workspaces/aml_shared_eus_ws/api/2.0/mlflow/runs/log-batch\n"
     ]
    },
    {
     "data": {
      "text/plain": [
       "TrainOutput(global_step=250, training_loss=1.1910571594238282, metrics={'train_runtime': 4825.6029, 'train_samples_per_second': 0.207, 'train_steps_per_second': 0.052, 'total_flos': 1.6913370248891597e+17, 'train_loss': 1.1910571594238282, 'epoch': 1.0})"
      ]
     },
     "execution_count": 60,
     "metadata": {},
     "output_type": "execute_result"
    }
   ],
   "source": [
    "trainer.train()"
   ]
  },
  {
   "cell_type": "markdown",
   "metadata": {},
   "source": [
    "## Evaluate the finetuned model <a class=\"anchor\" id=\"Evaluate\"></a>\n",
    "Now that the finetuned model is ready, we compute metrics with it on the same test dataset"
   ]
  },
  {
   "cell_type": "code",
   "execution_count": 61,
   "metadata": {
    "gather": {
     "logged": 1690491595234
    },
    "jupyter": {
     "outputs_hidden": false,
     "source_hidden": false
    },
    "nteract": {
     "transient": {
      "deleting": false
     }
    }
   },
   "outputs": [
    {
     "data": {
      "text/plain": [
       "PeftModelForCausalLM(\n",
       "  (base_model): LoraModel(\n",
       "    (model): LlamaForCausalLM(\n",
       "      (model): LlamaModel(\n",
       "        (embed_tokens): Embedding(32000, 8192, padding_idx=0)\n",
       "        (layers): ModuleList(\n",
       "          (0-79): 80 x LlamaDecoderLayer(\n",
       "            (self_attn): LlamaAttention(\n",
       "              (q_proj): Linear8bitLt(\n",
       "                in_features=8192, out_features=8192, bias=False\n",
       "                (lora_dropout): ModuleDict(\n",
       "                  (default): Dropout(p=0.05, inplace=False)\n",
       "                )\n",
       "                (lora_A): ModuleDict(\n",
       "                  (default): Linear(in_features=8192, out_features=4, bias=False)\n",
       "                )\n",
       "                (lora_B): ModuleDict(\n",
       "                  (default): Linear(in_features=4, out_features=8192, bias=False)\n",
       "                )\n",
       "                (lora_embedding_A): ParameterDict()\n",
       "                (lora_embedding_B): ParameterDict()\n",
       "              )\n",
       "              (k_proj): Linear8bitLt(in_features=8192, out_features=1024, bias=False)\n",
       "              (v_proj): Linear8bitLt(\n",
       "                in_features=8192, out_features=1024, bias=False\n",
       "                (lora_dropout): ModuleDict(\n",
       "                  (default): Dropout(p=0.05, inplace=False)\n",
       "                )\n",
       "                (lora_A): ModuleDict(\n",
       "                  (default): Linear(in_features=8192, out_features=4, bias=False)\n",
       "                )\n",
       "                (lora_B): ModuleDict(\n",
       "                  (default): Linear(in_features=4, out_features=1024, bias=False)\n",
       "                )\n",
       "                (lora_embedding_A): ParameterDict()\n",
       "                (lora_embedding_B): ParameterDict()\n",
       "              )\n",
       "              (o_proj): Linear8bitLt(in_features=8192, out_features=8192, bias=False)\n",
       "              (rotary_emb): LlamaRotaryEmbedding()\n",
       "            )\n",
       "            (mlp): LlamaMLP(\n",
       "              (gate_proj): Linear8bitLt(in_features=8192, out_features=28620, bias=False)\n",
       "              (up_proj): Linear8bitLt(in_features=8192, out_features=28620, bias=False)\n",
       "              (down_proj): Linear8bitLt(in_features=28620, out_features=8192, bias=False)\n",
       "              (act_fn): SiLUActivation()\n",
       "            )\n",
       "            (input_layernorm): LlamaRMSNorm()\n",
       "            (post_attention_layernorm): LlamaRMSNorm()\n",
       "          )\n",
       "        )\n",
       "        (norm): LlamaRMSNorm()\n",
       "      )\n",
       "      (lm_head): Linear(in_features=8192, out_features=32000, bias=False)\n",
       "    )\n",
       "  )\n",
       ")"
      ]
     },
     "execution_count": 61,
     "metadata": {},
     "output_type": "execute_result"
    }
   ],
   "source": [
    "peft_model.eval()"
   ]
  },
  {
   "cell_type": "markdown",
   "metadata": {},
   "source": [
    "### Compute metrics"
   ]
  },
  {
   "cell_type": "code",
   "execution_count": 62,
   "metadata": {
    "gather": {
     "logged": 1690492560203
    },
    "jupyter": {
     "outputs_hidden": false,
     "source_hidden": false
    },
    "nteract": {
     "transient": {
      "deleting": false
     }
    }
   },
   "outputs": [
    {
     "name": "stdout",
     "output_type": "stream",
     "text": [
      "{'artifacts': {},\n",
      " 'metrics': {'rouge1': 0.45377132692714234,\n",
      "             'rouge2': 0.1758754832658233,\n",
      "             'rougeL': 0.354723582706404,\n",
      "             'rougeLsum': 0.35477342709115767}}\n"
     ]
    }
   ],
   "source": [
    "finetuned_metrics = compute_model_metrics(peft_model)\n",
    "pprint(finetuned_metrics)"
   ]
  },
  {
   "cell_type": "markdown",
   "metadata": {},
   "source": [
    "## Comparison of metrics\n",
    "Here we see accuracy and other metrics improved before and after finetuning"
   ]
  },
  {
   "cell_type": "code",
   "execution_count": 66,
   "metadata": {
    "gather": {
     "logged": 1690492567529
    },
    "jupyter": {
     "outputs_hidden": false,
     "source_hidden": false
    },
    "nteract": {
     "transient": {
      "deleting": false
     }
    }
   },
   "outputs": [
    {
     "name": "stdout",
     "output_type": "stream",
     "text": [
      "      metric                                         pretrained  \\\n",
      "0    metrics  {'rougeLsum': 0.19087761549424737, 'rougeL': 0...   \n",
      "1  artifacts                                                 {}   \n",
      "\n",
      "                                           finetuned  \n",
      "0  {'rougeLsum': 0.35477342709115767, 'rougeL': 0...  \n",
      "1                                                 {}  \n"
     ]
    }
   ],
   "source": [
    "metric_names = [name for name in finetuned_metrics]\n",
    "pretrained = []\n",
    "finetuned = []\n",
    "\n",
    "for name in metric_names:\n",
    "        pretrained.append(pretrained_metrics[name])\n",
    "        finetuned.append(finetuned_metrics[name])\n",
    "result = pd.DataFrame({'metric': metric_names, 'pretrained': pretrained, 'finetuned': finetuned})\n",
    "result"
   ]
  }
 ],
 "metadata": {
  "kernel_info": {
   "name": "python38-azureml"
  },
  "kernelspec": {
   "display_name": "Python 3.8 - AzureML",
   "language": "python",
   "name": "python38-azureml"
  },
  "language_info": {
   "codemirror_mode": {
    "name": "ipython",
    "version": 3
   },
   "file_extension": ".py",
   "mimetype": "text/x-python",
   "name": "python",
   "nbconvert_exporter": "python",
   "pygments_lexer": "ipython3",
   "version": "3.8.5"
  },
  "microsoft": {
   "host": {
    "AzureML": {
     "notebookHasBeenCompleted": true
    }
   },
   "ms_spell_check": {
    "ms_spell_check_language": "en"
   }
  },
  "nteract": {
   "version": "nteract-front-end@1.0.0"
  }
 },
 "nbformat": 4,
 "nbformat_minor": 2
}
