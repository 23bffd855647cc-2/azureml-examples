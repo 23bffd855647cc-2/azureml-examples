{
 "cells": [
  {
   "cell_type": "markdown",
   "metadata": {},
   "source": [
    "### PoC notebook to submit AOAI FT jobs using proxy components running on AzureML workspace\n",
    "\n",
    "This notebook is a PoC to submit AOAI FT jobs using proxy components running on AzureML workspace. The proxy components are:\n",
    "- Data Upload component: uplaods user's training and validation(optional) data to AOAI Studio and returns train and validation file id\n",
    "- Submit Finetune Job: Using oai python SDK submits job to AOAI Studio for finetuning the model and polls for the terminal status of the finetune job and returns finetuned model id if the finetune job is successful.\n",
    "\n",
    "Notes:\n",
    "1. This notebook is a PoC and is not production ready.\n",
    "2. The OpenAI key is stored in one of the workspace keyvault and is fetched using AzureML SDK in the component. So, the components wont work if the following workspace is not used.\n",
    "3. Components use serverless compute for execution.\n",
    "4. AOAI endpoint is hardcoded in the components and is not parameterized yet."
   ]
  },
  {
   "cell_type": "markdown",
   "metadata": {},
   "source": [
    "### Install dependency"
   ]
  },
  {
   "cell_type": "code",
   "execution_count": null,
   "metadata": {
    "vscode": {
     "languageId": "polyglot-notebook"
    }
   },
   "outputs": [],
   "source": [
    "%pip install azure-ai-ml"
   ]
  },
  {
   "cell_type": "markdown",
   "metadata": {},
   "source": [
    "### Create workspace and registry ML Client"
   ]
  },
  {
   "cell_type": "code",
   "execution_count": null,
   "metadata": {
    "vscode": {
     "languageId": "polyglot-notebook"
    }
   },
   "outputs": [],
   "source": [
    "from azure.ai.ml import MLClient\n",
    "from azure.identity import (\n",
    "    DefaultAzureCredential,\n",
    "    InteractiveBrowserCredential,\n",
    ")\n",
    "from azure.ai.ml.entities import AmlCompute\n",
    "import time\n",
    "\n",
    "try:\n",
    "    credential = DefaultAzureCredential()\n",
    "    credential.get_token(\"https://management.azure.com/.default\")\n",
    "except Exception as ex:\n",
    "    credential = InteractiveBrowserCredential()\n",
    "\n",
    "# Note: AOAI API Keys are stored in following workspace's KeyVault, so components would only work in this workspace\n",
    "workspace_ml_client = MLClient(\n",
    "    credential,\n",
    "    subscription_id=\"72c03bf3-4e69-41af-9532-dfcdc3eefef4\",\n",
    "    resource_group_name=\"static-test-resources\",\n",
    "    workspace_name=\"test-aml-openai-ws\",\n",
    ")\n",
    "\n",
    "# the models, fine tuning pipelines and environments are available in the AzureML system registry, \"azureml\"\n",
    "registry_ml_client = MLClient(credential, registry_name=\"finetune-dev-registry01\")"
   ]
  },
  {
   "cell_type": "markdown",
   "metadata": {},
   "source": [
    "### Define variables for pipeline"
   ]
  },
  {
   "cell_type": "code",
   "execution_count": null,
   "metadata": {
    "dotnet_interactive": {
     "language": "csharp"
    },
    "polyglot_notebook": {
     "kernelName": "csharp"
    },
    "vscode": {
     "languageId": "polyglot-notebook"
    }
   },
   "outputs": [],
   "source": [
    "from azure.ai.ml import Input\n",
    "\n",
    "train_dataset = Input(type=\"uri_file\", path=\"./small_train_chat.jsonl\")\n",
    "validation_dataset = Input(type=\"uri_file\", path=\"./small_validation_chat.jsonl\")\n",
    "model = \"gpt-35-turbo-0613\"\n",
    "task_type = \"chat\"\n",
    "registered_model_name = \"ft-gpt-35-turbo-0613\"\n",
    "n_epochs = 1\n",
    "batch_size = 1\n",
    "learning_rate_multiplier = 1.0\n"
   ]
  },
  {
   "cell_type": "markdown",
   "metadata": {},
   "source": [
    "### Submit FT Job"
   ]
  },
  {
   "cell_type": "code",
   "execution_count": null,
   "metadata": {
    "vscode": {
     "languageId": "polyglot-notebook"
    }
   },
   "outputs": [],
   "source": [
    "from azure.ai.ml.dsl import pipeline\n",
    "\n",
    "\n",
    "# fetch the pipeline component\n",
    "pipeline_component_func = registry_ml_client.components.get(\n",
    "    name=\"aoai_proxy_pipeline\", label=\"latest\"\n",
    ")\n",
    "\n",
    "# define the pipeline job\n",
    "@pipeline(\n",
    "    compute=\"serverless\"  # \"serverless\" value runs pipeline on serverless compute\n",
    ")\n",
    "def create_pipeline():\n",
    "    aoai_proxy_pipeline = pipeline_component_func(\n",
    "        train_dataset=train_dataset,\n",
    "        validation_dataset=validation_dataset,\n",
    "        model=model,\n",
    "        task_type=task_type,\n",
    "        registered_model_name=registered_model_name,\n",
    "        n_epochs=n_epochs,\n",
    "        batch_size=batch_size,\n",
    "        learning_rate_multiplier=learning_rate_multiplier\n",
    "    )\n",
    "    return {\n",
    "        \"finetune_submit_output\": aoai_proxy_pipeline.outputs.finetune_submit_output\n",
    "    }\n",
    "\n",
    "pipeline_object = create_pipeline()\n",
    "\n",
    "experiment_name = \"aoai_proxy_pipeline_experiment\"\n",
    "\n",
    "# submit the pipeline job\n",
    "pipeline_job = workspace_ml_client.jobs.create_or_update(\n",
    "    pipeline_object, experiment_name=experiment_name\n",
    ")\n",
    "# wait for the pipeline job to complete\n",
    "workspace_ml_client.jobs.stream(pipeline_job.name)"
   ]
  },
  {
   "cell_type": "markdown",
   "metadata": {},
   "source": []
  }
 ],
 "metadata": {
  "kernelspec": {
   "display_name": "Finetune",
   "language": "python",
   "name": "finetuneenv"
  },
  "language_info": {
   "codemirror_mode": {
    "name": "ipython",
    "version": 3
   },
   "file_extension": ".py",
   "mimetype": "text/x-python",
   "name": "python",
   "nbconvert_exporter": "python",
   "pygments_lexer": "ipython3",
   "version": "3.8.10"
  }
 },
 "nbformat": 4,
 "nbformat_minor": 2
}
