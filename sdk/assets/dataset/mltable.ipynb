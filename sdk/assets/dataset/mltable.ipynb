{
 "cells": [
  {
   "cell_type": "markdown",
   "metadata": {},
   "source": [
    "# ML Table\n",
    "\n",
    "In this notebook we will various ways of creating mltable. "
   ]
  },
  {
   "cell_type": "code",
   "execution_count": null,
   "metadata": {},
   "outputs": [],
   "source": [
    "#mltable will be a separate package and the user has \"pip install mltable\"\n",
    "#import required libraries\n",
    "import mltable as mlt\n",
    "from azure.ml import MLClient\n",
    "from azure.ml.entities import CommandJob, JobInput\n",
    "from azure.identity import InteractiveBrowserCredential"
   ]
  },
  {
   "cell_type": "markdown",
   "metadata": {},
   "source": [
    "To create a handle to the AML workspace"
   ]
  },
  {
   "cell_type": "code",
   "execution_count": null,
   "metadata": {},
   "outputs": [],
   "source": [
    "#Enter details of your AML workspace\n",
    "subscription_id = '<SUBSCRIPTION_ID>'\n",
    "resource_group = '<RESOURCE_GROUP>'\n",
    "workspace = '<AML_WORKSPACE_NAME>'"
   ]
  },
  {
   "cell_type": "code",
   "execution_count": null,
   "metadata": {},
   "outputs": [],
   "source": [
    "#get a handle to the workspace\n",
    "ml_client = MLClient(InteractiveBrowserCredential(), subscription_id, resource_group, workspace)"
   ]
  },
  {
   "cell_type": "markdown",
   "metadata": {},
   "source": [
    "### Create mltable artifact\n",
    "\n",
    "The entry point for creating an MLTable object in memory is a from_* method. The from does not materialize the data, but rather stores is as a transform in the MLTable definition."
   ]
  },
  {
   "cell_type": "code",
   "execution_count": null,
   "metadata": {},
   "outputs": [],
   "source": [
    "import mltable as mlt\n",
    "\n",
    "# Use a local file\n",
    "tbl = mlt.from_delimited_files(\n",
    "    file=\"./data/titanic.csv\", \n",
    "    validate=True # default=False\n",
    ")\n",
    "\n",
    "\n",
    "\n",
    "# Use a local folder\n",
    "\n",
    "tbl = mlt.from_delimited_files(\n",
    "    folder=\"./data/nyc-taxi\", \n",
    "    delimiter=\",\"\n",
    "    validate=True # default=False\n",
    "    header = \"all_files_same_headers\", # [no_header, from_first_file, all_files_different_headers, all_files_same_headers]\n",
    "    support_multi_line = False,\n",
    "    empty_as_string = False,\n",
    "    encoding = \"utf8\", # [utf8, iso88591, latin1, ascii, utf16, utf32, utf8bom, windows1252]\n",
    "    include_path_column = False\n",
    ")\n",
    " \n"
   ]
  },
  {
   "cell_type": "markdown",
   "metadata": {},
   "source": [
    "### Saving an ML Table artifact to local path\n",
    "save() only supports saving to local.\n"
   ]
  },
  {
   "cell_type": "code",
   "execution_count": null,
   "metadata": {},
   "outputs": [],
   "source": [
    "import mltable as mlt\n",
    "tbl = mlt.from_delimited_files(file=\"./data/iris/iris.csv\")\n",
    "tbl.drop_columns(\"petal.width\")\n",
    "local_path = \"./data\"\n",
    "tbl.save(path=local_path, overwrite=True)\n"
   ]
  },
  {
   "cell_type": "markdown",
   "metadata": {},
   "source": [
    "### Loading an existing MLTable artifact\n",
    "\n",
    "NOTE: The previous python cell with \"saving\" an ML Table to local path should be run successfully"
   ]
  },
  {
   "cell_type": "code",
   "execution_count": null,
   "metadata": {},
   "outputs": [],
   "source": [
    "import mltable as mlt\n",
    "\n",
    "tbl = mlt.load(folder=\"./data/iris\")\n",
    "df = tbl.to_pandas_dataframe()"
   ]
  },
  {
   "cell_type": "code",
   "execution_count": null,
   "metadata": {},
   "outputs": [],
   "source": [
    "### Loading a V1 Dataset\n",
    "\n",
    "NOTE: Substitute the name of the V1 AzureML Dataset in the Workspace in \"v1dataset\" below and the version if any for \"5\" below"
   ]
  },
  {
   "cell_type": "code",
   "execution_count": null,
   "metadata": {},
   "outputs": [],
   "source": [
    "import mltable as mlt\n",
    "\n",
    "tbl = mlt.load(folder=\"azureml:v1dataset:5\")\n",
    "df = tbl.to_pandas_dataframe()"
   ]
  },
  {
   "cell_type": "markdown",
   "metadata": {},
   "source": [
    "### Uploading an ML artifact to cloud path\n",
    "To save an MLTable to a cloud location, datastore.upload() should be used where the datastores can be accessed via MLClient"
   ]
  },
  {
   "cell_type": "code",
   "execution_count": null,
   "metadata": {},
   "outputs": [],
   "source": [
    "from azure.ml import MLClient\n",
    "import mltable as mlt\n",
    "tbl = mlt.from_delimited_files(file=\"./data/iris/iris.csv\")\n",
    "tbl.drop_columns(\"petal.width\")\n",
    "dstor = mlclient.datastores.get_default()\n",
    "cloud_path = dstor.upload(src_path=\"./my_data\", target_folder=\"\")\n"
   ]
  },
  {
   "cell_type": "markdown",
   "metadata": {},
   "source": [
    "# MLTable operations following are helper methods on mltable "
   ]
  },
  {
   "cell_type": "markdown",
   "metadata": {},
   "source": [
    "### take"
   ]
  },
  {
   "cell_type": "code",
   "execution_count": null,
   "metadata": {},
   "outputs": [],
   "source": [
    "import mltable as mlt\n",
    "\n",
    "tbl = mlt.from_delimited_files(file=\"./data/titanic.csv\")\n",
    "tbl.take(5)"
   ]
  },
  {
   "cell_type": "markdown",
   "metadata": {},
   "source": [
    "### take_random_sample"
   ]
  },
  {
   "cell_type": "code",
   "execution_count": null,
   "metadata": {},
   "outputs": [],
   "source": [
    "import mltable as mlt\n",
    "\n",
    "tbl = mlt.from_delimited_files(file=\"./data/titanic.csv\")\n",
    "tbl.take_random_sample(\n",
    "    1,\n",
    "    3 \n",
    ")"
   ]
  },
  {
   "cell_type": "markdown",
   "metadata": {},
   "source": [
    "### skip"
   ]
  },
  {
   "cell_type": "code",
   "execution_count": null,
   "metadata": {},
   "outputs": [],
   "source": [
    "import mltable as mlt\n",
    "\n",
    "tbl = mlt.from_delimited_files(file=\"./data/titanic.csv\")\n",
    "tbl.skip(5)\n"
   ]
  },
  {
   "cell_type": "markdown",
   "metadata": {},
   "source": [
    "### keep_columns"
   ]
  },
  {
   "cell_type": "code",
   "execution_count": null,
   "metadata": {},
   "outputs": [],
   "source": [
    "import mltable as mlt\n",
    "\n",
    "tbl = mlt.from_delimited_files(file=\"./data/titanic.csv\")\n",
    "tbl.keep_columns(column_list = [\"PassengerId\",\"Survived\",\"Name\",\"Sex\",\"Age\"])"
   ]
  },
  {
   "cell_type": "markdown",
   "metadata": {},
   "source": [
    "### drop_columns"
   ]
  },
  {
   "cell_type": "code",
   "execution_count": null,
   "metadata": {},
   "outputs": [],
   "source": [
    "import mltable as mlt\n",
    "\n",
    "tbl = mlt.from_delimited_files(file=\"./data/titanic.csv\")\n",
    "tbl.drop_columns(colum_list= [\"Embarked\",\"Ticket\"])"
   ]
  },
  {
   "cell_type": "markdown",
   "metadata": {},
   "source": [
    "### filter"
   ]
  },
  {
   "cell_type": "code",
   "execution_count": null,
   "metadata": {},
   "outputs": [],
   "source": [
    "import mltable as mlt\n",
    "\n",
    "tbl = mlt.from_delimited_files(file=\"./data/titanic.csv\")\n",
    "tbl = tbl.filter(tbl['Age'] >25)"
   ]
  },
  {
   "cell_type": "markdown",
   "metadata": {},
   "source": [
    "### convert_column_types"
   ]
  },
  {
   "cell_type": "code",
   "execution_count": null,
   "metadata": {},
   "outputs": [],
   "source": [
    "import mltable as mlt\n",
    "\n",
    "tbl = mlt.from_delimited_files(file=\"./data/titanic.csv\")\n",
    "#using a dict\n",
    "new_types= {\n",
    "    'Fare': mlt.DataType.to_int(),\n",
    "    'Parch': mlt.DataType.to_string()\n",
    "}\n",
    "\n",
    "tbl.convert_column_types(new_types)\n",
    "\n"
   ]
  },
  {
   "cell_type": "markdown",
   "metadata": {},
   "source": [
    "### show"
   ]
  },
  {
   "cell_type": "code",
   "execution_count": null,
   "metadata": {},
   "outputs": [],
   "source": [
    "import mltable as mlt\n",
    "\n",
    "tbl = mlt.from_delimited_files(file=\"./data/titanic.csv\")\n",
    "tbl.show()\n",
    "# outputs first 20 rows\n",
    "\n",
    "tbl.show(5)"
   ]
  }
 ],
 "metadata": {
  "interpreter": {
   "hash": "66962d4c952b5ba37638a017d6cc83bab37d76f69b13c17d86b9f71233a0aa71"
  },
  "kernelspec": {
   "display_name": "Python 3",
   "language": "python",
   "name": "python3"
  },
  "language_info": {
   "codemirror_mode": {
    "name": "ipython",
    "version": 3
   },
   "file_extension": ".py",
   "mimetype": "text/x-python",
   "name": "python",
   "nbconvert_exporter": "python",
   "pygments_lexer": "ipython3",
   "version": "3.7.12"
  }
 },
 "nbformat": 4,
 "nbformat_minor": 4
}
