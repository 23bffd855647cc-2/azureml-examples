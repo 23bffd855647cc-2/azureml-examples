{
  "cells": [
    {
      "cell_type": "markdown",
      "source": [
        "# Create Azure Machine Learning Models\n",
        "\n",
        "**Requirements** - In order to benefit from this tutorial, you will need:\n",
        "- A basic understanding of Machine Learning\n",
        "- An Azure account with an active subscription. [Create an account for free](https://azure.microsoft.com/free/?WT.mc_id=A261C142F)\n",
        "- An Azure ML workspace. [Check this notebook for creating a workspace](/sdk/resources/workspace/workspace.ipynb) \n",
        "- A Compute Cluster. [Check this notebook to create a compute cluster](/sdk/resources/compute/compute.ipynb)\n",
        "- A python environment\n",
        "- Installed Azure Machine Learning Python SDK v2 - [install instructions](/sdk/README.md#getting-started)\n",
        "\n",
        "**Learning Objectives** - By the end of this tutorial, you should be able to:\n",
        "- Create a model from a local file\n",
        "- Create a model from an mlflow model\n",
        "- Create a model from cloud path\n",
        "- Create a model from a run\n",
        "\n",
        "**Motivations** - This notebook explains how to register a model in the Azure Machine Learning workspace."
      ],
      "metadata": {}
    },
    {
      "cell_type": "markdown",
      "source": [
        "# 1. Connect to Azure Machine Learning Workspace\n",
        "\n",
        "The [workspace](https://docs.microsoft.com/en-us/azure/machine-learning/concept-workspace) is the top-level resource for Azure Machine Learning, providing a centralized place to work with all the artifacts you create when you use Azure Machine Learning. In this section we will connect to the workspace in which the job will be run.\n",
        "\n",
        "## 1.1. Import the required libraries"
      ],
      "metadata": {}
    },
    {
      "cell_type": "code",
      "source": [
        "!pip install azure-ml==0.0.139 --extra-index-url  https://azuremlsdktestpypi.azureedge.net/sdk-cli-v2"
      ],
      "outputs": [],
      "execution_count": null,
      "metadata": {
        "jupyter": {
          "source_hidden": false,
          "outputs_hidden": false
        },
        "nteract": {
          "transient": {
            "deleting": false
          }
        }
      }
    },
    {
      "cell_type": "code",
      "source": [
        "#import required libraries\n",
        "from azure.ml import MLClient\n",
        "from azure.ml.entities import Model\n",
        "from azure.identity import InteractiveBrowserCredential\n",
        "from azure.identity import DefaultAzureCredential"
      ],
      "outputs": [],
      "execution_count": 1,
      "metadata": {
        "gather": {
          "logged": 1646078002727
        }
      }
    },
    {
      "cell_type": "markdown",
      "source": [
        "## 1.2. Configure workspace details and get a handle to the workspace\n",
        "\n",
        "To connect to a workspace, we need identifier parameters - a subscription, resource group and workspace name. We will use these details in the `MLClient` from `azure.ml` to get a handle to the required Azure Machine Learning workspace. We use the default [interactive authentication](https://docs.microsoft.com/en-us/python/api/azure-identity/azure.identity.interactivebrowsercredential?view=azure-python) for this tutorial. More advanced connection methods can be found [here](https://docs.microsoft.com/en-us/python/api/azure-identity/azure.identity?view=azure-python)."
      ],
      "metadata": {}
    },
    {
      "cell_type": "code",
      "source": [
        "#Enter details of your AML workspace\n",
        "subscription_id = '<SUBSCRIPTION_ID>'\n",
        "resource_group = '<RESOURCE_GROUP>'\n",
        "workspace = '<AML_WORKSPACE_NAME>'"
      ],
      "outputs": [],
      "execution_count": 2,
      "metadata": {
        "gather": {
          "logged": 1646078003583
        }
      }
    },
    {
      "cell_type": "code",
      "source": [
        "#get a handle to the workspace\n",
        "ml_client = MLClient(InteractiveBrowserCredential(), subscription_id, resource_group, workspace)"
      ],
      "outputs": [],
      "execution_count": 3,
      "metadata": {
        "gather": {
          "logged": 1646078004874
        }
      }
    },
    {
      "cell_type": "markdown",
      "source": [
        "# 2. Create a model\n",
        "Azure ML models consist of the binary file(s) that represent a machine learning model and any corresponding metadata. Models can be created from a local file or directory. The created model will be tracked in the workspace under the specified name and version.\n",
        "\n",
        "The `Model` class can be used to create a model. It accepts the following key parameters:\n",
        "- `name` - Name of the model.\n",
        "- `version` - Version of the model. If omitted, Azure ML will autogenerate a version.\n",
        "- `local_path` - Local path to the model file(s). This can point to either a file or a directory.\n",
        "- `model_uri` - URI of the model file(s). This can point to either a file or directory.\n",
        "- `model_format` - Storage format of the model. Applicable for no-code deployment scenarios. Allowed values are `custom`, `mlflow`, `triton`, `openai`\n",
        "- `description` - Description of the model.\n",
        "\n",
        "## 2.1 Create a model from a local file\n",
        "In this sample we will create a model from a local `pkl` file and specify the format of the model to be `custom`. The model is initialized with the required parameters. It is then created in the Azure Machine Learning workspace using the `MLClient`."
      ],
      "metadata": {}
    },
    {
      "cell_type": "code",
      "source": [
        "file_model = Model(\n",
        "    local_path=\"mlflow-model/model.pkl\",\n",
        "    model_format=\"custom\",\n",
        "    name=\"local-file-example\",\n",
        "    description=\"v1 Model created from local file.\"\n",
        ")\n",
        "ml_client.models.create_or_update(file_model)"
      ],
      "outputs": [],
      "execution_count": null,
      "metadata": {
        "gather": {
          "logged": 1645670935371
        }
      }
    },
    {
      "cell_type": "markdown",
      "source": [
        "## 2.2 Create a model from an mlflow model\n",
        "In this sample we will create a model from a local folder. We will also specify the format of the model to be `mlflow`. The model is initialized with the required parameters. It is then created in the Azure Machine Learning workspace using the `MLClient`."
      ],
      "metadata": {}
    },
    {
      "cell_type": "code",
      "source": [
        "mlflow_model = Model(\n",
        "    local_path=\"mlflow-model\",\n",
        "    model_format=\"mlflow\",\n",
        "    name=\"local-mlflow-example\",\n",
        "    description=\"local-mlflow-example\"\n",
        ")\n",
        "ml_client.create_or_update(mlflow_model)"
      ],
      "outputs": [
        {
          "output_type": "stream",
          "name": "stderr",
          "text": "Creating or updating model\nUploading mlflow-model:   0%|          | 0.00/866 [00:00<?, ?B/s]\n"
        },
        {
          "output_type": "execute_result",
          "execution_count": 30,
          "data": {
            "text/plain": "Model({'job_name': None, 'is_anonymous': False, 'auto_increment_version': False, 'name': 'local-mlflow-example', 'description': 'local-mlflow-example', 'tags': {}, 'properties': {}, 'id': '/subscriptions/95a911b6-47f7-4a8b-be9b-c1c2bf56579b/resourceGroups/osomorog/providers/Microsoft.MachineLearningServices/workspaces/mlflowworkspace/models/local-mlflow-example/versions/1', 'base_path': './', 'creation_context': <azure.ml._restclient.v2021_10_01.models._models_py3.SystemData object at 0x7f49251b6be0>, 'serialize': <msrest.serialization.Serializer object at 0x7f49263aa198>, 'version': '1', 'local_path': None, 'model_uri': 'azureml://subscriptions/95a911b6-47f7-4a8b-be9b-c1c2bf56579b/resourceGroups/osomorog/workspaces/mlflowworkspace/datastores/workspaceblobstore/paths/LocalUpload/4570cbe51af4c414c3f54112f31c7bdf/mlflow-model', 'utc_time_created': None, 'flavors': {}, 'arm_type': 'model_version', 'model_format': 'MLFlow'})"
          },
          "metadata": {}
        }
      ],
      "execution_count": 30,
      "metadata": {
        "gather": {
          "logged": 1645756817709
        }
      }
    },
    {
      "cell_type": "markdown",
      "source": [
        "## 2.3 Create a model from cloud path\r\n",
        "In this sample we will create a model from a cloud path. We will also specify the format of the model to be `mlflow`. The model is initialized with the required parameters. It is then created in the Azure Machine Learning workspace using the `MLClient`."
      ],
      "metadata": {
        "nteract": {
          "transient": {
            "deleting": false
          }
        }
      }
    },
    {
      "cell_type": "code",
      "source": [
        "cloud_model = Model(\r\n",
        "    model_uri=\"azureml://subscriptions/95a911b6-47f7-4a8b-be9b-c1c2bf56579b/resourceGroups/osomorog/workspaces/mlflowworkspace/datastores/workspaceblobstore/paths/model.pkl\",\r\n",
        "    #Users could also use,\"azureml://datastores/workspaceblobstore/paths/model.pkl\" as a shorthand to the same location\r\n",
        "    name=\"cloud-path-example\",\r\n",
        "    model_format=\"custom\",\r\n",
        "    description=\"Model created from cloud path.\"\r\n",
        ")\r\n",
        "ml_client.models.create_or_update(cloud_model)"
      ],
      "outputs": [],
      "execution_count": null,
      "metadata": {
        "jupyter": {
          "source_hidden": false,
          "outputs_hidden": false
        },
        "nteract": {
          "transient": {
            "deleting": false
          }
        },
        "gather": {
          "logged": 1646087591992
        }
      }
    },
    {
      "cell_type": "markdown",
      "source": [
        "## 2.4 Create a model from a run\r\n",
        "In this sample we will create a model from a run. We will also specify the format of the model to be `mlflow`. The model is initialized with the required parameters. It is then created in the Azure Machine Learning workspace using the `MLClient`."
      ],
      "metadata": {
        "nteract": {
          "transient": {
            "deleting": false
          }
        }
      }
    },
    {
      "cell_type": "code",
      "source": [
        "run_model = Model(\r\n",
        "    model_uri=\"azureml://subscriptions/95a911b6-47f7-4a8b-be9b-c1c2bf56579b/resourceGroups/osomorog/workspaces/mlflowworkspace/jobs/7da56f9f-51e4-4a13-8039-55127154f8d3/outputs/artifacts/paths/model/\",\r\n",
        "    #Users could also use, \"azureml://jobs/7da56f9f-51e4-4a13-8039-55127154f8d3/outputs/artifacts/paths/model/\" as a shorthand to the same location\r\n",
        "    name=\"run-model-example\",\r\n",
        "    description=\"Model created from run.\",\r\n",
        "    model_format=\"mlflow\"\r\n",
        ")\r\n",
        "ml_client.models.create_or_update(run_model)"
      ],
      "outputs": [],
      "execution_count": null,
      "metadata": {
        "jupyter": {
          "source_hidden": false,
          "outputs_hidden": false
        },
        "nteract": {
          "transient": {
            "deleting": false
          }
        }
      }
    },
    {
      "cell_type": "markdown",
      "source": [
        "# Next Steps\n",
        "- Deploy a model to an Online Inferencing endpoint - [example](/sdk/endpoints/online/sample/online-inferencing-sample.ipynb) \n",
        "- Deploy a model to a Batch Inferencing endpoint - [example](/sdk/endpoints/batch/mnist-nonmlflow.ipynb)\n"
      ],
      "metadata": {}
    }
  ],
  "metadata": {
    "interpreter": {
      "hash": "66962d4c952b5ba37638a017d6cc83bab37d76f69b13c17d86b9f71233a0aa71"
    },
    "kernelspec": {
      "name": "python3",
      "language": "python",
      "display_name": "Python 3"
    },
    "language_info": {
      "name": "python",
      "version": "3.6.9",
      "mimetype": "text/x-python",
      "codemirror_mode": {
        "name": "ipython",
        "version": 3
      },
      "pygments_lexer": "ipython3",
      "nbconvert_exporter": "python",
      "file_extension": ".py"
    },
    "kernel_info": {
      "name": "python3"
    },
    "nteract": {
      "version": "nteract-front-end@1.0.0"
    },
    "microsoft": {
      "host": {
        "AzureML": {
          "notebookHasBeenCompleted": true
        }
      }
    }
  },
  "nbformat": 4,
  "nbformat_minor": 0
}