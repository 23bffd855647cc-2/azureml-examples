{
 "cells": [
  {
   "cell_type": "markdown",
   "metadata": {},
   "source": [
    "# Working with Datastores in Azure Machine Learning SDK (v2)\n",
    "This notebook contains examples for creating datastore using Azure Machine Learning SDK (v2). The samples are provided for the following storage types:\n",
    "\n",
    "* Azure Blob Storage container\n",
    "* Azure File share\n",
    "* Azure Data Lake Storage Gen1\n",
    "* Azure Data Lake Storage Gen2\n",
    "\n",
    "The credentials property in these samples are redacted. Please replace the redacted account_key, sas_token, tenant_id, client_id and client_secret appropriately."
   ]
  },
  {
   "cell_type": "code",
   "execution_count": null,
   "metadata": {},
   "outputs": [],
   "source": [
    "#import required libraries\n",
    "from azure.ml import MLClient\n",
    "from azure.identity import InteractiveBrowserCredential\n",
    "from azure.ml.entities import AzureBlobDatastore, AzureFileDatastore, AzureDataLakeGen1Datastore, AzureDataLakeGen2Datastore\n",
    "from azure.ml.entities import CommandJob, JobInput, Environment"
   ]
  },
  {
   "cell_type": "code",
   "execution_count": null,
   "metadata": {},
   "outputs": [],
   "source": [
    "#Enter details of your AML workspace\n",
    "subscription_id = '<SUBSCRIPTION_ID>'\n",
    "resource_group = '<RESOURCE_GROUP>'\n",
    "workspace = '<AML_WORKSPACE_NAME>'"
   ]
  },
  {
   "cell_type": "code",
   "execution_count": null,
   "metadata": {},
   "outputs": [],
   "source": [
    "#get a handle to the workspace\n",
    "ml_client = MLClient(InteractiveBrowserCredential(), subscription_id, resource_group, workspace)"
   ]
  },
  {
   "cell_type": "markdown",
   "metadata": {},
   "source": [
    "## Datastore for Azure Blob Storage container"
   ]
  },
  {
   "cell_type": "code",
   "execution_count": null,
   "metadata": {},
   "outputs": [],
   "source": [
    "blob_datastore1 = AzureBlobDatastore(\n",
    "    name='blob-example',\n",
    "    description = 'Datastore pointing to a blob container.',\n",
    "    account_name = 'mytestblobstore',\n",
    "    container_name = 'data-container',\n",
    "    credentials = {'account_key': 'XXXxxxXXXxXXXXxxXXXXXxXXXXXxXxxXxXXXxXXXxXXxxxXXxxXXXxXxXXXxxXxxXXXXxxxxxXXxxxxxxXXXxXXX'})\n",
    "ml_client.create_or_update(blob_datastore1)\n",
    "\n",
    "#create a SAS based blob datastore\n",
    "blob_sas_datastore = AzureBlobDatastore(\n",
    "    name='blob-sas-example',\n",
    "    description = 'Datastore pointing to a blob container using SAS token.',\n",
    "    account_name = 'mytestblobstore',\n",
    "    container_name = 'data-container',\n",
    "    credentials = {'sas_token': '?xx=XXXX-XX-XX&xx=xxxx&xxx=xxx&xx=xxxxxxxxxxx&xx=XXXX-XX-XXXXX:XX:XXX&xx=XXXX-XX-XXXXX:XX:XXX&xxx=xxxxx&xxx=XXxXXXxxxxxXXXXXXXxXxxxXXXXXxxXXXXXxXXXXxXXXxXXxXX'})\n",
    "ml_client.create_or_update(blob_sas_datastore)\n",
    "\n",
    "#create a datastore pointing to a blob container using wasbs protocol\n",
    "blob_wasb_datastore = AzureBlobDatastore(\n",
    "    name='blob-protocol-example',\n",
    "    description = 'Datastore pointing to a blob container using wasbs protocol.',\n",
    "    account_name = 'mytestblobstore',\n",
    "    container_name = 'data-container',\n",
    "    protocol='wasbs',\n",
    "    credentials = {'account_key': 'XXXxxxXXXxXXXXxxXXXXXxXXXXXxXxxXxXXXxXXXxXXxxxXXxxXXXxXxXXXxxXxxXXXXxxxxxXXxxxxxxXXXxXXX'})\n",
    "ml_client.create_or_update(blob_wasb_datastore)\n",
    "\n",
    "#create a credential-less datastore pointing to a blob container\n",
    "blob_credless_datastore = AzureBlobDatastore(\n",
    "    name='blob-credless-example',\n",
    "    description = 'Credential-less datastore pointing to a blob container.',\n",
    "    account_name = 'mytestblobstore',\n",
    "    container_name = 'data-container')\n",
    "ml_client.create_or_update(blob_credless_datastore)\n"
   ]
  },
  {
   "cell_type": "markdown",
   "metadata": {},
   "source": [
    "## Datastore for Azure File Share"
   ]
  },
  {
   "cell_type": "code",
   "execution_count": null,
   "metadata": {},
   "outputs": [],
   "source": [
    "#Datastore pointing to an Azure File Share\n",
    "file_datastore = AzureFileDatastore(\n",
    "    name = 'file-example',\n",
    "    description = 'Datastore pointing to an Azure File Share.',\n",
    "    account_name = 'mytestfilestore',\n",
    "    file_share_name = 'my-share',\n",
    "    credentials = {'account_key': 'XXXxxxXXXxXXXXxxXXXXXxXXXXXxXxxXxXXXxXXXxXXxxxXXxxXXXxXxXXXxxXxxXXXXxxxxxXXxxxxxxXXXxXXX'})\n",
    "ml_client.create_or_update(file_datastore)\n",
    "\n",
    "#Datastore pointing to an Azure File Share using SAS token\n",
    "file_sas_datastore = AzureFileDatastore(\n",
    "    name = 'file-sas-example',\n",
    "    description = 'Datastore pointing to an Azure File Share using SAS token.',\n",
    "    account_name = 'mytestfilestore',\n",
    "    file_share_name = 'my-share',\n",
    "    credentials = {'sas_token': '?xx=XXXX-XX-XX&xx=xxxx&xxx=xxx&xx=xxxxxxxxxxx&xx=XXXX-XX-XXXXX:XX:XXX&xx=XXXX-XX-XXXXX:XX:XXX&xxx=xxxxx&xxx=XXxXXXxxxxxXXXXXXXxXxxxXXXXXxxXXXXXxXXXXxXXXxXXxXX'})\n",
    "ml_client.create_or_update(file_sas_datastore)\n"
   ]
  },
  {
   "cell_type": "markdown",
   "metadata": {},
   "source": [
    "# Datastore for Azure Data Lake Storage Gen1"
   ]
  },
  {
   "cell_type": "code",
   "execution_count": null,
   "metadata": {},
   "outputs": [],
   "source": [
    "adlsg1_datastore = AzureDataLakeGen1Datastore(\n",
    "    name = 'adls-gen1-example',\n",
    "    description = 'Datastore pointing to an Azure Data Lake Storage Gen1.',\n",
    "    store_name = 'mytestdatalakegen1', \n",
    "    credentials = {\n",
    "        'tenant_id': 'XXXXXXXX-XXXX-XXXX-XXXX-XXXXXXXXXXXX',\n",
    "        'client_id': 'XXXXXXXX-XXXX-XXXX-XXXX-XXXXXXXXXXXX',\n",
    "        'client_secret': 'XXXXXXXXXXXXXXXXXXXXXXXXXXXXXXXXXX'})\n",
    "ml_client.create_or_update(adlsg1_datastore)"
   ]
  },
  {
   "cell_type": "markdown",
   "metadata": {},
   "source": [
    "# Datastore for Azure Data Lake Storage Gen2"
   ]
  },
  {
   "cell_type": "code",
   "execution_count": null,
   "metadata": {},
   "outputs": [],
   "source": [
    "adlsg2_datastore = AzureDataLakeGen2Datastore(\n",
    "    name = 'adls-gen2-example',\n",
    "    description = 'Datastore pointing to an Azure Data Lake Storage Gen2.',\n",
    "    account_name = 'mytestdatalakegen2',\n",
    "    filesystem = 'my-gen2-container',\n",
    "    credentials = {\n",
    "        'tenant_id': 'XXXXXXXX-XXXX-XXXX-XXXX-XXXXXXXXXXXX',\n",
    "        'client_id': 'XXXXXXXX-XXXX-XXXX-XXXX-XXXXXXXXXXXX',\n",
    "        'client_secret': 'XXXXXXXXXXXXXXXXXXXXXXXXXXXXXXXXXX'})\n",
    "ml_client.create_or_update(adlsg2_datastore)"
   ]
  },
  {
   "cell_type": "markdown",
   "metadata": {},
   "source": [
    "# Using the datastore in a Job\n",
    "Datastores can be used in a job like a `CommandJob` or a `PipelineJob`. In the below snippet, we will list the contents of a `datastore` in a `CommandJob`. We will use the default datastore `workspaceblobstore` which is created with any Azure Machine Learning Workspace.\n",
    "\n",
    "The datastore can be used as a folder in the format `azureml://datastores/<datastore-name>/paths/<optional-path>`"
   ]
  },
  {
   "cell_type": "code",
   "execution_count": null,
   "metadata": {},
   "outputs": [],
   "source": [
    "explore_datastore = CommandJob(\n",
    "    command = 'ls ${{inputs.datastore}}',\n",
    "    inputs = {'datastore': JobInput(folder='azureml://datastores/workspaceblobstore/paths/')},\n",
    "    environment=Environment(image='python:latest'),\n",
    "    compute = \"cpu-cluster\", \n",
    "    display_name=\"using-datastore\"\n",
    ")\n",
    "\n",
    "#submit the command job\n",
    "returned_job = ml_client.create_or_update(explore_datastore)\n",
    "#get a URL for the status of the job\n",
    "returned_job.services[\"Studio\"].endpoint"
   ]
  }
 ],
 "metadata": {
  "interpreter": {
   "hash": "45ee23ad53d8447c1a4a7f9f605254595f8ee53c2e1723e7948bbd485e96ca91"
  },
  "kernelspec": {
   "display_name": "Python 3.7.12 ('vnext')",
   "language": "python",
   "name": "python3"
  },
  "language_info": {
   "codemirror_mode": {
    "name": "ipython",
    "version": 3
   },
   "file_extension": ".py",
   "mimetype": "text/x-python",
   "name": "python",
   "nbconvert_exporter": "python",
   "pygments_lexer": "ipython3",
   "version": "3.7.12"
  },
  "orig_nbformat": 4
 },
 "nbformat": 4,
 "nbformat_minor": 2
}
