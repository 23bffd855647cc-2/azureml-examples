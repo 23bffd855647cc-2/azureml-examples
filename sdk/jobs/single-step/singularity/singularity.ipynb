{
 "cells": [
  {
   "cell_type": "code",
   "execution_count": null,
   "metadata": {},
   "outputs": [],
   "source": [
    "# import required libraries\n",
    "\n",
    "from azure.ml.entities import Workspace, CommandJob, Code, ResourceConfiguration\n",
    "from azure.ml import MLClient\n",
    "from azure.identity import DefaultAzureCredential"
   ]
  },
  {
   "cell_type": "code",
   "execution_count": null,
   "metadata": {},
   "outputs": [],
   "source": [
    "# Enter details of your AML workspace\n",
    "\n",
    "subscription_id = '<SUBSCRIPTION_ID>'\n",
    "resource_group = '<RESOURCE_GROUP>'\n",
    "workspace = '<AML_WORKSPACE_NAME>'"
   ]
  },
  {
   "cell_type": "code",
   "execution_count": null,
   "metadata": {},
   "outputs": [],
   "source": [
    "# get a handle to the workspace\n",
    "ml_client = MLClient(InteractiveBrowserCredential(), subscription_id, resource_group, workspace)"
   ]
  },
  {
   "cell_type": "markdown",
   "metadata": {},
   "source": [
    "## Run a command job on Singularity compute"
   ]
  },
  {
   "cell_type": "code",
   "execution_count": null,
   "metadata": {},
   "outputs": [],
   "source": [
    "singularity_config = {\n",
    "    \"interactive\": False,\n",
    "    \"userAlias\": \"<USER_ALIAS>\",\n",
    "    \"scalePolicy\": {\n",
    "        \"autoScale\": False,\n",
    "        \"autoScaleIntervalInSec\": 120,\n",
    "        \"maxInstanceTypeCount\": 1,\n",
    "        \"minInstanceTypeCount\": 1\n",
    "    },\n",
    "    \"priority\": \"medium\",\n",
    "    \"slaTier\": \"Premium\",\n",
    "    \"enableAzmlInt\": True\n",
    "}\n",
    "\n",
    "job = CommandJob(\n",
    "    code=Code(local_path=\"./src\"), # Local training scripts\n",
    "    command=\"python train_mnist.py\",\n",
    "    compute=\"/subscriptions/<SUBSCRIPTION_ID>/resourceGroups/<RESOURCE_GROUP>/providers/Microsoft.MachineLearningServices/virtualclusters/<VIRTUAL_CLUSTER>\",\n",
    "    environment=\"singularity-mlflow:2\", # pre-registered environment with custom docker image\n",
    "    environment_variables={\n",
    "        \"var1\":\"var1\",\n",
    "        \"USER_ALIAS_MNT_SRC\":\"test\"\n",
    "    },\n",
    "    resources=ResourceConfiguration(\n",
    "        instance_type=\"D2\",\n",
    "        properties={\n",
    "            \"Singularity\": singularity_config\n",
    "        })) \n",
    "\n",
    "# Submit a command job that will log metrics and register a trained model at the end\n",
    "returned_job = ml_client.jobs.create_or_update(job)\n",
    "returned_job.services[\"Studio\"].endpoint"
   ]
  }
 ],
 "metadata": {
  "kernelspec": {
   "display_name": "Python 3",
   "language": "python",
   "name": "python3"
  },
  "language_info": {
   "codemirror_mode": {
    "name": "ipython",
    "version": 3
   },
   "file_extension": ".py",
   "mimetype": "text/x-python",
   "name": "python",
   "nbconvert_exporter": "python",
   "pygments_lexer": "ipython3",
   "version": "3.5.2"
  }
 },
 "nbformat": 4,
 "nbformat_minor": 4
}
