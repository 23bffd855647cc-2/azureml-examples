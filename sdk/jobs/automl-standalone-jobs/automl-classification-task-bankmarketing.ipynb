{
 "cells": [
  {
   "cell_type": "markdown",
   "metadata": {},
   "source": [
    "# AutoML: Train \"the best\" classifier model for the UCI Bank Marketing dataset.\n",
    "\n",
    "**Requirements** - In order to benefit from this tutorial, you will need:\n",
    "- A basic understanding of Machine Learning\n",
    "- An Azure account with an active subscription. [Create an account for free](https://azure.microsoft.com/free/?WT.mc_id=A261C142F)\n",
    "- An Azure ML workspace. [Check this notebook for creating a workspace](/sdk/resources/workspace/workspace.ipynb) \n",
    "- A Compute Cluster. [Check this notebook to create a compute cluster](/sdk/resources/compute/compute.ipynb)\n",
    "- A python environment\n",
    "- Installed Azure Machine Learning Python SDK v2 - [install instructions](/sdk/README.md#getting-started)\n",
    "\n",
    "**Learning Objectives** - By the end of this tutorial, you should be able to:\n",
    "- Connect to your AML workspace from the Python SDK\n",
    "- Create an `AutoML classification Job` with the 'classification()' factory-fuction.\n",
    "- Submit and run the AutoML classification job\n",
    "- Obtaing the model and score predictions with it\n",
    "\n",
    "**Motivations** - This notebook explains how to setup and run an AutoML classification job. This is one of the nine ML-tasks supported by AutoML. Other ML-tasks are 'regression', 'time-series forecasting', 'image classification', 'image object detection', 'nlp text classification', etc.\n",
    "\n",
    "In this example we use the UCI Bank Marketing dataset to showcase how you can use AutoML for a classification problem. The classification goal is to predict if the client will subscribe to a term deposit with the bank."
   ]
  },
  {
   "cell_type": "markdown",
   "metadata": {},
   "source": [
    "# 1. Connect to Azure Machine Learning Workspace\n",
    "\n",
    "The [workspace](https://docs.microsoft.com/en-us/azure/machine-learning/concept-workspace) is the top-level resource for Azure Machine Learning, providing a centralized place to work with all the artifacts you create when you use Azure Machine Learning. In this section we will connect to the workspace in which the job will be run.\n",
    "\n",
    "## 1.1. Import the required libraries"
   ]
  },
  {
   "cell_type": "code",
   "execution_count": 1,
   "metadata": {
    "gather": {
     "logged": 1634852261599
    }
   },
   "outputs": [],
   "source": [
    "# Import required libraries\n",
    "from azure.identity import DefaultAzureCredential\n",
    "from azure.identity import InteractiveBrowserCredential\n",
    "from azure.ml import MLClient\n",
    "\n",
    "from azure.ml._constants import AssetTypes\n",
    "from azure.ml.automl import classification\n",
    "from azure.ml.entities import JobInput\n",
    "\n",
    "from pprint import pprint\n",
    "\n",
    "### # OLD DEV TEML\n",
    "# from azure.ml.entities import ClassificationJob\n",
    "# from azure.ml.entities import MLTableJobInput\n",
    "# from azure.ml._restclient.v2022_02_01_preview.models import MLTableJobInput"
   ]
  },
  {
   "cell_type": "markdown",
   "metadata": {},
   "source": [
    "## 1.2. Configure workspace details and get a handle to the workspace\n",
    "\n",
    "To connect to a workspace, we need identifier parameters - a subscription, resource group and workspace name. We will use these details in the `MLClient` from `azure.ml` to get a handle to the required Azure Machine Learning workspace. We use the default [interactive authentication](https://docs.microsoft.com/en-us/python/api/azure-identity/azure.identity.interactivebrowsercredential?view=azure-python) for this tutorial. More advanced connection methods can be found [here](https://docs.microsoft.com/en-us/python/api/azure-identity/azure.identity?view=azure-python)."
   ]
  },
  {
   "cell_type": "code",
   "execution_count": 2,
   "metadata": {
    "gather": {
     "logged": 1634852261744
    },
    "jupyter": {
     "outputs_hidden": false,
     "source_hidden": false
    },
    "nteract": {
     "transient": {
      "deleting": false
     }
    }
   },
   "outputs": [],
   "source": [
    "#Enter details of your AML workspace\n",
    "subscription_id = '102a16c3-37d3-48a8-9237-4c9b1e8e80e0' #'<SUBSCRIPTION_ID>'\n",
    "resource_group = 'automlpmdemo' # '<RESOURCE_GROUP>'\n",
    "workspace = 'cesardl-automl-centraluseuap-ws' # '<AML_WORKSPACE_NAME>'"
   ]
  },
  {
   "cell_type": "code",
   "execution_count": 3,
   "metadata": {
    "gather": {
     "logged": 1634852261884
    },
    "jupyter": {
     "outputs_hidden": false,
     "source_hidden": false
    },
    "nteract": {
     "transient": {
      "deleting": false
     }
    }
   },
   "outputs": [],
   "source": [
    "#get a handle to the workspace\n",
    "credential = InteractiveBrowserCredential() # DefaultAzureCredential()\n",
    "#credential = DefaultAzureCredential()\n",
    "ml_client = MLClient(credential, subscription_id, resource_group, workspace)"
   ]
  },
  {
   "cell_type": "markdown",
   "metadata": {},
   "source": [
    "# 2. Configure and run the AutoML classification job\n",
    "In this section we will configure and run the AutoML classification job.\n",
    "\n",
    "## 2.1 Configure the job through the classification() factory function\n",
    "\n",
    "### classification() parameters:\n",
    "\n",
    "The `classification()` factory function allows user to configure AutoML for the classification task for the most common scenarios with the following properties.\n",
    "\n",
    "- `target_column_name` - The name of the column to target for predictions. It must always be specified. This parameter is applicable to 'training_data', 'validation_data' and 'test_data'.\n",
    "- `primary_metric` - The metric that AutoML will optimize for Classification model selection.\n",
    "- `training_data` - The data to be used for training. It should contain both training feature columns and a target column. Optionally, this data can be split for segregating a validation or test dataset. \n",
    "You can use a registered MLTable in the workspace using the format '<mltable_name>:<version>' OR you can use a local file or folder as a MLTable. For e.g JobInput(mltable='my_mltable:1') OR JobInput(mltable=MLTable(local_path=\"./data\"))\n",
    "The parameter 'training_data' must always be provided.\n",
    "- `compute` - The compute on which the AutoML job will run. In this example we are using a compute called 'cpu-cluster' present in the workspace. You can replace it any other compute in the workspace. \n",
    "- `name` - The name of the Job/Run. This is an optional property. If not specified, a random name will be generated.\n",
    "- `experiment_name` - The name of the Experiment. An Experiment is like a folder with multiple runs in Azure ML Workspace that should be related to the same logical machine learning experiment.\n",
    "\n",
    "### set_limits() parameters:\n",
    "This is an optional configuration method to configure limits parameters such as timeouts.     \n",
    "    \n",
    "- timeout_minutes - Maximum amount of time in minutes that the whole AutoML job can take before the job terminates. This timeout includes setup, featurization and training runs but does not include the ensembling and model explainability runs at the end of the process since those actions need to happen once all the trials (children jobs) are done. If not specified, the default job's total timeout is 6 days (8,640 minutes). To specify a timeout less than or equal to 1 hour (60 minutes), make sure your dataset's size is not greater than 10,000,000 (rows times column) or an error results.\n",
    "\n",
    "- trial_timeout_minutes - Maximum time in minutes that each trial (child job) can run for before it terminates. If not specified, a value of 1 month or 43200 minutes is used.\n",
    "    \n",
    "- max_trials - The maximum number of trials/runs each with a different combination of algorithm and hyperparameters to try during an AutoML job. If not specified, the default is 1000 trials. If using 'enable_early_termination' the number of trials used can be smaller.\n",
    "    \n",
    "- max_concurrent_trials - Represents the maximum number of trials (children jobs) that would be executed in parallel. It's a good practice to match this number with the number of nodes your cluster.\n",
    "    \n",
    "- enable_early_termination - Whether to enable early termination if the score is not improving in the short term. \n",
    "    "
   ]
  },
  {
   "cell_type": "code",
   "execution_count": 4,
   "metadata": {
    "gather": {
     "logged": 1634852262026
    },
    "jupyter": {
     "outputs_hidden": false,
     "source_hidden": false
    },
    "nteract": {
     "transient": {
      "deleting": false
     }
    }
   },
   "outputs": [
    {
     "name": "stdout",
     "output_type": "stream",
     "text": [
      "{'properties': {'computeId': 'cpu-cluster',\n",
      "                'experimentName': 'dpv2-classifier_experiment',\n",
      "                'isArchived': False,\n",
      "                'jobType': 'AutoML',\n",
      "                'outputs': {},\n",
      "                'properties': {'_automl_internal_enable_mltable_quick_profile': 'True',\n",
      "                               '_automl_internal_scenario': 'non-prod'},\n",
      "                'tags': {},\n",
      "                'taskDetails': {'dataSettings': {'targetColumnName': 'y',\n",
      "                                                 'testData': {},\n",
      "                                                 'trainingData': {'data': {'jobInputType': 'MLTable',\n",
      "                                                                           'uri': './mltable-folder'}},\n",
      "                                                 'validationData': {}},\n",
      "                                'limitSettings': {'enableEarlyTermination': True,\n",
      "                                                  'maxConcurrentTrials': 4,\n",
      "                                                  'maxTrials': 10,\n",
      "                                                  'timeout': 'PT10H',\n",
      "                                                  'trialTimeout': 'PT20M'},\n",
      "                                'primaryMetric': 'accuracy',\n",
      "                                'taskType': 'Classification',\n",
      "                                'trainingSettings': {'enableModelExplainability': False}}}}\n"
     ]
    }
   ],
   "source": [
    "# Create the AutoML classification job with the related factory-function.\n",
    "\n",
    "# OLD-DEV-TEMPORAL\n",
    "# my_training_data_input  = JobInput(type=AssetTypes.MLTABLE, path=\"azureml://datastores/workspaceblobstore/paths/Classification/Train\")\n",
    "\n",
    "my_training_data_input = JobInput(type=AssetTypes.MLTABLE, path=\"./mltable-folder\")\n",
    "\n",
    "classification_job = classification(\n",
    "                        compute = \"cpu-cluster\",\n",
    "                        # name=\"dpv2-classifier_job_01\",\n",
    "                        experiment_name = \"dpv2-classifier_experiment\",\n",
    "                        training_data = my_training_data_input,\n",
    "                        target_column_name = \"y\",\n",
    "                        primary_metric = \"accuracy\",\n",
    "                        \n",
    "                        # These are temporal properties needed in Private Preview\n",
    "                        properties={\n",
    "                            \"_automl_internal_enable_mltable_quick_profile\": True,\n",
    "                            \"_automl_internal_scenario\": \"non-prod\",\n",
    "                        }\n",
    ")\n",
    "\n",
    "# Limits are all optional\n",
    "classification_job.set_limits(timeout = 600, #timeout_minutes\n",
    "                              trial_timeout = 20, #trial_timeout_minutes\n",
    "                              max_trials = 10, \n",
    "                              max_concurrent_trials = 4,\n",
    "                              # max_cores_per_trial: -1,\n",
    "                              enable_early_termination=True)\n",
    "\n",
    "# Training properties are optional\n",
    "# classification_job.set_training(blocked_models=[\"LogisticRegression\"],\n",
    "#                                 enable_onnx_compatible_models=True)\n",
    "\n",
    "# Featurization properties are optional\n",
    "# classification_job.set_featurization(# drop_columns=[\"not_needed_column\"], # Optional\n",
    "#                                      # enable_dnn_featurization=True         # Enable if there are text columns\n",
    "#                                     )\n",
    "\n",
    "# Optional visualization check\n",
    "pprint(classification_job._to_rest_object().serialize())\n",
    "\n",
    "\n"
   ]
  },
  {
   "cell_type": "markdown",
   "metadata": {},
   "source": [
    "## 2.2 Run the CommandJob\n",
    "Using the `MLClient` created earlier, we will now run this CommandJob in the workspace."
   ]
  },
  {
   "cell_type": "code",
   "execution_count": 5,
   "metadata": {
    "gather": {
     "logged": 1634852267930
    },
    "jupyter": {
     "outputs_hidden": false,
     "source_hidden": false
    },
    "nteract": {
     "transient": {
      "deleting": false
     }
    }
   },
   "outputs": [
    {
     "name": "stdout",
     "output_type": "stream",
     "text": [
      "Created job: ClassificationJob({'task_type': <TaskType.CLASSIFICATION: 'Classification'>, 'environment_id': None, 'environment_variables': None, 'outputs': {}, 'display_name': 'jolly_net_bcnztg5b', 'type': 'automl', 'status': 'NotStarted', 'log_files': None, 'name': 'def534ac-c342-42fe-a9c7-d1a64dc2ef03', 'description': None, 'tags': {'_aml_system_automl_mltable_data_json': '{\"Type\":\"MLTable\",\"TrainData\":{\"Uri\":\"./mltable-folder\",\"ResolvedUri\":null},\"TestData\":null,\"ValidData\":null}', 'model_explain_run': 'best_run', '_aml_system_automl_run_workspace_id': 'c68f9338-89c5-45e8-8a72-21206c841033', '_aml_system_azureml.automlComponent': 'AutoML'}, 'properties': {'num_iterations': '10', 'training_type': 'TrainFull', 'acquisition_function': 'EI', 'primary_metric': 'accuracy', 'train_split': '0', 'acquisition_parameter': '0', 'num_cross_validation': '', 'target': 'cpu-cluster', 'AMLSettingsJsonString': '{\"path\":\"./sample_projects/\",\"subscription_id\":\"102a16c3-37d3-48a8-9237-4c9b1e8e80e0\",\"resource_group\":\"automlpmdemo\",\"workspace_name\":\"cesardl-automl-centraluseuap-ws\",\"compute_target\":\"cpu-cluster\",\"iterations\":10,\"primary_metric\":\"accuracy\",\"task_type\":\"classification\",\"IsImageTask\":false,\"IsTextDNNTask\":false,\"n_cross_validations\":null,\"preprocess\":true,\"is_timeseries\":false,\"time_column_name\":null,\"grain_column_names\":null,\"max_cores_per_iteration\":-1,\"max_concurrent_iterations\":4,\"iteration_timeout_minutes\":20,\"enforce_time_on_windows\":false,\"experiment_timeout_minutes\":600,\"exit_score\":\"NaN\",\"experiment_exit_score\":\"NaN\",\"auto_blacklist\":false,\"blacklist_samples_reached\":false,\"exclude_nan_labels\":false,\"verbosity\":20,\"model_explainability\":false,\"enable_onnx_compatible_models\":false,\"enable_feature_sweeping\":false,\"send_telemetry\":true,\"enable_early_stopping\":true,\"early_stopping_n_iters\":20,\"enable_distributed_featurization\":false,\"enable_distributed_dnn_training\":false,\"ensemble_iterations\":10,\"enable_tf\":false,\"enable_cache\":false,\"enable_subsampling\":false,\"metric_operation\":\"maximize\",\"enable_streaming\":false,\"use_incremental_learning_override\":false,\"force_streaming\":false,\"enable_dnn\":false,\"is_gpu_tmp\":false,\"enable_run_restructure\":false,\"featurization\":\"auto\",\"label_column_name\":\"y\",\"weight_column_name\":null,\"miro_flight\":\"default\",\"many_models\":false,\"many_models_process_count_per_node\":0,\"automl_many_models_scenario\":null,\"enable_batch_run\":true,\"track_child_runs\":true,\"start_auxiliary_runs_before_parent_complete\":false,\"test_include_predictions_only\":false,\"enable_mltable_quick_profile\":\"True\",\"enable_ensembling\":true,\"enable_stack_ensembling\":true,\"ensemble_download_models_timeout_sec\":300.0,\"stack_meta_learner_train_percentage\":0.2,\"scenario\":\"non-prod\",\"blacklist_algos\":[\"TensorFlowLinearClassifier\",\"TensorFlowDNN\"]}', 'DataPrepJsonString': None, 'EnableSubsampling': 'False', 'runTemplate': 'AutoML', 'azureml.runsource': 'automl', 'mlflow.source.git.repoURL': 'git@github.com:Azure/azureml-examples.git', 'mlflow.source.git.branch': 'automl-preview', 'mlflow.source.git.commit': 'ecd018615af7fcc1938482062270b6153b4b951f', 'azureml.git.dirty': 'True', 'ClientType': 'Mfe', '_aml_system_scenario_identification': 'Remote.Parent', 'environment_cpu_name': 'AutoML-Non-Prod', 'environment_cpu_label': 'Latest', 'environment_gpu_name': 'AutoML-Non-Prod-GPU', 'environment_gpu_label': 'Latest', 'root_attribution': 'automl', 'attribution': 'AutoML', 'Orchestrator': 'AutoML', 'CancelUri': 'https://master.api.azureml-test.ms/jasmine/v1.0/subscriptions/102a16c3-37d3-48a8-9237-4c9b1e8e80e0/resourceGroups/automlpmdemo/providers/Microsoft.MachineLearningServices/workspaces/cesardl-automl-centraluseuap-ws/experimentids/e2696063-bb42-4ae9-918c-61de9e65bc6d/cancel/def534ac-c342-42fe-a9c7-d1a64dc2ef03'}, 'id': '/subscriptions/102a16c3-37d3-48a8-9237-4c9b1e8e80e0/resourceGroups/automlpmdemo/providers/Microsoft.MachineLearningServices/workspaces/cesardl-automl-centraluseuap-ws/jobs/def534ac-c342-42fe-a9c7-d1a64dc2ef03', 'base_path': './', 'creation_context': <azure.ml._restclient.v2022_02_01_preview.models._models_py3.SystemData object at 0x00000223F1809C88>, 'serialize': <msrest.serialization.Serializer object at 0x00000223F1807448>, 'experiment_name': 'dpv2-classifier_experiment', 'compute': None, 'services': {'Tracking': <azure.ml._restclient.v2022_02_01_preview.models._models_py3.JobService object at 0x00000223F1809D48>, 'Studio': <azure.ml._restclient.v2022_02_01_preview.models._models_py3.JobService object at 0x00000223F1809A08>}, 'resources': None, 'data': <azure.ml._restclient.v2022_02_01_preview.models._models_py3.TableVerticalDataSettings object at 0x00000223F1809D08>, 'featurization': <azure.ml.entities._job.automl.tabular.featurization_settings.TabularFeaturizationSettings object at 0x00000223F1804F88>, 'limits': <azure.ml.entities._job.automl.tabular.limit_settings.TabularLimitSettings object at 0x00000223F1809708>, 'training': <azure.ml.entities._job.automl.training_settings.TrainingSettings object at 0x00000223F18074C8>, 'allowed_models': None, 'blocked_models': None, 'primary_metric': 'Accuracy'})\n"
     ]
    }
   ],
   "source": [
    "# Submit the AutoML job (CDLTLL: Is it ml_client.create_or_update(classification_job))\n",
    "returned_job = ml_client.jobs.create_or_update(classification_job)  # submit the job to the backend\n",
    "print(f\"Created job: {returned_job}\")\n",
    "\n",
    "# Get a URL for the status of the job\n",
    "# returned_job.services[\"Studio\"].endpoint"
   ]
  },
  {
   "cell_type": "markdown",
   "metadata": {},
   "source": [
    "# Next Steps\n",
    "You can see further examples of other AutoML tasks such as Image-Classification, Image-Object-Detection, NLP-Text-Classification, Time-Series-Forcasting, etc."
   ]
  },
  {
   "cell_type": "markdown",
   "metadata": {},
   "source": []
  }
 ],
 "metadata": {
  "kernel_info": {
   "name": "python3-azureml"
  },
  "kernelspec": {
   "display_name": "Python 3",
   "language": "python",
   "name": "python3"
  },
  "language_info": {
   "codemirror_mode": {
    "name": "ipython",
    "version": 3
   },
   "file_extension": ".py",
   "mimetype": "text/x-python",
   "name": "python",
   "nbconvert_exporter": "python",
   "pygments_lexer": "ipython3",
   "version": "3.7.11"
  },
  "microsoft": {
   "host": {
    "AzureML": {
     "notebookHasBeenCompleted": true
    }
   }
  },
  "nteract": {
   "version": "nteract-front-end@1.0.0"
  }
 },
 "nbformat": 4,
 "nbformat_minor": 4
}
